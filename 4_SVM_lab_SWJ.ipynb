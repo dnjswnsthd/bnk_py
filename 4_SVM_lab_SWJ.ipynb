{
  "nbformat": 4,
  "nbformat_minor": 0,
  "metadata": {
    "kernelspec": {
      "display_name": "Python 3",
      "language": "python",
      "name": "python3"
    },
    "language_info": {
      "codemirror_mode": {
        "name": "ipython",
        "version": 3
      },
      "file_extension": ".py",
      "mimetype": "text/x-python",
      "name": "python",
      "nbconvert_exporter": "python",
      "pygments_lexer": "ipython3",
      "version": "3.7.6"
    },
    "colab": {
      "provenance": [],
      "collapsed_sections": [],
      "include_colab_link": true
    }
  },
  "cells": [
    {
      "cell_type": "markdown",
      "metadata": {
        "id": "view-in-github",
        "colab_type": "text"
      },
      "source": [
        "<a href=\"https://colab.research.google.com/github/dnjswnsthd/bnk_py/blob/develop/4_SVM_lab_SWJ.ipynb\" target=\"_parent\"><img src=\"https://colab.research.google.com/assets/colab-badge.svg\" alt=\"Open In Colab\"/></a>"
      ]
    },
    {
      "cell_type": "markdown",
      "metadata": {
        "id": "mgHFgXKrDKwJ"
      },
      "source": [
        "<h1>SVM</h1>"
      ]
    },
    {
      "cell_type": "markdown",
      "source": [
        "# module import"
      ],
      "metadata": {
        "id": "7uyNk4lfL746"
      }
    },
    {
      "cell_type": "code",
      "source": [
        "import numpy as np, cv2\n",
        "import matplotlib.pyplot as plt\n",
        "from sklearn.model_selection import train_test_split, GridSearchCV, KFold\n",
        "from sklearn.preprocessing import StandardScaler, MinMaxScaler\n",
        "from sklearn.datasets import make_classification, make_blobs, load_digits, load_boston\n",
        "from sklearn.metrics import accuracy_score, r2_score, mean_absolute_error, mean_squared_error"
      ],
      "metadata": {
        "id": "V5OJaTaNL-oK"
      },
      "execution_count": 30,
      "outputs": []
    },
    {
      "cell_type": "markdown",
      "metadata": {
        "id": "QL01aEc5DKwO"
      },
      "source": [
        "# Support Vector Machine Classifier\n",
        "* 선형 지도 학습 분류 알고리즘\n",
        "* 다차원 공간에서 두 집단을 분리하는 초평면(hyperplane)인 결정면을 탐색\n",
        "* p차원 공간에서 결정면은 p-1차원\n",
        "* 두 집단을 분리하는 여러 초평면 중에 두 집단의 간격이  초대화되는 초평면 선택\n",
        "* 마진(Margin) :두 집단이 서로 가장 가까이 위치한 점\n",
        "* Support Vector : 마진의 경계선에 있는 샘플\n",
        "* 결정 평면 : 두 집단을 분할 하는 기준, 마진의 중앙\n",
        "  * $WX + b = 0$ : decision boundary\n",
        "  * $WX + b > 0$ : Positive Class\n",
        "  * $WX + b < 0$ : Negative Class\n",
        "* ![image.png](https://i.imgur.com/uKvmU3k.png)\n",
        "* SVM은 마진이 최대가 되는 서포트 벡터를 찾고, 그 마진을 이등분하는 결정면을 찾는 최적화 문제\n",
        "  * 오차의 최소를 찾는 뿐 아니라 일반화 성능을 최대화 하는 것을 목표표"
      ]
    },
    {
      "cell_type": "markdown",
      "source": [
        "* Linear Model : $wx+b=0$\n",
        "  * $wx^+ + b =1$ : plus-plane\n",
        "  * $wx^- + b =-1$ : minus-plane\n",
        "  * $x^+ = x^- + \\lambda w$ : 평행 이동\n",
        "  * $w(x^- +\\lambda w) + b = 1$\n",
        "  * $wx^-+b+ \\lambda w^2  = 1$\n",
        "  * $-1 + \\lambda w^2 = 1$\n",
        "  * $ \\lambda =  \\frac{2}{w^2} = \\frac{2}{w^Tw}$\n",
        "* $margin = distance(x^+, x^-) = \\frac{2}{||w||_2}$\n",
        "  * $distance(x^+, x^-) = ||x^+ - x^-||_2$\n",
        "  * $ = ||(x^- + \\lambda w) - x^- ||_2$\n",
        "  * $= ||\\lambda w||_2$\n",
        "  * $ = \\lambda \\sqrt{w^Tw}$\n",
        "  * $= \\frac{2}{w^Tw}\\sqrt{w^Tw} $\n",
        "  * $= \\frac{2}{\\sqrt{w^Tw}}$\n",
        "  * $= \\frac{2}{||w||_2}$\n",
        "* 목적식 : $ \\text{max} \\frac{2}{||w||_2} = \\text{min} \\frac{1}{2}||w||_2 \\iff \\text{min} \\frac{1}{2}||w||_2^2$\n",
        "  * 계산의 편의를 위한 제곱\n",
        "* 제약식 :$y_i(wx_i + b) \\ge 1$\n",
        "  * $\\begin{cases}\n",
        "      wx_i +b \\ge 1 & \\text{if } y_i = 1  \\\\\n",
        "      wx_i +b \\lt -1 & \\text{if } y_i = -1  \n",
        "  \\end{cases}$\n",
        "  * Support Vector : $y_i(wx_i + b)= 1$ \n",
        "\n",
        "* Hinge Loss\n",
        "  * $l = max(0, 1-y_i(wx_i+b)$\n",
        "* Loss 함수\n",
        "  * $loss = \\frac{1}{2}||w||^2_2\\alpha + \\sum max(0, 1-y_i(wx_i+b)) $\n",
        "    * $\\alpha$ : 목적식과 제약식의 균형을 조정하기 위한 계수\n",
        "      * 1 보다 작은 수\n",
        "    * $\\text{if } y_i(w_i x_i + b) \\ge 1$\n",
        "      * $ \\frac{1}{2}||w||^2_2 \\alpha$\n",
        "    * $\\text{if } y_i(w_i x_i + b) \\lt 1 $\n",
        "      * $ \\frac{1}{2}||w||^2_2 \\alpha+ (1-y_i(wx_i+b))$\n",
        "\n",
        "* Gradients : Loss 함수의 미분\n",
        "  * $\\text{if } y_i(w_i x_i + b) \\ge 1$\n",
        "    * $\\frac{\\partial loss}{\\partial w} = \\alpha w $\n",
        "    * $\\frac{\\partial loss}{\\partial b} = 0$\n",
        "  * $\\text{if } y_i(w_i x_i + b) \\lt 1 $\n",
        "    * $\\frac{\\partial loss}{\\partial w} =  \\alpha w -y_ix_i$\n",
        "    * $\\frac{\\partial loss}{\\partial b} = -y_i$\n"
      ],
      "metadata": {
        "id": "uvF4BeYJ-66P"
      }
    },
    {
      "cell_type": "code",
      "source": [
        "x = np.arange(-3, 4, 0.1)\n",
        "hinge = np.maximum(0, 1-x)\n",
        "plt.plot(x, hinge, 'r')\n",
        "plt.xlabel('$(y * \\haty)$')\n",
        "plt.ylabel('hinge loss')\n",
        "plt.ylim(-1, 4)\n",
        "plt.xlim(-3, 3)\n",
        "plt.show()"
      ],
      "metadata": {
        "colab": {
          "base_uri": "https://localhost:8080/",
          "height": 290
        },
        "id": "oTq-6kZbXGU4",
        "outputId": "8c2eaa56-6b7a-43eb-bd1e-369ea8af4344"
      },
      "execution_count": 2,
      "outputs": [
        {
          "output_type": "display_data",
          "data": {
            "text/plain": [
              "<Figure size 432x288 with 1 Axes>"
            ],
            "image/png": "[encoded data removed]"
          },
          "metadata": {
            "needs_background": "light"
          }
        }
      ]
    },
    {
      "cell_type": "code",
      "source": [
        "class SVM:\n",
        "    def __init__(self, learning_rate=0.001, alpha=0.01, n_iters=1000):\n",
        "        self.lr = learning_rate\n",
        "        self.alpha = alpha\n",
        "        self.n_iters = n_iters\n",
        "\n",
        "    def fit(self, X, y):\n",
        "        n_samples, n_features = X.shape\n",
        "        self.w = np.zeros(n_features)\n",
        "        self.b = 0\n",
        "        for i in range(self.n_iters):\n",
        "            for x_i, y_i in zip(X, y):\n",
        "                condition = y_i * (np.dot(x_i, self.w) + self.b) >= 1\n",
        "                if condition:\n",
        "                    self.w -= self.lr * (self.alpha * self.w)\n",
        "                else:\n",
        "                    self.w -= self.lr * (\n",
        "                       self.alpha * self.w - np.dot(x_i, y_i)\n",
        "                    )\n",
        "                    self.b -= self.lr * -y_i\n",
        "    def decision_function(self, X):\n",
        "      confedence = np.dot(X, self.w) + self.b\n",
        "      return confedence\n",
        "\n",
        "    def predict(self, X):\n",
        "        cfdc = self.decision_function(X)\n",
        "        return np.sign(cfdc)"
      ],
      "metadata": {
        "id": "IR66US2g1KGW"
      },
      "execution_count": 3,
      "outputs": []
    },
    {
      "cell_type": "markdown",
      "source": [
        "## 결정경계 그리기 함수\n",
        "* 결정경계 : $wx +b=0$\n",
        "  * 변수가 2개인 식 : $w_0x_0+w_1x_1+b=0$ \n",
        "* 2차원 평면에 표현하기 위한 변형\n",
        "  * $x, y = x_0, x_1$\n",
        "  * $x_0$은 표본 전체 값으로 고정\n",
        "  * $x_1 = (-w_0x_0 - b) / w_1$\n",
        "    * $w_0x_0+w_1x_1+b=0$ \n",
        "    * $w_1x_1 = -w_0x_0- b$"
      ],
      "metadata": {
        "id": "EKJH5dUqDHDA"
      }
    },
    {
      "cell_type": "code",
      "source": [
        "def plot_svm(X, w, b, sv=None):\n",
        "    xmin, xmax = np.min(X[:,0]), np.max(X[:,0])\n",
        "    x0 = np.linspace(xmin, xmax, 200)\n",
        "    x1 = (-w[0]*x0-b)/w[1]\n",
        "    \n",
        "    margin = 1/w[1] \n",
        "    gutter_up = x1 + margin\n",
        "    gutter_down = x1 - margin\n",
        "    if sv is not None:\n",
        "      plt.scatter(sv[:, 0], sv[:, 1], s=180, facecolors='#FFAAAA',\n",
        "                edgecolors='K', alpha=0.5)\n",
        "    plt.plot(x0, x1, \"g-\", linewidth=2)\n",
        "    plt.plot(x0, gutter_up, \"g--\", linewidth=2)\n",
        "    plt.plot(x0, gutter_down, \"g--\", linewidth=2)"
      ],
      "metadata": {
        "id": "ujMU4QL9DGtC"
      },
      "execution_count": 4,
      "outputs": []
    },
    {
      "cell_type": "code",
      "source": [
        "X, y = make_blobs(\n",
        "    n_samples=50, n_features=2, centers=2, cluster_std=1.05, random_state=40\n",
        ")\n",
        "y = np.where(y == 0, -1, 1)\n",
        "plt.scatter(X[y==1,0], X[y==1,1], marker='o', c='red')\n",
        "plt.scatter(X[y==-1,0], X[y==-1,1], marker='o', c='blue')\n",
        "\n",
        "clf = SVM()\n",
        "clf.fit(X, y)\n",
        "y_cfdc = clf.decision_function(X)\n",
        "y_pred = clf.predict(X)\n",
        "print(y_cfdc)\n",
        "print(y_pred)\n",
        "print('acc:', accuracy_score(y, y_pred))\n",
        "\n",
        "sv_idx = np.where(abs(y_cfdc) <= 1.1)\n",
        "sv = X[sv_idx]\n",
        "print('sv:',  y_cfdc[sv_idx])\n",
        "plot_svm(X, clf.w, clf.b, sv)\n",
        "plt.ylim((-15,5))"
      ],
      "metadata": {
        "colab": {
          "base_uri": "https://localhost:8080/",
          "height": 544
        },
        "id": "h__plJSGYVcL",
        "outputId": "f05cdac5-df9c-4a31-aac8-7b1f63c646c4"
      },
      "execution_count": 16,
      "outputs": [
        {
          "output_type": "stream",
          "name": "stdout",
          "text": [
            "[ 3.60995109  3.69188306 -1.90205149  1.65057438 -2.58194667 -2.89827124\n",
            "  2.00076298 -1.62162096  2.11289647 -2.41886658  3.70087712  2.45024881\n",
            " -2.57186861  2.27766843  3.31920259  4.12590421  2.97862868  2.69606787\n",
            "  2.92905696  3.38121138 -3.34472224 -2.00980958 -3.15991751 -2.28969803\n",
            " -2.33655605 -3.78707562 -3.15259856 -1.00913414 -1.70198021 -2.46016926\n",
            "  3.37934944  2.12499161 -2.14451214 -1.7910368   1.6968459  -3.53836859\n",
            "  2.6813113  -3.2056256   1.72421417  3.20153389 -2.7236813  -2.58599156\n",
            "  1.01238267  2.53376875  3.15515669 -2.72721078 -3.34972988  3.3106889\n",
            "  3.83018941 -2.52635477]\n",
            "[ 1.  1. -1.  1. -1. -1.  1. -1.  1. -1.  1.  1. -1.  1.  1.  1.  1.  1.\n",
            "  1.  1. -1. -1. -1. -1. -1. -1. -1. -1. -1. -1.  1.  1. -1. -1.  1. -1.\n",
            "  1. -1.  1.  1. -1. -1.  1.  1.  1. -1. -1.  1.  1. -1.]\n",
            "acc: 1.0\n",
            "sv: [-1.00913414  1.01238267]\n"
          ]
        },
        {
          "output_type": "execute_result",
          "data": {
            "text/plain": [
              "(-15.0, 5.0)"
            ]
          },
          "metadata": {},
          "execution_count": 16
        },
        {
          "output_type": "display_data",
          "data": {
            "text/plain": [
              "<Figure size 432x288 with 1 Axes>"
            ],
            "image/png": "[encoded data removed]"
          },
          "metadata": {
            "needs_background": "light"
          }
        }
      ]
    },
    {
      "cell_type": "markdown",
      "metadata": {
        "collapsed": true,
        "id": "91exK4oTDKwP"
      },
      "source": [
        "## 랜덤수 분류 예제"
      ]
    },
    {
      "cell_type": "code",
      "source": [
        "from sklearn.svm import LinearSVC\n",
        "\n",
        "X, y = make_blobs(\n",
        "    n_samples=50, n_features=2, centers=2, cluster_std=1.05, random_state=40\n",
        ")\n",
        "plt.scatter(X[y==0,0],X[y==0,1],80,'b','o')\n",
        "plt.scatter(X[y==1,0],X[y==1,1],80,'r','s')\n",
        "\n",
        "svm = LinearSVC()\n",
        "svm.fit(X, y)\n",
        "\n",
        "y_cfdc = svm.decision_function(X)\n",
        "sv = X[np.abs(y_cfdc) <= 1]\n",
        "plot_svm(X, svm.coef_[0], svm.intercept_[0], sv)\n",
        "plt.ylim((-15,5))"
      ],
      "metadata": {
        "colab": {
          "base_uri": "https://localhost:8080/",
          "height": 287
        },
        "id": "N30QocVqLM7C",
        "outputId": "85bfe5a8-259e-4449-b83d-27b5bf6d0d5e"
      },
      "execution_count": 21,
      "outputs": [
        {
          "output_type": "execute_result",
          "data": {
            "text/plain": [
              "(-15.0, 5.0)"
            ]
          },
          "metadata": {},
          "execution_count": 21
        },
        {
          "output_type": "display_data",
          "data": {
            "text/plain": [
              "<Figure size 432x288 with 1 Axes>"
            ],
            "image/png": "[encoded data removed]"
          },
          "metadata": {
            "needs_background": "light"
          }
        }
      ]
    },
    {
      "cell_type": "markdown",
      "metadata": {
        "id": "AzkIPtAEDKwR"
      },
      "source": [
        "# 소프트 마진 분류\n",
        "* 하드 마진 분류(hard margin classification)\n",
        "    * 모든 데이터가 마진밖에 있는 경우\n",
        "    * 샘플에 이상치가 있으면 일반화 오류 발생\n",
        "* 소프트 마진 분류(Soft margin classification)\n",
        "  * 목적식 : $\\text{minimize} \\frac{1}{2}||w||_2^2 + C\\sum\\xi_i$\n",
        "  * 제약식 : $y_i(wx_i + b) \\ge 1 - \\xi_i, \\xi_i \\ge 0$\n",
        "    * $\\xi_i$ : 슬랙변수, 허용할 에러\n",
        "    * C 하이퍼 파라미터\n",
        "      * 마진오류 허용 : 경계 마진 안에 샘플 위치\n",
        "      * C 값이 작으면 일반화\n",
        "      * C 값이 커지면 과대 적합\n",
        "\n",
        "![image.png](https://i.imgur.com/6wYsjb8.png)    "
      ]
    },
    {
      "cell_type": "code",
      "metadata": {
        "colab": {
          "base_uri": "https://localhost:8080/",
          "height": 545
        },
        "id": "RfOkb_iODKwR",
        "outputId": "a8e8e3f6-c95a-47dd-cefd-1c14df0b6e73"
      },
      "source": [
        "from sklearn.svm import LinearSVC, SVC\n",
        "np.random.seed(0)\n",
        "blue = np.random.randint(0,90,(25,2))\n",
        "red = np.random.randint(110, 200,(25,2))\n",
        "\n",
        "min_idx = np.argmin(red[:,0]+blue[:,1], axis=0)\n",
        "blue[0] = red[min_idx]-10 #이상치 생성\n",
        "newb = blue[0]-5\n",
        "\n",
        "X = np.float32(np.vstack((blue,red)))\n",
        "y = np.zeros(50)\n",
        "y[25:] = 1.0\n",
        "scaler = StandardScaler()\n",
        "X = scaler.fit_transform(X)\n",
        "newb = scaler.transform(newb.reshape(1,2))\n",
        "\n",
        "# svm1 = LinearSVC(C=1)\n",
        "# svm2 = LinearSVC(C=1000)\n",
        "svm1 = SVC(C=1, kernel='linear')\n",
        "svm2 = SVC(C=1000, kernel='linear')\n",
        "\n",
        "for svm in [svm1, svm2]:\n",
        "  svm.fit(X, y)\n",
        "  y_pred = svm.predict(newb)\n",
        "  plt.plot(X[y==0, 0], X[y==0, 1], 'bo')\n",
        "  plt.plot(X[y==1, 0], X[y==1, 1], 'rs')\n",
        "  plt.plot(newb[:,0], newb[:,1], 'g*')\n",
        "  plot_svm(X, svm.coef_[0], svm.intercept_)\n",
        "  plt.annotate('red' if y_pred[0]==1.0 else 'blue', xy=newb[0],\n",
        "               xytext=(newb[0]-0.3))\n",
        "  plt.title(f'C={svm.C}')\n",
        "  plt.show()\n"
      ],
      "execution_count": 25,
      "outputs": [
        {
          "output_type": "display_data",
          "data": {
            "text/plain": [
              "<Figure size 432x288 with 1 Axes>"
            ],
            "image/png": "[encoded data removed]"
          },
          "metadata": {
            "needs_background": "light"
          }
        },
        {
          "output_type": "display_data",
          "data": {
            "text/plain": [
              "<Figure size 432x288 with 1 Axes>"
            ],
            "image/png": "[encoded data removed]"
          },
          "metadata": {
            "needs_background": "light"
          }
        }
      ]
    },
    {
      "cell_type": "markdown",
      "source": [
        "# Kernel Trick"
      ],
      "metadata": {
        "id": "09VCPgxsGESm"
      }
    },
    {
      "cell_type": "markdown",
      "metadata": {
        "id": "g2aq3m3uDKwS"
      },
      "source": [
        "## 비선형 및 다항식 커널\n",
        "* 다항식 특성 추가\n",
        " * 특성을 2차식으로 추가\n",
        " * $x_2 = (x_1)^2$\n",
        "![image.png](https://i.imgur.com/iuqFFdK.png)"
      ]
    },
    {
      "cell_type": "code",
      "metadata": {
        "colab": {
          "base_uri": "https://localhost:8080/",
          "height": 299
        },
        "id": "b94L6LFODKwS",
        "outputId": "21939edc-5023-457f-d3d0-3b9f63c9af15"
      },
      "source": [
        "x = np.arange(10, dtype=np.float32)\n",
        "x -= np.mean(x, axis=0)\n",
        "x /= np.std(x, axis=0)\n",
        "\n",
        "plt.figure(figsize=(8,4))\n",
        "plt.subplot(1,2,1)\n",
        "plt.plot(x, 'ob')\n",
        "plt.plot(np.arange(3,7), x[3:7], 'sr')\n",
        "plt.title('non-liner model')\n",
        "\n",
        "x2 = (x**2)\n",
        "plt.subplot(1,2,2)\n",
        "plt.plot(x,x2, 'ob')\n",
        "plt.plot(x[3:7], x2[3:7], 'sr')\n",
        "plt.title('polynomial')\n",
        "\n"
      ],
      "execution_count": 26,
      "outputs": [
        {
          "output_type": "execute_result",
          "data": {
            "text/plain": [
              "Text(0.5, 1.0, 'polynomial')"
            ]
          },
          "metadata": {},
          "execution_count": 26
        },
        {
          "output_type": "display_data",
          "data": {
            "text/plain": [
              "<Figure size 576x288 with 2 Axes>"
            ],
            "image/png": "[encoded data removed]"
          },
          "metadata": {
            "needs_background": "light"
          }
        }
      ]
    },
    {
      "cell_type": "markdown",
      "metadata": {
        "id": "sIjCtALQDKwS"
      },
      "source": [
        "## 커널 함수\n",
        "* 차원에 따른 변환을 하지 않고 커널 함수로 새로운 거리 값을 계산\n",
        "    * 실제로는 아무 특성도 추가하지 않으면서 차원을 변환한 효과\n",
        "    \n",
        "* `sklean.svm.SVC(kernel='rbf', gamma=5, C=0.001)`\n",
        "    * 가우시안 RBF 커널 트릭 사용\n",
        "    * 다항식 커널 트릭 사용\n",
        "    * degree :  다항식 차수\n",
        "    * coef0=0 : 다항식 커널의 상수항\n",
        "    * 차수가 높아 지면 1보다 크고 작은 값의 격차가 커짐\n",
        "    * 고차항의 영향 조절\n",
        "\n",
        "* kernel\n",
        " * linear\n",
        "   * $K(x_i, x_j)= x_ix_j$\n",
        "   * `SVC(kernel='liner')`\n",
        "  * polynomial\n",
        "      * $K(x_i, x_j) = (\\gamma(x_i, x_j) + r)^d$\n",
        "        *  $d$ =degree\n",
        "        * $\\gamma$ =coef0 로 전달\n",
        "      * `SVC(kernel='ploy', degree=3, coef0=1, C=5)`\n",
        "          * degree : 다항식 차수\n",
        "          * coef0=0 : 다항식 커널의 상수항 $r$, 차수가 높아지면 1보다 크고 작은 값의 격차가 커짐, 고차항의 영향 조절\n",
        "  * rbf : (Gausian radial basis function)\n",
        "      * $K(x_i, x_j) = exp(\\gamma||x_i-x_j||^2)$\n",
        "          * $\\gamma$=gamma > 0, 작아 질수록 마진이 커진다.\n",
        "      * `SCV(kernel='rbf', gamma=5, C=0.001)`\n",
        "  * sigmoid \n",
        "    * $K(x_i, x_j) = (tanh(\\gamma(x_i, x_j) + r))$\n",
        "      * $r$은 coef0로 전달\n",
        "    * `SVC(kernel='sigmoid')`"
      ]
    },
    {
      "cell_type": "code",
      "source": [
        "digits = load_digits()\n",
        "X_train, X_test, y_train, y_test = train_test_split(digits.data, digits.target,\\\n",
        "                                                    random_state=0)\n",
        "C = [4,5,6]\n",
        "gamma = np.arange(0.0001,0.0005, 0.0001)\n",
        "coef0= [5,6,7]\n",
        "parameters = [\n",
        "    {\"C\":C, \"kernel\":[\"linear\"]},\n",
        "    {'C':C, 'kernel':['poly'], 'degree':range(2,5), \"gamma\": gamma, 'coef0':coef0},\n",
        "    {\"C\":C, \"kernel\":[\"rbf\"], \"gamma\": gamma},\n",
        "    {\"C\":C, \"kernel\":[\"sigmoid\"], \"gamma\": gamma, 'coef0':coef0},\n",
        "]\n",
        "\n",
        "clf = GridSearchCV(SVC(), parameters, cv=5)\n",
        "clf.fit(X_train, y_train)\n"
      ],
      "metadata": {
        "colab": {
          "base_uri": "https://localhost:8080/",
          "height": 229
        },
        "id": "jkUC0-HBvHsk",
        "outputId": "8a13f044-bc78-4c7c-9a5b-9c5b7bc0dbd0"
      },
      "execution_count": 28,
      "outputs": [
        {
          "output_type": "error",
          "ename": "AttributeError",
          "evalue": "ignored",
          "traceback": [
            "\u001b[0;31m---------------------------------------------------------------------------\u001b[0m",
            "\u001b[0;31mAttributeError\u001b[0m                            Traceback (most recent call last)",
            "\u001b[0;32m<ipython-input-28-01f3e5031454>\u001b[0m in \u001b[0;36m<module>\u001b[0;34m\u001b[0m\n\u001b[1;32m     14\u001b[0m \u001b[0mclf\u001b[0m \u001b[0;34m=\u001b[0m \u001b[0mGridSearchCV\u001b[0m\u001b[0;34m(\u001b[0m\u001b[0mSVC\u001b[0m\u001b[0;34m(\u001b[0m\u001b[0;34m)\u001b[0m\u001b[0;34m,\u001b[0m \u001b[0mparameters\u001b[0m\u001b[0;34m,\u001b[0m \u001b[0mcv\u001b[0m\u001b[0;34m=\u001b[0m\u001b[0;36m5\u001b[0m\u001b[0;34m)\u001b[0m\u001b[0;34m\u001b[0m\u001b[0;34m\u001b[0m\u001b[0m\n\u001b[1;32m     15\u001b[0m \u001b[0mclf\u001b[0m\u001b[0;34m.\u001b[0m\u001b[0mfit\u001b[0m\u001b[0;34m(\u001b[0m\u001b[0mX_train\u001b[0m\u001b[0;34m,\u001b[0m \u001b[0my_train\u001b[0m\u001b[0;34m)\u001b[0m\u001b[0;34m\u001b[0m\u001b[0;34m\u001b[0m\u001b[0m\n\u001b[0;32m---> 16\u001b[0;31m \u001b[0mprint\u001b[0m\u001b[0;34m(\u001b[0m\u001b[0mclf\u001b[0m\u001b[0;34m.\u001b[0m\u001b[0mbest_params\u001b[0m\u001b[0;34m)\u001b[0m\u001b[0;34m\u001b[0m\u001b[0;34m\u001b[0m\u001b[0m\n\u001b[0m\u001b[1;32m     17\u001b[0m \u001b[0mclf\u001b[0m\u001b[0;34m.\u001b[0m\u001b[0mscore\u001b[0m\u001b[0;34m(\u001b[0m\u001b[0mX_train\u001b[0m\u001b[0;34m,\u001b[0m \u001b[0my_train\u001b[0m\u001b[0;34m)\u001b[0m\u001b[0;34m,\u001b[0m \u001b[0mclf\u001b[0m\u001b[0;34m.\u001b[0m\u001b[0mscore\u001b[0m\u001b[0;34m(\u001b[0m\u001b[0mX_test\u001b[0m\u001b[0;34m,\u001b[0m \u001b[0my_test\u001b[0m\u001b[0;34m)\u001b[0m\u001b[0;34m\u001b[0m\u001b[0;34m\u001b[0m\u001b[0m\n",
            "\u001b[0;31mAttributeError\u001b[0m: 'GridSearchCV' object has no attribute 'best_params'"
          ]
        }
      ]
    },
    {
      "cell_type": "code",
      "source": [
        "print(clf.best_params_)\n",
        "clf.score(X_train, y_train), clf.score(X_test, y_test)"
      ],
      "metadata": {
        "colab": {
          "base_uri": "https://localhost:8080/"
        },
        "id": "8G0WLz3yViMC",
        "outputId": "4e48bed2-f7a6-46b0-e21d-2c44b45b30e2"
      },
      "execution_count": 29,
      "outputs": [
        {
          "output_type": "stream",
          "name": "stdout",
          "text": [
            "{'C': 5, 'gamma': 0.0004, 'kernel': 'rbf'}\n"
          ]
        },
        {
          "output_type": "execute_result",
          "data": {
            "text/plain": [
              "(0.9992576095025983, 0.9911111111111112)"
            ]
          },
          "metadata": {},
          "execution_count": 29
        }
      ]
    },
    {
      "cell_type": "markdown",
      "metadata": {
        "id": "qiJ0psG_dKpG"
      },
      "source": [
        "# SVR(Support Vector Regressor)\n",
        "* `sklearn.svm.SVR()`"
      ]
    },
    {
      "cell_type": "code",
      "metadata": {
        "id": "7JxDmFcb7IHL",
        "colab": {
          "base_uri": "https://localhost:8080/"
        },
        "outputId": "16a7ea22-2360-48fe-a7d6-7b3e80ef1d7d"
      },
      "source": [
        "from sklearn.svm import SVR\n",
        "\n",
        "boston = load_boston()\n",
        "X = StandardScaler().fit_transform(boston.data)\n",
        "X_train, X_test, y_train, y_test = train_test_split(X, boston.target,\n",
        "                                                    random_state=0)\n",
        "parameters = {\"C\":range(1250, 1270, 1),\n",
        "              \"kernel\": [\"rbf\"], \n",
        "              \"gamma\": np.arange(0.003, 0.005, 0.0001)}\n",
        "gcv = GridSearchCV(SVR(), parameters, cv=5)\n",
        "gcv.fit(X_train, y_train)\n",
        "print('best', gcv.best_params_)\n",
        "print('train', gcv.score(X_train, y_train), 'Test', gcv.score(X_test, y_test))"
      ],
      "execution_count": 31,
      "outputs": [
        {
          "output_type": "stream",
          "name": "stderr",
          "text": [
            "/usr/local/lib/python3.7/dist-packages/sklearn/utils/deprecation.py:87: FutureWarning: Function load_boston is deprecated; `load_boston` is deprecated in 1.0 and will be removed in 1.2.\n",
            "\n",
            "    The Boston housing prices dataset has an ethical problem. You can refer to\n",
            "    the documentation of this function for further details.\n",
            "\n",
            "    The scikit-learn maintainers therefore strongly discourage the use of this\n",
            "    dataset unless the purpose of the code is to study and educate about\n",
            "    ethical issues in data science and machine learning.\n",
            "\n",
            "    In this special case, you can fetch the dataset from the original\n",
            "    source::\n",
            "\n",
            "        import pandas as pd\n",
            "        import numpy as np\n",
            "\n",
            "\n",
            "        data_url = \"http://lib.stat.cmu.edu/datasets/boston\"\n",
            "        raw_df = pd.read_csv(data_url, sep=\"\\s+\", skiprows=22, header=None)\n",
            "        data = np.hstack([raw_df.values[::2, :], raw_df.values[1::2, :2]])\n",
            "        target = raw_df.values[1::2, 2]\n",
            "\n",
            "    Alternative datasets include the California housing dataset (i.e.\n",
            "    :func:`~sklearn.datasets.fetch_california_housing`) and the Ames housing\n",
            "    dataset. You can load the datasets as follows::\n",
            "\n",
            "        from sklearn.datasets import fetch_california_housing\n",
            "        housing = fetch_california_housing()\n",
            "\n",
            "    for the California housing dataset and::\n",
            "\n",
            "        from sklearn.datasets import fetch_openml\n",
            "        housing = fetch_openml(name=\"house_prices\", as_frame=True)\n",
            "\n",
            "    for the Ames housing dataset.\n",
            "    \n",
            "  warnings.warn(msg, category=FutureWarning)\n"
          ]
        },
        {
          "output_type": "stream",
          "name": "stdout",
          "text": [
            "best {'C': 1250, 'gamma': 0.003, 'kernel': 'rbf'}\n",
            "train 0.9029754125651343 Test 0.7467088723390694\n"
          ]
        }
      ]
    },
    {
      "cell_type": "code",
      "source": [],
      "metadata": {
        "id": "NGRuSd1Kl3Lk"
      },
      "execution_count": null,
      "outputs": []
    }
  ]
}