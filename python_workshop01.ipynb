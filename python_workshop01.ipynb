{
  "nbformat": 4,
  "nbformat_minor": 0,
  "metadata": {
    "kernelspec": {
      "display_name": "Python 3",
      "language": "python",
      "name": "python3"
    },
    "language_info": {
      "codemirror_mode": {
        "name": "ipython",
        "version": 3
      },
      "file_extension": ".py",
      "mimetype": "text/x-python",
      "name": "python",
      "nbconvert_exporter": "python",
      "pygments_lexer": "ipython3",
      "version": "3.8.1"
    },
    "colab": {
      "provenance": [],
      "collapsed_sections": [],
      "toc_visible": true,
      "include_colab_link": true
    }
  },
  "cells": [
    {
      "cell_type": "markdown",
      "metadata": {
        "id": "view-in-github",
        "colab_type": "text"
      },
      "source": [
        "<a href=\"https://colab.research.google.com/github/dnjswnsthd/bnk_py/blob/develop/python_workshop01.ipynb\" target=\"_parent\"><img src=\"https://colab.research.google.com/assets/colab-badge.svg\" alt=\"Open In Colab\"/></a>"
      ]
    },
    {
      "cell_type": "markdown",
      "metadata": {
        "id": "MA7rkZirnXFO"
      },
      "source": [
        "<h1>Workshop : NumPy로 오르내리는 데이터 만들기</h1>"
      ]
    },
    {
      "cell_type": "code",
      "metadata": {
        "id": "d9VQtKX8nXFQ"
      },
      "source": [
        "import numpy as np "
      ],
      "execution_count": 1,
      "outputs": []
    },
    {
      "cell_type": "markdown",
      "metadata": {
        "id": "vvyaJFTKYdCs"
      },
      "source": [
        "## 1000개의 random 값을 만들기\n",
        "* seed를 888로 고정하세요.\n",
        "* np.random.randint() 함수를 사용해서\n",
        "* 0과 1로만 구성된 1000개의 random 값을 만들어서\n",
        "* draws 변수에 할당하세요."
      ]
    },
    {
      "cell_type": "code",
      "metadata": {
        "id": "rzxZ4Qf1nXFU",
        "colab": {
          "base_uri": "https://localhost:8080/"
        },
        "outputId": "edc82651-cba2-4979-d9d1-b0596f4e360d"
      },
      "source": [
        "seed = 888\n",
        "nsteps = 1000 \n",
        "\n",
        "np.random.seed(seed)\n",
        "draws = np.random.randint(0, 2, nsteps)\n",
        "draws"
      ],
      "execution_count": 41,
      "outputs": [
        {
          "output_type": "execute_result",
          "data": {
            "text/plain": [
              "array([0, 0, 1, 1, 0, 1, 1, 0, 1, 0, 1, 1, 0, 1, 0, 0, 1, 1, 0, 0, 0, 1,\n",
              "       0, 0, 0, 0, 1, 0, 1, 1, 0, 0, 0, 1, 0, 0, 1, 1, 0, 0, 0, 0, 1, 1,\n",
              "       0, 0, 0, 0, 1, 1, 0, 1, 1, 0, 0, 0, 0, 1, 0, 0, 0, 0, 0, 1, 0, 1,\n",
              "       1, 0, 0, 1, 1, 1, 0, 0, 1, 0, 0, 0, 1, 0, 1, 0, 0, 1, 0, 0, 0, 0,\n",
              "       1, 1, 1, 1, 0, 0, 1, 0, 1, 0, 0, 0, 1, 1, 1, 0, 0, 1, 1, 0, 0, 1,\n",
              "       1, 0, 0, 0, 0, 1, 1, 0, 0, 0, 0, 1, 1, 0, 1, 0, 1, 0, 1, 0, 0, 0,\n",
              "       0, 1, 1, 1, 0, 1, 1, 0, 1, 1, 1, 1, 1, 0, 0, 1, 1, 1, 0, 1, 1, 1,\n",
              "       1, 0, 1, 1, 1, 0, 0, 0, 0, 1, 0, 1, 1, 0, 0, 1, 0, 1, 0, 0, 1, 1,\n",
              "       0, 0, 0, 1, 1, 0, 1, 0, 0, 0, 0, 1, 0, 0, 0, 1, 0, 1, 0, 0, 0, 1,\n",
              "       0, 0, 1, 0, 1, 1, 0, 1, 0, 0, 1, 0, 1, 1, 0, 0, 1, 1, 1, 0, 0, 1,\n",
              "       0, 0, 1, 1, 0, 1, 1, 0, 0, 0, 0, 0, 0, 1, 0, 0, 1, 1, 1, 1, 0, 1,\n",
              "       1, 1, 1, 1, 0, 0, 0, 0, 0, 0, 0, 1, 0, 0, 1, 1, 1, 1, 0, 0, 1, 1,\n",
              "       1, 1, 1, 0, 0, 0, 0, 0, 1, 1, 0, 0, 0, 0, 1, 1, 0, 0, 1, 1, 0, 1,\n",
              "       0, 0, 0, 1, 0, 1, 1, 1, 0, 0, 0, 0, 1, 0, 0, 1, 1, 0, 0, 0, 1, 1,\n",
              "       0, 0, 1, 0, 1, 1, 0, 1, 0, 1, 1, 0, 1, 0, 0, 0, 0, 1, 1, 0, 1, 0,\n",
              "       1, 1, 1, 0, 0, 1, 1, 1, 1, 0, 0, 0, 0, 1, 0, 1, 1, 1, 0, 1, 1, 0,\n",
              "       0, 0, 1, 0, 0, 0, 1, 1, 1, 1, 0, 1, 0, 0, 0, 0, 0, 1, 1, 1, 0, 1,\n",
              "       0, 0, 1, 1, 0, 1, 0, 0, 1, 0, 1, 1, 0, 1, 0, 0, 0, 1, 0, 0, 1, 1,\n",
              "       1, 0, 1, 1, 1, 0, 0, 1, 0, 1, 1, 0, 0, 1, 0, 1, 1, 0, 0, 0, 0, 1,\n",
              "       0, 0, 0, 0, 1, 1, 1, 1, 1, 0, 0, 1, 1, 1, 1, 0, 0, 1, 1, 1, 1, 1,\n",
              "       1, 0, 0, 0, 0, 0, 0, 1, 1, 1, 1, 0, 0, 1, 0, 1, 0, 1, 1, 1, 0, 1,\n",
              "       1, 0, 1, 1, 0, 1, 1, 0, 0, 1, 0, 1, 1, 0, 1, 0, 0, 0, 1, 0, 0, 0,\n",
              "       0, 0, 1, 1, 1, 1, 0, 1, 1, 0, 1, 0, 0, 1, 1, 0, 1, 1, 0, 0, 0, 0,\n",
              "       0, 1, 0, 1, 1, 1, 0, 1, 0, 1, 1, 0, 0, 1, 1, 0, 0, 1, 0, 1, 1, 0,\n",
              "       1, 1, 0, 0, 1, 0, 1, 1, 0, 0, 1, 1, 1, 1, 1, 0, 1, 1, 0, 0, 0, 0,\n",
              "       0, 0, 1, 0, 1, 0, 1, 1, 1, 0, 1, 1, 0, 0, 1, 1, 1, 1, 1, 1, 0, 1,\n",
              "       0, 1, 0, 0, 1, 0, 0, 1, 0, 0, 1, 0, 0, 0, 0, 1, 0, 1, 1, 0, 1, 0,\n",
              "       1, 1, 1, 0, 1, 0, 0, 1, 1, 1, 0, 1, 0, 0, 1, 0, 0, 1, 1, 0, 0, 1,\n",
              "       1, 1, 1, 0, 1, 1, 1, 1, 0, 1, 1, 0, 1, 0, 1, 1, 0, 1, 0, 0, 1, 1,\n",
              "       1, 0, 1, 1, 0, 1, 0, 0, 0, 1, 1, 1, 1, 0, 0, 1, 0, 0, 1, 1, 0, 0,\n",
              "       1, 0, 1, 0, 1, 1, 1, 0, 1, 1, 0, 0, 0, 1, 0, 1, 0, 0, 0, 1, 1, 1,\n",
              "       1, 1, 0, 1, 0, 1, 0, 0, 0, 0, 0, 0, 1, 0, 1, 1, 0, 0, 1, 1, 0, 0,\n",
              "       1, 0, 1, 0, 0, 1, 0, 0, 0, 1, 1, 0, 0, 0, 1, 0, 1, 1, 0, 1, 0, 1,\n",
              "       1, 0, 0, 1, 0, 1, 0, 1, 0, 1, 0, 0, 1, 0, 1, 0, 0, 1, 1, 1, 1, 1,\n",
              "       1, 1, 1, 0, 1, 1, 0, 0, 1, 0, 0, 0, 0, 1, 0, 0, 1, 0, 1, 1, 1, 0,\n",
              "       1, 1, 0, 1, 0, 1, 0, 0, 0, 1, 1, 0, 0, 1, 0, 0, 1, 1, 1, 1, 0, 1,\n",
              "       1, 0, 0, 0, 1, 1, 0, 1, 0, 0, 0, 1, 0, 1, 0, 1, 1, 0, 0, 0, 1, 1,\n",
              "       1, 1, 0, 1, 1, 0, 0, 1, 1, 1, 1, 1, 0, 1, 1, 0, 1, 1, 1, 0, 0, 1,\n",
              "       1, 0, 0, 0, 0, 0, 1, 0, 1, 1, 0, 1, 1, 0, 0, 1, 1, 1, 0, 0, 1, 1,\n",
              "       0, 0, 1, 1, 1, 0, 1, 1, 0, 1, 1, 1, 0, 0, 1, 0, 0, 0, 1, 0, 1, 1,\n",
              "       1, 0, 0, 0, 0, 1, 1, 0, 1, 1, 1, 1, 1, 0, 1, 0, 1, 0, 1, 1, 1, 0,\n",
              "       0, 0, 0, 0, 0, 1, 0, 0, 0, 1, 1, 1, 1, 0, 1, 0, 1, 0, 1, 1, 0, 0,\n",
              "       1, 1, 1, 1, 0, 0, 1, 0, 0, 1, 1, 0, 1, 1, 1, 0, 1, 1, 0, 1, 0, 0,\n",
              "       1, 1, 0, 0, 0, 0, 0, 1, 0, 1, 1, 0, 0, 1, 1, 0, 0, 0, 1, 0, 0, 1,\n",
              "       1, 0, 0, 1, 1, 0, 0, 1, 0, 0, 0, 1, 1, 0, 1, 0, 0, 1, 0, 1, 1, 0,\n",
              "       0, 0, 0, 0, 1, 1, 0, 1, 0, 1])"
            ]
          },
          "metadata": {},
          "execution_count": 41
        }
      ]
    },
    {
      "cell_type": "markdown",
      "metadata": {
        "id": "Oer7eGZDY-48"
      },
      "source": [
        "## steps, walk 값 만들기\n",
        "* steps : draws의 값을 -1과 1로 변형, 계단의 오름과 내림을 나타냅니다.\n",
        "  * draws의 이전 값이 0이면 -1, 1이면 1로 만들어 steps에 할당하세요.\n",
        "  * np.where() 함수 사용\n",
        "* walk : steps의 누적합을 walk에 할당하세요. 전체적인 계단의 오르내림 진행 상태를 나타냅니다."
      ]
    },
    {
      "cell_type": "code",
      "metadata": {
        "collapsed": true,
        "id": "XDwDgcf2nXFa",
        "colab": {
          "base_uri": "https://localhost:8080/"
        },
        "outputId": "91a63db9-99ae-40ec-9c40-591b21f5c097"
      },
      "source": [
        "# steps은 앞의 draws 값이 0보다 크면 1, 0보다 작거나 같으면 -1으로 만든 새로운 벡터 (where 구분 사용)\n",
        "# walk는 계단을 오르거나 내려간 값의 누적합 \n",
        "steps = np.where(draws > 0, 1, -1)\n",
        "walk = np.cumsum(steps)\n",
        "walk"
      ],
      "execution_count": 42,
      "outputs": [
        {
          "output_type": "execute_result",
          "data": {
            "text/plain": [
              "array([ -1,  -2,  -1,   0,  -1,   0,   1,   0,   1,   0,   1,   2,   1,\n",
              "         2,   1,   0,   1,   2,   1,   0,  -1,   0,  -1,  -2,  -3,  -4,\n",
              "        -3,  -4,  -3,  -2,  -3,  -4,  -5,  -4,  -5,  -6,  -5,  -4,  -5,\n",
              "        -6,  -7,  -8,  -7,  -6,  -7,  -8,  -9, -10,  -9,  -8,  -9,  -8,\n",
              "        -7,  -8,  -9, -10, -11, -10, -11, -12, -13, -14, -15, -14, -15,\n",
              "       -14, -13, -14, -15, -14, -13, -12, -13, -14, -13, -14, -15, -16,\n",
              "       -15, -16, -15, -16, -17, -16, -17, -18, -19, -20, -19, -18, -17,\n",
              "       -16, -17, -18, -17, -18, -17, -18, -19, -20, -19, -18, -17, -18,\n",
              "       -19, -18, -17, -18, -19, -18, -17, -18, -19, -20, -21, -20, -19,\n",
              "       -20, -21, -22, -23, -22, -21, -22, -21, -22, -21, -22, -21, -22,\n",
              "       -23, -24, -25, -24, -23, -22, -23, -22, -21, -22, -21, -20, -19,\n",
              "       -18, -17, -18, -19, -18, -17, -16, -17, -16, -15, -14, -13, -14,\n",
              "       -13, -12, -11, -12, -13, -14, -15, -14, -15, -14, -13, -14, -15,\n",
              "       -14, -15, -14, -15, -16, -15, -14, -15, -16, -17, -16, -15, -16,\n",
              "       -15, -16, -17, -18, -19, -18, -19, -20, -21, -20, -21, -20, -21,\n",
              "       -22, -23, -22, -23, -24, -23, -24, -23, -22, -23, -22, -23, -24,\n",
              "       -23, -24, -23, -22, -23, -24, -23, -22, -21, -22, -23, -22, -23,\n",
              "       -24, -23, -22, -23, -22, -21, -22, -23, -24, -25, -26, -27, -26,\n",
              "       -27, -28, -27, -26, -25, -24, -25, -24, -23, -22, -21, -20, -21,\n",
              "       -22, -23, -24, -25, -26, -27, -26, -27, -28, -27, -26, -25, -24,\n",
              "       -25, -26, -25, -24, -23, -22, -21, -22, -23, -24, -25, -26, -25,\n",
              "       -24, -25, -26, -27, -28, -27, -26, -27, -28, -27, -26, -27, -26,\n",
              "       -27, -28, -29, -28, -29, -28, -27, -26, -27, -28, -29, -30, -29,\n",
              "       -30, -31, -30, -29, -30, -31, -32, -31, -30, -31, -32, -31, -32,\n",
              "       -31, -30, -31, -30, -31, -30, -29, -30, -29, -30, -31, -32, -33,\n",
              "       -32, -31, -32, -31, -32, -31, -30, -29, -30, -31, -30, -29, -28,\n",
              "       -27, -28, -29, -30, -31, -30, -31, -30, -29, -28, -29, -28, -27,\n",
              "       -28, -29, -30, -29, -30, -31, -32, -31, -30, -29, -28, -29, -28,\n",
              "       -29, -30, -31, -32, -33, -32, -31, -30, -31, -30, -31, -32, -31,\n",
              "       -30, -31, -30, -31, -32, -31, -32, -31, -30, -31, -30, -31, -32,\n",
              "       -33, -32, -33, -34, -33, -32, -31, -32, -31, -30, -29, -30, -31,\n",
              "       -30, -31, -30, -29, -30, -31, -30, -31, -30, -29, -30, -31, -32,\n",
              "       -33, -32, -33, -34, -35, -36, -35, -34, -33, -32, -31, -32, -33,\n",
              "       -32, -31, -30, -29, -30, -31, -30, -29, -28, -27, -26, -25, -26,\n",
              "       -27, -28, -29, -30, -31, -30, -29, -28, -27, -28, -29, -28, -29,\n",
              "       -28, -29, -28, -27, -26, -27, -26, -25, -26, -25, -24, -25, -24,\n",
              "       -23, -24, -25, -24, -25, -24, -23, -24, -23, -24, -25, -26, -25,\n",
              "       -26, -27, -28, -29, -30, -29, -28, -27, -26, -27, -26, -25, -26,\n",
              "       -25, -26, -27, -26, -25, -26, -25, -24, -25, -26, -27, -28, -29,\n",
              "       -28, -29, -28, -27, -26, -27, -26, -27, -26, -25, -26, -27, -26,\n",
              "       -25, -26, -27, -26, -27, -26, -25, -26, -25, -24, -25, -26, -25,\n",
              "       -26, -25, -24, -25, -26, -25, -24, -23, -22, -21, -22, -21, -20,\n",
              "       -21, -22, -23, -24, -25, -26, -25, -26, -25, -26, -25, -24, -23,\n",
              "       -24, -23, -22, -23, -24, -23, -22, -21, -20, -19, -18, -19, -18,\n",
              "       -19, -18, -19, -20, -19, -20, -21, -20, -21, -22, -21, -22, -23,\n",
              "       -24, -25, -24, -25, -24, -23, -24, -23, -24, -23, -22, -21, -22,\n",
              "       -21, -22, -23, -22, -21, -20, -21, -20, -21, -22, -21, -22, -23,\n",
              "       -22, -21, -22, -23, -22, -21, -20, -19, -20, -19, -18, -17, -16,\n",
              "       -17, -16, -15, -16, -15, -16, -15, -14, -15, -14, -15, -16, -15,\n",
              "       -14, -13, -14, -13, -12, -13, -12, -13, -14, -15, -14, -13, -12,\n",
              "       -11, -12, -13, -12, -13, -14, -13, -12, -13, -14, -13, -14, -13,\n",
              "       -14, -13, -12, -11, -12, -11, -10, -11, -12, -13, -12, -13, -12,\n",
              "       -13, -14, -15, -14, -13, -12, -11, -10, -11, -10, -11, -10, -11,\n",
              "       -12, -13, -14, -15, -16, -15, -16, -15, -14, -15, -16, -15, -14,\n",
              "       -15, -16, -15, -16, -15, -16, -17, -16, -17, -18, -19, -18, -17,\n",
              "       -18, -19, -20, -19, -20, -19, -18, -19, -18, -19, -18, -17, -18,\n",
              "       -19, -18, -19, -18, -19, -18, -19, -18, -19, -20, -19, -20, -19,\n",
              "       -20, -21, -20, -19, -18, -17, -16, -15, -14, -13, -14, -13, -12,\n",
              "       -13, -14, -13, -14, -15, -16, -17, -16, -17, -18, -17, -18, -17,\n",
              "       -16, -15, -16, -15, -14, -15, -14, -15, -14, -15, -16, -17, -16,\n",
              "       -15, -16, -17, -16, -17, -18, -17, -16, -15, -14, -15, -14, -13,\n",
              "       -14, -15, -16, -15, -14, -15, -14, -15, -16, -17, -16, -17, -16,\n",
              "       -17, -16, -15, -16, -17, -18, -17, -16, -15, -14, -15, -14, -13,\n",
              "       -14, -15, -14, -13, -12, -11, -10, -11, -10,  -9, -10,  -9,  -8,\n",
              "        -7,  -8,  -9,  -8,  -7,  -8,  -9, -10, -11, -12, -11, -12, -11,\n",
              "       -10, -11, -10,  -9, -10, -11, -10,  -9,  -8,  -9, -10,  -9,  -8,\n",
              "        -9, -10,  -9,  -8,  -7,  -8,  -7,  -6,  -7,  -6,  -5,  -4,  -5,\n",
              "        -6,  -5,  -6,  -7,  -8,  -7,  -8,  -7,  -6,  -5,  -6,  -7,  -8,\n",
              "        -9,  -8,  -7,  -8,  -7,  -6,  -5,  -4,  -3,  -4,  -3,  -4,  -3,\n",
              "        -4,  -3,  -2,  -1,  -2,  -3,  -4,  -5,  -6,  -7,  -6,  -7,  -8,\n",
              "        -9,  -8,  -7,  -6,  -5,  -6,  -5,  -6,  -5,  -6,  -5,  -4,  -5,\n",
              "        -6,  -5,  -4,  -3,  -2,  -3,  -4,  -3,  -4,  -5,  -4,  -3,  -4,\n",
              "        -3,  -2,  -1,  -2,  -1,   0,  -1,   0,  -1,  -2,  -1,   0,  -1,\n",
              "        -2,  -3,  -4,  -5,  -4,  -5,  -4,  -3,  -4,  -5,  -4,  -3,  -4,\n",
              "        -5,  -6,  -5,  -6,  -7,  -6,  -5,  -6,  -7,  -6,  -5,  -6,  -7,\n",
              "        -6,  -7,  -8,  -9,  -8,  -7,  -8,  -7,  -8,  -9,  -8,  -9,  -8,\n",
              "        -7,  -8,  -9, -10, -11, -12, -11, -10, -11, -10, -11, -10])"
            ]
          },
          "metadata": {},
          "execution_count": 42
        }
      ]
    },
    {
      "cell_type": "markdown",
      "metadata": {
        "id": "iPlbFHJRbO2c"
      },
      "source": [
        "## 시각화"
      ]
    },
    {
      "cell_type": "code",
      "metadata": {
        "colab": {
          "base_uri": "https://localhost:8080/",
          "height": 374
        },
        "id": "6EwJKEPmbONu",
        "outputId": "d5cadcf5-82bf-4656-8b74-d25309171d37"
      },
      "source": [
        "import matplotlib.pyplot as plt\n",
        "plt.figure(figsize=(10,6))\n",
        "plt.plot(walk)\n",
        "plt.show()"
      ],
      "execution_count": 43,
      "outputs": [
        {
          "output_type": "display_data",
          "data": {
            "text/plain": [
              "<Figure size 720x432 with 1 Axes>"
            ],
            "image/png": "[encoded data removed]"
          },
          "metadata": {
            "needs_background": "light"
          }
        }
      ]
    },
    {
      "cell_type": "markdown",
      "metadata": {
        "id": "r05UxiboacSd"
      },
      "source": [
        "## walk의 최소값"
      ]
    },
    {
      "cell_type": "code",
      "metadata": {
        "scrolled": true,
        "id": "2aXBXH_TnXFe",
        "colab": {
          "base_uri": "https://localhost:8080/"
        },
        "outputId": "c6f9fa2c-6e1a-4232-d598-cefbfa4c2935"
      },
      "source": [
        "#walk의 최소값 \n",
        "np.min(walk), walk.min()"
      ],
      "execution_count": 44,
      "outputs": [
        {
          "output_type": "execute_result",
          "data": {
            "text/plain": [
              "(-36, -36)"
            ]
          },
          "metadata": {},
          "execution_count": 44
        }
      ]
    },
    {
      "cell_type": "markdown",
      "metadata": {
        "id": "eSFNcFmeae1h"
      },
      "source": [
        "## walk의 최대값"
      ]
    },
    {
      "cell_type": "code",
      "metadata": {
        "id": "BP-tk-3CnXFi",
        "colab": {
          "base_uri": "https://localhost:8080/"
        },
        "outputId": "fc5ccff1-3066-43fb-d591-625c32d14130"
      },
      "source": [
        "#walk의 최대값 \n",
        "np.max(walk), walk.max()"
      ],
      "execution_count": 45,
      "outputs": [
        {
          "output_type": "execute_result",
          "data": {
            "text/plain": [
              "(2, 2)"
            ]
          },
          "metadata": {},
          "execution_count": 45
        }
      ]
    },
    {
      "cell_type": "markdown",
      "metadata": {
        "id": "i6muPmY8a2k_"
      },
      "source": [
        "## 계단 위치 구하기\n",
        "* 계단의 처음 위치에서 10칸이상 떨어진 시점(index)를 구하세요.\n",
        "  * 최초로 10 혹은 -10인 시점(index)을 구한다.\n",
        "  * `np.abs()`\n",
        "  * `np.where()` 또는 `argmax()` 사용\n",
        "  * 결과 : 47\n"
      ]
    },
    {
      "cell_type": "code",
      "metadata": {
        "id": "aAeDuLDenXFm",
        "colab": {
          "base_uri": "https://localhost:8080/"
        },
        "outputId": "90c7b4c9-65da-4bcf-821a-96b123325402"
      },
      "source": [
        "np.where(np.abs(walk) == 10)"
      ],
      "execution_count": 46,
      "outputs": [
        {
          "output_type": "execute_result",
          "data": {
            "text/plain": [
              "(array([ 47,  55,  57, 669, 683, 685, 687, 825, 827, 829, 839, 845, 847,\n",
              "        849, 851, 855, 859, 991, 995, 997, 999]),)"
            ]
          },
          "metadata": {},
          "execution_count": 46
        }
      ]
    },
    {
      "cell_type": "code",
      "source": [],
      "metadata": {
        "id": "ndD5NZaL5KbA"
      },
      "execution_count": null,
      "outputs": []
    },
    {
      "cell_type": "code",
      "source": [
        "np.where(np.abs(walk) == 10)[0][0] #다차원 전용이기 때문"
      ],
      "metadata": {
        "colab": {
          "base_uri": "https://localhost:8080/"
        },
        "id": "l2msb1Bn4gkO",
        "outputId": "a8d19afa-4bd1-4d62-de9f-d2bfcb1afff0"
      },
      "execution_count": 47,
      "outputs": [
        {
          "output_type": "execute_result",
          "data": {
            "text/plain": [
              "47"
            ]
          },
          "metadata": {},
          "execution_count": 47
        }
      ]
    },
    {
      "cell_type": "code",
      "source": [
        "np.argmax([2,5,3,8,4,8,3,2,1])"
      ],
      "metadata": {
        "colab": {
          "base_uri": "https://localhost:8080/"
        },
        "id": "6kZcZ0bU5M2l",
        "outputId": "232e2277-7848-4f1f-a774-1e8cdef5e044"
      },
      "execution_count": 48,
      "outputs": [
        {
          "output_type": "execute_result",
          "data": {
            "text/plain": [
              "3"
            ]
          },
          "metadata": {},
          "execution_count": 48
        }
      ]
    },
    {
      "cell_type": "code",
      "metadata": {
        "id": "M9OQgRFqnXFp",
        "colab": {
          "base_uri": "https://localhost:8080/"
        },
        "outputId": "b338a0de-a874-4225-f956-a36bd4b291b6"
      },
      "source": [
        "np.argmax(np.abs(walk) == 10)"
      ],
      "execution_count": 49,
      "outputs": [
        {
          "output_type": "execute_result",
          "data": {
            "text/plain": [
              "47"
            ]
          },
          "metadata": {},
          "execution_count": 49
        }
      ]
    },
    {
      "cell_type": "markdown",
      "metadata": {
        "id": "KLPRbHrk5Qjj"
      },
      "source": [
        "# 평균 값 기준으로 0과 1로 나누기\n",
        "* walk의 평균값을 구해서 이 값을 thresh 값으로 저장하세요.\n",
        "* thresh 보다 큰값은 1로, 작거나 같은 값은 0으로 바꾸어 ret 에 저장하세요."
      ]
    },
    {
      "cell_type": "code",
      "source": [
        "m = walk.mean()\n",
        "m"
      ],
      "metadata": {
        "colab": {
          "base_uri": "https://localhost:8080/"
        },
        "id": "sTfYqBbT54ij",
        "outputId": "797f221d-bd71-4c12-c6e2-62bafebfa264"
      },
      "execution_count": 50,
      "outputs": [
        {
          "output_type": "execute_result",
          "data": {
            "text/plain": [
              "-18.076"
            ]
          },
          "metadata": {},
          "execution_count": 50
        }
      ]
    },
    {
      "cell_type": "code",
      "source": [
        "ret2 = np.zeros_like(walk)\n",
        "ret2"
      ],
      "metadata": {
        "colab": {
          "base_uri": "https://localhost:8080/"
        },
        "id": "QSmBBET56cUB",
        "outputId": "4bb8b02c-af37-436c-83ee-6507a453ea36"
      },
      "execution_count": 51,
      "outputs": [
        {
          "output_type": "execute_result",
          "data": {
            "text/plain": [
              "array([0, 0, 0, 0, 0, 0, 0, 0, 0, 0, 0, 0, 0, 0, 0, 0, 0, 0, 0, 0, 0, 0,\n",
              "       0, 0, 0, 0, 0, 0, 0, 0, 0, 0, 0, 0, 0, 0, 0, 0, 0, 0, 0, 0, 0, 0,\n",
              "       0, 0, 0, 0, 0, 0, 0, 0, 0, 0, 0, 0, 0, 0, 0, 0, 0, 0, 0, 0, 0, 0,\n",
              "       0, 0, 0, 0, 0, 0, 0, 0, 0, 0, 0, 0, 0, 0, 0, 0, 0, 0, 0, 0, 0, 0,\n",
              "       0, 0, 0, 0, 0, 0, 0, 0, 0, 0, 0, 0, 0, 0, 0, 0, 0, 0, 0, 0, 0, 0,\n",
              "       0, 0, 0, 0, 0, 0, 0, 0, 0, 0, 0, 0, 0, 0, 0, 0, 0, 0, 0, 0, 0, 0,\n",
              "       0, 0, 0, 0, 0, 0, 0, 0, 0, 0, 0, 0, 0, 0, 0, 0, 0, 0, 0, 0, 0, 0,\n",
              "       0, 0, 0, 0, 0, 0, 0, 0, 0, 0, 0, 0, 0, 0, 0, 0, 0, 0, 0, 0, 0, 0,\n",
              "       0, 0, 0, 0, 0, 0, 0, 0, 0, 0, 0, 0, 0, 0, 0, 0, 0, 0, 0, 0, 0, 0,\n",
              "       0, 0, 0, 0, 0, 0, 0, 0, 0, 0, 0, 0, 0, 0, 0, 0, 0, 0, 0, 0, 0, 0,\n",
              "       0, 0, 0, 0, 0, 0, 0, 0, 0, 0, 0, 0, 0, 0, 0, 0, 0, 0, 0, 0, 0, 0,\n",
              "       0, 0, 0, 0, 0, 0, 0, 0, 0, 0, 0, 0, 0, 0, 0, 0, 0, 0, 0, 0, 0, 0,\n",
              "       0, 0, 0, 0, 0, 0, 0, 0, 0, 0, 0, 0, 0, 0, 0, 0, 0, 0, 0, 0, 0, 0,\n",
              "       0, 0, 0, 0, 0, 0, 0, 0, 0, 0, 0, 0, 0, 0, 0, 0, 0, 0, 0, 0, 0, 0,\n",
              "       0, 0, 0, 0, 0, 0, 0, 0, 0, 0, 0, 0, 0, 0, 0, 0, 0, 0, 0, 0, 0, 0,\n",
              "       0, 0, 0, 0, 0, 0, 0, 0, 0, 0, 0, 0, 0, 0, 0, 0, 0, 0, 0, 0, 0, 0,\n",
              "       0, 0, 0, 0, 0, 0, 0, 0, 0, 0, 0, 0, 0, 0, 0, 0, 0, 0, 0, 0, 0, 0,\n",
              "       0, 0, 0, 0, 0, 0, 0, 0, 0, 0, 0, 0, 0, 0, 0, 0, 0, 0, 0, 0, 0, 0,\n",
              "       0, 0, 0, 0, 0, 0, 0, 0, 0, 0, 0, 0, 0, 0, 0, 0, 0, 0, 0, 0, 0, 0,\n",
              "       0, 0, 0, 0, 0, 0, 0, 0, 0, 0, 0, 0, 0, 0, 0, 0, 0, 0, 0, 0, 0, 0,\n",
              "       0, 0, 0, 0, 0, 0, 0, 0, 0, 0, 0, 0, 0, 0, 0, 0, 0, 0, 0, 0, 0, 0,\n",
              "       0, 0, 0, 0, 0, 0, 0, 0, 0, 0, 0, 0, 0, 0, 0, 0, 0, 0, 0, 0, 0, 0,\n",
              "       0, 0, 0, 0, 0, 0, 0, 0, 0, 0, 0, 0, 0, 0, 0, 0, 0, 0, 0, 0, 0, 0,\n",
              "       0, 0, 0, 0, 0, 0, 0, 0, 0, 0, 0, 0, 0, 0, 0, 0, 0, 0, 0, 0, 0, 0,\n",
              "       0, 0, 0, 0, 0, 0, 0, 0, 0, 0, 0, 0, 0, 0, 0, 0, 0, 0, 0, 0, 0, 0,\n",
              "       0, 0, 0, 0, 0, 0, 0, 0, 0, 0, 0, 0, 0, 0, 0, 0, 0, 0, 0, 0, 0, 0,\n",
              "       0, 0, 0, 0, 0, 0, 0, 0, 0, 0, 0, 0, 0, 0, 0, 0, 0, 0, 0, 0, 0, 0,\n",
              "       0, 0, 0, 0, 0, 0, 0, 0, 0, 0, 0, 0, 0, 0, 0, 0, 0, 0, 0, 0, 0, 0,\n",
              "       0, 0, 0, 0, 0, 0, 0, 0, 0, 0, 0, 0, 0, 0, 0, 0, 0, 0, 0, 0, 0, 0,\n",
              "       0, 0, 0, 0, 0, 0, 0, 0, 0, 0, 0, 0, 0, 0, 0, 0, 0, 0, 0, 0, 0, 0,\n",
              "       0, 0, 0, 0, 0, 0, 0, 0, 0, 0, 0, 0, 0, 0, 0, 0, 0, 0, 0, 0, 0, 0,\n",
              "       0, 0, 0, 0, 0, 0, 0, 0, 0, 0, 0, 0, 0, 0, 0, 0, 0, 0, 0, 0, 0, 0,\n",
              "       0, 0, 0, 0, 0, 0, 0, 0, 0, 0, 0, 0, 0, 0, 0, 0, 0, 0, 0, 0, 0, 0,\n",
              "       0, 0, 0, 0, 0, 0, 0, 0, 0, 0, 0, 0, 0, 0, 0, 0, 0, 0, 0, 0, 0, 0,\n",
              "       0, 0, 0, 0, 0, 0, 0, 0, 0, 0, 0, 0, 0, 0, 0, 0, 0, 0, 0, 0, 0, 0,\n",
              "       0, 0, 0, 0, 0, 0, 0, 0, 0, 0, 0, 0, 0, 0, 0, 0, 0, 0, 0, 0, 0, 0,\n",
              "       0, 0, 0, 0, 0, 0, 0, 0, 0, 0, 0, 0, 0, 0, 0, 0, 0, 0, 0, 0, 0, 0,\n",
              "       0, 0, 0, 0, 0, 0, 0, 0, 0, 0, 0, 0, 0, 0, 0, 0, 0, 0, 0, 0, 0, 0,\n",
              "       0, 0, 0, 0, 0, 0, 0, 0, 0, 0, 0, 0, 0, 0, 0, 0, 0, 0, 0, 0, 0, 0,\n",
              "       0, 0, 0, 0, 0, 0, 0, 0, 0, 0, 0, 0, 0, 0, 0, 0, 0, 0, 0, 0, 0, 0,\n",
              "       0, 0, 0, 0, 0, 0, 0, 0, 0, 0, 0, 0, 0, 0, 0, 0, 0, 0, 0, 0, 0, 0,\n",
              "       0, 0, 0, 0, 0, 0, 0, 0, 0, 0, 0, 0, 0, 0, 0, 0, 0, 0, 0, 0, 0, 0,\n",
              "       0, 0, 0, 0, 0, 0, 0, 0, 0, 0, 0, 0, 0, 0, 0, 0, 0, 0, 0, 0, 0, 0,\n",
              "       0, 0, 0, 0, 0, 0, 0, 0, 0, 0, 0, 0, 0, 0, 0, 0, 0, 0, 0, 0, 0, 0,\n",
              "       0, 0, 0, 0, 0, 0, 0, 0, 0, 0, 0, 0, 0, 0, 0, 0, 0, 0, 0, 0, 0, 0,\n",
              "       0, 0, 0, 0, 0, 0, 0, 0, 0, 0])"
            ]
          },
          "metadata": {},
          "execution_count": 51
        }
      ]
    },
    {
      "cell_type": "code",
      "source": [
        "ret2[walk > walk.mean()] = 1\n",
        "ret2"
      ],
      "metadata": {
        "colab": {
          "base_uri": "https://localhost:8080/"
        },
        "id": "szmwDVee587a",
        "outputId": "9996a7e6-61a5-4c8e-8006-0b3eabf1100e"
      },
      "execution_count": 52,
      "outputs": [
        {
          "output_type": "execute_result",
          "data": {
            "text/plain": [
              "array([1, 1, 1, 1, 1, 1, 1, 1, 1, 1, 1, 1, 1, 1, 1, 1, 1, 1, 1, 1, 1, 1,\n",
              "       1, 1, 1, 1, 1, 1, 1, 1, 1, 1, 1, 1, 1, 1, 1, 1, 1, 1, 1, 1, 1, 1,\n",
              "       1, 1, 1, 1, 1, 1, 1, 1, 1, 1, 1, 1, 1, 1, 1, 1, 1, 1, 1, 1, 1, 1,\n",
              "       1, 1, 1, 1, 1, 1, 1, 1, 1, 1, 1, 1, 1, 1, 1, 1, 1, 1, 1, 1, 0, 0,\n",
              "       0, 1, 1, 1, 1, 1, 1, 1, 1, 1, 0, 0, 0, 1, 1, 1, 0, 1, 1, 1, 0, 1,\n",
              "       1, 1, 0, 0, 0, 0, 0, 0, 0, 0, 0, 0, 0, 0, 0, 0, 0, 0, 0, 0, 0, 0,\n",
              "       0, 0, 0, 0, 0, 0, 0, 0, 0, 0, 0, 1, 1, 1, 0, 1, 1, 1, 1, 1, 1, 1,\n",
              "       1, 1, 1, 1, 1, 1, 1, 1, 1, 1, 1, 1, 1, 1, 1, 1, 1, 1, 1, 1, 1, 1,\n",
              "       1, 1, 1, 1, 1, 1, 1, 1, 1, 1, 0, 1, 0, 0, 0, 0, 0, 0, 0, 0, 0, 0,\n",
              "       0, 0, 0, 0, 0, 0, 0, 0, 0, 0, 0, 0, 0, 0, 0, 0, 0, 0, 0, 0, 0, 0,\n",
              "       0, 0, 0, 0, 0, 0, 0, 0, 0, 0, 0, 0, 0, 0, 0, 0, 0, 0, 0, 0, 0, 0,\n",
              "       0, 0, 0, 0, 0, 0, 0, 0, 0, 0, 0, 0, 0, 0, 0, 0, 0, 0, 0, 0, 0, 0,\n",
              "       0, 0, 0, 0, 0, 0, 0, 0, 0, 0, 0, 0, 0, 0, 0, 0, 0, 0, 0, 0, 0, 0,\n",
              "       0, 0, 0, 0, 0, 0, 0, 0, 0, 0, 0, 0, 0, 0, 0, 0, 0, 0, 0, 0, 0, 0,\n",
              "       0, 0, 0, 0, 0, 0, 0, 0, 0, 0, 0, 0, 0, 0, 0, 0, 0, 0, 0, 0, 0, 0,\n",
              "       0, 0, 0, 0, 0, 0, 0, 0, 0, 0, 0, 0, 0, 0, 0, 0, 0, 0, 0, 0, 0, 0,\n",
              "       0, 0, 0, 0, 0, 0, 0, 0, 0, 0, 0, 0, 0, 0, 0, 0, 0, 0, 0, 0, 0, 0,\n",
              "       0, 0, 0, 0, 0, 0, 0, 0, 0, 0, 0, 0, 0, 0, 0, 0, 0, 0, 0, 0, 0, 0,\n",
              "       0, 0, 0, 0, 0, 0, 0, 0, 0, 0, 0, 0, 0, 0, 0, 0, 0, 0, 0, 0, 0, 0,\n",
              "       0, 0, 0, 0, 0, 0, 0, 0, 0, 0, 0, 0, 0, 0, 0, 0, 0, 0, 0, 0, 0, 0,\n",
              "       0, 0, 0, 0, 0, 0, 0, 0, 0, 0, 0, 0, 0, 0, 0, 0, 0, 0, 0, 0, 0, 0,\n",
              "       0, 0, 0, 0, 0, 0, 0, 0, 0, 0, 0, 0, 0, 0, 0, 0, 0, 0, 0, 0, 0, 0,\n",
              "       0, 0, 0, 0, 0, 0, 0, 0, 0, 0, 0, 0, 0, 0, 0, 0, 0, 0, 0, 0, 0, 0,\n",
              "       0, 0, 0, 0, 0, 0, 0, 0, 0, 0, 0, 0, 0, 0, 0, 0, 0, 0, 0, 0, 0, 0,\n",
              "       0, 0, 0, 0, 0, 0, 0, 0, 0, 0, 0, 0, 0, 0, 0, 0, 0, 0, 0, 0, 0, 0,\n",
              "       0, 0, 0, 0, 0, 0, 0, 0, 0, 0, 0, 0, 0, 0, 0, 0, 0, 0, 0, 1, 0, 1,\n",
              "       0, 1, 0, 0, 0, 0, 0, 0, 0, 0, 0, 0, 0, 0, 0, 0, 0, 0, 0, 0, 0, 0,\n",
              "       0, 0, 0, 0, 0, 0, 0, 0, 0, 0, 0, 0, 0, 0, 0, 0, 0, 0, 0, 0, 0, 0,\n",
              "       0, 0, 0, 0, 0, 1, 1, 1, 1, 1, 1, 1, 1, 1, 1, 1, 1, 1, 1, 1, 1, 1,\n",
              "       1, 1, 1, 1, 1, 1, 1, 1, 1, 1, 1, 1, 1, 1, 1, 1, 1, 1, 1, 1, 1, 1,\n",
              "       1, 1, 1, 1, 1, 1, 1, 1, 1, 1, 1, 1, 1, 1, 1, 1, 1, 1, 1, 1, 1, 1,\n",
              "       1, 1, 1, 1, 1, 1, 1, 1, 1, 1, 1, 1, 1, 1, 1, 1, 1, 1, 1, 1, 1, 1,\n",
              "       1, 1, 1, 1, 1, 1, 1, 1, 0, 1, 1, 1, 0, 0, 0, 0, 0, 1, 0, 1, 0, 1,\n",
              "       1, 1, 0, 1, 0, 1, 0, 1, 0, 1, 0, 0, 0, 0, 0, 0, 0, 0, 0, 1, 1, 1,\n",
              "       1, 1, 1, 1, 1, 1, 1, 1, 1, 1, 1, 1, 1, 1, 1, 1, 1, 1, 1, 1, 1, 1,\n",
              "       1, 1, 1, 1, 1, 1, 1, 1, 1, 1, 1, 1, 1, 1, 1, 1, 1, 1, 1, 1, 1, 1,\n",
              "       1, 1, 1, 1, 1, 1, 1, 1, 1, 1, 1, 1, 1, 1, 1, 1, 1, 1, 1, 1, 1, 1,\n",
              "       1, 1, 1, 1, 1, 1, 1, 1, 1, 1, 1, 1, 1, 1, 1, 1, 1, 1, 1, 1, 1, 1,\n",
              "       1, 1, 1, 1, 1, 1, 1, 1, 1, 1, 1, 1, 1, 1, 1, 1, 1, 1, 1, 1, 1, 1,\n",
              "       1, 1, 1, 1, 1, 1, 1, 1, 1, 1, 1, 1, 1, 1, 1, 1, 1, 1, 1, 1, 1, 1,\n",
              "       1, 1, 1, 1, 1, 1, 1, 1, 1, 1, 1, 1, 1, 1, 1, 1, 1, 1, 1, 1, 1, 1,\n",
              "       1, 1, 1, 1, 1, 1, 1, 1, 1, 1, 1, 1, 1, 1, 1, 1, 1, 1, 1, 1, 1, 1,\n",
              "       1, 1, 1, 1, 1, 1, 1, 1, 1, 1, 1, 1, 1, 1, 1, 1, 1, 1, 1, 1, 1, 1,\n",
              "       1, 1, 1, 1, 1, 1, 1, 1, 1, 1, 1, 1, 1, 1, 1, 1, 1, 1, 1, 1, 1, 1,\n",
              "       1, 1, 1, 1, 1, 1, 1, 1, 1, 1, 1, 1, 1, 1, 1, 1, 1, 1, 1, 1, 1, 1,\n",
              "       1, 1, 1, 1, 1, 1, 1, 1, 1, 1])"
            ]
          },
          "metadata": {},
          "execution_count": 52
        }
      ]
    },
    {
      "cell_type": "code",
      "metadata": {
        "colab": {
          "base_uri": "https://localhost:8080/"
        },
        "id": "_vuCzpRw5Tjr",
        "outputId": "52d6a21e-9f47-40d9-8a5a-5372c8bdc67c"
      },
      "source": [
        "ret = np.where(walk > walk.mean(), 1, 0)\n",
        "ret"
      ],
      "execution_count": 53,
      "outputs": [
        {
          "output_type": "execute_result",
          "data": {
            "text/plain": [
              "array([1, 1, 1, 1, 1, 1, 1, 1, 1, 1, 1, 1, 1, 1, 1, 1, 1, 1, 1, 1, 1, 1,\n",
              "       1, 1, 1, 1, 1, 1, 1, 1, 1, 1, 1, 1, 1, 1, 1, 1, 1, 1, 1, 1, 1, 1,\n",
              "       1, 1, 1, 1, 1, 1, 1, 1, 1, 1, 1, 1, 1, 1, 1, 1, 1, 1, 1, 1, 1, 1,\n",
              "       1, 1, 1, 1, 1, 1, 1, 1, 1, 1, 1, 1, 1, 1, 1, 1, 1, 1, 1, 1, 0, 0,\n",
              "       0, 1, 1, 1, 1, 1, 1, 1, 1, 1, 0, 0, 0, 1, 1, 1, 0, 1, 1, 1, 0, 1,\n",
              "       1, 1, 0, 0, 0, 0, 0, 0, 0, 0, 0, 0, 0, 0, 0, 0, 0, 0, 0, 0, 0, 0,\n",
              "       0, 0, 0, 0, 0, 0, 0, 0, 0, 0, 0, 1, 1, 1, 0, 1, 1, 1, 1, 1, 1, 1,\n",
              "       1, 1, 1, 1, 1, 1, 1, 1, 1, 1, 1, 1, 1, 1, 1, 1, 1, 1, 1, 1, 1, 1,\n",
              "       1, 1, 1, 1, 1, 1, 1, 1, 1, 1, 0, 1, 0, 0, 0, 0, 0, 0, 0, 0, 0, 0,\n",
              "       0, 0, 0, 0, 0, 0, 0, 0, 0, 0, 0, 0, 0, 0, 0, 0, 0, 0, 0, 0, 0, 0,\n",
              "       0, 0, 0, 0, 0, 0, 0, 0, 0, 0, 0, 0, 0, 0, 0, 0, 0, 0, 0, 0, 0, 0,\n",
              "       0, 0, 0, 0, 0, 0, 0, 0, 0, 0, 0, 0, 0, 0, 0, 0, 0, 0, 0, 0, 0, 0,\n",
              "       0, 0, 0, 0, 0, 0, 0, 0, 0, 0, 0, 0, 0, 0, 0, 0, 0, 0, 0, 0, 0, 0,\n",
              "       0, 0, 0, 0, 0, 0, 0, 0, 0, 0, 0, 0, 0, 0, 0, 0, 0, 0, 0, 0, 0, 0,\n",
              "       0, 0, 0, 0, 0, 0, 0, 0, 0, 0, 0, 0, 0, 0, 0, 0, 0, 0, 0, 0, 0, 0,\n",
              "       0, 0, 0, 0, 0, 0, 0, 0, 0, 0, 0, 0, 0, 0, 0, 0, 0, 0, 0, 0, 0, 0,\n",
              "       0, 0, 0, 0, 0, 0, 0, 0, 0, 0, 0, 0, 0, 0, 0, 0, 0, 0, 0, 0, 0, 0,\n",
              "       0, 0, 0, 0, 0, 0, 0, 0, 0, 0, 0, 0, 0, 0, 0, 0, 0, 0, 0, 0, 0, 0,\n",
              "       0, 0, 0, 0, 0, 0, 0, 0, 0, 0, 0, 0, 0, 0, 0, 0, 0, 0, 0, 0, 0, 0,\n",
              "       0, 0, 0, 0, 0, 0, 0, 0, 0, 0, 0, 0, 0, 0, 0, 0, 0, 0, 0, 0, 0, 0,\n",
              "       0, 0, 0, 0, 0, 0, 0, 0, 0, 0, 0, 0, 0, 0, 0, 0, 0, 0, 0, 0, 0, 0,\n",
              "       0, 0, 0, 0, 0, 0, 0, 0, 0, 0, 0, 0, 0, 0, 0, 0, 0, 0, 0, 0, 0, 0,\n",
              "       0, 0, 0, 0, 0, 0, 0, 0, 0, 0, 0, 0, 0, 0, 0, 0, 0, 0, 0, 0, 0, 0,\n",
              "       0, 0, 0, 0, 0, 0, 0, 0, 0, 0, 0, 0, 0, 0, 0, 0, 0, 0, 0, 0, 0, 0,\n",
              "       0, 0, 0, 0, 0, 0, 0, 0, 0, 0, 0, 0, 0, 0, 0, 0, 0, 0, 0, 0, 0, 0,\n",
              "       0, 0, 0, 0, 0, 0, 0, 0, 0, 0, 0, 0, 0, 0, 0, 0, 0, 0, 0, 1, 0, 1,\n",
              "       0, 1, 0, 0, 0, 0, 0, 0, 0, 0, 0, 0, 0, 0, 0, 0, 0, 0, 0, 0, 0, 0,\n",
              "       0, 0, 0, 0, 0, 0, 0, 0, 0, 0, 0, 0, 0, 0, 0, 0, 0, 0, 0, 0, 0, 0,\n",
              "       0, 0, 0, 0, 0, 1, 1, 1, 1, 1, 1, 1, 1, 1, 1, 1, 1, 1, 1, 1, 1, 1,\n",
              "       1, 1, 1, 1, 1, 1, 1, 1, 1, 1, 1, 1, 1, 1, 1, 1, 1, 1, 1, 1, 1, 1,\n",
              "       1, 1, 1, 1, 1, 1, 1, 1, 1, 1, 1, 1, 1, 1, 1, 1, 1, 1, 1, 1, 1, 1,\n",
              "       1, 1, 1, 1, 1, 1, 1, 1, 1, 1, 1, 1, 1, 1, 1, 1, 1, 1, 1, 1, 1, 1,\n",
              "       1, 1, 1, 1, 1, 1, 1, 1, 0, 1, 1, 1, 0, 0, 0, 0, 0, 1, 0, 1, 0, 1,\n",
              "       1, 1, 0, 1, 0, 1, 0, 1, 0, 1, 0, 0, 0, 0, 0, 0, 0, 0, 0, 1, 1, 1,\n",
              "       1, 1, 1, 1, 1, 1, 1, 1, 1, 1, 1, 1, 1, 1, 1, 1, 1, 1, 1, 1, 1, 1,\n",
              "       1, 1, 1, 1, 1, 1, 1, 1, 1, 1, 1, 1, 1, 1, 1, 1, 1, 1, 1, 1, 1, 1,\n",
              "       1, 1, 1, 1, 1, 1, 1, 1, 1, 1, 1, 1, 1, 1, 1, 1, 1, 1, 1, 1, 1, 1,\n",
              "       1, 1, 1, 1, 1, 1, 1, 1, 1, 1, 1, 1, 1, 1, 1, 1, 1, 1, 1, 1, 1, 1,\n",
              "       1, 1, 1, 1, 1, 1, 1, 1, 1, 1, 1, 1, 1, 1, 1, 1, 1, 1, 1, 1, 1, 1,\n",
              "       1, 1, 1, 1, 1, 1, 1, 1, 1, 1, 1, 1, 1, 1, 1, 1, 1, 1, 1, 1, 1, 1,\n",
              "       1, 1, 1, 1, 1, 1, 1, 1, 1, 1, 1, 1, 1, 1, 1, 1, 1, 1, 1, 1, 1, 1,\n",
              "       1, 1, 1, 1, 1, 1, 1, 1, 1, 1, 1, 1, 1, 1, 1, 1, 1, 1, 1, 1, 1, 1,\n",
              "       1, 1, 1, 1, 1, 1, 1, 1, 1, 1, 1, 1, 1, 1, 1, 1, 1, 1, 1, 1, 1, 1,\n",
              "       1, 1, 1, 1, 1, 1, 1, 1, 1, 1, 1, 1, 1, 1, 1, 1, 1, 1, 1, 1, 1, 1,\n",
              "       1, 1, 1, 1, 1, 1, 1, 1, 1, 1, 1, 1, 1, 1, 1, 1, 1, 1, 1, 1, 1, 1,\n",
              "       1, 1, 1, 1, 1, 1, 1, 1, 1, 1])"
            ]
          },
          "metadata": {},
          "execution_count": 53
        }
      ]
    },
    {
      "cell_type": "code",
      "source": [
        "np.all(ret == ret2)"
      ],
      "metadata": {
        "colab": {
          "base_uri": "https://localhost:8080/"
        },
        "id": "ioSCsaYQ68j-",
        "outputId": "ac634c35-c26b-4844-a578-ec296db3b9fe"
      },
      "execution_count": 54,
      "outputs": [
        {
          "output_type": "execute_result",
          "data": {
            "text/plain": [
              "True"
            ]
          },
          "metadata": {},
          "execution_count": 54
        }
      ]
    },
    {
      "cell_type": "markdown",
      "metadata": {
        "id": "YgnN9KpN9xX7"
      },
      "source": [
        "# Treshold 시각화"
      ]
    },
    {
      "cell_type": "code",
      "metadata": {
        "colab": {
          "base_uri": "https://localhost:8080/",
          "height": 283
        },
        "id": "A1HeOthN6OWO",
        "outputId": "a8fb9d60-c962-4fb5-ff04-556faf451c43"
      },
      "source": [
        "plt.plot(ret)"
      ],
      "execution_count": 55,
      "outputs": [
        {
          "output_type": "execute_result",
          "data": {
            "text/plain": [
              "[<matplotlib.lines.Line2D at 0x7f6bcd3a4390>]"
            ]
          },
          "metadata": {},
          "execution_count": 55
        },
        {
          "output_type": "display_data",
          "data": {
            "text/plain": [
              "<Figure size 432x288 with 1 Axes>"
            ],
            "image/png": "[encoded data removed]"
          },
          "metadata": {
            "needs_background": "light"
          }
        }
      ]
    },
    {
      "cell_type": "markdown",
      "metadata": {
        "id": "guqPfPAO-KtB"
      },
      "source": [
        "# Tresh 1/0로 분류된 walk \n",
        "* ret에 1로 분류된 walk 값만 골라서 walk_1에 저장하고 출력하세요.\n",
        "* ret에 0으로 분류되 walk 값만 골라서 walk_0에 저장하고 출력하세요.\n",
        "* ret에 1로 분류된 walk의 index 만 골라서 walk_idx_1 에 저장하고 출력하세요.\n",
        "* ret에 0으로 분류된 walk의 index 만 골라서 walk_idx_0에 저장하고 출력하세요."
      ]
    },
    {
      "cell_type": "code",
      "metadata": {
        "id": "oCO7IpdB-YRQ"
      },
      "source": [
        "walk_1 = walk[ret==1]\n",
        "walk_0 = walk[ret==0]"
      ],
      "execution_count": 56,
      "outputs": []
    },
    {
      "cell_type": "code",
      "metadata": {
        "colab": {
          "base_uri": "https://localhost:8080/"
        },
        "id": "sGkDCzbJ_d-I",
        "outputId": "3b3992ff-2767-4981-e9fe-a8cae1a6c227"
      },
      "source": [
        "walk_1"
      ],
      "execution_count": 57,
      "outputs": [
        {
          "output_type": "execute_result",
          "data": {
            "text/plain": [
              "array([ -1,  -2,  -1,   0,  -1,   0,   1,   0,   1,   0,   1,   2,   1,\n",
              "         2,   1,   0,   1,   2,   1,   0,  -1,   0,  -1,  -2,  -3,  -4,\n",
              "        -3,  -4,  -3,  -2,  -3,  -4,  -5,  -4,  -5,  -6,  -5,  -4,  -5,\n",
              "        -6,  -7,  -8,  -7,  -6,  -7,  -8,  -9, -10,  -9,  -8,  -9,  -8,\n",
              "        -7,  -8,  -9, -10, -11, -10, -11, -12, -13, -14, -15, -14, -15,\n",
              "       -14, -13, -14, -15, -14, -13, -12, -13, -14, -13, -14, -15, -16,\n",
              "       -15, -16, -15, -16, -17, -16, -17, -18, -18, -17, -16, -17, -18,\n",
              "       -17, -18, -17, -18, -18, -17, -18, -18, -17, -18, -18, -17, -18,\n",
              "       -18, -17, -18, -18, -17, -16, -17, -16, -15, -14, -13, -14, -13,\n",
              "       -12, -11, -12, -13, -14, -15, -14, -15, -14, -13, -14, -15, -14,\n",
              "       -15, -14, -15, -16, -15, -14, -15, -16, -17, -16, -15, -16, -15,\n",
              "       -16, -17, -18, -18, -18, -18, -18, -18, -17, -16, -17, -16, -15,\n",
              "       -16, -15, -16, -15, -14, -15, -14, -15, -16, -15, -14, -13, -14,\n",
              "       -13, -12, -13, -12, -13, -14, -15, -14, -13, -12, -11, -12, -13,\n",
              "       -12, -13, -14, -13, -12, -13, -14, -13, -14, -13, -14, -13, -12,\n",
              "       -11, -12, -11, -10, -11, -12, -13, -12, -13, -12, -13, -14, -15,\n",
              "       -14, -13, -12, -11, -10, -11, -10, -11, -10, -11, -12, -13, -14,\n",
              "       -15, -16, -15, -16, -15, -14, -15, -16, -15, -14, -15, -16, -15,\n",
              "       -16, -15, -16, -17, -16, -17, -18, -18, -17, -18, -18, -18, -18,\n",
              "       -17, -18, -18, -18, -18, -18, -18, -17, -16, -15, -14, -13, -14,\n",
              "       -13, -12, -13, -14, -13, -14, -15, -16, -17, -16, -17, -18, -17,\n",
              "       -18, -17, -16, -15, -16, -15, -14, -15, -14, -15, -14, -15, -16,\n",
              "       -17, -16, -15, -16, -17, -16, -17, -18, -17, -16, -15, -14, -15,\n",
              "       -14, -13, -14, -15, -16, -15, -14, -15, -14, -15, -16, -17, -16,\n",
              "       -17, -16, -17, -16, -15, -16, -17, -18, -17, -16, -15, -14, -15,\n",
              "       -14, -13, -14, -15, -14, -13, -12, -11, -10, -11, -10,  -9, -10,\n",
              "        -9,  -8,  -7,  -8,  -9,  -8,  -7,  -8,  -9, -10, -11, -12, -11,\n",
              "       -12, -11, -10, -11, -10,  -9, -10, -11, -10,  -9,  -8,  -9, -10,\n",
              "        -9,  -8,  -9, -10,  -9,  -8,  -7,  -8,  -7,  -6,  -7,  -6,  -5,\n",
              "        -4,  -5,  -6,  -5,  -6,  -7,  -8,  -7,  -8,  -7,  -6,  -5,  -6,\n",
              "        -7,  -8,  -9,  -8,  -7,  -8,  -7,  -6,  -5,  -4,  -3,  -4,  -3,\n",
              "        -4,  -3,  -4,  -3,  -2,  -1,  -2,  -3,  -4,  -5,  -6,  -7,  -6,\n",
              "        -7,  -8,  -9,  -8,  -7,  -6,  -5,  -6,  -5,  -6,  -5,  -6,  -5,\n",
              "        -4,  -5,  -6,  -5,  -4,  -3,  -2,  -3,  -4,  -3,  -4,  -5,  -4,\n",
              "        -3,  -4,  -3,  -2,  -1,  -2,  -1,   0,  -1,   0,  -1,  -2,  -1,\n",
              "         0,  -1,  -2,  -3,  -4,  -5,  -4,  -5,  -4,  -3,  -4,  -5,  -4,\n",
              "        -3,  -4,  -5,  -6,  -5,  -6,  -7,  -6,  -5,  -6,  -7,  -6,  -5,\n",
              "        -6,  -7,  -6,  -7,  -8,  -9,  -8,  -7,  -8,  -7,  -8,  -9,  -8,\n",
              "        -9,  -8,  -7,  -8,  -9, -10, -11, -12, -11, -10, -11, -10, -11,\n",
              "       -10])"
            ]
          },
          "metadata": {},
          "execution_count": 57
        }
      ]
    },
    {
      "cell_type": "code",
      "metadata": {
        "colab": {
          "base_uri": "https://localhost:8080/"
        },
        "id": "iMcnKPPR_evl",
        "outputId": "95d5dbb0-609b-4983-8510-5cb180ce20ee"
      },
      "source": [
        "walk_0"
      ],
      "execution_count": 58,
      "outputs": [
        {
          "output_type": "execute_result",
          "data": {
            "text/plain": [
              "array([-19, -20, -19, -19, -20, -19, -19, -19, -19, -20, -21, -20, -19,\n",
              "       -20, -21, -22, -23, -22, -21, -22, -21, -22, -21, -22, -21, -22,\n",
              "       -23, -24, -25, -24, -23, -22, -23, -22, -21, -22, -21, -20, -19,\n",
              "       -19, -19, -19, -20, -21, -20, -21, -20, -21, -22, -23, -22, -23,\n",
              "       -24, -23, -24, -23, -22, -23, -22, -23, -24, -23, -24, -23, -22,\n",
              "       -23, -24, -23, -22, -21, -22, -23, -22, -23, -24, -23, -22, -23,\n",
              "       -22, -21, -22, -23, -24, -25, -26, -27, -26, -27, -28, -27, -26,\n",
              "       -25, -24, -25, -24, -23, -22, -21, -20, -21, -22, -23, -24, -25,\n",
              "       -26, -27, -26, -27, -28, -27, -26, -25, -24, -25, -26, -25, -24,\n",
              "       -23, -22, -21, -22, -23, -24, -25, -26, -25, -24, -25, -26, -27,\n",
              "       -28, -27, -26, -27, -28, -27, -26, -27, -26, -27, -28, -29, -28,\n",
              "       -29, -28, -27, -26, -27, -28, -29, -30, -29, -30, -31, -30, -29,\n",
              "       -30, -31, -32, -31, -30, -31, -32, -31, -32, -31, -30, -31, -30,\n",
              "       -31, -30, -29, -30, -29, -30, -31, -32, -33, -32, -31, -32, -31,\n",
              "       -32, -31, -30, -29, -30, -31, -30, -29, -28, -27, -28, -29, -30,\n",
              "       -31, -30, -31, -30, -29, -28, -29, -28, -27, -28, -29, -30, -29,\n",
              "       -30, -31, -32, -31, -30, -29, -28, -29, -28, -29, -30, -31, -32,\n",
              "       -33, -32, -31, -30, -31, -30, -31, -32, -31, -30, -31, -30, -31,\n",
              "       -32, -31, -32, -31, -30, -31, -30, -31, -32, -33, -32, -33, -34,\n",
              "       -33, -32, -31, -32, -31, -30, -29, -30, -31, -30, -31, -30, -29,\n",
              "       -30, -31, -30, -31, -30, -29, -30, -31, -32, -33, -32, -33, -34,\n",
              "       -35, -36, -35, -34, -33, -32, -31, -32, -33, -32, -31, -30, -29,\n",
              "       -30, -31, -30, -29, -28, -27, -26, -25, -26, -27, -28, -29, -30,\n",
              "       -31, -30, -29, -28, -27, -28, -29, -28, -29, -28, -29, -28, -27,\n",
              "       -26, -27, -26, -25, -26, -25, -24, -25, -24, -23, -24, -25, -24,\n",
              "       -25, -24, -23, -24, -23, -24, -25, -26, -25, -26, -27, -28, -29,\n",
              "       -30, -29, -28, -27, -26, -27, -26, -25, -26, -25, -26, -27, -26,\n",
              "       -25, -26, -25, -24, -25, -26, -27, -28, -29, -28, -29, -28, -27,\n",
              "       -26, -27, -26, -27, -26, -25, -26, -27, -26, -25, -26, -27, -26,\n",
              "       -27, -26, -25, -26, -25, -24, -25, -26, -25, -26, -25, -24, -25,\n",
              "       -26, -25, -24, -23, -22, -21, -22, -21, -20, -21, -22, -23, -24,\n",
              "       -25, -26, -25, -26, -25, -26, -25, -24, -23, -24, -23, -22, -23,\n",
              "       -24, -23, -22, -21, -20, -19, -19, -19, -19, -20, -19, -20, -21,\n",
              "       -20, -21, -22, -21, -22, -23, -24, -25, -24, -25, -24, -23, -24,\n",
              "       -23, -24, -23, -22, -21, -22, -21, -22, -23, -22, -21, -20, -21,\n",
              "       -20, -21, -22, -21, -22, -23, -22, -21, -22, -23, -22, -21, -20,\n",
              "       -19, -20, -19, -19, -19, -20, -19, -20, -19, -19, -19, -19, -19,\n",
              "       -19, -19, -19, -20, -19, -20, -19, -20, -21, -20, -19])"
            ]
          },
          "metadata": {},
          "execution_count": 58
        }
      ]
    },
    {
      "cell_type": "markdown",
      "metadata": {
        "id": "VoyPMSPj_iMX"
      },
      "source": [
        "# "
      ]
    },
    {
      "cell_type": "code",
      "metadata": {
        "id": "jMpU21_z_fYv"
      },
      "source": [
        "walk_idx_1 = np.where(ret==1)[0]\n",
        "walk_idx_0 = np.where(ret==0)[0]"
      ],
      "execution_count": 75,
      "outputs": []
    },
    {
      "cell_type": "code",
      "metadata": {
        "colab": {
          "base_uri": "https://localhost:8080/"
        },
        "id": "nKZCTNqu_9Lu",
        "outputId": "ef2b57b9-388d-4509-f13d-efbdaaf96387"
      },
      "source": [
        "walk_idx_1"
      ],
      "execution_count": 60,
      "outputs": [
        {
          "output_type": "execute_result",
          "data": {
            "text/plain": [
              "(array([  0,   1,   2,   3,   4,   5,   6,   7,   8,   9,  10,  11,  12,\n",
              "         13,  14,  15,  16,  17,  18,  19,  20,  21,  22,  23,  24,  25,\n",
              "         26,  27,  28,  29,  30,  31,  32,  33,  34,  35,  36,  37,  38,\n",
              "         39,  40,  41,  42,  43,  44,  45,  46,  47,  48,  49,  50,  51,\n",
              "         52,  53,  54,  55,  56,  57,  58,  59,  60,  61,  62,  63,  64,\n",
              "         65,  66,  67,  68,  69,  70,  71,  72,  73,  74,  75,  76,  77,\n",
              "         78,  79,  80,  81,  82,  83,  84,  85,  89,  90,  91,  92,  93,\n",
              "         94,  95,  96,  97, 101, 102, 103, 105, 106, 107, 109, 110, 111,\n",
              "        143, 144, 145, 147, 148, 149, 150, 151, 152, 153, 154, 155, 156,\n",
              "        157, 158, 159, 160, 161, 162, 163, 164, 165, 166, 167, 168, 169,\n",
              "        170, 171, 172, 173, 174, 175, 176, 177, 178, 179, 180, 181, 182,\n",
              "        183, 184, 185, 187, 569, 571, 573, 621, 622, 623, 624, 625, 626,\n",
              "        627, 628, 629, 630, 631, 632, 633, 634, 635, 636, 637, 638, 639,\n",
              "        640, 641, 642, 643, 644, 645, 646, 647, 648, 649, 650, 651, 652,\n",
              "        653, 654, 655, 656, 657, 658, 659, 660, 661, 662, 663, 664, 665,\n",
              "        666, 667, 668, 669, 670, 671, 672, 673, 674, 675, 676, 677, 678,\n",
              "        679, 680, 681, 682, 683, 684, 685, 686, 687, 688, 689, 690, 691,\n",
              "        692, 693, 694, 695, 696, 697, 698, 699, 700, 701, 702, 703, 704,\n",
              "        705, 706, 707, 708, 709, 710, 711, 713, 714, 715, 721, 723, 725,\n",
              "        726, 727, 729, 731, 733, 735, 745, 746, 747, 748, 749, 750, 751,\n",
              "        752, 753, 754, 755, 756, 757, 758, 759, 760, 761, 762, 763, 764,\n",
              "        765, 766, 767, 768, 769, 770, 771, 772, 773, 774, 775, 776, 777,\n",
              "        778, 779, 780, 781, 782, 783, 784, 785, 786, 787, 788, 789, 790,\n",
              "        791, 792, 793, 794, 795, 796, 797, 798, 799, 800, 801, 802, 803,\n",
              "        804, 805, 806, 807, 808, 809, 810, 811, 812, 813, 814, 815, 816,\n",
              "        817, 818, 819, 820, 821, 822, 823, 824, 825, 826, 827, 828, 829,\n",
              "        830, 831, 832, 833, 834, 835, 836, 837, 838, 839, 840, 841, 842,\n",
              "        843, 844, 845, 846, 847, 848, 849, 850, 851, 852, 853, 854, 855,\n",
              "        856, 857, 858, 859, 860, 861, 862, 863, 864, 865, 866, 867, 868,\n",
              "        869, 870, 871, 872, 873, 874, 875, 876, 877, 878, 879, 880, 881,\n",
              "        882, 883, 884, 885, 886, 887, 888, 889, 890, 891, 892, 893, 894,\n",
              "        895, 896, 897, 898, 899, 900, 901, 902, 903, 904, 905, 906, 907,\n",
              "        908, 909, 910, 911, 912, 913, 914, 915, 916, 917, 918, 919, 920,\n",
              "        921, 922, 923, 924, 925, 926, 927, 928, 929, 930, 931, 932, 933,\n",
              "        934, 935, 936, 937, 938, 939, 940, 941, 942, 943, 944, 945, 946,\n",
              "        947, 948, 949, 950, 951, 952, 953, 954, 955, 956, 957, 958, 959,\n",
              "        960, 961, 962, 963, 964, 965, 966, 967, 968, 969, 970, 971, 972,\n",
              "        973, 974, 975, 976, 977, 978, 979, 980, 981, 982, 983, 984, 985,\n",
              "        986, 987, 988, 989, 990, 991, 992, 993, 994, 995, 996, 997, 998,\n",
              "        999]),)"
            ]
          },
          "metadata": {},
          "execution_count": 60
        }
      ]
    },
    {
      "cell_type": "code",
      "metadata": {
        "colab": {
          "base_uri": "https://localhost:8080/"
        },
        "id": "hBFxJOW1ACMu",
        "outputId": "37af6938-7eaf-43fd-82da-9a1de4217acf"
      },
      "source": [
        "walk_idx_0"
      ],
      "execution_count": 61,
      "outputs": [
        {
          "output_type": "execute_result",
          "data": {
            "text/plain": [
              "(array([ 86,  87,  88,  98,  99, 100, 104, 108, 112, 113, 114, 115, 116,\n",
              "        117, 118, 119, 120, 121, 122, 123, 124, 125, 126, 127, 128, 129,\n",
              "        130, 131, 132, 133, 134, 135, 136, 137, 138, 139, 140, 141, 142,\n",
              "        146, 186, 188, 189, 190, 191, 192, 193, 194, 195, 196, 197, 198,\n",
              "        199, 200, 201, 202, 203, 204, 205, 206, 207, 208, 209, 210, 211,\n",
              "        212, 213, 214, 215, 216, 217, 218, 219, 220, 221, 222, 223, 224,\n",
              "        225, 226, 227, 228, 229, 230, 231, 232, 233, 234, 235, 236, 237,\n",
              "        238, 239, 240, 241, 242, 243, 244, 245, 246, 247, 248, 249, 250,\n",
              "        251, 252, 253, 254, 255, 256, 257, 258, 259, 260, 261, 262, 263,\n",
              "        264, 265, 266, 267, 268, 269, 270, 271, 272, 273, 274, 275, 276,\n",
              "        277, 278, 279, 280, 281, 282, 283, 284, 285, 286, 287, 288, 289,\n",
              "        290, 291, 292, 293, 294, 295, 296, 297, 298, 299, 300, 301, 302,\n",
              "        303, 304, 305, 306, 307, 308, 309, 310, 311, 312, 313, 314, 315,\n",
              "        316, 317, 318, 319, 320, 321, 322, 323, 324, 325, 326, 327, 328,\n",
              "        329, 330, 331, 332, 333, 334, 335, 336, 337, 338, 339, 340, 341,\n",
              "        342, 343, 344, 345, 346, 347, 348, 349, 350, 351, 352, 353, 354,\n",
              "        355, 356, 357, 358, 359, 360, 361, 362, 363, 364, 365, 366, 367,\n",
              "        368, 369, 370, 371, 372, 373, 374, 375, 376, 377, 378, 379, 380,\n",
              "        381, 382, 383, 384, 385, 386, 387, 388, 389, 390, 391, 392, 393,\n",
              "        394, 395, 396, 397, 398, 399, 400, 401, 402, 403, 404, 405, 406,\n",
              "        407, 408, 409, 410, 411, 412, 413, 414, 415, 416, 417, 418, 419,\n",
              "        420, 421, 422, 423, 424, 425, 426, 427, 428, 429, 430, 431, 432,\n",
              "        433, 434, 435, 436, 437, 438, 439, 440, 441, 442, 443, 444, 445,\n",
              "        446, 447, 448, 449, 450, 451, 452, 453, 454, 455, 456, 457, 458,\n",
              "        459, 460, 461, 462, 463, 464, 465, 466, 467, 468, 469, 470, 471,\n",
              "        472, 473, 474, 475, 476, 477, 478, 479, 480, 481, 482, 483, 484,\n",
              "        485, 486, 487, 488, 489, 490, 491, 492, 493, 494, 495, 496, 497,\n",
              "        498, 499, 500, 501, 502, 503, 504, 505, 506, 507, 508, 509, 510,\n",
              "        511, 512, 513, 514, 515, 516, 517, 518, 519, 520, 521, 522, 523,\n",
              "        524, 525, 526, 527, 528, 529, 530, 531, 532, 533, 534, 535, 536,\n",
              "        537, 538, 539, 540, 541, 542, 543, 544, 545, 546, 547, 548, 549,\n",
              "        550, 551, 552, 553, 554, 555, 556, 557, 558, 559, 560, 561, 562,\n",
              "        563, 564, 565, 566, 567, 568, 570, 572, 574, 575, 576, 577, 578,\n",
              "        579, 580, 581, 582, 583, 584, 585, 586, 587, 588, 589, 590, 591,\n",
              "        592, 593, 594, 595, 596, 597, 598, 599, 600, 601, 602, 603, 604,\n",
              "        605, 606, 607, 608, 609, 610, 611, 612, 613, 614, 615, 616, 617,\n",
              "        618, 619, 620, 712, 716, 717, 718, 719, 720, 722, 724, 728, 730,\n",
              "        732, 734, 736, 737, 738, 739, 740, 741, 742, 743, 744]),)"
            ]
          },
          "metadata": {},
          "execution_count": 61
        }
      ]
    },
    {
      "cell_type": "markdown",
      "metadata": {
        "id": "BJnvLLCn_Diy"
      },
      "source": [
        "# Thresh 로 시각화"
      ]
    },
    {
      "cell_type": "code",
      "metadata": {
        "colab": {
          "base_uri": "https://localhost:8080/",
          "height": 283
        },
        "id": "Ebh7GtU7-dmH",
        "outputId": "8979f1e4-0b3c-4adf-dbfc-0f190ca47ca0"
      },
      "source": [
        "plt.plot(walk_idx_1, walk_1, 'r.')\n",
        "plt.plot(walk_idx_0, walk_0, 'b.')"
      ],
      "execution_count": 76,
      "outputs": [
        {
          "output_type": "execute_result",
          "data": {
            "text/plain": [
              "[<matplotlib.lines.Line2D at 0x7f6bcd2321d0>]"
            ]
          },
          "metadata": {},
          "execution_count": 76
        },
        {
          "output_type": "display_data",
          "data": {
            "text/plain": [
              "<Figure size 432x288 with 1 Axes>"
            ],
            "image/png": "[encoded data removed]"
          },
          "metadata": {
            "needs_background": "light"
          }
        }
      ]
    }
  ]
}