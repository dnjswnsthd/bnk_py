{
  "nbformat": 4,
  "nbformat_minor": 0,
  "metadata": {
    "colab": {
      "provenance": [],
      "collapsed_sections": [
        "mDPxvqRWWbcr",
        "FOSnZIaLW517",
        "hhBlq57rXDTS",
        "ghJkhq5Nuf5h",
        "ZZoXe_bBv-dH",
        "QPdOPFxkXGN4",
        "qHlMZ1UgzTjS",
        "adBNaYkti4Wz",
        "hEtTPLyphGzH",
        "H8qcDP7-uwiw",
        "PTHon7kyuyhY",
        "5ETlKWfvzct0",
        "ZbRwcM3jziY-",
        "RaNVJRjm086l",
        "tgKEezmXG5qS",
        "lESxiMcdHtLk",
        "6rR024y1ij84",
        "zUEwU9zKivLc",
        "78DHVjfxiygc",
        "5rR71sMxdomY",
        "aPfBWW3PifbV",
        "ldcewZ_5iYF8",
        "tBJXYaMziVsR",
        "_VIUNg_QibbH",
        "V6k0FeGRiJ0I",
        "m5QT65fKpnJj",
        "aHIPVsXIprWV",
        "VbTz8zXgl_Pq",
        "bfY5NXzH_i1F",
        "oEKaBsNJp5Y0",
        "Gx6IIdAop_0l",
        "QJ9wZdaPqBnL",
        "GDeJ7ScgqDRR",
        "drH9pO_1p83D",
        "I04QEZvQqGTr",
        "7zctP0UK_tIj",
        "fhOFqdyT_lLk"
      ],
      "include_colab_link": true
    },
    "kernelspec": {
      "name": "python3",
      "display_name": "Python 3"
    },
    "language_info": {
      "name": "python"
    }
  },
  "cells": [
    {
      "cell_type": "markdown",
      "metadata": {
        "id": "view-in-github",
        "colab_type": "text"
      },
      "source": [
        "<a href=\"https://colab.research.google.com/github/dnjswnsthd/bnk_py/blob/develop/Python_Basics.ipynb\" target=\"_parent\"><img src=\"https://colab.research.google.com/assets/colab-badge.svg\" alt=\"Open In Colab\"/></a>"
      ]
    },
    {
      "cell_type": "markdown",
      "metadata": {
        "id": "0mZtYdkvWV-E"
      },
      "source": [
        "<h1>Python Basics</h1>"
      ]
    },
    {
      "cell_type": "markdown",
      "metadata": {
        "id": "mDPxvqRWWbcr"
      },
      "source": [
        "# 1.개요"
      ]
    },
    {
      "cell_type": "markdown",
      "metadata": {
        "id": "FOSnZIaLW517"
      },
      "source": [
        "## 필수 라이브러리 설치 확인"
      ]
    },
    {
      "cell_type": "code",
      "metadata": {
        "id": "TIFltKalWfZD",
        "colab": {
          "base_uri": "https://localhost:8080/"
        },
        "outputId": "03de18a6-67da-4deb-b4d8-fdeca57d430d"
      },
      "source": [
        "import numpy\n",
        "import pandas\n",
        "import matplotlib\n",
        "import sklearn\n",
        "import tensorflow\n",
        "import keras\n",
        "\n",
        "print(numpy.__version__)\n",
        "print(pandas.__version__)"
      ],
      "execution_count": null,
      "outputs": [
        {
          "output_type": "stream",
          "name": "stdout",
          "text": [
            "1.21.6\n",
            "1.3.5\n"
          ]
        }
      ]
    },
    {
      "cell_type": "markdown",
      "metadata": {
        "id": "hhBlq57rXDTS"
      },
      "source": [
        "# 2.기본 문법"
      ]
    },
    {
      "cell_type": "markdown",
      "metadata": {
        "id": "ghJkhq5Nuf5h"
      },
      "source": [
        "## 기본 문법"
      ]
    },
    {
      "cell_type": "code",
      "source": [
        "'''\n",
        "print(\"hello\")\n",
        "print(\"world\")    \n",
        "'''\n",
        "print('goodbye')\n",
        "\n"
      ],
      "metadata": {
        "id": "nmaIjSaALclj",
        "colab": {
          "base_uri": "https://localhost:8080/"
        },
        "outputId": "41e23a3d-c938-4667-eee0-c67439c95f62"
      },
      "execution_count": null,
      "outputs": [
        {
          "output_type": "stream",
          "name": "stdout",
          "text": [
            "goodbye\n"
          ]
        }
      ]
    },
    {
      "cell_type": "code",
      "source": [
        "print(\"hello\");  print(\"world\");"
      ],
      "metadata": {
        "colab": {
          "base_uri": "https://localhost:8080/"
        },
        "id": "NnX46rgPnLKm",
        "outputId": "24f23642-7dca-421c-9325-6b294e7b2d21"
      },
      "execution_count": null,
      "outputs": [
        {
          "output_type": "stream",
          "name": "stdout",
          "text": [
            "hello\n",
            "world\n"
          ]
        }
      ]
    },
    {
      "cell_type": "code",
      "source": [
        "print(\"동해물과 백두산이 마르고 닳도록 하느님이 보우하사 우리나라만세\\\n",
        " 무궁화 삼천리 화려강산 대한사람 대한으로 길이 보전하세.\")"
      ],
      "metadata": {
        "colab": {
          "base_uri": "https://localhost:8080/"
        },
        "id": "XdzP-8mkneVp",
        "outputId": "aa5b3c6a-567c-49d7-86d1-c3bdf7149373"
      },
      "execution_count": null,
      "outputs": [
        {
          "output_type": "stream",
          "name": "stdout",
          "text": [
            "동해물과 백두산이 마르고 닳도록 하느님이 보우하사 우리나라만세 무궁화 삼천리 화려강산 대한사람 대한으로 길이 보전하세.\n"
          ]
        }
      ]
    },
    {
      "cell_type": "markdown",
      "metadata": {
        "id": "ZZoXe_bBv-dH"
      },
      "source": [
        "## 변수\n"
      ]
    },
    {
      "cell_type": "code",
      "source": [
        "i = 10\n",
        "print(i)"
      ],
      "metadata": {
        "id": "x8Ob1UKyLepL",
        "colab": {
          "base_uri": "https://localhost:8080/"
        },
        "outputId": "ab7261d4-6683-489c-9b53-07c371627c6c"
      },
      "execution_count": null,
      "outputs": [
        {
          "output_type": "stream",
          "name": "stdout",
          "text": [
            "10\n"
          ]
        }
      ]
    },
    {
      "cell_type": "code",
      "source": [
        "i=10\n",
        "i=20"
      ],
      "metadata": {
        "id": "gNY2I2Eoo0yf"
      },
      "execution_count": null,
      "outputs": []
    },
    {
      "cell_type": "code",
      "source": [
        "print(\"hello\")"
      ],
      "metadata": {
        "colab": {
          "base_uri": "https://localhost:8080/"
        },
        "id": "k5pZrjflpAvA",
        "outputId": "5f960545-31a5-403e-9ec3-2ab5db541ea8"
      },
      "execution_count": null,
      "outputs": [
        {
          "output_type": "stream",
          "name": "stdout",
          "text": [
            "hello\n"
          ]
        }
      ]
    },
    {
      "cell_type": "code",
      "source": [
        "print = 10\n",
        "print"
      ],
      "metadata": {
        "colab": {
          "base_uri": "https://localhost:8080/"
        },
        "id": "puHJuvRNpEMA",
        "outputId": "addad53d-c17a-4d84-c8f7-6f56a447987f"
      },
      "execution_count": null,
      "outputs": [
        {
          "output_type": "execute_result",
          "data": {
            "text/plain": [
              "10"
            ]
          },
          "metadata": {},
          "execution_count": 2
        }
      ]
    },
    {
      "cell_type": "code",
      "source": [
        "del print"
      ],
      "metadata": {
        "id": "MnlN5D9tqTae"
      },
      "execution_count": null,
      "outputs": []
    },
    {
      "cell_type": "code",
      "source": [
        "print(\"hello\")"
      ],
      "metadata": {
        "colab": {
          "base_uri": "https://localhost:8080/"
        },
        "id": "RprNSq76pG4_",
        "outputId": "24cf22a3-0dd5-4e32-b752-fa91860ee2fc"
      },
      "execution_count": null,
      "outputs": [
        {
          "output_type": "stream",
          "name": "stdout",
          "text": [
            "hello\n"
          ]
        }
      ]
    },
    {
      "cell_type": "code",
      "source": [
        "if = 10"
      ],
      "metadata": {
        "colab": {
          "base_uri": "https://localhost:8080/",
          "height": 138
        },
        "id": "PGuAW3qrpVWk",
        "outputId": "0f2c11fd-97af-4b8a-f3a8-0adf5a67423e"
      },
      "execution_count": null,
      "outputs": [
        {
          "output_type": "error",
          "ename": "SyntaxError",
          "evalue": "ignored",
          "traceback": [
            "\u001b[0;36m  File \u001b[0;32m\"<ipython-input-23-563084b3e606>\"\u001b[0;36m, line \u001b[0;32m1\u001b[0m\n\u001b[0;31m    if = 10\u001b[0m\n\u001b[0m       ^\u001b[0m\n\u001b[0;31mSyntaxError\u001b[0m\u001b[0;31m:\u001b[0m invalid syntax\n"
          ]
        }
      ]
    },
    {
      "cell_type": "code",
      "source": [
        "import keyword\n",
        "keyword.kwlist"
      ],
      "metadata": {
        "colab": {
          "base_uri": "https://localhost:8080/"
        },
        "id": "zrUDJHFCqj7f",
        "outputId": "9f4c80f5-070f-4ef6-fb9b-c5f418be4cd0"
      },
      "execution_count": null,
      "outputs": [
        {
          "output_type": "execute_result",
          "data": {
            "text/plain": [
              "['False',\n",
              " 'None',\n",
              " 'True',\n",
              " 'and',\n",
              " 'as',\n",
              " 'assert',\n",
              " 'async',\n",
              " 'await',\n",
              " 'break',\n",
              " 'class',\n",
              " 'continue',\n",
              " 'def',\n",
              " 'del',\n",
              " 'elif',\n",
              " 'else',\n",
              " 'except',\n",
              " 'finally',\n",
              " 'for',\n",
              " 'from',\n",
              " 'global',\n",
              " 'if',\n",
              " 'import',\n",
              " 'in',\n",
              " 'is',\n",
              " 'lambda',\n",
              " 'nonlocal',\n",
              " 'not',\n",
              " 'or',\n",
              " 'pass',\n",
              " 'raise',\n",
              " 'return',\n",
              " 'try',\n",
              " 'while',\n",
              " 'with',\n",
              " 'yield']"
            ]
          },
          "metadata": {},
          "execution_count": 6
        }
      ]
    },
    {
      "cell_type": "code",
      "source": [
        "dir(__builtin__)"
      ],
      "metadata": {
        "colab": {
          "base_uri": "https://localhost:8080/"
        },
        "id": "tQAAd2FwqrPv",
        "outputId": "e7b54499-7026-486e-e98d-ef53237b9826"
      },
      "execution_count": null,
      "outputs": [
        {
          "output_type": "execute_result",
          "data": {
            "text/plain": [
              "['ArithmeticError',\n",
              " 'AssertionError',\n",
              " 'AttributeError',\n",
              " 'BaseException',\n",
              " 'BlockingIOError',\n",
              " 'BrokenPipeError',\n",
              " 'BufferError',\n",
              " 'BytesWarning',\n",
              " 'ChildProcessError',\n",
              " 'ConnectionAbortedError',\n",
              " 'ConnectionError',\n",
              " 'ConnectionRefusedError',\n",
              " 'ConnectionResetError',\n",
              " 'DeprecationWarning',\n",
              " 'EOFError',\n",
              " 'Ellipsis',\n",
              " 'EnvironmentError',\n",
              " 'Exception',\n",
              " 'False',\n",
              " 'FileExistsError',\n",
              " 'FileNotFoundError',\n",
              " 'FloatingPointError',\n",
              " 'FutureWarning',\n",
              " 'GeneratorExit',\n",
              " 'IOError',\n",
              " 'ImportError',\n",
              " 'ImportWarning',\n",
              " 'IndentationError',\n",
              " 'IndexError',\n",
              " 'InterruptedError',\n",
              " 'IsADirectoryError',\n",
              " 'KeyError',\n",
              " 'KeyboardInterrupt',\n",
              " 'LookupError',\n",
              " 'MemoryError',\n",
              " 'ModuleNotFoundError',\n",
              " 'NameError',\n",
              " 'None',\n",
              " 'NotADirectoryError',\n",
              " 'NotImplemented',\n",
              " 'NotImplementedError',\n",
              " 'OSError',\n",
              " 'OverflowError',\n",
              " 'PendingDeprecationWarning',\n",
              " 'PermissionError',\n",
              " 'ProcessLookupError',\n",
              " 'RecursionError',\n",
              " 'ReferenceError',\n",
              " 'ResourceWarning',\n",
              " 'RuntimeError',\n",
              " 'RuntimeWarning',\n",
              " 'StopAsyncIteration',\n",
              " 'StopIteration',\n",
              " 'SyntaxError',\n",
              " 'SyntaxWarning',\n",
              " 'SystemError',\n",
              " 'SystemExit',\n",
              " 'TabError',\n",
              " 'TimeoutError',\n",
              " 'True',\n",
              " 'TypeError',\n",
              " 'UnboundLocalError',\n",
              " 'UnicodeDecodeError',\n",
              " 'UnicodeEncodeError',\n",
              " 'UnicodeError',\n",
              " 'UnicodeTranslateError',\n",
              " 'UnicodeWarning',\n",
              " 'UserWarning',\n",
              " 'ValueError',\n",
              " 'Warning',\n",
              " 'ZeroDivisionError',\n",
              " '__IPYTHON__',\n",
              " '__build_class__',\n",
              " '__debug__',\n",
              " '__doc__',\n",
              " '__import__',\n",
              " '__loader__',\n",
              " '__name__',\n",
              " '__package__',\n",
              " '__spec__',\n",
              " 'abs',\n",
              " 'all',\n",
              " 'any',\n",
              " 'ascii',\n",
              " 'bin',\n",
              " 'bool',\n",
              " 'breakpoint',\n",
              " 'bytearray',\n",
              " 'bytes',\n",
              " 'callable',\n",
              " 'chr',\n",
              " 'classmethod',\n",
              " 'compile',\n",
              " 'complex',\n",
              " 'copyright',\n",
              " 'credits',\n",
              " 'delattr',\n",
              " 'dict',\n",
              " 'dir',\n",
              " 'display',\n",
              " 'divmod',\n",
              " 'enumerate',\n",
              " 'eval',\n",
              " 'exec',\n",
              " 'execfile',\n",
              " 'filter',\n",
              " 'float',\n",
              " 'format',\n",
              " 'frozenset',\n",
              " 'get_ipython',\n",
              " 'getattr',\n",
              " 'globals',\n",
              " 'hasattr',\n",
              " 'hash',\n",
              " 'help',\n",
              " 'hex',\n",
              " 'id',\n",
              " 'input',\n",
              " 'int',\n",
              " 'isinstance',\n",
              " 'issubclass',\n",
              " 'iter',\n",
              " 'len',\n",
              " 'license',\n",
              " 'list',\n",
              " 'locals',\n",
              " 'map',\n",
              " 'max',\n",
              " 'memoryview',\n",
              " 'min',\n",
              " 'next',\n",
              " 'object',\n",
              " 'oct',\n",
              " 'open',\n",
              " 'ord',\n",
              " 'pow',\n",
              " 'print',\n",
              " 'property',\n",
              " 'range',\n",
              " 'repr',\n",
              " 'reversed',\n",
              " 'round',\n",
              " 'runfile',\n",
              " 'set',\n",
              " 'setattr',\n",
              " 'slice',\n",
              " 'sorted',\n",
              " 'staticmethod',\n",
              " 'str',\n",
              " 'sum',\n",
              " 'super',\n",
              " 'tuple',\n",
              " 'type',\n",
              " 'vars',\n",
              " 'zip']"
            ]
          },
          "metadata": {},
          "execution_count": 7
        }
      ]
    },
    {
      "cell_type": "markdown",
      "metadata": {
        "id": "QPdOPFxkXGN4"
      },
      "source": [
        "## 데이터 타입"
      ]
    },
    {
      "cell_type": "code",
      "source": [
        "i = 10\n",
        "f = 3.14\n",
        "c = 1.23 + 4.5j\n",
        "print(i, type(i), f, type(f), c, type(c))"
      ],
      "metadata": {
        "id": "LBTvI0ayLjGY",
        "colab": {
          "base_uri": "https://localhost:8080/"
        },
        "outputId": "9c0baa61-124c-495e-db81-4dee0f5b8edf"
      },
      "execution_count": null,
      "outputs": [
        {
          "output_type": "stream",
          "name": "stdout",
          "text": [
            "10 <class 'int'> 3.14 <class 'float'> (1.23+4.5j) <class 'complex'>\n"
          ]
        }
      ]
    },
    {
      "cell_type": "code",
      "source": [
        "b1 = True\n",
        "b2 = False\n",
        "b1, type(b1), b2, type(b2)"
      ],
      "metadata": {
        "colab": {
          "base_uri": "https://localhost:8080/"
        },
        "id": "Fr9M2TDHrmq0",
        "outputId": "2378b8a2-87e6-43ed-c17c-cc0315390299"
      },
      "execution_count": null,
      "outputs": [
        {
          "output_type": "execute_result",
          "data": {
            "text/plain": [
              "(True, bool, False, bool)"
            ]
          },
          "metadata": {},
          "execution_count": 9
        }
      ]
    },
    {
      "cell_type": "code",
      "source": [
        "s = \"hello\"\n",
        "s2 = 'world'\n",
        "s, type(s), s2, type(s2)"
      ],
      "metadata": {
        "colab": {
          "base_uri": "https://localhost:8080/"
        },
        "id": "tDrQM386r2dL",
        "outputId": "10a6b1a6-43fb-4c01-e8d0-0fbe8c3a83fe"
      },
      "execution_count": null,
      "outputs": [
        {
          "output_type": "execute_result",
          "data": {
            "text/plain": [
              "('hello', str, 'world', str)"
            ]
          },
          "metadata": {},
          "execution_count": 10
        }
      ]
    },
    {
      "cell_type": "code",
      "source": [
        "lst = [1,2,3,4]\n",
        "lst, type(lst)"
      ],
      "metadata": {
        "colab": {
          "base_uri": "https://localhost:8080/"
        },
        "id": "usnCYWOvsKYY",
        "outputId": "ef2c783a-4fff-4513-ad0a-2b23b17b0da5"
      },
      "execution_count": null,
      "outputs": [
        {
          "output_type": "execute_result",
          "data": {
            "text/plain": [
              "([1, 2, 3, 4], list)"
            ]
          },
          "metadata": {},
          "execution_count": 11
        }
      ]
    },
    {
      "cell_type": "code",
      "source": [
        "st = {1,2,3,1,2,3}\n",
        "st, type(st)"
      ],
      "metadata": {
        "colab": {
          "base_uri": "https://localhost:8080/"
        },
        "id": "khO4EVctsWMI",
        "outputId": "983464a5-590c-4224-9ec1-3516b6432a31"
      },
      "execution_count": null,
      "outputs": [
        {
          "output_type": "execute_result",
          "data": {
            "text/plain": [
              "({1, 2, 3}, set)"
            ]
          },
          "metadata": {},
          "execution_count": 14
        }
      ]
    },
    {
      "cell_type": "code",
      "source": [
        "tpl = (1,2,3)\n",
        "tpl, type(tpl)"
      ],
      "metadata": {
        "colab": {
          "base_uri": "https://localhost:8080/"
        },
        "id": "IhexRciVsayU",
        "outputId": "3d639d89-61db-42f3-9565-519f8156fd83"
      },
      "execution_count": null,
      "outputs": [
        {
          "output_type": "execute_result",
          "data": {
            "text/plain": [
              "((1, 2, 3), tuple)"
            ]
          },
          "metadata": {},
          "execution_count": 15
        }
      ]
    },
    {
      "cell_type": "code",
      "source": [
        "dt = {'a':1, 'b':2}\n",
        "dt, type(dt)"
      ],
      "metadata": {
        "colab": {
          "base_uri": "https://localhost:8080/"
        },
        "id": "9SzdVinBsfeY",
        "outputId": "3c28e0ae-d273-4435-9e33-196b7d3c8ffe"
      },
      "execution_count": null,
      "outputs": [
        {
          "output_type": "execute_result",
          "data": {
            "text/plain": [
              "({'a': 1, 'b': 2}, dict)"
            ]
          },
          "metadata": {},
          "execution_count": 16
        }
      ]
    },
    {
      "cell_type": "code",
      "source": [
        "a = 123\n",
        "float(a)"
      ],
      "metadata": {
        "colab": {
          "base_uri": "https://localhost:8080/"
        },
        "id": "La5ekCuLtGGr",
        "outputId": "f663dae0-5e64-4ec9-f790-86661fb96e96"
      },
      "execution_count": null,
      "outputs": [
        {
          "output_type": "execute_result",
          "data": {
            "text/plain": [
              "123.0"
            ]
          },
          "metadata": {},
          "execution_count": 17
        }
      ]
    },
    {
      "cell_type": "code",
      "source": [
        "int(3.14)"
      ],
      "metadata": {
        "colab": {
          "base_uri": "https://localhost:8080/"
        },
        "id": "iGaZn65jtMLN",
        "outputId": "a0a1a2f9-21bc-483f-91d3-33210b3d68a0"
      },
      "execution_count": null,
      "outputs": [
        {
          "output_type": "execute_result",
          "data": {
            "text/plain": [
              "3"
            ]
          },
          "metadata": {},
          "execution_count": 18
        }
      ]
    },
    {
      "cell_type": "code",
      "source": [
        "int(\"123\")"
      ],
      "metadata": {
        "colab": {
          "base_uri": "https://localhost:8080/"
        },
        "id": "gNJiIAFStQBH",
        "outputId": "a3781aa7-d9f6-40b5-b588-1f92f61ca61b"
      },
      "execution_count": null,
      "outputs": [
        {
          "output_type": "execute_result",
          "data": {
            "text/plain": [
              "123"
            ]
          },
          "metadata": {},
          "execution_count": 19
        }
      ]
    },
    {
      "cell_type": "code",
      "source": [
        "float(\"3.14\")"
      ],
      "metadata": {
        "colab": {
          "base_uri": "https://localhost:8080/"
        },
        "id": "glgKZ57DtU1i",
        "outputId": "1b949761-6d4c-431f-bd6d-657a2d70e159"
      },
      "execution_count": null,
      "outputs": [
        {
          "output_type": "execute_result",
          "data": {
            "text/plain": [
              "3.14"
            ]
          },
          "metadata": {},
          "execution_count": 20
        }
      ]
    },
    {
      "cell_type": "code",
      "source": [
        "int(True), int(False)"
      ],
      "metadata": {
        "colab": {
          "base_uri": "https://localhost:8080/"
        },
        "id": "vYoRQcOgtWeb",
        "outputId": "aca27257-7880-4b36-bd01-5f974a1ff9ab"
      },
      "execution_count": null,
      "outputs": [
        {
          "output_type": "execute_result",
          "data": {
            "text/plain": [
              "(1, 0)"
            ]
          },
          "metadata": {},
          "execution_count": 21
        }
      ]
    },
    {
      "cell_type": "code",
      "source": [
        "bool(1), bool(0)"
      ],
      "metadata": {
        "colab": {
          "base_uri": "https://localhost:8080/"
        },
        "id": "BSRjS0D-thRv",
        "outputId": "4bb8a8fa-7203-410e-f4e0-6fe175c66713"
      },
      "execution_count": null,
      "outputs": [
        {
          "output_type": "execute_result",
          "data": {
            "text/plain": [
              "(True, False)"
            ]
          },
          "metadata": {},
          "execution_count": 22
        }
      ]
    },
    {
      "cell_type": "code",
      "source": [
        "bool(2), bool(-1), bool(0.0000000000001)"
      ],
      "metadata": {
        "colab": {
          "base_uri": "https://localhost:8080/"
        },
        "id": "ksoIEiFKtmYv",
        "outputId": "6afa88b9-afe3-4a87-aa0d-53757052e0d2"
      },
      "execution_count": null,
      "outputs": [
        {
          "output_type": "execute_result",
          "data": {
            "text/plain": [
              "(True, True, True)"
            ]
          },
          "metadata": {},
          "execution_count": 25
        }
      ]
    },
    {
      "cell_type": "code",
      "source": [
        "bool(0), bool(0.0), bool(0j), bool(\"\"), bool([]), bool(()), bool({})"
      ],
      "metadata": {
        "colab": {
          "base_uri": "https://localhost:8080/"
        },
        "id": "DziPSWjbtop3",
        "outputId": "aea54a04-b9b2-4061-c9ff-2ee16b2482ea"
      },
      "execution_count": null,
      "outputs": [
        {
          "output_type": "execute_result",
          "data": {
            "text/plain": [
              "(False, False, False, False, False, False, False)"
            ]
          },
          "metadata": {},
          "execution_count": 26
        }
      ]
    },
    {
      "cell_type": "code",
      "source": [
        "bool(\"False\")"
      ],
      "metadata": {
        "colab": {
          "base_uri": "https://localhost:8080/"
        },
        "id": "BlZ8xrh_uM7J",
        "outputId": "df94a458-1e2a-45be-e5e1-73b5277f6084"
      },
      "execution_count": null,
      "outputs": [
        {
          "output_type": "execute_result",
          "data": {
            "text/plain": [
              "True"
            ]
          },
          "metadata": {},
          "execution_count": 27
        }
      ]
    },
    {
      "cell_type": "code",
      "source": [
        "type(None), bool(None)"
      ],
      "metadata": {
        "colab": {
          "base_uri": "https://localhost:8080/"
        },
        "id": "XOtdU6NCuWv5",
        "outputId": "e66e4580-57c1-49a1-e0b8-993edf254a74"
      },
      "execution_count": null,
      "outputs": [
        {
          "output_type": "execute_result",
          "data": {
            "text/plain": [
              "(NoneType, False)"
            ]
          },
          "metadata": {},
          "execution_count": 29
        }
      ]
    },
    {
      "cell_type": "code",
      "source": [],
      "metadata": {
        "id": "mGE1XwdHuYe_"
      },
      "execution_count": null,
      "outputs": []
    },
    {
      "cell_type": "markdown",
      "metadata": {
        "id": "qHlMZ1UgzTjS"
      },
      "source": [
        "## 연산자"
      ]
    },
    {
      "cell_type": "code",
      "source": [
        "4 + 2.0"
      ],
      "metadata": {
        "id": "6_KdH33CLlZk",
        "colab": {
          "base_uri": "https://localhost:8080/"
        },
        "outputId": "78be1e5e-9cad-4629-c8f7-d256b20f236c"
      },
      "execution_count": null,
      "outputs": [
        {
          "output_type": "execute_result",
          "data": {
            "text/plain": [
              "6.0"
            ]
          },
          "metadata": {},
          "execution_count": 31
        }
      ]
    },
    {
      "cell_type": "code",
      "source": [
        "4 / 2, 4//2"
      ],
      "metadata": {
        "colab": {
          "base_uri": "https://localhost:8080/"
        },
        "id": "NjuDEye5v8N4",
        "outputId": "255ed38a-dbf1-4e4d-e433-1315350af89f"
      },
      "execution_count": null,
      "outputs": [
        {
          "output_type": "execute_result",
          "data": {
            "text/plain": [
              "(2.0, 2)"
            ]
          },
          "metadata": {},
          "execution_count": 37
        }
      ]
    },
    {
      "cell_type": "code",
      "source": [
        "7/4, 7//4"
      ],
      "metadata": {
        "colab": {
          "base_uri": "https://localhost:8080/"
        },
        "id": "tZjvDslcwl0Q",
        "outputId": "dc4b8587-730b-48b2-b702-05b71c1d6876"
      },
      "execution_count": null,
      "outputs": [
        {
          "output_type": "execute_result",
          "data": {
            "text/plain": [
              "(1.75, 1)"
            ]
          },
          "metadata": {},
          "execution_count": 36
        }
      ]
    },
    {
      "cell_type": "code",
      "source": [
        "s = \"hello world\"\n",
        "s[4//2]"
      ],
      "metadata": {
        "colab": {
          "base_uri": "https://localhost:8080/",
          "height": 36
        },
        "id": "6QLyDF9LwPAS",
        "outputId": "9f3b270c-c0f5-48eb-defa-2fc8f077ceed"
      },
      "execution_count": null,
      "outputs": [
        {
          "output_type": "execute_result",
          "data": {
            "text/plain": [
              "'l'"
            ],
            "application/vnd.google.colaboratory.intrinsic+json": {
              "type": "string"
            }
          },
          "metadata": {},
          "execution_count": 38
        }
      ]
    },
    {
      "cell_type": "code",
      "source": [
        "i =10\n",
        "++i\n",
        "i += 1"
      ],
      "metadata": {
        "id": "TodhOtZyw0j-"
      },
      "execution_count": null,
      "outputs": []
    },
    {
      "cell_type": "code",
      "source": [
        "a = 10\n",
        "b = 20 \n",
        "a == 20"
      ],
      "metadata": {
        "colab": {
          "base_uri": "https://localhost:8080/"
        },
        "id": "Z0QofGZaz5rY",
        "outputId": "a3014c9e-1f17-4531-9a15-ce01ba1523e8"
      },
      "execution_count": null,
      "outputs": [
        {
          "output_type": "execute_result",
          "data": {
            "text/plain": [
              "False"
            ]
          },
          "metadata": {},
          "execution_count": 2
        }
      ]
    },
    {
      "cell_type": "code",
      "source": [
        "a is b"
      ],
      "metadata": {
        "colab": {
          "base_uri": "https://localhost:8080/"
        },
        "id": "Q5bsscDOz7yj",
        "outputId": "dd98cf99-f73f-4292-e67b-868a4cb75a0a"
      },
      "execution_count": null,
      "outputs": [
        {
          "output_type": "execute_result",
          "data": {
            "text/plain": [
              "(True, 11256352, 11256352)"
            ]
          },
          "metadata": {},
          "execution_count": 6
        }
      ]
    },
    {
      "cell_type": "code",
      "source": [
        "b = 10\n",
        "a == b"
      ],
      "metadata": {
        "colab": {
          "base_uri": "https://localhost:8080/"
        },
        "id": "uH-epNE9z-71",
        "outputId": "12fd8efa-2655-4e92-f708-286e084259b8"
      },
      "execution_count": null,
      "outputs": [
        {
          "output_type": "execute_result",
          "data": {
            "text/plain": [
              "True"
            ]
          },
          "metadata": {},
          "execution_count": 4
        }
      ]
    },
    {
      "cell_type": "code",
      "source": [
        "a is b"
      ],
      "metadata": {
        "colab": {
          "base_uri": "https://localhost:8080/"
        },
        "id": "ImH4oZzt0B3i",
        "outputId": "437ffc4b-da17-44ff-8621-8d7941810e0f"
      },
      "execution_count": null,
      "outputs": [
        {
          "output_type": "execute_result",
          "data": {
            "text/plain": [
              "True"
            ]
          },
          "metadata": {},
          "execution_count": 5
        }
      ]
    },
    {
      "cell_type": "code",
      "source": [
        "True and True"
      ],
      "metadata": {
        "colab": {
          "base_uri": "https://localhost:8080/"
        },
        "id": "oPHez39n1C0Q",
        "outputId": "930aa11c-3415-4000-b119-6153d20d9a8b"
      },
      "execution_count": null,
      "outputs": [
        {
          "output_type": "execute_result",
          "data": {
            "text/plain": [
              "True"
            ]
          },
          "metadata": {},
          "execution_count": 7
        }
      ]
    },
    {
      "cell_type": "code",
      "source": [
        "2 and 3"
      ],
      "metadata": {
        "colab": {
          "base_uri": "https://localhost:8080/"
        },
        "id": "Qbpy4mxR1mtN",
        "outputId": "16663f4a-897c-4abd-fd3e-be36d063568c"
      },
      "execution_count": null,
      "outputs": [
        {
          "output_type": "execute_result",
          "data": {
            "text/plain": [
              "3"
            ]
          },
          "metadata": {},
          "execution_count": 8
        }
      ]
    },
    {
      "cell_type": "code",
      "source": [
        "2 & 3"
      ],
      "metadata": {
        "colab": {
          "base_uri": "https://localhost:8080/"
        },
        "id": "GAx_ru4a1oV4",
        "outputId": "dbe0c25d-8fdd-43db-f988-a43afb09e740"
      },
      "execution_count": null,
      "outputs": [
        {
          "output_type": "execute_result",
          "data": {
            "text/plain": [
              "2"
            ]
          },
          "metadata": {},
          "execution_count": 9
        }
      ]
    },
    {
      "cell_type": "markdown",
      "metadata": {
        "id": "adBNaYkti4Wz"
      },
      "source": [
        "## 문자열"
      ]
    },
    {
      "cell_type": "code",
      "source": [
        "#\"hello\" + 123\n",
        "\"hello\" * 5"
      ],
      "metadata": {
        "id": "MhC77bdGLnRI",
        "colab": {
          "base_uri": "https://localhost:8080/",
          "height": 35
        },
        "outputId": "69501161-5026-41c8-d357-4fc8754056e7"
      },
      "execution_count": null,
      "outputs": [
        {
          "output_type": "execute_result",
          "data": {
            "text/plain": [
              "'hellohellohellohellohello'"
            ],
            "application/vnd.google.colaboratory.intrinsic+json": {
              "type": "string"
            }
          },
          "metadata": {},
          "execution_count": 11
        }
      ]
    },
    {
      "cell_type": "code",
      "source": [
        "\"h\" in \"hello\"\n",
        "len(\"hello\")"
      ],
      "metadata": {
        "colab": {
          "base_uri": "https://localhost:8080/"
        },
        "id": "6E9omN1_3ynQ",
        "outputId": "1fc8cccc-32be-4fb8-f33d-b61f0cb6e733"
      },
      "execution_count": null,
      "outputs": [
        {
          "output_type": "execute_result",
          "data": {
            "text/plain": [
              "5"
            ]
          },
          "metadata": {},
          "execution_count": 20
        }
      ]
    },
    {
      "cell_type": "code",
      "source": [
        "s = 'python'\n",
        "s[0]\n",
        "len(s) -1\n",
        "s[-1]"
      ],
      "metadata": {
        "colab": {
          "base_uri": "https://localhost:8080/",
          "height": 35
        },
        "id": "AfcsO10S4WVx",
        "outputId": "56391077-7eaf-4e26-8fcf-ff45ca989013"
      },
      "execution_count": null,
      "outputs": [
        {
          "output_type": "execute_result",
          "data": {
            "text/plain": [
              "'n'"
            ],
            "application/vnd.google.colaboratory.intrinsic+json": {
              "type": "string"
            }
          },
          "metadata": {},
          "execution_count": 21
        }
      ]
    },
    {
      "cell_type": "code",
      "source": [
        "s[1:4]"
      ],
      "metadata": {
        "colab": {
          "base_uri": "https://localhost:8080/",
          "height": 35
        },
        "id": "yeuJUneO442P",
        "outputId": "eece75b2-825d-4fea-e51f-114dcf6e7879"
      },
      "execution_count": null,
      "outputs": [
        {
          "output_type": "execute_result",
          "data": {
            "text/plain": [
              "'yth'"
            ],
            "application/vnd.google.colaboratory.intrinsic+json": {
              "type": "string"
            }
          },
          "metadata": {},
          "execution_count": 22
        }
      ]
    },
    {
      "cell_type": "markdown",
      "metadata": {
        "id": "hEtTPLyphGzH"
      },
      "source": [
        "### 연습문제"
      ]
    },
    {
      "cell_type": "code",
      "metadata": {
        "colab": {
          "base_uri": "https://localhost:8080/"
        },
        "id": "HdstRgDGhKdy",
        "outputId": "e5797561-86eb-4f3d-89c7-4aad34dadef0"
      },
      "source": [
        "ssn = '881225-1234567'\n",
        "year = ssn[:2]\n",
        "month = ssn[2:4]\n",
        "day = ssn[4:6]\n",
        "gender = ssn[-7]\n",
        "print(\"생년월일\", year, month, day, \"성별\", gender)"
      ],
      "execution_count": null,
      "outputs": [
        {
          "output_type": "stream",
          "name": "stdout",
          "text": [
            "생년월일 88 12 25 성별 1\n"
          ]
        }
      ]
    },
    {
      "cell_type": "markdown",
      "metadata": {
        "id": "H8qcDP7-uwiw"
      },
      "source": [
        "## 문자열 메서드"
      ]
    },
    {
      "cell_type": "code",
      "source": [
        "s.find('t')\n",
        "\n",
        "\"010-1234-5678\".split('-')\n",
        "'-'.join(['010', '1234', '5678'])"
      ],
      "metadata": {
        "id": "T80K_ZAOLuur",
        "colab": {
          "base_uri": "https://localhost:8080/",
          "height": 35
        },
        "outputId": "e05477e3-85c6-4be1-e00a-ce6ef3c8c75e"
      },
      "execution_count": null,
      "outputs": [
        {
          "output_type": "execute_result",
          "data": {
            "text/plain": [
              "'010-1234-5678'"
            ],
            "application/vnd.google.colaboratory.intrinsic+json": {
              "type": "string"
            }
          },
          "metadata": {},
          "execution_count": 29
        }
      ]
    },
    {
      "cell_type": "markdown",
      "metadata": {
        "id": "PTHon7kyuyhY"
      },
      "source": [
        "## 문자열 포맷팅"
      ]
    },
    {
      "cell_type": "code",
      "source": [
        "name = \"lee\"\n",
        "age = 27\n",
        "print(\"My name is %s, I am %d years old\" % (name, age))"
      ],
      "metadata": {
        "id": "hkYyE1bzLynn",
        "colab": {
          "base_uri": "https://localhost:8080/"
        },
        "outputId": "f3f7d76e-a6ad-4d7a-eff3-e9d0e1a55ed0"
      },
      "execution_count": null,
      "outputs": [
        {
          "output_type": "stream",
          "name": "stdout",
          "text": [
            "My name is lee, I am 27 years old\n"
          ]
        }
      ]
    },
    {
      "cell_type": "code",
      "source": [
        "print(\"price : %10.2f, count %3d\" % (12.34567, 10))\n",
        "print(\"price : %10.2f, count %3d\" % (12345.67, 100))"
      ],
      "metadata": {
        "colab": {
          "base_uri": "https://localhost:8080/"
        },
        "id": "CuY7JLE29IY4",
        "outputId": "1ecae95b-9ac7-4c9a-e5a8-77b2b652fcec"
      },
      "execution_count": null,
      "outputs": [
        {
          "output_type": "stream",
          "name": "stdout",
          "text": [
            "price :      12.35, count  10\n",
            "price :   12345.67, count 100\n"
          ]
        }
      ]
    },
    {
      "cell_type": "code",
      "source": [
        "\"My name is {} and I am {} years old\".format(name, age)"
      ],
      "metadata": {
        "colab": {
          "base_uri": "https://localhost:8080/",
          "height": 35
        },
        "id": "3l8U7ck8O40-",
        "outputId": "57451a70-b83c-4104-ab04-23f1045c9f58"
      },
      "execution_count": null,
      "outputs": [
        {
          "output_type": "execute_result",
          "data": {
            "text/plain": [
              "'My name is lee and I am 27 years old'"
            ],
            "application/vnd.google.colaboratory.intrinsic+json": {
              "type": "string"
            }
          },
          "metadata": {},
          "execution_count": 43
        }
      ]
    },
    {
      "cell_type": "code",
      "source": [
        "\"My name is {1} and I am {0} years old\".format(age, name)"
      ],
      "metadata": {
        "colab": {
          "base_uri": "https://localhost:8080/",
          "height": 35
        },
        "id": "9isGT5RPPUna",
        "outputId": "cd205430-cc69-49bd-ee67-0d260d382884"
      },
      "execution_count": null,
      "outputs": [
        {
          "output_type": "execute_result",
          "data": {
            "text/plain": [
              "'My name is lee and I am 27 years old'"
            ],
            "application/vnd.google.colaboratory.intrinsic+json": {
              "type": "string"
            }
          },
          "metadata": {},
          "execution_count": 44
        }
      ]
    },
    {
      "cell_type": "code",
      "source": [
        "\"My name is {a} and I am {b:5} years old\".format(b = age, a = name)"
      ],
      "metadata": {
        "colab": {
          "base_uri": "https://localhost:8080/",
          "height": 35
        },
        "id": "upHIjZu2Pjmg",
        "outputId": "a8dcbb79-c2f7-426c-e946-cb49dd1738cf"
      },
      "execution_count": null,
      "outputs": [
        {
          "output_type": "execute_result",
          "data": {
            "text/plain": [
              "'My name is lee and I am    27 years old'"
            ],
            "application/vnd.google.colaboratory.intrinsic+json": {
              "type": "string"
            }
          },
          "metadata": {},
          "execution_count": 46
        }
      ]
    },
    {
      "cell_type": "code",
      "source": [
        "f\"My name is {name} and I am {age:5d} years old\""
      ],
      "metadata": {
        "colab": {
          "base_uri": "https://localhost:8080/",
          "height": 35
        },
        "id": "fz-DxRJMP8uD",
        "outputId": "80ef0c25-17d6-4573-b78e-15e6b3e2b31b"
      },
      "execution_count": null,
      "outputs": [
        {
          "output_type": "execute_result",
          "data": {
            "text/plain": [
              "'My name is lee and I am    27 years old'"
            ],
            "application/vnd.google.colaboratory.intrinsic+json": {
              "type": "string"
            }
          },
          "metadata": {},
          "execution_count": 49
        }
      ]
    },
    {
      "cell_type": "markdown",
      "metadata": {
        "id": "5ETlKWfvzct0"
      },
      "source": [
        "## 입출력"
      ]
    },
    {
      "cell_type": "code",
      "source": [
        "print(\"hello\", 10, 3.14)"
      ],
      "metadata": {
        "id": "BeuQP_ZhL0M_",
        "colab": {
          "base_uri": "https://localhost:8080/"
        },
        "outputId": "ac74e229-725d-4e52-ab51-a64fbbc4b35f"
      },
      "execution_count": null,
      "outputs": [
        {
          "output_type": "stream",
          "name": "stdout",
          "text": [
            "hello 10 3.14\n"
          ]
        }
      ]
    },
    {
      "cell_type": "code",
      "source": [
        "print(\"hello\", 10, 3.14, sep=\",\")"
      ],
      "metadata": {
        "colab": {
          "base_uri": "https://localhost:8080/"
        },
        "id": "jwViwNQXQmb0",
        "outputId": "ee68662c-649c-4703-a94c-d4055a1bc022"
      },
      "execution_count": null,
      "outputs": [
        {
          "output_type": "stream",
          "name": "stdout",
          "text": [
            "hello,10,3.14\n"
          ]
        }
      ]
    },
    {
      "cell_type": "code",
      "source": [
        "print(\"hello\", end=\" \")\n",
        "print(\"world\")"
      ],
      "metadata": {
        "colab": {
          "base_uri": "https://localhost:8080/"
        },
        "id": "npQ8ANhBQrX7",
        "outputId": "89a6393a-16cf-497f-9ab5-5831de064c0f"
      },
      "execution_count": null,
      "outputs": [
        {
          "output_type": "stream",
          "name": "stdout",
          "text": [
            "hello world\n"
          ]
        }
      ]
    },
    {
      "cell_type": "code",
      "source": [
        "name = input(\"이름을 입력하세요: \")\n",
        "print(\"당신의 이름은 %s 이군요\" %name)"
      ],
      "metadata": {
        "colab": {
          "base_uri": "https://localhost:8080/"
        },
        "id": "CZp9tqWgRG6Y",
        "outputId": "bf0644c9-9fa2-4692-fc9a-95b8a52141a1"
      },
      "execution_count": null,
      "outputs": [
        {
          "output_type": "stream",
          "name": "stdout",
          "text": [
            "이름을 입력하세요: 송원준\n",
            "당신의 이름은 송원준 이군요\n"
          ]
        }
      ]
    },
    {
      "cell_type": "code",
      "source": [
        "age = input(\"나이를 입력하세요:\")\n",
        "print(\"100세까지 %d년 남았습니다.\" %(100-int(age)))"
      ],
      "metadata": {
        "colab": {
          "base_uri": "https://localhost:8080/"
        },
        "id": "zzGaIIudRqMs",
        "outputId": "8172d581-fb31-4442-83f8-689a3a9a409e"
      },
      "execution_count": null,
      "outputs": [
        {
          "output_type": "stream",
          "name": "stdout",
          "text": [
            "나이를 입력하세요:27\n",
            "100세까지 73년 남았습니다.\n"
          ]
        }
      ]
    },
    {
      "cell_type": "markdown",
      "metadata": {
        "id": "d0q6yCydzet1"
      },
      "source": [
        "# 3.자료구조 "
      ]
    },
    {
      "cell_type": "markdown",
      "metadata": {
        "id": "ZbRwcM3jziY-"
      },
      "source": [
        "## List"
      ]
    },
    {
      "cell_type": "code",
      "source": [
        "a = {1,2,3,4}\n",
        "a"
      ],
      "metadata": {
        "id": "jAJXZJ5QL5xX",
        "colab": {
          "base_uri": "https://localhost:8080/"
        },
        "outputId": "8212d94a-d8f3-439e-83bc-32a4e578fadf"
      },
      "execution_count": null,
      "outputs": [
        {
          "output_type": "execute_result",
          "data": {
            "text/plain": [
              "{1, 2, 3, 4}"
            ]
          },
          "metadata": {},
          "execution_count": 60
        }
      ]
    },
    {
      "cell_type": "code",
      "source": [
        "b = [3, 14, \"hello\", [10,20,30]]\n",
        "b"
      ],
      "metadata": {
        "colab": {
          "base_uri": "https://localhost:8080/"
        },
        "id": "6kOPgfLgSgWS",
        "outputId": "bc74b088-fc4f-44fd-b62b-72b0dca87e24"
      },
      "execution_count": null,
      "outputs": [
        {
          "output_type": "execute_result",
          "data": {
            "text/plain": [
              "[3, 14, 'hello', [10, 20, 30]]"
            ]
          },
          "metadata": {},
          "execution_count": 65
        }
      ]
    },
    {
      "cell_type": "code",
      "source": [
        "b[2][1]"
      ],
      "metadata": {
        "colab": {
          "base_uri": "https://localhost:8080/",
          "height": 35
        },
        "id": "FiaLU2uhS-P2",
        "outputId": "53f25c53-4710-485a-cee4-d4706d24c41f"
      },
      "execution_count": null,
      "outputs": [
        {
          "output_type": "execute_result",
          "data": {
            "text/plain": [
              "'e'"
            ],
            "application/vnd.google.colaboratory.intrinsic+json": {
              "type": "string"
            }
          },
          "metadata": {},
          "execution_count": 66
        }
      ]
    },
    {
      "cell_type": "code",
      "source": [
        "a = [1,2,3]\n",
        "a.insert(1,4)\n",
        "a"
      ],
      "metadata": {
        "colab": {
          "base_uri": "https://localhost:8080/"
        },
        "id": "8wbkoJc-TB_x",
        "outputId": "d0e36e3a-5582-4d05-ea80-3c14fcf6726b"
      },
      "execution_count": null,
      "outputs": [
        {
          "output_type": "execute_result",
          "data": {
            "text/plain": [
              "[1, 4, 2, 3]"
            ]
          },
          "metadata": {},
          "execution_count": 68
        }
      ]
    },
    {
      "cell_type": "code",
      "source": [
        "a.pop(1)"
      ],
      "metadata": {
        "colab": {
          "base_uri": "https://localhost:8080/"
        },
        "id": "ab41aswnT0dm",
        "outputId": "96aceabe-3f94-4167-bb81-964444d14771"
      },
      "execution_count": null,
      "outputs": [
        {
          "output_type": "execute_result",
          "data": {
            "text/plain": [
              "4"
            ]
          },
          "metadata": {},
          "execution_count": 69
        }
      ]
    },
    {
      "cell_type": "code",
      "source": [
        "a.remove(2)"
      ],
      "metadata": {
        "id": "huhXAc34T44T"
      },
      "execution_count": null,
      "outputs": []
    },
    {
      "cell_type": "markdown",
      "metadata": {
        "id": "RaNVJRjm086l"
      },
      "source": [
        "### 연습문제"
      ]
    },
    {
      "cell_type": "code",
      "metadata": {
        "colab": {
          "base_uri": "https://localhost:8080/"
        },
        "id": "3Y37mqVS0-b8",
        "outputId": "126c206d-240c-474b-e9c0-f9d8068a45be"
      },
      "source": [
        "score = [['math', 89], ['english']]\n",
        "score[1].append(85)\n",
        "score"
      ],
      "execution_count": null,
      "outputs": [
        {
          "output_type": "execute_result",
          "data": {
            "text/plain": [
              "[['math', 89], ['english', 85]]"
            ]
          },
          "metadata": {},
          "execution_count": 83
        }
      ]
    },
    {
      "cell_type": "code",
      "metadata": {
        "colab": {
          "base_uri": "https://localhost:8080/"
        },
        "id": "MjENMC8h1IeD",
        "outputId": "3a25b645-cadc-408a-e25f-400a751b1a99"
      },
      "source": [
        "lst = [1,3,5,4,2]\n",
        "#lst[::-1]\n",
        "lst.reverse()\n",
        "lst"
      ],
      "execution_count": null,
      "outputs": [
        {
          "output_type": "execute_result",
          "data": {
            "text/plain": [
              "[2, 4, 5, 3, 1]"
            ]
          },
          "metadata": {},
          "execution_count": 84
        }
      ]
    },
    {
      "cell_type": "code",
      "metadata": {
        "colab": {
          "base_uri": "https://localhost:8080/",
          "height": 35
        },
        "id": "jCgIudPV1N7O",
        "outputId": "8eab0983-53e2-447f-ffb9-218f1bcec3a8"
      },
      "source": [
        "' '.join(['Python', 'is', 'too', 'interesting'])"
      ],
      "execution_count": null,
      "outputs": [
        {
          "output_type": "execute_result",
          "data": {
            "text/plain": [
              "'Python is too interesting'"
            ],
            "application/vnd.google.colaboratory.intrinsic+json": {
              "type": "string"
            }
          },
          "metadata": {},
          "execution_count": 86
        }
      ]
    },
    {
      "cell_type": "markdown",
      "metadata": {
        "id": "m9o2uP3azxBe"
      },
      "source": [
        "## Tuple"
      ]
    },
    {
      "cell_type": "code",
      "source": [
        "t = (1,2,3,4)\n",
        "t"
      ],
      "metadata": {
        "id": "WilLOV3HL_qH",
        "colab": {
          "base_uri": "https://localhost:8080/"
        },
        "outputId": "11c47118-3a0f-4f99-dbe5-686c910c9bc8"
      },
      "execution_count": null,
      "outputs": [
        {
          "output_type": "execute_result",
          "data": {
            "text/plain": [
              "(1, 2, 3, 4)"
            ]
          },
          "metadata": {},
          "execution_count": 91
        }
      ]
    },
    {
      "cell_type": "code",
      "source": [
        "#t2 = (10,20)\n",
        "t2 = (10,)\n",
        "t2, type(t2)"
      ],
      "metadata": {
        "colab": {
          "base_uri": "https://localhost:8080/"
        },
        "id": "6khv1ekbWLJp",
        "outputId": "88f6b9cf-5a3f-4a3b-e157-e7be8be88bc5"
      },
      "execution_count": null,
      "outputs": [
        {
          "output_type": "execute_result",
          "data": {
            "text/plain": [
              "((10,), tuple)"
            ]
          },
          "metadata": {},
          "execution_count": 94
        }
      ]
    },
    {
      "cell_type": "code",
      "source": [
        "t3 = 10,20,30\n",
        "t3, type(t3)"
      ],
      "metadata": {
        "colab": {
          "base_uri": "https://localhost:8080/"
        },
        "id": "b01AgcOKXFkM",
        "outputId": "f4f7109a-79c9-4624-a85e-ad3f3206ceaa"
      },
      "execution_count": null,
      "outputs": [
        {
          "output_type": "execute_result",
          "data": {
            "text/plain": [
              "((10, 20, 30), tuple)"
            ]
          },
          "metadata": {},
          "execution_count": 95
        }
      ]
    },
    {
      "cell_type": "code",
      "source": [
        "lst = [10, 20, \"hello\", [1,2,3], (10,20,30)]\n",
        "lst"
      ],
      "metadata": {
        "colab": {
          "base_uri": "https://localhost:8080/"
        },
        "id": "XsZh38plXMa8",
        "outputId": "63d404fa-3cb2-4179-db9b-679163390191"
      },
      "execution_count": null,
      "outputs": [
        {
          "output_type": "execute_result",
          "data": {
            "text/plain": [
              "[10, 20, 'hello', [1, 2, 3], (10, 20, 30)]"
            ]
          },
          "metadata": {},
          "execution_count": 96
        }
      ]
    },
    {
      "cell_type": "code",
      "source": [
        "a,b,c = 10,20,30\n",
        "print(a,b,c)"
      ],
      "metadata": {
        "colab": {
          "base_uri": "https://localhost:8080/"
        },
        "id": "GnlNOY7CXtZH",
        "outputId": "25d6255d-940d-4132-a32b-89ba02a4464c"
      },
      "execution_count": null,
      "outputs": [
        {
          "output_type": "stream",
          "name": "stdout",
          "text": [
            "10 20 30\n"
          ]
        }
      ]
    },
    {
      "cell_type": "code",
      "source": [
        "coffee = \"beer\"\n",
        "beer = \"coffee\"\n",
        "coffee, beer"
      ],
      "metadata": {
        "colab": {
          "base_uri": "https://localhost:8080/"
        },
        "id": "sqbsCvLhXwnB",
        "outputId": "cd85410d-c3d7-493f-f8b4-4d888a13779d"
      },
      "execution_count": null,
      "outputs": [
        {
          "output_type": "execute_result",
          "data": {
            "text/plain": [
              "('beer', 'coffee')"
            ]
          },
          "metadata": {},
          "execution_count": 102
        }
      ]
    },
    {
      "cell_type": "code",
      "source": [
        "# temp = coffee\n",
        "# coffee = beer\n",
        "# beer = temp\n",
        "# coffee, beer\n",
        "coffee, beer = beer, coffee\n",
        "coffee, beer"
      ],
      "metadata": {
        "colab": {
          "base_uri": "https://localhost:8080/"
        },
        "id": "oOH7bqoJYG4o",
        "outputId": "0e583fb9-10a3-4ede-afed-31fb5258cc03"
      },
      "execution_count": null,
      "outputs": [
        {
          "output_type": "execute_result",
          "data": {
            "text/plain": [
              "('coffee', 'beer')"
            ]
          },
          "metadata": {},
          "execution_count": 103
        }
      ]
    },
    {
      "cell_type": "code",
      "source": [
        "t = (10,20,30)\n",
        "lst = list(t)\n",
        "lst[1] = 200\n",
        "t = tuple(lst)\n",
        "t"
      ],
      "metadata": {
        "colab": {
          "base_uri": "https://localhost:8080/"
        },
        "id": "_9utE4f1Y7oe",
        "outputId": "1705338f-50eb-4e67-f3f5-297c7a8c0000"
      },
      "execution_count": null,
      "outputs": [
        {
          "output_type": "execute_result",
          "data": {
            "text/plain": [
              "(10, 200, 30)"
            ]
          },
          "metadata": {},
          "execution_count": 106
        }
      ]
    },
    {
      "cell_type": "code",
      "source": [],
      "metadata": {
        "id": "hU9af1XKa5Ox"
      },
      "execution_count": null,
      "outputs": []
    },
    {
      "cell_type": "markdown",
      "metadata": {
        "id": "CUwEMGjSjl6Q"
      },
      "source": [
        "### 연습문제"
      ]
    },
    {
      "cell_type": "code",
      "metadata": {
        "colab": {
          "base_uri": "https://localhost:8080/"
        },
        "id": "uTciImTzjlpR",
        "outputId": "6870ef45-cf9c-4391-d837-2998b7dfaf09"
      },
      "source": [
        "lst = [1,1,2,2,3,4,4,5,6,7,2]\n",
        "lst = set(lst)\n",
        "list(lst).sort()\n",
        "lst"
      ],
      "execution_count": null,
      "outputs": [
        {
          "output_type": "execute_result",
          "data": {
            "text/plain": [
              "{1, 2, 3, 4, 5, 6, 7}"
            ]
          },
          "metadata": {},
          "execution_count": 138
        }
      ]
    },
    {
      "cell_type": "markdown",
      "metadata": {
        "id": "WP_uHpUN0soW"
      },
      "source": [
        "##Set"
      ]
    },
    {
      "cell_type": "code",
      "source": [
        "st = {1,2,3,1,2,3}\n",
        "st.add(4)\n",
        "st\n",
        "st.update([5,6,7,8])\n",
        "st.discard(8)\n",
        "st.discard(100)\n",
        "#st.remove(100)"
      ],
      "metadata": {
        "id": "ew4YtCzQZO0O"
      },
      "execution_count": null,
      "outputs": []
    },
    {
      "cell_type": "code",
      "source": [
        "a = {1,2,3}\n",
        "b = {2,3,4}\n",
        "a & b\n",
        "a | b\n",
        "a - b"
      ],
      "metadata": {
        "colab": {
          "base_uri": "https://localhost:8080/"
        },
        "id": "vKMNKLZWauev",
        "outputId": "8691c601-1670-4d71-87fe-fa46dc65d6b2"
      },
      "execution_count": null,
      "outputs": [
        {
          "output_type": "execute_result",
          "data": {
            "text/plain": [
              "{1}"
            ]
          },
          "metadata": {},
          "execution_count": 117
        }
      ]
    },
    {
      "cell_type": "markdown",
      "metadata": {
        "id": "dk78db0E0v6u"
      },
      "source": [
        "### 연습문제"
      ]
    },
    {
      "cell_type": "code",
      "source": [
        "song = \"yesterday All my trouble seemed so far away Now it looks as though they're here to stay Oh, I believe in yesterday\""
      ],
      "metadata": {
        "id": "vUU9w4tqseBK"
      },
      "execution_count": null,
      "outputs": []
    },
    {
      "cell_type": "code",
      "source": [
        "len(set(song.lower().split(\" \")))"
      ],
      "metadata": {
        "id": "XJwGhUklMG8Q",
        "colab": {
          "base_uri": "https://localhost:8080/"
        },
        "outputId": "40c6254f-9f6e-41cb-b28a-dff1d6b65cf7"
      },
      "execution_count": null,
      "outputs": [
        {
          "output_type": "execute_result",
          "data": {
            "text/plain": [
              "21"
            ]
          },
          "metadata": {},
          "execution_count": 123
        }
      ]
    },
    {
      "cell_type": "markdown",
      "metadata": {
        "id": "yN0s3H2M0yZ2"
      },
      "source": [
        "## Dict"
      ]
    },
    {
      "cell_type": "code",
      "source": [],
      "metadata": {
        "id": "lwRkLskZMJFP"
      },
      "execution_count": null,
      "outputs": []
    },
    {
      "cell_type": "markdown",
      "metadata": {
        "id": "HMgOKh6izA_3"
      },
      "source": [
        "### 연습문제"
      ]
    },
    {
      "cell_type": "code",
      "metadata": {
        "colab": {
          "base_uri": "https://localhost:8080/"
        },
        "id": "XkfDXT18ytnA",
        "outputId": "08d4f75f-7573-4bb4-9a34-bf56ebb95e4f"
      },
      "source": [
        "dic = {'A':90, 'B':80, 'C':70}\n"
      ],
      "execution_count": null,
      "outputs": [
        {
          "output_type": "stream",
          "text": [
            "80\n",
            "{'A': 90, 'C': 70}\n"
          ],
          "name": "stdout"
        }
      ]
    },
    {
      "cell_type": "markdown",
      "metadata": {
        "id": "Reuh9MttzEkh"
      },
      "source": [
        "# 4.제어문 "
      ]
    },
    {
      "cell_type": "markdown",
      "metadata": {
        "id": "LVTNaYalzGg7"
      },
      "source": [
        "## if 문 "
      ]
    },
    {
      "cell_type": "code",
      "source": [
        "a = 4\n",
        "if a > 5:\n",
        "  print(\"bigger\")\n",
        "elif a <= 3:\n",
        "  print(\"333\")\n",
        "else:\n",
        "  print(\"444\")"
      ],
      "metadata": {
        "id": "tspFmvZ-MM6X",
        "colab": {
          "base_uri": "https://localhost:8080/"
        },
        "outputId": "cf9ef77b-0ad1-40ac-a175-6dc1db9a074c"
      },
      "execution_count": null,
      "outputs": [
        {
          "output_type": "stream",
          "name": "stdout",
          "text": [
            "444\n"
          ]
        }
      ]
    },
    {
      "cell_type": "markdown",
      "metadata": {
        "id": "tUqxA52F7Ldc"
      },
      "source": [
        "### 연습문제 - 학점"
      ]
    },
    {
      "cell_type": "code",
      "metadata": {
        "colab": {
          "base_uri": "https://localhost:8080/"
        },
        "id": "-x_XOdW-7NPu",
        "outputId": "b065b73e-3083-4796-f7d0-4605158b1ed7"
      },
      "source": [
        "score = input(\"Insert your score:\")\n"
      ],
      "execution_count": null,
      "outputs": [
        {
          "output_type": "stream",
          "text": [
            "Insert your score:95\n",
            "Your credit is A\n"
          ],
          "name": "stdout"
        }
      ]
    },
    {
      "cell_type": "markdown",
      "source": [
        "### 3항 연산자"
      ],
      "metadata": {
        "id": "Yi0653tpMTPw"
      }
    },
    {
      "cell_type": "code",
      "source": [
        "a = 10\n",
        "if a > 5:\n",
        "  b = 20\n",
        "else:\n",
        "  b = 30\n",
        "b\n",
        "\n",
        "b = 20 if a > 5 else 30\n",
        "b"
      ],
      "metadata": {
        "id": "_LO0gufSMZEI",
        "colab": {
          "base_uri": "https://localhost:8080/"
        },
        "outputId": "c6072e65-a1c3-471f-893e-839aa7495a4a"
      },
      "execution_count": null,
      "outputs": [
        {
          "output_type": "execute_result",
          "data": {
            "text/plain": [
              "20"
            ]
          },
          "metadata": {},
          "execution_count": 148
        }
      ]
    },
    {
      "cell_type": "markdown",
      "metadata": {
        "id": "pIGBxuoY8eFe"
      },
      "source": [
        "## while"
      ]
    },
    {
      "cell_type": "code",
      "source": [
        "i = 0\n",
        "while i < 10:\n",
        "  print(i)\n",
        "  i += 1"
      ],
      "metadata": {
        "id": "lrXuVeMIMbNo",
        "colab": {
          "base_uri": "https://localhost:8080/"
        },
        "outputId": "65282e41-4d07-453b-c3cf-c29073156abc"
      },
      "execution_count": null,
      "outputs": [
        {
          "output_type": "stream",
          "name": "stdout",
          "text": [
            "0\n",
            "1\n",
            "2\n",
            "3\n",
            "4\n",
            "5\n",
            "6\n",
            "7\n",
            "8\n",
            "9\n"
          ]
        }
      ]
    },
    {
      "cell_type": "markdown",
      "metadata": {
        "id": "fslShgFq9TaL"
      },
      "source": [
        "### 연습문제 - 별찍기"
      ]
    },
    {
      "cell_type": "code",
      "source": [],
      "metadata": {
        "id": "6DHEzXTEMcin"
      },
      "execution_count": null,
      "outputs": []
    },
    {
      "cell_type": "markdown",
      "metadata": {
        "id": "8TpCw2jFvFAu"
      },
      "source": [
        "## 연습문제 - 로또"
      ]
    },
    {
      "cell_type": "code",
      "metadata": {
        "colab": {
          "base_uri": "https://localhost:8080/"
        },
        "id": "yrP_cDvKkq-Z",
        "outputId": "008533f6-4346-455a-f3d4-439f9d71a74d"
      },
      "source": [
        "import random\n",
        "\n"
      ],
      "execution_count": null,
      "outputs": [
        {
          "output_type": "stream",
          "name": "stdout",
          "text": [
            "{5, 10, 42, 43, 45, 19}\n"
          ]
        }
      ]
    },
    {
      "cell_type": "markdown",
      "metadata": {
        "id": "BebcXq-P-G2S"
      },
      "source": [
        "## for문 "
      ]
    },
    {
      "cell_type": "code",
      "metadata": {
        "colab": {
          "base_uri": "https://localhost:8080/"
        },
        "id": "eXAPLwK0-KLX",
        "outputId": "4f29fdf6-bbe6-43b3-9180-242c5dd6cfce"
      },
      "source": [
        "animals = ['ant', 'bee', 'cat', 'dog', 'fox']\n",
        "for a in animals:\n",
        "  print(a)"
      ],
      "execution_count": null,
      "outputs": [
        {
          "output_type": "stream",
          "name": "stdout",
          "text": [
            "ant\n",
            "bee\n",
            "cat\n",
            "dog\n",
            "fox\n"
          ]
        }
      ]
    },
    {
      "cell_type": "code",
      "source": [
        "for idx in range(5):\n",
        "  print(idx, animals[idx])"
      ],
      "metadata": {
        "colab": {
          "base_uri": "https://localhost:8080/"
        },
        "id": "cYgP-ExWjnx-",
        "outputId": "be1fdecf-7530-447e-ccb2-d0238bc274fa"
      },
      "execution_count": null,
      "outputs": [
        {
          "output_type": "stream",
          "name": "stdout",
          "text": [
            "0 ant\n",
            "1 bee\n",
            "2 cat\n",
            "3 dog\n",
            "4 fox\n"
          ]
        }
      ]
    },
    {
      "cell_type": "code",
      "source": [
        "list(enumerate(['a','b','c','d']))"
      ],
      "metadata": {
        "id": "QXlCQFfZMkwo",
        "colab": {
          "base_uri": "https://localhost:8080/"
        },
        "outputId": "75ef8d9c-dcc8-4210-c080-28e53dc8739c"
      },
      "execution_count": null,
      "outputs": [
        {
          "output_type": "execute_result",
          "data": {
            "text/plain": [
              "[(0, 'a'), (1, 'b'), (2, 'c'), (3, 'd')]"
            ]
          },
          "metadata": {},
          "execution_count": 157
        }
      ]
    },
    {
      "cell_type": "code",
      "source": [
        "for idx, animal in enumerate(animals):\n",
        "  print(idx, animal)"
      ],
      "metadata": {
        "colab": {
          "base_uri": "https://localhost:8080/"
        },
        "id": "_x-a1W0HkcIf",
        "outputId": "26e1491a-f06c-48a5-9bed-fa533799a8fe"
      },
      "execution_count": null,
      "outputs": [
        {
          "output_type": "stream",
          "name": "stdout",
          "text": [
            "0 ant\n",
            "1 bee\n",
            "2 cat\n",
            "3 dog\n",
            "4 fox\n"
          ]
        }
      ]
    },
    {
      "cell_type": "markdown",
      "metadata": {
        "id": "lGs9CeWP-buD"
      },
      "source": [
        "### 연습문제"
      ]
    },
    {
      "cell_type": "code",
      "source": [
        "sum = 0\n",
        "for i in range(100):\n",
        "  sum+= i\n",
        "sum"
      ],
      "metadata": {
        "colab": {
          "base_uri": "https://localhost:8080/"
        },
        "id": "x_dOn0YLk2_X",
        "outputId": "51c0bccc-eb26-41fe-bb51-cfe2ac5d726e"
      },
      "execution_count": null,
      "outputs": [
        {
          "output_type": "execute_result",
          "data": {
            "text/plain": [
              "4950"
            ]
          },
          "metadata": {},
          "execution_count": 159
        }
      ]
    },
    {
      "cell_type": "code",
      "metadata": {
        "colab": {
          "base_uri": "https://localhost:8080/"
        },
        "id": "L_Vk60kZ-atc",
        "outputId": "7c9a2cf7-2bee-40c9-80de-f0b1df857a55"
      },
      "source": [
        "scores = [90,35,68,44,81]\n",
        "for idx, score in enumerate(scores, start=1):\n",
        "  res = \"합격\" if(score >= 60) else \"불합격\"\n",
        "  print(idx, \"번 학생은\", res + \"입니다.\")"
      ],
      "execution_count": null,
      "outputs": [
        {
          "output_type": "stream",
          "name": "stdout",
          "text": [
            "1 번 학생은 합격입니다.\n",
            "2 번 학생은 불합격입니다.\n",
            "3 번 학생은 합격입니다.\n",
            "4 번 학생은 불합격입니다.\n",
            "5 번 학생은 합격입니다.\n"
          ]
        }
      ]
    },
    {
      "cell_type": "markdown",
      "metadata": {
        "id": "yPbv9su1E8OM"
      },
      "source": [
        "### 연습문제-구구단"
      ]
    },
    {
      "cell_type": "code",
      "source": [
        "for i in range(2,9):\n",
        "  print(i , \"단\")\n",
        "  for j in range(2,9):\n",
        "    print(i*j)"
      ],
      "metadata": {
        "id": "WHSXk2lVMpLn",
        "colab": {
          "base_uri": "https://localhost:8080/"
        },
        "outputId": "45d0bd0a-53fb-425b-c4b2-017c1f3d9bd7"
      },
      "execution_count": null,
      "outputs": [
        {
          "output_type": "stream",
          "name": "stdout",
          "text": [
            "2 단\n",
            "4\n",
            "6\n",
            "8\n",
            "10\n",
            "12\n",
            "14\n",
            "16\n",
            "3 단\n",
            "6\n",
            "9\n",
            "12\n",
            "15\n",
            "18\n",
            "21\n",
            "24\n",
            "4 단\n",
            "8\n",
            "12\n",
            "16\n",
            "20\n",
            "24\n",
            "28\n",
            "32\n",
            "5 단\n",
            "10\n",
            "15\n",
            "20\n",
            "25\n",
            "30\n",
            "35\n",
            "40\n",
            "6 단\n",
            "12\n",
            "18\n",
            "24\n",
            "30\n",
            "36\n",
            "42\n",
            "48\n",
            "7 단\n",
            "14\n",
            "21\n",
            "28\n",
            "35\n",
            "42\n",
            "49\n",
            "56\n",
            "8 단\n",
            "16\n",
            "24\n",
            "32\n",
            "40\n",
            "48\n",
            "56\n",
            "64\n"
          ]
        }
      ]
    },
    {
      "cell_type": "markdown",
      "metadata": {
        "id": "bCkOOSDaE_pU"
      },
      "source": [
        "### break, continue"
      ]
    },
    {
      "cell_type": "code",
      "source": [],
      "metadata": {
        "id": "gGNdIzzUMqSe"
      },
      "execution_count": null,
      "outputs": []
    },
    {
      "cell_type": "markdown",
      "metadata": {
        "id": "fv-S-iglFC9d"
      },
      "source": [
        "### 연습문제- Number guess"
      ]
    },
    {
      "cell_type": "code",
      "metadata": {
        "colab": {
          "base_uri": "https://localhost:8080/"
        },
        "id": "JvCKu8s7FF8d",
        "outputId": "3ba818e0-248d-470c-bd51-897e7afccedd"
      },
      "source": [
        "import random\n",
        "number = random.randint(1, 100)\n",
        "print('Guess the number(1~100) in 10 times.')\n",
        "i = 1\n",
        "while i <= 10:\n",
        "  n = int(input(f\"Insert number you guess({i})\"))\n",
        "  if n < number:\n",
        "    if(i == 10):\n",
        "      print(\"You Fail\")\n",
        "      break\n",
        "    print(\"Higher\")\n",
        "  elif n > number:\n",
        "    if(i == 10): \n",
        "      print(\"You Fail\")\n",
        "      break\n",
        "    print(\"Lower\")\n",
        "  else:\n",
        "    print(\"Correct answer!\")\n",
        "    break\n",
        "  i += 1"
      ],
      "execution_count": null,
      "outputs": [
        {
          "output_type": "stream",
          "name": "stdout",
          "text": [
            "Guess the number(1~100) in 10 times.\n",
            "Insert number you guess(1)     50\n",
            "Higher\n",
            "Insert number you guess(2)49\n",
            "Higher\n",
            "Insert number you guess(3)48\n",
            "Insert number you guess(4)47\n",
            "Higher\n",
            "Higher\n",
            "Insert number you guess(5)46\n",
            "Higher\n",
            "Insert number you guess(6)45\n",
            "Higher\n",
            "Insert number you guess(7)44\n",
            "Higher\n",
            "Insert number you guess(8)43\n",
            "Higher\n",
            "Insert number you guess(9)42\n",
            "Higher\n",
            "Insert number you guess(10)41\n",
            "You Fail\n",
            "Higher\n"
          ]
        }
      ]
    },
    {
      "cell_type": "markdown",
      "metadata": {
        "id": "tgKEezmXG5qS"
      },
      "source": [
        "### comprehension"
      ]
    },
    {
      "cell_type": "code",
      "source": [
        "[i**2 for i in range(10)]"
      ],
      "metadata": {
        "id": "nbjDVhMDMuiW",
        "colab": {
          "base_uri": "https://localhost:8080/"
        },
        "outputId": "13b8b53f-5be0-4dcd-febe-e7ab974059b4"
      },
      "execution_count": null,
      "outputs": [
        {
          "output_type": "execute_result",
          "data": {
            "text/plain": [
              "[0, 1, 4, 9, 16, 25, 36, 49, 64, 81]"
            ]
          },
          "metadata": {},
          "execution_count": 182
        }
      ]
    },
    {
      "cell_type": "code",
      "source": [
        "list(range(0,10,2))"
      ],
      "metadata": {
        "colab": {
          "base_uri": "https://localhost:8080/"
        },
        "id": "KKL4PvyUuuwq",
        "outputId": "8f5b89b7-6a7f-4562-eadb-6b82dd1b1e09"
      },
      "execution_count": null,
      "outputs": [
        {
          "output_type": "execute_result",
          "data": {
            "text/plain": [
              "[0, 2, 4, 6, 8]"
            ]
          },
          "metadata": {},
          "execution_count": 183
        }
      ]
    },
    {
      "cell_type": "code",
      "source": [
        "[i for i in range(10) if i%2!=0]"
      ],
      "metadata": {
        "colab": {
          "base_uri": "https://localhost:8080/"
        },
        "id": "m3XtcgHUvKJ6",
        "outputId": "21f09f74-2bae-4f37-c257-8b21e7fd967b"
      },
      "execution_count": null,
      "outputs": [
        {
          "output_type": "execute_result",
          "data": {
            "text/plain": [
              "[1, 3, 5, 7, 9]"
            ]
          },
          "metadata": {},
          "execution_count": 184
        }
      ]
    },
    {
      "cell_type": "code",
      "source": [
        "d = {'a':10, 'b':20, 'c':30}\n",
        "{v:k for k, v in d.items()}"
      ],
      "metadata": {
        "colab": {
          "base_uri": "https://localhost:8080/"
        },
        "id": "mStqlJO1wZB2",
        "outputId": "5ab30c07-b40c-413c-f31a-58130b7df591"
      },
      "execution_count": null,
      "outputs": [
        {
          "output_type": "execute_result",
          "data": {
            "text/plain": [
              "{10: 'a', 20: 'b', 30: 'c'}"
            ]
          },
          "metadata": {},
          "execution_count": 185
        }
      ]
    },
    {
      "cell_type": "markdown",
      "metadata": {
        "id": "lESxiMcdHtLk"
      },
      "source": [
        "# 5.함수"
      ]
    },
    {
      "cell_type": "markdown",
      "metadata": {
        "id": "6rR024y1ij84"
      },
      "source": [
        "### Function mapping, Macro"
      ]
    },
    {
      "cell_type": "code",
      "source": [
        "def greeting(name):\n",
        "  print(f\"안녕하세요? {name}님\")\n",
        "  print(f\"Hello Mr(s) {name}\")\n",
        "\n",
        "greeting(\"송원준\")"
      ],
      "metadata": {
        "id": "nhqNqw-nMw__",
        "colab": {
          "base_uri": "https://localhost:8080/"
        },
        "outputId": "b6c846e4-08b4-43c3-c90e-31d1b9359ea0"
      },
      "execution_count": null,
      "outputs": [
        {
          "output_type": "stream",
          "name": "stdout",
          "text": [
            "안녕하세요? 송원준님\n",
            "Hello Mr(s) 송원준\n"
          ]
        }
      ]
    },
    {
      "cell_type": "markdown",
      "metadata": {
        "id": "zUEwU9zKivLc"
      },
      "source": [
        "### define and caller"
      ]
    },
    {
      "cell_type": "code",
      "source": [
        "def printInfo(name, age):\n",
        "  print(f'My name is {name} and I am {age} years old.')"
      ],
      "metadata": {
        "id": "8qNh6M1I0ij4"
      },
      "execution_count": null,
      "outputs": []
    },
    {
      "cell_type": "code",
      "source": [
        "printInfo('Lee', 27)"
      ],
      "metadata": {
        "colab": {
          "base_uri": "https://localhost:8080/"
        },
        "id": "fi_Ch6T1yNdj",
        "outputId": "d03f4899-fbd1-46cc-8592-45cfdff58073"
      },
      "execution_count": null,
      "outputs": [
        {
          "output_type": "stream",
          "name": "stdout",
          "text": [
            "My name is Lee and I am 27 years old.\n"
          ]
        }
      ]
    },
    {
      "cell_type": "code",
      "source": [
        "printInfo(27, 'Lee')"
      ],
      "metadata": {
        "colab": {
          "base_uri": "https://localhost:8080/"
        },
        "id": "NJMgMTYNyRWP",
        "outputId": "07c2f92a-5981-421b-8611-927b20a551ac"
      },
      "execution_count": null,
      "outputs": [
        {
          "output_type": "stream",
          "name": "stdout",
          "text": [
            "My name is 27 and I am Lee years old.\n"
          ]
        }
      ]
    },
    {
      "cell_type": "code",
      "source": [
        "printInfo(name='Lee', age=27)"
      ],
      "metadata": {
        "colab": {
          "base_uri": "https://localhost:8080/"
        },
        "id": "ialStawRyj4f",
        "outputId": "026eaee3-7fa1-49f2-f9fe-7696bd76ed3e"
      },
      "execution_count": null,
      "outputs": [
        {
          "output_type": "stream",
          "name": "stdout",
          "text": [
            "My name is Lee and I am 27 years old.\n"
          ]
        }
      ]
    },
    {
      "cell_type": "code",
      "source": [
        "printInfo(age=27, name='Lee')"
      ],
      "metadata": {
        "colab": {
          "base_uri": "https://localhost:8080/"
        },
        "id": "dVUT2hf9yoYw",
        "outputId": "36550f7b-7d6a-4d28-eae0-03410f3bcdc8"
      },
      "execution_count": null,
      "outputs": [
        {
          "output_type": "stream",
          "name": "stdout",
          "text": [
            "My name is Lee and I am 27 years old.\n"
          ]
        }
      ]
    },
    {
      "cell_type": "code",
      "source": [
        "printInfo('Lee', age=27)"
      ],
      "metadata": {
        "colab": {
          "base_uri": "https://localhost:8080/"
        },
        "id": "zTh96S_zy9GO",
        "outputId": "8889002b-64e7-4094-f40f-cc47e49235f0"
      },
      "execution_count": null,
      "outputs": [
        {
          "output_type": "stream",
          "name": "stdout",
          "text": [
            "My name is Lee and I am 27 years old.\n"
          ]
        }
      ]
    },
    {
      "cell_type": "code",
      "source": [
        "printInfo(age=27, 'Lee')"
      ],
      "metadata": {
        "colab": {
          "base_uri": "https://localhost:8080/",
          "height": 138
        },
        "id": "rfnAJJ0CzAFn",
        "outputId": "c827fa5c-0d9d-4951-dafb-7c8681ed0cbf"
      },
      "execution_count": null,
      "outputs": [
        {
          "output_type": "error",
          "ename": "SyntaxError",
          "evalue": "ignored",
          "traceback": [
            "\u001b[0;36m  File \u001b[0;32m\"<ipython-input-251-bdc2464dbef3>\"\u001b[0;36m, line \u001b[0;32m1\u001b[0m\n\u001b[0;31m    printInfo(age=27, 'Lee')\u001b[0m\n\u001b[0m                     ^\u001b[0m\n\u001b[0;31mSyntaxError\u001b[0m\u001b[0;31m:\u001b[0m positional argument follows keyword argument\n"
          ]
        }
      ]
    },
    {
      "cell_type": "code",
      "source": [
        "printInfo('Lee', 27, 'Busan')"
      ],
      "metadata": {
        "id": "whOJIe0K0QCT",
        "colab": {
          "base_uri": "https://localhost:8080/",
          "height": 174
        },
        "outputId": "9f505dc5-7333-4060-adb8-4a7f09772bfd"
      },
      "execution_count": null,
      "outputs": [
        {
          "output_type": "error",
          "ename": "NameError",
          "evalue": "ignored",
          "traceback": [
            "\u001b[0;31m---------------------------------------------------------------------------\u001b[0m",
            "\u001b[0;31mNameError\u001b[0m                                 Traceback (most recent call last)",
            "\u001b[0;32m<ipython-input-189-a69dedb0e0b2>\u001b[0m in \u001b[0;36m<module>\u001b[0;34m\u001b[0m\n\u001b[0;32m----> 1\u001b[0;31m \u001b[0mprintInfo\u001b[0m\u001b[0;34m(\u001b[0m\u001b[0;34m'Lee'\u001b[0m\u001b[0;34m,\u001b[0m \u001b[0;36m27\u001b[0m\u001b[0;34m,\u001b[0m \u001b[0;34m'Busan'\u001b[0m\u001b[0;34m)\u001b[0m\u001b[0;34m\u001b[0m\u001b[0;34m\u001b[0m\u001b[0m\n\u001b[0m",
            "\u001b[0;31mNameError\u001b[0m: name 'printInfo' is not defined"
          ]
        }
      ]
    },
    {
      "cell_type": "markdown",
      "metadata": {
        "id": "78DHVjfxiygc"
      },
      "source": [
        "### Argument types"
      ]
    },
    {
      "cell_type": "code",
      "source": [
        "def add(a,b, c = 0):\n",
        "  return a + b + c\n",
        "add(1,2)\n",
        "add(1,2,3)"
      ],
      "metadata": {
        "id": "-z5sdzHgM1S4",
        "colab": {
          "base_uri": "https://localhost:8080/"
        },
        "outputId": "cae1c05e-3f7b-45b6-ebad-94733049d02f"
      },
      "execution_count": null,
      "outputs": [
        {
          "output_type": "execute_result",
          "data": {
            "text/plain": [
              "6"
            ]
          },
          "metadata": {},
          "execution_count": 193
        }
      ]
    },
    {
      "cell_type": "code",
      "source": [
        "def add2(*args):\n",
        "  print(args)\n",
        "add2(1,2,3,4,5)\n",
        "\n",
        "def fn(a,b,c):\n",
        "  print(a,b,c)\n",
        "i = [1,2,3]\n",
        "fn(*i)"
      ],
      "metadata": {
        "colab": {
          "base_uri": "https://localhost:8080/"
        },
        "id": "qBzpOCFg026y",
        "outputId": "e79cbb5a-e0de-4c5a-851f-108545504179"
      },
      "execution_count": null,
      "outputs": [
        {
          "output_type": "stream",
          "name": "stdout",
          "text": [
            "(1, 2, 3, 4, 5)\n",
            "1 2 3\n"
          ]
        }
      ]
    },
    {
      "cell_type": "code",
      "source": [
        "def fn2():\n",
        "  print(\"fn2\")\n",
        "my = fn2\n",
        "my == fn2\n",
        "my()\n",
        "\n",
        "def fn3(f):\n",
        "  f()\n",
        "fn3(my)"
      ],
      "metadata": {
        "colab": {
          "base_uri": "https://localhost:8080/"
        },
        "id": "G7pLq6K93N-Q",
        "outputId": "b90dd295-34a5-49a1-83b2-29c12c91e209"
      },
      "execution_count": null,
      "outputs": [
        {
          "output_type": "stream",
          "name": "stdout",
          "text": [
            "fn2\n",
            "fn2\n"
          ]
        }
      ]
    },
    {
      "cell_type": "markdown",
      "metadata": {
        "id": "5rR71sMxdomY"
      },
      "source": [
        "### 연습문제-계산기"
      ]
    },
    {
      "cell_type": "code",
      "metadata": {
        "id": "1toThgbveBPz"
      },
      "source": [],
      "execution_count": null,
      "outputs": []
    },
    {
      "cell_type": "code",
      "metadata": {
        "colab": {
          "base_uri": "https://localhost:8080/"
        },
        "id": "CSZHLMYwd8zO",
        "outputId": "4526bf6e-51a2-4dd9-84a2-bcced60e252e"
      },
      "source": [
        "operators = {'+' : plus, '-':minus, '*':multiply, '/':divide}\n",
        "print( \"Calculator is ready.('q' to quit)\" )\n",
        "while True:\n",
        "    isDone = False\n",
        "    line = input(\"> \")\n",
        "    line.strip()\n",
        "    if 'q' in line :\n",
        "        break\n",
        "    for op in operators.keys():\n",
        "        op_idx = line.find(op)\n",
        "        if op_idx > 0 and op_idx < len(line)-1:\n",
        "            fn = operators[op]\n",
        "            a = str2num(line[:op_idx])\n",
        "            b = str2num(line[op_idx+1:])\n",
        "            print( line , '=', fn(a,b) )\n",
        "            isDone = True\n",
        "            break\n",
        "    if not isDone :\n",
        "        print( 'Invalid expression, Try again.' )\n"
      ],
      "execution_count": null,
      "outputs": [
        {
          "output_type": "stream",
          "text": [
            "Calculator is ready.('q' to quit)\n",
            "> 1 + 2\n",
            "1 + 2 = 3\n",
            "> 3-2\n",
            "3-2 = 1\n",
            "> 2*3\n",
            "2*3 = 6\n",
            "> 4/2\n",
            "4/2 = 2.0\n",
            "> q\n"
          ],
          "name": "stdout"
        }
      ]
    },
    {
      "cell_type": "markdown",
      "metadata": {
        "id": "aPfBWW3PifbV"
      },
      "source": [
        "### doc string"
      ]
    },
    {
      "cell_type": "code",
      "metadata": {
        "id": "bpljh9xqepAP"
      },
      "source": [
        "def plus(a, b):\n",
        "  '''\n",
        "  두 변수의 덧셈 결과를 반환\n",
        "  매개변수 : a, b\n",
        "  반환 값  : a + b\n",
        "  '''\n",
        "  return a + b"
      ],
      "execution_count": null,
      "outputs": []
    },
    {
      "cell_type": "code",
      "metadata": {
        "id": "qOYnqfQGe7de",
        "colab": {
          "base_uri": "https://localhost:8080/"
        },
        "outputId": "51d9a927-a90e-4af4-e857-50f660459be1"
      },
      "source": [
        "plus?"
      ],
      "execution_count": null,
      "outputs": [
        {
          "output_type": "stream",
          "name": "stdout",
          "text": [
            "Object `plus` not found.\n"
          ]
        }
      ]
    },
    {
      "cell_type": "code",
      "metadata": {
        "colab": {
          "base_uri": "https://localhost:8080/"
        },
        "id": "R3BBYKF6fN1h",
        "outputId": "0450df3f-2122-493c-c794-4460d32dd9ca"
      },
      "source": [
        "print(plus.__doc__)"
      ],
      "execution_count": null,
      "outputs": [
        {
          "output_type": "stream",
          "text": [
            "\n",
            "  두 변수의 덧셈 결과를 반환\n",
            "  매개변수 : a, b\n",
            "  반환 값  : a + b\n",
            "  \n"
          ],
          "name": "stdout"
        }
      ]
    },
    {
      "cell_type": "markdown",
      "metadata": {
        "id": "ldcewZ_5iYF8"
      },
      "source": [
        "### Name Space"
      ]
    },
    {
      "cell_type": "code",
      "metadata": {
        "colab": {
          "base_uri": "https://localhost:8080/"
        },
        "id": "nwUMPbyggUnt",
        "outputId": "c06b311f-3997-4c8b-ac60-875240522446"
      },
      "source": [
        "var1 = 'global-1'\n",
        "var2 = 'global-2'\n",
        "var3 = 'global-3'\n",
        "def fn1():\n",
        "    global var3 #이자리에 써야 의미가 있다 아라쮜? 함수의 첫번째 라인에\n",
        "    var1 = 'local'\n",
        "    var3 = 'local2'\n",
        "    print( 'var1 :', var1)\n",
        "    print( 'var2 :', var2)\n",
        "    print( 'var3 :', var3)\n",
        "fn1()    \n",
        "print( 'var1 :', var1)\n",
        "print( 'var2 :', var2)\n",
        "print( 'var3 :', var3)\n"
      ],
      "execution_count": null,
      "outputs": [
        {
          "output_type": "stream",
          "text": [
            "var1 : local\n",
            "var2 : global-2\n",
            "var3 : local2\n",
            "var1 : global-1\n",
            "var2 : global-2\n",
            "var3 : local2\n"
          ],
          "name": "stdout"
        }
      ]
    },
    {
      "cell_type": "markdown",
      "metadata": {
        "id": "tBJXYaMziVsR"
      },
      "source": [
        "### Lambda"
      ]
    },
    {
      "cell_type": "code",
      "source": [
        "def fn(a, b):\n",
        "  return a + b\n",
        "fn(1, 2)"
      ],
      "metadata": {
        "id": "imm6nbhUM7Jf",
        "colab": {
          "base_uri": "https://localhost:8080/"
        },
        "outputId": "f54cc079-5e67-4c61-dec7-85c08be4c816"
      },
      "execution_count": null,
      "outputs": [
        {
          "output_type": "execute_result",
          "data": {
            "text/plain": [
              "3"
            ]
          },
          "metadata": {},
          "execution_count": 205
        }
      ]
    },
    {
      "cell_type": "code",
      "source": [
        "(lambda a, b: a + b)(1,2)"
      ],
      "metadata": {
        "colab": {
          "base_uri": "https://localhost:8080/"
        },
        "id": "GmNaFDbB-OBL",
        "outputId": "745f86ea-83b3-4bf4-f4c8-567bc826959a"
      },
      "execution_count": null,
      "outputs": [
        {
          "output_type": "execute_result",
          "data": {
            "text/plain": [
              "3"
            ]
          },
          "metadata": {},
          "execution_count": 206
        }
      ]
    },
    {
      "cell_type": "markdown",
      "metadata": {
        "id": "_VIUNg_QibbH"
      },
      "source": [
        "### Built-in function"
      ]
    },
    {
      "cell_type": "code",
      "source": [
        "s = \"hello\"\n",
        "dir(s)"
      ],
      "metadata": {
        "id": "b9AGzFYXM9Bo",
        "colab": {
          "base_uri": "https://localhost:8080/"
        },
        "outputId": "e157272e-5271-4a1b-e64d-32fd3ab709b5"
      },
      "execution_count": null,
      "outputs": [
        {
          "output_type": "execute_result",
          "data": {
            "text/plain": [
              "['__add__',\n",
              " '__class__',\n",
              " '__contains__',\n",
              " '__delattr__',\n",
              " '__dir__',\n",
              " '__doc__',\n",
              " '__eq__',\n",
              " '__format__',\n",
              " '__ge__',\n",
              " '__getattribute__',\n",
              " '__getitem__',\n",
              " '__getnewargs__',\n",
              " '__gt__',\n",
              " '__hash__',\n",
              " '__init__',\n",
              " '__init_subclass__',\n",
              " '__iter__',\n",
              " '__le__',\n",
              " '__len__',\n",
              " '__lt__',\n",
              " '__mod__',\n",
              " '__mul__',\n",
              " '__ne__',\n",
              " '__new__',\n",
              " '__reduce__',\n",
              " '__reduce_ex__',\n",
              " '__repr__',\n",
              " '__rmod__',\n",
              " '__rmul__',\n",
              " '__setattr__',\n",
              " '__sizeof__',\n",
              " '__str__',\n",
              " '__subclasshook__',\n",
              " 'capitalize',\n",
              " 'casefold',\n",
              " 'center',\n",
              " 'count',\n",
              " 'encode',\n",
              " 'endswith',\n",
              " 'expandtabs',\n",
              " 'find',\n",
              " 'format',\n",
              " 'format_map',\n",
              " 'index',\n",
              " 'isalnum',\n",
              " 'isalpha',\n",
              " 'isascii',\n",
              " 'isdecimal',\n",
              " 'isdigit',\n",
              " 'isidentifier',\n",
              " 'islower',\n",
              " 'isnumeric',\n",
              " 'isprintable',\n",
              " 'isspace',\n",
              " 'istitle',\n",
              " 'isupper',\n",
              " 'join',\n",
              " 'ljust',\n",
              " 'lower',\n",
              " 'lstrip',\n",
              " 'maketrans',\n",
              " 'partition',\n",
              " 'replace',\n",
              " 'rfind',\n",
              " 'rindex',\n",
              " 'rjust',\n",
              " 'rpartition',\n",
              " 'rsplit',\n",
              " 'rstrip',\n",
              " 'split',\n",
              " 'splitlines',\n",
              " 'startswith',\n",
              " 'strip',\n",
              " 'swapcase',\n",
              " 'title',\n",
              " 'translate',\n",
              " 'upper',\n",
              " 'zfill']"
            ]
          },
          "metadata": {},
          "execution_count": 207
        }
      ]
    },
    {
      "cell_type": "code",
      "source": [
        "a = ['one', 'two', 'three']\n",
        "b = [1,2,3]\n",
        "c = ['하나', '둘', '셋']\n",
        "list(zip(a,b,c))"
      ],
      "metadata": {
        "colab": {
          "base_uri": "https://localhost:8080/"
        },
        "id": "dfa-OclM_XVr",
        "outputId": "4e413040-3aca-496f-a564-9abcebbde894"
      },
      "execution_count": null,
      "outputs": [
        {
          "output_type": "execute_result",
          "data": {
            "text/plain": [
              "[('one', 1, '하나'), ('two', 2, '둘'), ('three', 3, '셋')]"
            ]
          },
          "metadata": {},
          "execution_count": 209
        }
      ]
    },
    {
      "cell_type": "code",
      "source": [
        "data = [1,2,3,4,5]\n",
        "def f(x):\n",
        "  return x * 2\n",
        "res = []\n",
        "for i in data:\n",
        "  res.append(f(i))\n",
        "res"
      ],
      "metadata": {
        "colab": {
          "base_uri": "https://localhost:8080/"
        },
        "id": "iotaucQhAhj2",
        "outputId": "d7328a07-7381-48c9-c5e4-95cd2f8b32fe"
      },
      "execution_count": null,
      "outputs": [
        {
          "output_type": "execute_result",
          "data": {
            "text/plain": [
              "[2, 4, 6, 8, 10]"
            ]
          },
          "metadata": {},
          "execution_count": 211
        }
      ]
    },
    {
      "cell_type": "code",
      "source": [
        "list(map(f, data))"
      ],
      "metadata": {
        "colab": {
          "base_uri": "https://localhost:8080/"
        },
        "id": "vpI3Jv7eBPhI",
        "outputId": "0e792b01-3559-4467-bfb8-4ba04c52d07e"
      },
      "execution_count": null,
      "outputs": [
        {
          "output_type": "execute_result",
          "data": {
            "text/plain": [
              "[2, 4, 6, 8, 10]"
            ]
          },
          "metadata": {},
          "execution_count": 212
        }
      ]
    },
    {
      "cell_type": "code",
      "source": [
        "list(filter(lambda x: x%2==0, data))"
      ],
      "metadata": {
        "colab": {
          "base_uri": "https://localhost:8080/"
        },
        "id": "hi4HRNZPCVPv",
        "outputId": "3e641d00-8a0f-4351-c3de-e97030aa5bd4"
      },
      "execution_count": null,
      "outputs": [
        {
          "output_type": "execute_result",
          "data": {
            "text/plain": [
              "[2, 4]"
            ]
          },
          "metadata": {},
          "execution_count": 214
        }
      ]
    },
    {
      "cell_type": "code",
      "source": [
        "list(map(lambda x:x*2, filter(lambda x: x%2==0, data)))"
      ],
      "metadata": {
        "colab": {
          "base_uri": "https://localhost:8080/"
        },
        "id": "clYyNJ0OCs5h",
        "outputId": "5592d42b-7aea-40b9-f0b1-3d23ff3a1c90"
      },
      "execution_count": null,
      "outputs": [
        {
          "output_type": "execute_result",
          "data": {
            "text/plain": [
              "[4, 8]"
            ]
          },
          "metadata": {},
          "execution_count": 215
        }
      ]
    },
    {
      "cell_type": "markdown",
      "metadata": {
        "id": "V6k0FeGRiJ0I"
      },
      "source": [
        "# 6.모듈과 패키지"
      ]
    },
    {
      "cell_type": "markdown",
      "metadata": {
        "id": "m5QT65fKpnJj"
      },
      "source": [
        "### 사용자 정의 모듈"
      ]
    },
    {
      "cell_type": "code",
      "metadata": {
        "id": "YCTa7xbqUh7U"
      },
      "source": [
        "#mymodule1.py\n",
        "\n",
        "def function1():\n",
        "    print('this is function 1')"
      ],
      "execution_count": null,
      "outputs": []
    },
    {
      "cell_type": "code",
      "source": [],
      "metadata": {
        "id": "F9Dp0kK3M_I4"
      },
      "execution_count": null,
      "outputs": []
    },
    {
      "cell_type": "code",
      "source": [],
      "metadata": {
        "id": "iGCI2vrENIHQ"
      },
      "execution_count": null,
      "outputs": []
    },
    {
      "cell_type": "markdown",
      "metadata": {
        "id": "aHIPVsXIprWV"
      },
      "source": [
        "### 사용자 정의 패키지"
      ]
    },
    {
      "cell_type": "code",
      "source": [],
      "metadata": {
        "id": "BWHxgDD8NLem"
      },
      "execution_count": null,
      "outputs": []
    },
    {
      "cell_type": "markdown",
      "metadata": {
        "id": "VbTz8zXgl_Pq"
      },
      "source": [
        "## 주요 내장 모듈"
      ]
    },
    {
      "cell_type": "code",
      "source": [],
      "metadata": {
        "id": "Yz3tls2PNP5O"
      },
      "execution_count": null,
      "outputs": []
    },
    {
      "cell_type": "markdown",
      "metadata": {
        "id": "bfY5NXzH_i1F"
      },
      "source": [
        "# 7.객체와 클래스"
      ]
    },
    {
      "cell_type": "markdown",
      "metadata": {
        "id": "oEKaBsNJp5Y0"
      },
      "source": [
        "### 클래스 정의"
      ]
    },
    {
      "cell_type": "code",
      "source": [],
      "metadata": {
        "id": "L41xj8sqNRRe"
      },
      "execution_count": null,
      "outputs": []
    },
    {
      "cell_type": "markdown",
      "metadata": {
        "id": "Gx6IIdAop_0l"
      },
      "source": [
        "### 생성자 함수"
      ]
    },
    {
      "cell_type": "code",
      "source": [],
      "metadata": {
        "id": "aVdRGjYfNR_G"
      },
      "execution_count": null,
      "outputs": []
    },
    {
      "cell_type": "markdown",
      "metadata": {
        "id": "QJ9wZdaPqBnL"
      },
      "source": [
        "### 메서드"
      ]
    },
    {
      "cell_type": "code",
      "source": [],
      "metadata": {
        "id": "gMwVY8j3NSnu"
      },
      "execution_count": null,
      "outputs": []
    },
    {
      "cell_type": "markdown",
      "metadata": {
        "id": "GDeJ7ScgqDRR"
      },
      "source": [
        "### Hidden method"
      ]
    },
    {
      "cell_type": "code",
      "source": [],
      "metadata": {
        "id": "K7DGOfPHNTp4"
      },
      "execution_count": null,
      "outputs": []
    },
    {
      "cell_type": "markdown",
      "metadata": {
        "id": "drH9pO_1p83D"
      },
      "source": [
        "### 상속"
      ]
    },
    {
      "cell_type": "code",
      "source": [],
      "metadata": {
        "id": "y9_1tPEyNUN-"
      },
      "execution_count": null,
      "outputs": []
    },
    {
      "cell_type": "markdown",
      "metadata": {
        "id": "I04QEZvQqGTr"
      },
      "source": [
        "### super()"
      ]
    },
    {
      "cell_type": "code",
      "source": [],
      "metadata": {
        "id": "KwSgMbttNU02"
      },
      "execution_count": null,
      "outputs": []
    },
    {
      "cell_type": "markdown",
      "metadata": {
        "id": "7zctP0UK_tIj"
      },
      "source": [
        "## Callable"
      ]
    },
    {
      "cell_type": "code",
      "metadata": {
        "id": "JQYV5Qfj_vp7"
      },
      "source": [
        "class Callable:\n",
        "  def __call__(self):\n",
        "    print(\"__call__\")\n",
        "\n",
        "obj = Callable()\n",
        "obj()"
      ],
      "execution_count": null,
      "outputs": []
    },
    {
      "cell_type": "code",
      "metadata": {
        "id": "LHqiwyH7_saq"
      },
      "source": [
        "class MyDecorator:\n",
        "\n",
        "  def __init__(self, fn):\n",
        "    self.fn=fn\n",
        "\n",
        "  def __call__(self):\n",
        "    print('before calling %s' % self.fn.__name__)\n",
        "    self.fn()\n",
        "    print('after calling %s' %self.fn.__name__)\n",
        "def fn():\n",
        "  print('this is fn.')\n",
        "obj= MyDecorator(fn)\n",
        "obj()\n",
        "\n",
        "@MyDecorator\n",
        "def fn2():\n",
        "  print('this is fn2')\n",
        "fn2()\n"
      ],
      "execution_count": null,
      "outputs": []
    },
    {
      "cell_type": "markdown",
      "metadata": {
        "id": "fhOFqdyT_lLk"
      },
      "source": [
        "## Iterator"
      ]
    },
    {
      "cell_type": "code",
      "metadata": {
        "id": "XqsQ4NrBgNF5",
        "colab": {
          "base_uri": "https://localhost:8080/"
        },
        "outputId": "af82e334-148d-4590-b7ea-5643a90488e6"
      },
      "source": [
        "class MyIterator:\n",
        "  def __init__(self, start, end):\n",
        "    self.start = start\n",
        "    self.end = end\n",
        "    self.current = start\n",
        "\n",
        "  def __iter__(self):\n",
        "    return self\n",
        "\n",
        "  def __next__(self):\n",
        "    if self.current < self.end:\n",
        "      val = self.current\n",
        "      self.current += 1\n",
        "      return val\n",
        "    else:\n",
        "      raise StopIteration()\n",
        "\n",
        "obj = MyIterator(1, 10)\n",
        "for x in obj:\n",
        "  print(x)"
      ],
      "execution_count": null,
      "outputs": [
        {
          "output_type": "stream",
          "text": [
            "1\n",
            "2\n",
            "3\n",
            "4\n",
            "5\n",
            "6\n",
            "7\n",
            "8\n",
            "9\n"
          ],
          "name": "stdout"
        }
      ]
    },
    {
      "cell_type": "code",
      "metadata": {
        "id": "jGDNIYm6-e0w"
      },
      "source": [],
      "execution_count": null,
      "outputs": []
    }
  ]
}