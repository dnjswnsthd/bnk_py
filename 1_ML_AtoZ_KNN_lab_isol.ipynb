{
  "nbformat": 4,
  "nbformat_minor": 0,
  "metadata": {
    "kernelspec": {
      "display_name": "Python 3",
      "language": "python",
      "name": "python3"
    },
    "language_info": {
      "codemirror_mode": {
        "name": "ipython",
        "version": 3
      },
      "file_extension": ".py",
      "mimetype": "text/x-python",
      "name": "python",
      "nbconvert_exporter": "python",
      "pygments_lexer": "ipython3",
      "version": "3.8.1"
    },
    "colab": {
      "provenance": [],
      "collapsed_sections": [],
      "include_colab_link": true
    }
  },
  "cells": [
    {
      "cell_type": "markdown",
      "metadata": {
        "id": "view-in-github",
        "colab_type": "text"
      },
      "source": [
        "<a href=\"https://colab.research.google.com/github/dnjswnsthd/bnk_py/blob/develop/1_ML_AtoZ_KNN_lab_isol.ipynb\" target=\"_parent\"><img src=\"https://colab.research.google.com/assets/colab-badge.svg\" alt=\"Open In Colab\"/></a>"
      ]
    },
    {
      "cell_type": "markdown",
      "metadata": {
        "id": "2wsT1Yq2zyHa"
      },
      "source": [
        "<h1>Machine Learning A to Z with KNN</h1>"
      ]
    },
    {
      "cell_type": "markdown",
      "metadata": {
        "id": "4SpqKuibfW8m"
      },
      "source": [
        "# import"
      ]
    },
    {
      "cell_type": "code",
      "metadata": {
        "id": "q6qfyC6FzdAZ"
      },
      "source": [
        "import numpy as np\n",
        "import pandas as pd\n",
        "import matplotlib.pyplot as plt\n",
        "import seaborn as sns\n",
        "import cv2\n",
        "import pickle\n",
        "from sklearn.neighbors import KNeighborsClassifier \n",
        "from sklearn.datasets import make_classification, load_iris, load_breast_cancer, load_digits\n",
        "from sklearn.preprocessing import LabelEncoder, StandardScaler, MinMaxScaler\n",
        "from sklearn.metrics import accuracy_score, confusion_matrix\n",
        "from sklearn.metrics import f1_score, classification_report,precision_score, recall_score\n",
        "from sklearn.metrics import auc, roc_curve, roc_auc_score\n",
        "from sklearn.model_selection import  train_test_split, KFold, StratifiedKFold, GridSearchCV, RandomizedSearchCV\n",
        "from sklearn.model_selection import  cross_val_score, cross_validate\n",
        "from sklearn.pipeline import Pipeline"
      ],
      "execution_count": null,
      "outputs": []
    },
    {
      "cell_type": "markdown",
      "metadata": {
        "id": "qqmaP-XF2jAh"
      },
      "source": [
        "# KNN 무작위수 분류"
      ]
    },
    {
      "cell_type": "markdown",
      "metadata": {
        "id": "zrYixBU6btiE"
      },
      "source": [
        "## `np.random.randint()`\n",
        "* `np.random.randint()`로 무작위수 25x2를 생성\n",
        "* 무작위수를 kNN으로 학습\n",
        "* 새로운 무작위수 1x2를 만들어서 kNN으로 분류"
      ]
    },
    {
      "cell_type": "code",
      "metadata": {
        "colab": {
          "base_uri": "https://localhost:8080/",
          "height": 1000
        },
        "id": "QQvKqYojfdIh",
        "outputId": "dd4baa33-58bb-42ee-e052-c05d29a6f18c"
      },
      "source": [
        "from sklearn.neighbors import KNeighborsClassifier \n",
        "from sklearn.utils import shuffle\n",
        "\n",
        "#np.random.seed(0)\n",
        "red = np.random.randint(0, 110, (25, 2))  #0\n",
        "blue = np.random.randint(90, 200, (25, 2))  #1\n",
        "X = np.vstack((red, blue))\n",
        "print(X.shape)\n",
        "y = np.zeros((50,))\n",
        "y[25:] = 1 # 0:red, 1:blue\n",
        "\n",
        "X, y = shuffle(X, y, random_state=0)\n",
        "df = pd.DataFrame(X, columns=['x1','x2'])\n",
        "df['y'] = y\n",
        "display(df)\n",
        "\n",
        "plt.plot(X[y==0, 0], X[y==0, 1], 'r^')\n",
        "plt.plot(X[y==1, 0], X[y==1, 1], 'bs')\n",
        "\n",
        "newb = np.random.randint(0, 200, (1, 2))\n",
        "plt.plot(newb[0,0], newb[0,1], 'g*')\n",
        "\n",
        "knn = KNeighborsClassifier()\n",
        "knn.fit(X, y)\n",
        "y_pred =knn.predict(newb)\n",
        "print(y_pred)\n",
        "plt.annotate('red' if y_pred==0 else 'blue', xy=newb[0])"
      ],
      "execution_count": null,
      "outputs": [
        {
          "output_type": "stream",
          "name": "stdout",
          "text": [
            "(50, 2)\n"
          ]
        },
        {
          "output_type": "display_data",
          "data": {
            "text/plain": [
              "     x1   x2    y\n",
              "0   179  179  1.0\n",
              "1    20  106  0.0\n",
              "2    19    4  0.0\n",
              "3   111   92  1.0\n",
              "4   101   19  0.0\n",
              "5   153  116  1.0\n",
              "6   161  144  1.0\n",
              "7   131  107  1.0\n",
              "8    16   99  0.0\n",
              "9    96   81  0.0\n",
              "10  159  109  1.0\n",
              "11  101  101  1.0\n",
              "12  177  127  1.0\n",
              "13  112  199  1.0\n",
              "14   59  106  0.0\n",
              "15    5   80  0.0\n",
              "16  101   93  0.0\n",
              "17  155  149  1.0\n",
              "18  125  178  1.0\n",
              "19   96  178  1.0\n",
              "20   41   40  0.0\n",
              "21  169  191  1.0\n",
              "22  170  133  1.0\n",
              "23   60   81  0.0\n",
              "24   98  100  1.0\n",
              "25   97   94  0.0\n",
              "26   95  128  1.0\n",
              "27  102   40  0.0\n",
              "28   86   60  0.0\n",
              "29  162   90  1.0\n",
              "30   69  100  0.0\n",
              "31   51   40  0.0\n",
              "32  172  177  1.0\n",
              "33  139  169  1.0\n",
              "34   53   13  0.0\n",
              "35   74   67  0.0\n",
              "36  116  138  1.0\n",
              "37   65   23  0.0\n",
              "38    1   29  0.0\n",
              "39   39   29  0.0\n",
              "40  123   97  1.0\n",
              "41   37   88  0.0\n",
              "42   94   29  0.0\n",
              "43   22   30  0.0\n",
              "44  186  190  1.0\n",
              "45  126   95  1.0\n",
              "46  107    8  0.0\n",
              "47   37   68  0.0\n",
              "48   95  128  1.0\n",
              "49  128  190  1.0"
            ],
            "text/html": [
              "\n",
              "  <div id=\"df-2e13fdcb-ab7d-47aa-b603-2954d8a7f5af\">\n",
              "    <div class=\"colab-df-container\">\n",
              "      <div>\n",
              "<style scoped>\n",
              "    .dataframe tbody tr th:only-of-type {\n",
              "        vertical-align: middle;\n",
              "    }\n",
              "\n",
              "    .dataframe tbody tr th {\n",
              "        vertical-align: top;\n",
              "    }\n",
              "\n",
              "    .dataframe thead th {\n",
              "        text-align: right;\n",
              "    }\n",
              "</style>\n",
              "<table border=\"1\" class=\"dataframe\">\n",
              "  <thead>\n",
              "    <tr style=\"text-align: right;\">\n",
              "      <th></th>\n",
              "      <th>x1</th>\n",
              "      <th>x2</th>\n",
              "      <th>y</th>\n",
              "    </tr>\n",
              "  </thead>\n",
              "  <tbody>\n",
              "    <tr>\n",
              "      <th>0</th>\n",
              "      <td>179</td>\n",
              "      <td>179</td>\n",
              "      <td>1.0</td>\n",
              "    </tr>\n",
              "    <tr>\n",
              "      <th>1</th>\n",
              "      <td>20</td>\n",
              "      <td>106</td>\n",
              "      <td>0.0</td>\n",
              "    </tr>\n",
              "    <tr>\n",
              "      <th>2</th>\n",
              "      <td>19</td>\n",
              "      <td>4</td>\n",
              "      <td>0.0</td>\n",
              "    </tr>\n",
              "    <tr>\n",
              "      <th>3</th>\n",
              "      <td>111</td>\n",
              "      <td>92</td>\n",
              "      <td>1.0</td>\n",
              "    </tr>\n",
              "    <tr>\n",
              "      <th>4</th>\n",
              "      <td>101</td>\n",
              "      <td>19</td>\n",
              "      <td>0.0</td>\n",
              "    </tr>\n",
              "    <tr>\n",
              "      <th>5</th>\n",
              "      <td>153</td>\n",
              "      <td>116</td>\n",
              "      <td>1.0</td>\n",
              "    </tr>\n",
              "    <tr>\n",
              "      <th>6</th>\n",
              "      <td>161</td>\n",
              "      <td>144</td>\n",
              "      <td>1.0</td>\n",
              "    </tr>\n",
              "    <tr>\n",
              "      <th>7</th>\n",
              "      <td>131</td>\n",
              "      <td>107</td>\n",
              "      <td>1.0</td>\n",
              "    </tr>\n",
              "    <tr>\n",
              "      <th>8</th>\n",
              "      <td>16</td>\n",
              "      <td>99</td>\n",
              "      <td>0.0</td>\n",
              "    </tr>\n",
              "    <tr>\n",
              "      <th>9</th>\n",
              "      <td>96</td>\n",
              "      <td>81</td>\n",
              "      <td>0.0</td>\n",
              "    </tr>\n",
              "    <tr>\n",
              "      <th>10</th>\n",
              "      <td>159</td>\n",
              "      <td>109</td>\n",
              "      <td>1.0</td>\n",
              "    </tr>\n",
              "    <tr>\n",
              "      <th>11</th>\n",
              "      <td>101</td>\n",
              "      <td>101</td>\n",
              "      <td>1.0</td>\n",
              "    </tr>\n",
              "    <tr>\n",
              "      <th>12</th>\n",
              "      <td>177</td>\n",
              "      <td>127</td>\n",
              "      <td>1.0</td>\n",
              "    </tr>\n",
              "    <tr>\n",
              "      <th>13</th>\n",
              "      <td>112</td>\n",
              "      <td>199</td>\n",
              "      <td>1.0</td>\n",
              "    </tr>\n",
              "    <tr>\n",
              "      <th>14</th>\n",
              "      <td>59</td>\n",
              "      <td>106</td>\n",
              "      <td>0.0</td>\n",
              "    </tr>\n",
              "    <tr>\n",
              "      <th>15</th>\n",
              "      <td>5</td>\n",
              "      <td>80</td>\n",
              "      <td>0.0</td>\n",
              "    </tr>\n",
              "    <tr>\n",
              "      <th>16</th>\n",
              "      <td>101</td>\n",
              "      <td>93</td>\n",
              "      <td>0.0</td>\n",
              "    </tr>\n",
              "    <tr>\n",
              "      <th>17</th>\n",
              "      <td>155</td>\n",
              "      <td>149</td>\n",
              "      <td>1.0</td>\n",
              "    </tr>\n",
              "    <tr>\n",
              "      <th>18</th>\n",
              "      <td>125</td>\n",
              "      <td>178</td>\n",
              "      <td>1.0</td>\n",
              "    </tr>\n",
              "    <tr>\n",
              "      <th>19</th>\n",
              "      <td>96</td>\n",
              "      <td>178</td>\n",
              "      <td>1.0</td>\n",
              "    </tr>\n",
              "    <tr>\n",
              "      <th>20</th>\n",
              "      <td>41</td>\n",
              "      <td>40</td>\n",
              "      <td>0.0</td>\n",
              "    </tr>\n",
              "    <tr>\n",
              "      <th>21</th>\n",
              "      <td>169</td>\n",
              "      <td>191</td>\n",
              "      <td>1.0</td>\n",
              "    </tr>\n",
              "    <tr>\n",
              "      <th>22</th>\n",
              "      <td>170</td>\n",
              "      <td>133</td>\n",
              "      <td>1.0</td>\n",
              "    </tr>\n",
              "    <tr>\n",
              "      <th>23</th>\n",
              "      <td>60</td>\n",
              "      <td>81</td>\n",
              "      <td>0.0</td>\n",
              "    </tr>\n",
              "    <tr>\n",
              "      <th>24</th>\n",
              "      <td>98</td>\n",
              "      <td>100</td>\n",
              "      <td>1.0</td>\n",
              "    </tr>\n",
              "    <tr>\n",
              "      <th>25</th>\n",
              "      <td>97</td>\n",
              "      <td>94</td>\n",
              "      <td>0.0</td>\n",
              "    </tr>\n",
              "    <tr>\n",
              "      <th>26</th>\n",
              "      <td>95</td>\n",
              "      <td>128</td>\n",
              "      <td>1.0</td>\n",
              "    </tr>\n",
              "    <tr>\n",
              "      <th>27</th>\n",
              "      <td>102</td>\n",
              "      <td>40</td>\n",
              "      <td>0.0</td>\n",
              "    </tr>\n",
              "    <tr>\n",
              "      <th>28</th>\n",
              "      <td>86</td>\n",
              "      <td>60</td>\n",
              "      <td>0.0</td>\n",
              "    </tr>\n",
              "    <tr>\n",
              "      <th>29</th>\n",
              "      <td>162</td>\n",
              "      <td>90</td>\n",
              "      <td>1.0</td>\n",
              "    </tr>\n",
              "    <tr>\n",
              "      <th>30</th>\n",
              "      <td>69</td>\n",
              "      <td>100</td>\n",
              "      <td>0.0</td>\n",
              "    </tr>\n",
              "    <tr>\n",
              "      <th>31</th>\n",
              "      <td>51</td>\n",
              "      <td>40</td>\n",
              "      <td>0.0</td>\n",
              "    </tr>\n",
              "    <tr>\n",
              "      <th>32</th>\n",
              "      <td>172</td>\n",
              "      <td>177</td>\n",
              "      <td>1.0</td>\n",
              "    </tr>\n",
              "    <tr>\n",
              "      <th>33</th>\n",
              "      <td>139</td>\n",
              "      <td>169</td>\n",
              "      <td>1.0</td>\n",
              "    </tr>\n",
              "    <tr>\n",
              "      <th>34</th>\n",
              "      <td>53</td>\n",
              "      <td>13</td>\n",
              "      <td>0.0</td>\n",
              "    </tr>\n",
              "    <tr>\n",
              "      <th>35</th>\n",
              "      <td>74</td>\n",
              "      <td>67</td>\n",
              "      <td>0.0</td>\n",
              "    </tr>\n",
              "    <tr>\n",
              "      <th>36</th>\n",
              "      <td>116</td>\n",
              "      <td>138</td>\n",
              "      <td>1.0</td>\n",
              "    </tr>\n",
              "    <tr>\n",
              "      <th>37</th>\n",
              "      <td>65</td>\n",
              "      <td>23</td>\n",
              "      <td>0.0</td>\n",
              "    </tr>\n",
              "    <tr>\n",
              "      <th>38</th>\n",
              "      <td>1</td>\n",
              "      <td>29</td>\n",
              "      <td>0.0</td>\n",
              "    </tr>\n",
              "    <tr>\n",
              "      <th>39</th>\n",
              "      <td>39</td>\n",
              "      <td>29</td>\n",
              "      <td>0.0</td>\n",
              "    </tr>\n",
              "    <tr>\n",
              "      <th>40</th>\n",
              "      <td>123</td>\n",
              "      <td>97</td>\n",
              "      <td>1.0</td>\n",
              "    </tr>\n",
              "    <tr>\n",
              "      <th>41</th>\n",
              "      <td>37</td>\n",
              "      <td>88</td>\n",
              "      <td>0.0</td>\n",
              "    </tr>\n",
              "    <tr>\n",
              "      <th>42</th>\n",
              "      <td>94</td>\n",
              "      <td>29</td>\n",
              "      <td>0.0</td>\n",
              "    </tr>\n",
              "    <tr>\n",
              "      <th>43</th>\n",
              "      <td>22</td>\n",
              "      <td>30</td>\n",
              "      <td>0.0</td>\n",
              "    </tr>\n",
              "    <tr>\n",
              "      <th>44</th>\n",
              "      <td>186</td>\n",
              "      <td>190</td>\n",
              "      <td>1.0</td>\n",
              "    </tr>\n",
              "    <tr>\n",
              "      <th>45</th>\n",
              "      <td>126</td>\n",
              "      <td>95</td>\n",
              "      <td>1.0</td>\n",
              "    </tr>\n",
              "    <tr>\n",
              "      <th>46</th>\n",
              "      <td>107</td>\n",
              "      <td>8</td>\n",
              "      <td>0.0</td>\n",
              "    </tr>\n",
              "    <tr>\n",
              "      <th>47</th>\n",
              "      <td>37</td>\n",
              "      <td>68</td>\n",
              "      <td>0.0</td>\n",
              "    </tr>\n",
              "    <tr>\n",
              "      <th>48</th>\n",
              "      <td>95</td>\n",
              "      <td>128</td>\n",
              "      <td>1.0</td>\n",
              "    </tr>\n",
              "    <tr>\n",
              "      <th>49</th>\n",
              "      <td>128</td>\n",
              "      <td>190</td>\n",
              "      <td>1.0</td>\n",
              "    </tr>\n",
              "  </tbody>\n",
              "</table>\n",
              "</div>\n",
              "      <button class=\"colab-df-convert\" onclick=\"convertToInteractive('df-2e13fdcb-ab7d-47aa-b603-2954d8a7f5af')\"\n",
              "              title=\"Convert this dataframe to an interactive table.\"\n",
              "              style=\"display:none;\">\n",
              "        \n",
              "  <svg xmlns=\"http://www.w3.org/2000/svg\" height=\"24px\"viewBox=\"0 0 24 24\"\n",
              "       width=\"24px\">\n",
              "    <path d=\"M0 0h24v24H0V0z\" fill=\"none\"/>\n",
              "    <path d=\"M18.56 5.44l.94 2.06.94-2.06 2.06-.94-2.06-.94-.94-2.06-.94 2.06-2.06.94zm-11 1L8.5 8.5l.94-2.06 2.06-.94-2.06-.94L8.5 2.5l-.94 2.06-2.06.94zm10 10l.94 2.06.94-2.06 2.06-.94-2.06-.94-.94-2.06-.94 2.06-2.06.94z\"/><path d=\"M17.41 7.96l-1.37-1.37c-.4-.4-.92-.59-1.43-.59-.52 0-1.04.2-1.43.59L10.3 9.45l-7.72 7.72c-.78.78-.78 2.05 0 2.83L4 21.41c.39.39.9.59 1.41.59.51 0 1.02-.2 1.41-.59l7.78-7.78 2.81-2.81c.8-.78.8-2.07 0-2.86zM5.41 20L4 18.59l7.72-7.72 1.47 1.35L5.41 20z\"/>\n",
              "  </svg>\n",
              "      </button>\n",
              "      \n",
              "  <style>\n",
              "    .colab-df-container {\n",
              "      display:flex;\n",
              "      flex-wrap:wrap;\n",
              "      gap: 12px;\n",
              "    }\n",
              "\n",
              "    .colab-df-convert {\n",
              "      background-color: #E8F0FE;\n",
              "      border: none;\n",
              "      border-radius: 50%;\n",
              "      cursor: pointer;\n",
              "      display: none;\n",
              "      fill: #1967D2;\n",
              "      height: 32px;\n",
              "      padding: 0 0 0 0;\n",
              "      width: 32px;\n",
              "    }\n",
              "\n",
              "    .colab-df-convert:hover {\n",
              "      background-color: #E2EBFA;\n",
              "      box-shadow: 0px 1px 2px rgba(60, 64, 67, 0.3), 0px 1px 3px 1px rgba(60, 64, 67, 0.15);\n",
              "      fill: #174EA6;\n",
              "    }\n",
              "\n",
              "    [theme=dark] .colab-df-convert {\n",
              "      background-color: #3B4455;\n",
              "      fill: #D2E3FC;\n",
              "    }\n",
              "\n",
              "    [theme=dark] .colab-df-convert:hover {\n",
              "      background-color: #434B5C;\n",
              "      box-shadow: 0px 1px 3px 1px rgba(0, 0, 0, 0.15);\n",
              "      filter: drop-shadow(0px 1px 2px rgba(0, 0, 0, 0.3));\n",
              "      fill: #FFFFFF;\n",
              "    }\n",
              "  </style>\n",
              "\n",
              "      <script>\n",
              "        const buttonEl =\n",
              "          document.querySelector('#df-2e13fdcb-ab7d-47aa-b603-2954d8a7f5af button.colab-df-convert');\n",
              "        buttonEl.style.display =\n",
              "          google.colab.kernel.accessAllowed ? 'block' : 'none';\n",
              "\n",
              "        async function convertToInteractive(key) {\n",
              "          const element = document.querySelector('#df-2e13fdcb-ab7d-47aa-b603-2954d8a7f5af');\n",
              "          const dataTable =\n",
              "            await google.colab.kernel.invokeFunction('convertToInteractive',\n",
              "                                                     [key], {});\n",
              "          if (!dataTable) return;\n",
              "\n",
              "          const docLinkHtml = 'Like what you see? Visit the ' +\n",
              "            '<a target=\"_blank\" href=https://colab.research.google.com/notebooks/data_table.ipynb>data table notebook</a>'\n",
              "            + ' to learn more about interactive tables.';\n",
              "          element.innerHTML = '';\n",
              "          dataTable['output_type'] = 'display_data';\n",
              "          await google.colab.output.renderOutput(dataTable, element);\n",
              "          const docLink = document.createElement('div');\n",
              "          docLink.innerHTML = docLinkHtml;\n",
              "          element.appendChild(docLink);\n",
              "        }\n",
              "      </script>\n",
              "    </div>\n",
              "  </div>\n",
              "  "
            ]
          },
          "metadata": {}
        },
        {
          "output_type": "stream",
          "name": "stdout",
          "text": [
            "[1.]\n"
          ]
        },
        {
          "output_type": "execute_result",
          "data": {
            "text/plain": [
              "Text(84, 114, 'blue')"
            ]
          },
          "metadata": {},
          "execution_count": 21
        },
        {
          "output_type": "display_data",
          "data": {
            "text/plain": [
              "<Figure size 432x288 with 1 Axes>"
            ],
            "image/png": "[encoded data removed]"
          },
          "metadata": {
            "needs_background": "light"
          }
        }
      ]
    },
    {
      "cell_type": "markdown",
      "metadata": {
        "id": "KfJb1BzQipxp"
      },
      "source": [
        "##  `make_classification()`\n",
        "\n",
        "> 들여쓴 블록\n",
        "\n",
        "\n",
        "* make_classification() : 분류 모델에 적합한 임의의 데이터 생성 함수\n",
        "  * n_samples=100 : 표본 데이터 수(건수)\n",
        "  * n_features=20 : 독립 변수의 수(X 갯수)\n",
        "  * n_informative=2 : 독립 변수 중 종속 변수와 상관관계가 있는 성분 수\n",
        "  * n_redundant=2 : 독립 변수 중 다른 독립 변수의 선형 조합으로 나타나는 성분의 수\n",
        "  * n_repeated=0 : 독립 변수 중 단순 중복된 성분의 수\n",
        "  * n_classes=2 : 종속 변수의 클래스 수\n",
        "  * n_clusters_per_class=2: 클래스 당 클러스터의 수\n",
        "  * weights=None : 클래스 당 표본 수 비율, 예) (0.3, 0.7) \n",
        "  * flip_y=0.01 : 클래스가 임의로 교환되는 샘플의 비율, 노이즈 생성 \n",
        "  * random_state : random seed \n",
        "\n",
        "* sklean의 make_classficiation()함수로 변경해서 실습\n",
        "* `X, y = make_classification(n_samples=50, n_features=2,n_classes=2,  n_redundant=0, random_state=0)`  "
      ]
    },
    {
      "cell_type": "code",
      "metadata": {
        "colab": {
          "base_uri": "https://localhost:8080/",
          "height": 301
        },
        "id": "VBPmTmW6hSKO",
        "outputId": "c122509e-7bc7-459a-f0c1-2a5b74cd76b2"
      },
      "source": [
        "from sklearn.datasets import make_classification\n",
        "\n",
        "#np.random.seed(0)\n",
        "X, y = make_classification(n_samples=50, n_features=2, n_classes=2, n_clusters_per_class=1, n_redundant=0)\n",
        "X.shape, y.shape\n",
        "\n",
        "plt.plot(X[y==0, 0], X[y==0, 1], 'r^')\n",
        "plt.plot(X[y==1, 0], X[y==1, 1], 'bs')\n",
        "newb = np.random.randn(1,2)\n",
        "plt.plot(newb[0, 0], newb[0,1], 'g*')\n",
        "\n",
        "knn = KNeighborsClassifier()\n",
        "knn.fit(X, y)\n",
        "y_pred = knn.predict(newb)\n",
        "print(y_pred)\n",
        "plt.annotate('red'if y_pred==0 else 'blue', xy=newb[0])"
      ],
      "execution_count": null,
      "outputs": [
        {
          "output_type": "stream",
          "name": "stdout",
          "text": [
            "[0]\n"
          ]
        },
        {
          "output_type": "execute_result",
          "data": {
            "text/plain": [
              "Text(0.6724183753553986, 0.6229617272037272, 'red')"
            ]
          },
          "metadata": {},
          "execution_count": 34
        },
        {
          "output_type": "display_data",
          "data": {
            "text/plain": [
              "<Figure size 432x288 with 1 Axes>"
            ],
            "image/png": "[encoded data removed]"
          },
          "metadata": {
            "needs_background": "light"
          }
        }
      ]
    },
    {
      "cell_type": "markdown",
      "metadata": {
        "id": "swsjc-BH2Z__"
      },
      "source": [
        "# Iris 품종 분류\n"
      ]
    },
    {
      "cell_type": "markdown",
      "metadata": {
        "id": "L9yUQBNR3cfk"
      },
      "source": [
        "## Iris Raw Data, CSV\n",
        "* `sns.load_dataset('iris')`\n",
        "* https://raw.githubusercontent.com/mwaskom/seaborn-data/master/iris.csv"
      ]
    },
    {
      "cell_type": "code",
      "source": [
        "file_iris = 'iris.csv'"
      ],
      "metadata": {
        "id": "_Fjubglh-1hu"
      },
      "execution_count": null,
      "outputs": []
    },
    {
      "cell_type": "code",
      "source": [
        "# 강사가 파일을 제공한 경우 실행하지 마세요.\n",
        "import os\n",
        "url_iris = 'https://raw.githubusercontent.com/mwaskom/seaborn-data/master/iris.csv'\n",
        "if os.name =='posix':\n",
        "  !wget -O $file_iris $url_iris\n",
        "else:\n",
        "  !pip install wget\n",
        "  import wget\n",
        "  wget.download(url_iris, out=file_iris)"
      ],
      "metadata": {
        "id": "KWSY8G9-4IRd",
        "colab": {
          "base_uri": "https://localhost:8080/"
        },
        "outputId": "e4dbd134-ee27-4480-f989-382f01f16d99"
      },
      "execution_count": null,
      "outputs": [
        {
          "output_type": "stream",
          "name": "stdout",
          "text": [
            "--2022-09-19 02:54:19--  https://raw.githubusercontent.com/mwaskom/seaborn-data/master/iris.csv\n",
            "Resolving raw.githubusercontent.com (raw.githubusercontent.com)... 185.199.108.133, 185.199.109.133, 185.199.110.133, ...\n",
            "Connecting to raw.githubusercontent.com (raw.githubusercontent.com)|185.199.108.133|:443... connected.\n",
            "HTTP request sent, awaiting response... 200 OK\n",
            "Length: 3858 (3.8K) [text/plain]\n",
            "Saving to: ‘iris.csv’\n",
            "\n",
            "\riris.csv              0%[                    ]       0  --.-KB/s               \riris.csv            100%[===================>]   3.77K  --.-KB/s    in 0s      \n",
            "\n",
            "2022-09-19 02:54:19 (74.6 MB/s) - ‘iris.csv’ saved [3858/3858]\n",
            "\n"
          ]
        }
      ]
    },
    {
      "cell_type": "code",
      "metadata": {
        "colab": {
          "base_uri": "https://localhost:8080/",
          "height": 300
        },
        "id": "jwCSkkIy3KW2",
        "outputId": "37b2f167-4726-4adb-de5f-905e6249980a"
      },
      "source": [
        "iris = pd.read_csv(file_iris)\n",
        "iris[::20]"
      ],
      "execution_count": null,
      "outputs": [
        {
          "output_type": "execute_result",
          "data": {
            "text/plain": [
              "     sepal_length  sepal_width  petal_length  petal_width     species\n",
              "0             5.1          3.5           1.4          0.2      setosa\n",
              "20            5.4          3.4           1.7          0.2      setosa\n",
              "40            5.0          3.5           1.3          0.3      setosa\n",
              "60            5.0          2.0           3.5          1.0  versicolor\n",
              "80            5.5          2.4           3.8          1.1  versicolor\n",
              "100           6.3          3.3           6.0          2.5   virginica\n",
              "120           6.9          3.2           5.7          2.3   virginica\n",
              "140           6.7          3.1           5.6          2.4   virginica"
            ],
            "text/html": [
              "\n",
              "  <div id=\"df-c8fa905c-83e4-4e6d-9dd1-283a48219dca\">\n",
              "    <div class=\"colab-df-container\">\n",
              "      <div>\n",
              "<style scoped>\n",
              "    .dataframe tbody tr th:only-of-type {\n",
              "        vertical-align: middle;\n",
              "    }\n",
              "\n",
              "    .dataframe tbody tr th {\n",
              "        vertical-align: top;\n",
              "    }\n",
              "\n",
              "    .dataframe thead th {\n",
              "        text-align: right;\n",
              "    }\n",
              "</style>\n",
              "<table border=\"1\" class=\"dataframe\">\n",
              "  <thead>\n",
              "    <tr style=\"text-align: right;\">\n",
              "      <th></th>\n",
              "      <th>sepal_length</th>\n",
              "      <th>sepal_width</th>\n",
              "      <th>petal_length</th>\n",
              "      <th>petal_width</th>\n",
              "      <th>species</th>\n",
              "    </tr>\n",
              "  </thead>\n",
              "  <tbody>\n",
              "    <tr>\n",
              "      <th>0</th>\n",
              "      <td>5.1</td>\n",
              "      <td>3.5</td>\n",
              "      <td>1.4</td>\n",
              "      <td>0.2</td>\n",
              "      <td>setosa</td>\n",
              "    </tr>\n",
              "    <tr>\n",
              "      <th>20</th>\n",
              "      <td>5.4</td>\n",
              "      <td>3.4</td>\n",
              "      <td>1.7</td>\n",
              "      <td>0.2</td>\n",
              "      <td>setosa</td>\n",
              "    </tr>\n",
              "    <tr>\n",
              "      <th>40</th>\n",
              "      <td>5.0</td>\n",
              "      <td>3.5</td>\n",
              "      <td>1.3</td>\n",
              "      <td>0.3</td>\n",
              "      <td>setosa</td>\n",
              "    </tr>\n",
              "    <tr>\n",
              "      <th>60</th>\n",
              "      <td>5.0</td>\n",
              "      <td>2.0</td>\n",
              "      <td>3.5</td>\n",
              "      <td>1.0</td>\n",
              "      <td>versicolor</td>\n",
              "    </tr>\n",
              "    <tr>\n",
              "      <th>80</th>\n",
              "      <td>5.5</td>\n",
              "      <td>2.4</td>\n",
              "      <td>3.8</td>\n",
              "      <td>1.1</td>\n",
              "      <td>versicolor</td>\n",
              "    </tr>\n",
              "    <tr>\n",
              "      <th>100</th>\n",
              "      <td>6.3</td>\n",
              "      <td>3.3</td>\n",
              "      <td>6.0</td>\n",
              "      <td>2.5</td>\n",
              "      <td>virginica</td>\n",
              "    </tr>\n",
              "    <tr>\n",
              "      <th>120</th>\n",
              "      <td>6.9</td>\n",
              "      <td>3.2</td>\n",
              "      <td>5.7</td>\n",
              "      <td>2.3</td>\n",
              "      <td>virginica</td>\n",
              "    </tr>\n",
              "    <tr>\n",
              "      <th>140</th>\n",
              "      <td>6.7</td>\n",
              "      <td>3.1</td>\n",
              "      <td>5.6</td>\n",
              "      <td>2.4</td>\n",
              "      <td>virginica</td>\n",
              "    </tr>\n",
              "  </tbody>\n",
              "</table>\n",
              "</div>\n",
              "      <button class=\"colab-df-convert\" onclick=\"convertToInteractive('df-c8fa905c-83e4-4e6d-9dd1-283a48219dca')\"\n",
              "              title=\"Convert this dataframe to an interactive table.\"\n",
              "              style=\"display:none;\">\n",
              "        \n",
              "  <svg xmlns=\"http://www.w3.org/2000/svg\" height=\"24px\"viewBox=\"0 0 24 24\"\n",
              "       width=\"24px\">\n",
              "    <path d=\"M0 0h24v24H0V0z\" fill=\"none\"/>\n",
              "    <path d=\"M18.56 5.44l.94 2.06.94-2.06 2.06-.94-2.06-.94-.94-2.06-.94 2.06-2.06.94zm-11 1L8.5 8.5l.94-2.06 2.06-.94-2.06-.94L8.5 2.5l-.94 2.06-2.06.94zm10 10l.94 2.06.94-2.06 2.06-.94-2.06-.94-.94-2.06-.94 2.06-2.06.94z\"/><path d=\"M17.41 7.96l-1.37-1.37c-.4-.4-.92-.59-1.43-.59-.52 0-1.04.2-1.43.59L10.3 9.45l-7.72 7.72c-.78.78-.78 2.05 0 2.83L4 21.41c.39.39.9.59 1.41.59.51 0 1.02-.2 1.41-.59l7.78-7.78 2.81-2.81c.8-.78.8-2.07 0-2.86zM5.41 20L4 18.59l7.72-7.72 1.47 1.35L5.41 20z\"/>\n",
              "  </svg>\n",
              "      </button>\n",
              "      \n",
              "  <style>\n",
              "    .colab-df-container {\n",
              "      display:flex;\n",
              "      flex-wrap:wrap;\n",
              "      gap: 12px;\n",
              "    }\n",
              "\n",
              "    .colab-df-convert {\n",
              "      background-color: #E8F0FE;\n",
              "      border: none;\n",
              "      border-radius: 50%;\n",
              "      cursor: pointer;\n",
              "      display: none;\n",
              "      fill: #1967D2;\n",
              "      height: 32px;\n",
              "      padding: 0 0 0 0;\n",
              "      width: 32px;\n",
              "    }\n",
              "\n",
              "    .colab-df-convert:hover {\n",
              "      background-color: #E2EBFA;\n",
              "      box-shadow: 0px 1px 2px rgba(60, 64, 67, 0.3), 0px 1px 3px 1px rgba(60, 64, 67, 0.15);\n",
              "      fill: #174EA6;\n",
              "    }\n",
              "\n",
              "    [theme=dark] .colab-df-convert {\n",
              "      background-color: #3B4455;\n",
              "      fill: #D2E3FC;\n",
              "    }\n",
              "\n",
              "    [theme=dark] .colab-df-convert:hover {\n",
              "      background-color: #434B5C;\n",
              "      box-shadow: 0px 1px 3px 1px rgba(0, 0, 0, 0.15);\n",
              "      filter: drop-shadow(0px 1px 2px rgba(0, 0, 0, 0.3));\n",
              "      fill: #FFFFFF;\n",
              "    }\n",
              "  </style>\n",
              "\n",
              "      <script>\n",
              "        const buttonEl =\n",
              "          document.querySelector('#df-c8fa905c-83e4-4e6d-9dd1-283a48219dca button.colab-df-convert');\n",
              "        buttonEl.style.display =\n",
              "          google.colab.kernel.accessAllowed ? 'block' : 'none';\n",
              "\n",
              "        async function convertToInteractive(key) {\n",
              "          const element = document.querySelector('#df-c8fa905c-83e4-4e6d-9dd1-283a48219dca');\n",
              "          const dataTable =\n",
              "            await google.colab.kernel.invokeFunction('convertToInteractive',\n",
              "                                                     [key], {});\n",
              "          if (!dataTable) return;\n",
              "\n",
              "          const docLinkHtml = 'Like what you see? Visit the ' +\n",
              "            '<a target=\"_blank\" href=https://colab.research.google.com/notebooks/data_table.ipynb>data table notebook</a>'\n",
              "            + ' to learn more about interactive tables.';\n",
              "          element.innerHTML = '';\n",
              "          dataTable['output_type'] = 'display_data';\n",
              "          await google.colab.output.renderOutput(dataTable, element);\n",
              "          const docLink = document.createElement('div');\n",
              "          docLink.innerHTML = docLinkHtml;\n",
              "          element.appendChild(docLink);\n",
              "        }\n",
              "      </script>\n",
              "    </div>\n",
              "  </div>\n",
              "  "
            ]
          },
          "metadata": {},
          "execution_count": 37
        }
      ]
    },
    {
      "cell_type": "code",
      "source": [
        "iris.dtypes"
      ],
      "metadata": {
        "colab": {
          "base_uri": "https://localhost:8080/"
        },
        "id": "gPk6zM05ruYX",
        "outputId": "a3b78113-dfd2-44df-fafb-faab11a91e8c"
      },
      "execution_count": null,
      "outputs": [
        {
          "output_type": "execute_result",
          "data": {
            "text/plain": [
              "sepal_length    float64\n",
              "sepal_width     float64\n",
              "petal_length    float64\n",
              "petal_width     float64\n",
              "species          object\n",
              "dtype: object"
            ]
          },
          "metadata": {},
          "execution_count": 38
        }
      ]
    },
    {
      "cell_type": "markdown",
      "metadata": {
        "id": "E8Rc2KKs4O2j"
      },
      "source": [
        "# LabelEncoding\n",
        "* `sklearn.preprocessing.LabelEncoder`\n",
        "  * `fit()`\n",
        "  * `transform()`\n",
        "  * `fit_transfrom()`\n",
        "  * `inverse_transform()`\n",
        "  * `classes_`\n"
      ]
    },
    {
      "cell_type": "code",
      "metadata": {
        "colab": {
          "base_uri": "https://localhost:8080/"
        },
        "id": "luXgHylfPS-H",
        "outputId": "bed0745e-f494-4385-9eef-a2e3822f4a18"
      },
      "source": [
        "from sklearn.preprocessing import LabelEncoder\n",
        "data = ['cat', 'dog', 'cow', 'cat', 'cow', 'cow', 'dog']\n",
        "\n",
        "le = LabelEncoder()\n",
        "le.fit(data)\n",
        "print(le.classes_)\n",
        "code =le.transform(data)\n",
        "print(code)\n",
        "\n",
        "le.inverse_transform(code)"
      ],
      "execution_count": null,
      "outputs": [
        {
          "output_type": "stream",
          "name": "stdout",
          "text": [
            "['cat' 'cow' 'dog']\n",
            "[0 2 1 0 1 1 2]\n"
          ]
        },
        {
          "output_type": "execute_result",
          "data": {
            "text/plain": [
              "array(['cat', 'dog', 'cow', 'cat', 'cow', 'cow', 'dog'], dtype='<U3')"
            ]
          },
          "metadata": {},
          "execution_count": 43
        }
      ]
    },
    {
      "cell_type": "code",
      "metadata": {
        "colab": {
          "base_uri": "https://localhost:8080/",
          "height": 318
        },
        "id": "YIlcfv198jfE",
        "outputId": "8e73fe09-5497-43ae-abe3-9e05caf9fafd"
      },
      "source": [
        "le = LabelEncoder()\n",
        "le.fit(iris['species'])\n",
        "print(le.classes_)\n",
        "iris['target'] = le.transform(iris['species'])\n",
        "iris[::20]"
      ],
      "execution_count": null,
      "outputs": [
        {
          "output_type": "stream",
          "name": "stdout",
          "text": [
            "['setosa' 'versicolor' 'virginica']\n"
          ]
        },
        {
          "output_type": "execute_result",
          "data": {
            "text/plain": [
              "     sepal_length  sepal_width  petal_length  petal_width     species  target\n",
              "0             5.1          3.5           1.4          0.2      setosa       0\n",
              "20            5.4          3.4           1.7          0.2      setosa       0\n",
              "40            5.0          3.5           1.3          0.3      setosa       0\n",
              "60            5.0          2.0           3.5          1.0  versicolor       1\n",
              "80            5.5          2.4           3.8          1.1  versicolor       1\n",
              "100           6.3          3.3           6.0          2.5   virginica       2\n",
              "120           6.9          3.2           5.7          2.3   virginica       2\n",
              "140           6.7          3.1           5.6          2.4   virginica       2"
            ],
            "text/html": [
              "\n",
              "  <div id=\"df-64b14289-55b8-4e9b-a2c5-bff53c72833d\">\n",
              "    <div class=\"colab-df-container\">\n",
              "      <div>\n",
              "<style scoped>\n",
              "    .dataframe tbody tr th:only-of-type {\n",
              "        vertical-align: middle;\n",
              "    }\n",
              "\n",
              "    .dataframe tbody tr th {\n",
              "        vertical-align: top;\n",
              "    }\n",
              "\n",
              "    .dataframe thead th {\n",
              "        text-align: right;\n",
              "    }\n",
              "</style>\n",
              "<table border=\"1\" class=\"dataframe\">\n",
              "  <thead>\n",
              "    <tr style=\"text-align: right;\">\n",
              "      <th></th>\n",
              "      <th>sepal_length</th>\n",
              "      <th>sepal_width</th>\n",
              "      <th>petal_length</th>\n",
              "      <th>petal_width</th>\n",
              "      <th>species</th>\n",
              "      <th>target</th>\n",
              "    </tr>\n",
              "  </thead>\n",
              "  <tbody>\n",
              "    <tr>\n",
              "      <th>0</th>\n",
              "      <td>5.1</td>\n",
              "      <td>3.5</td>\n",
              "      <td>1.4</td>\n",
              "      <td>0.2</td>\n",
              "      <td>setosa</td>\n",
              "      <td>0</td>\n",
              "    </tr>\n",
              "    <tr>\n",
              "      <th>20</th>\n",
              "      <td>5.4</td>\n",
              "      <td>3.4</td>\n",
              "      <td>1.7</td>\n",
              "      <td>0.2</td>\n",
              "      <td>setosa</td>\n",
              "      <td>0</td>\n",
              "    </tr>\n",
              "    <tr>\n",
              "      <th>40</th>\n",
              "      <td>5.0</td>\n",
              "      <td>3.5</td>\n",
              "      <td>1.3</td>\n",
              "      <td>0.3</td>\n",
              "      <td>setosa</td>\n",
              "      <td>0</td>\n",
              "    </tr>\n",
              "    <tr>\n",
              "      <th>60</th>\n",
              "      <td>5.0</td>\n",
              "      <td>2.0</td>\n",
              "      <td>3.5</td>\n",
              "      <td>1.0</td>\n",
              "      <td>versicolor</td>\n",
              "      <td>1</td>\n",
              "    </tr>\n",
              "    <tr>\n",
              "      <th>80</th>\n",
              "      <td>5.5</td>\n",
              "      <td>2.4</td>\n",
              "      <td>3.8</td>\n",
              "      <td>1.1</td>\n",
              "      <td>versicolor</td>\n",
              "      <td>1</td>\n",
              "    </tr>\n",
              "    <tr>\n",
              "      <th>100</th>\n",
              "      <td>6.3</td>\n",
              "      <td>3.3</td>\n",
              "      <td>6.0</td>\n",
              "      <td>2.5</td>\n",
              "      <td>virginica</td>\n",
              "      <td>2</td>\n",
              "    </tr>\n",
              "    <tr>\n",
              "      <th>120</th>\n",
              "      <td>6.9</td>\n",
              "      <td>3.2</td>\n",
              "      <td>5.7</td>\n",
              "      <td>2.3</td>\n",
              "      <td>virginica</td>\n",
              "      <td>2</td>\n",
              "    </tr>\n",
              "    <tr>\n",
              "      <th>140</th>\n",
              "      <td>6.7</td>\n",
              "      <td>3.1</td>\n",
              "      <td>5.6</td>\n",
              "      <td>2.4</td>\n",
              "      <td>virginica</td>\n",
              "      <td>2</td>\n",
              "    </tr>\n",
              "  </tbody>\n",
              "</table>\n",
              "</div>\n",
              "      <button class=\"colab-df-convert\" onclick=\"convertToInteractive('df-64b14289-55b8-4e9b-a2c5-bff53c72833d')\"\n",
              "              title=\"Convert this dataframe to an interactive table.\"\n",
              "              style=\"display:none;\">\n",
              "        \n",
              "  <svg xmlns=\"http://www.w3.org/2000/svg\" height=\"24px\"viewBox=\"0 0 24 24\"\n",
              "       width=\"24px\">\n",
              "    <path d=\"M0 0h24v24H0V0z\" fill=\"none\"/>\n",
              "    <path d=\"M18.56 5.44l.94 2.06.94-2.06 2.06-.94-2.06-.94-.94-2.06-.94 2.06-2.06.94zm-11 1L8.5 8.5l.94-2.06 2.06-.94-2.06-.94L8.5 2.5l-.94 2.06-2.06.94zm10 10l.94 2.06.94-2.06 2.06-.94-2.06-.94-.94-2.06-.94 2.06-2.06.94z\"/><path d=\"M17.41 7.96l-1.37-1.37c-.4-.4-.92-.59-1.43-.59-.52 0-1.04.2-1.43.59L10.3 9.45l-7.72 7.72c-.78.78-.78 2.05 0 2.83L4 21.41c.39.39.9.59 1.41.59.51 0 1.02-.2 1.41-.59l7.78-7.78 2.81-2.81c.8-.78.8-2.07 0-2.86zM5.41 20L4 18.59l7.72-7.72 1.47 1.35L5.41 20z\"/>\n",
              "  </svg>\n",
              "      </button>\n",
              "      \n",
              "  <style>\n",
              "    .colab-df-container {\n",
              "      display:flex;\n",
              "      flex-wrap:wrap;\n",
              "      gap: 12px;\n",
              "    }\n",
              "\n",
              "    .colab-df-convert {\n",
              "      background-color: #E8F0FE;\n",
              "      border: none;\n",
              "      border-radius: 50%;\n",
              "      cursor: pointer;\n",
              "      display: none;\n",
              "      fill: #1967D2;\n",
              "      height: 32px;\n",
              "      padding: 0 0 0 0;\n",
              "      width: 32px;\n",
              "    }\n",
              "\n",
              "    .colab-df-convert:hover {\n",
              "      background-color: #E2EBFA;\n",
              "      box-shadow: 0px 1px 2px rgba(60, 64, 67, 0.3), 0px 1px 3px 1px rgba(60, 64, 67, 0.15);\n",
              "      fill: #174EA6;\n",
              "    }\n",
              "\n",
              "    [theme=dark] .colab-df-convert {\n",
              "      background-color: #3B4455;\n",
              "      fill: #D2E3FC;\n",
              "    }\n",
              "\n",
              "    [theme=dark] .colab-df-convert:hover {\n",
              "      background-color: #434B5C;\n",
              "      box-shadow: 0px 1px 3px 1px rgba(0, 0, 0, 0.15);\n",
              "      filter: drop-shadow(0px 1px 2px rgba(0, 0, 0, 0.3));\n",
              "      fill: #FFFFFF;\n",
              "    }\n",
              "  </style>\n",
              "\n",
              "      <script>\n",
              "        const buttonEl =\n",
              "          document.querySelector('#df-64b14289-55b8-4e9b-a2c5-bff53c72833d button.colab-df-convert');\n",
              "        buttonEl.style.display =\n",
              "          google.colab.kernel.accessAllowed ? 'block' : 'none';\n",
              "\n",
              "        async function convertToInteractive(key) {\n",
              "          const element = document.querySelector('#df-64b14289-55b8-4e9b-a2c5-bff53c72833d');\n",
              "          const dataTable =\n",
              "            await google.colab.kernel.invokeFunction('convertToInteractive',\n",
              "                                                     [key], {});\n",
              "          if (!dataTable) return;\n",
              "\n",
              "          const docLinkHtml = 'Like what you see? Visit the ' +\n",
              "            '<a target=\"_blank\" href=https://colab.research.google.com/notebooks/data_table.ipynb>data table notebook</a>'\n",
              "            + ' to learn more about interactive tables.';\n",
              "          element.innerHTML = '';\n",
              "          dataTable['output_type'] = 'display_data';\n",
              "          await google.colab.output.renderOutput(dataTable, element);\n",
              "          const docLink = document.createElement('div');\n",
              "          docLink.innerHTML = docLinkHtml;\n",
              "          element.appendChild(docLink);\n",
              "        }\n",
              "      </script>\n",
              "    </div>\n",
              "  </div>\n",
              "  "
            ]
          },
          "metadata": {},
          "execution_count": 46
        }
      ]
    },
    {
      "cell_type": "markdown",
      "metadata": {
        "id": "y8KXhpWRK4Qb"
      },
      "source": [
        "# 데이타 분할\n",
        "* `X_train, X_test, y_train, y_test = sklearn.model_selection.train_test_split(X, y)`"
      ]
    },
    {
      "cell_type": "code",
      "metadata": {
        "id": "iMICB9hyK4Qc",
        "colab": {
          "base_uri": "https://localhost:8080/"
        },
        "outputId": "a9b248c0-dc56-4f79-8158-70d9e2c6e25f"
      },
      "source": [
        "from sklearn.model_selection import  train_test_split\n",
        "\n",
        "X = np.arange(10)\n",
        "y = X * X\n",
        "print('X:', X, 'y:', y)\n",
        "\n",
        "X_train, X_test, y_train, y_test =train_test_split(X, y, test_size=4, shuffle=False)\n",
        "\n",
        "print('X train:', X_train)\n",
        "print('X test:', X_test)\n",
        "print('y train:', y_train)\n",
        "print('y test:', y_test)"
      ],
      "execution_count": null,
      "outputs": [
        {
          "output_type": "stream",
          "name": "stdout",
          "text": [
            "X: [0 1 2 3 4 5 6 7 8 9] y: [ 0  1  4  9 16 25 36 49 64 81]\n",
            "X train: [0 1 2 3 4 5]\n",
            "X test: [6 7 8 9]\n",
            "y train: [ 0  1  4  9 16 25]\n",
            "y test: [36 49 64 81]\n"
          ]
        }
      ]
    },
    {
      "cell_type": "markdown",
      "metadata": {
        "id": "SOTlGvOH9s_C"
      },
      "source": [
        "## Iris Raw Data 분류"
      ]
    },
    {
      "cell_type": "code",
      "metadata": {
        "colab": {
          "base_uri": "https://localhost:8080/"
        },
        "id": "5KIo_oJF59mO",
        "outputId": "eaa701ea-d7e8-4c86-9214-77457ea52f5c"
      },
      "source": [
        "from sklearn.model_selection import  train_test_split\n",
        "\n",
        "feature_names = ['sepal_length','sepal_width','petal_length','petal_width']\n",
        "X_train, X_test, y_train, y_test = train_test_split(iris[feature_names], iris['target'], random_state=0)\n",
        "print(X_train.shape, X_test.shape, y_train.shape, y_test.shape)\n",
        "\n",
        "knn = KNeighborsClassifier()\n",
        "knn.fit(X_train, y_train)\n",
        "y_pred = knn.predict(X_test)\n",
        "\n",
        "print(y_test.values, y_pred)\n",
        "print(np.sum(y_test.values == y_pred)/y_test.shape[0])\n",
        "np.mean(y_test == y_pred)"
      ],
      "execution_count": null,
      "outputs": [
        {
          "output_type": "stream",
          "name": "stdout",
          "text": [
            "(112, 4) (38, 4) (112,) (38,)\n",
            "[2 1 0 2 0 2 0 1 1 1 2 1 1 1 1 0 1 1 0 0 2 1 0 0 2 0 0 1 1 0 2 1 0 2 2 1 0\n",
            " 1] [2 1 0 2 0 2 0 1 1 1 2 1 1 1 1 0 1 1 0 0 2 1 0 0 2 0 0 1 1 0 2 1 0 2 2 1 0\n",
            " 2]\n",
            "0.9736842105263158\n"
          ]
        },
        {
          "output_type": "execute_result",
          "data": {
            "text/plain": [
              "0.9736842105263158"
            ]
          },
          "metadata": {},
          "execution_count": 63
        }
      ]
    },
    {
      "cell_type": "markdown",
      "metadata": {
        "id": "jHirwBBDK4Pj"
      },
      "source": [
        "# scikit-learn Dataset\n",
        "* `sklearn.datasets.load_iris()`"
      ]
    },
    {
      "cell_type": "code",
      "metadata": {
        "id": "qzaAQAmmK4Pk",
        "colab": {
          "base_uri": "https://localhost:8080/"
        },
        "outputId": "7788b8ad-fdb2-4194-97f4-4f64ebb718c7"
      },
      "source": [
        "from sklearn.datasets import load_iris\n",
        "iris = load_iris()\n",
        "iris"
      ],
      "execution_count": null,
      "outputs": [
        {
          "output_type": "execute_result",
          "data": {
            "text/plain": [
              "{'data': array([[5.1, 3.5, 1.4, 0.2],\n",
              "        [4.9, 3. , 1.4, 0.2],\n",
              "        [4.7, 3.2, 1.3, 0.2],\n",
              "        [4.6, 3.1, 1.5, 0.2],\n",
              "        [5. , 3.6, 1.4, 0.2],\n",
              "        [5.4, 3.9, 1.7, 0.4],\n",
              "        [4.6, 3.4, 1.4, 0.3],\n",
              "        [5. , 3.4, 1.5, 0.2],\n",
              "        [4.4, 2.9, 1.4, 0.2],\n",
              "        [4.9, 3.1, 1.5, 0.1],\n",
              "        [5.4, 3.7, 1.5, 0.2],\n",
              "        [4.8, 3.4, 1.6, 0.2],\n",
              "        [4.8, 3. , 1.4, 0.1],\n",
              "        [4.3, 3. , 1.1, 0.1],\n",
              "        [5.8, 4. , 1.2, 0.2],\n",
              "        [5.7, 4.4, 1.5, 0.4],\n",
              "        [5.4, 3.9, 1.3, 0.4],\n",
              "        [5.1, 3.5, 1.4, 0.3],\n",
              "        [5.7, 3.8, 1.7, 0.3],\n",
              "        [5.1, 3.8, 1.5, 0.3],\n",
              "        [5.4, 3.4, 1.7, 0.2],\n",
              "        [5.1, 3.7, 1.5, 0.4],\n",
              "        [4.6, 3.6, 1. , 0.2],\n",
              "        [5.1, 3.3, 1.7, 0.5],\n",
              "        [4.8, 3.4, 1.9, 0.2],\n",
              "        [5. , 3. , 1.6, 0.2],\n",
              "        [5. , 3.4, 1.6, 0.4],\n",
              "        [5.2, 3.5, 1.5, 0.2],\n",
              "        [5.2, 3.4, 1.4, 0.2],\n",
              "        [4.7, 3.2, 1.6, 0.2],\n",
              "        [4.8, 3.1, 1.6, 0.2],\n",
              "        [5.4, 3.4, 1.5, 0.4],\n",
              "        [5.2, 4.1, 1.5, 0.1],\n",
              "        [5.5, 4.2, 1.4, 0.2],\n",
              "        [4.9, 3.1, 1.5, 0.2],\n",
              "        [5. , 3.2, 1.2, 0.2],\n",
              "        [5.5, 3.5, 1.3, 0.2],\n",
              "        [4.9, 3.6, 1.4, 0.1],\n",
              "        [4.4, 3. , 1.3, 0.2],\n",
              "        [5.1, 3.4, 1.5, 0.2],\n",
              "        [5. , 3.5, 1.3, 0.3],\n",
              "        [4.5, 2.3, 1.3, 0.3],\n",
              "        [4.4, 3.2, 1.3, 0.2],\n",
              "        [5. , 3.5, 1.6, 0.6],\n",
              "        [5.1, 3.8, 1.9, 0.4],\n",
              "        [4.8, 3. , 1.4, 0.3],\n",
              "        [5.1, 3.8, 1.6, 0.2],\n",
              "        [4.6, 3.2, 1.4, 0.2],\n",
              "        [5.3, 3.7, 1.5, 0.2],\n",
              "        [5. , 3.3, 1.4, 0.2],\n",
              "        [7. , 3.2, 4.7, 1.4],\n",
              "        [6.4, 3.2, 4.5, 1.5],\n",
              "        [6.9, 3.1, 4.9, 1.5],\n",
              "        [5.5, 2.3, 4. , 1.3],\n",
              "        [6.5, 2.8, 4.6, 1.5],\n",
              "        [5.7, 2.8, 4.5, 1.3],\n",
              "        [6.3, 3.3, 4.7, 1.6],\n",
              "        [4.9, 2.4, 3.3, 1. ],\n",
              "        [6.6, 2.9, 4.6, 1.3],\n",
              "        [5.2, 2.7, 3.9, 1.4],\n",
              "        [5. , 2. , 3.5, 1. ],\n",
              "        [5.9, 3. , 4.2, 1.5],\n",
              "        [6. , 2.2, 4. , 1. ],\n",
              "        [6.1, 2.9, 4.7, 1.4],\n",
              "        [5.6, 2.9, 3.6, 1.3],\n",
              "        [6.7, 3.1, 4.4, 1.4],\n",
              "        [5.6, 3. , 4.5, 1.5],\n",
              "        [5.8, 2.7, 4.1, 1. ],\n",
              "        [6.2, 2.2, 4.5, 1.5],\n",
              "        [5.6, 2.5, 3.9, 1.1],\n",
              "        [5.9, 3.2, 4.8, 1.8],\n",
              "        [6.1, 2.8, 4. , 1.3],\n",
              "        [6.3, 2.5, 4.9, 1.5],\n",
              "        [6.1, 2.8, 4.7, 1.2],\n",
              "        [6.4, 2.9, 4.3, 1.3],\n",
              "        [6.6, 3. , 4.4, 1.4],\n",
              "        [6.8, 2.8, 4.8, 1.4],\n",
              "        [6.7, 3. , 5. , 1.7],\n",
              "        [6. , 2.9, 4.5, 1.5],\n",
              "        [5.7, 2.6, 3.5, 1. ],\n",
              "        [5.5, 2.4, 3.8, 1.1],\n",
              "        [5.5, 2.4, 3.7, 1. ],\n",
              "        [5.8, 2.7, 3.9, 1.2],\n",
              "        [6. , 2.7, 5.1, 1.6],\n",
              "        [5.4, 3. , 4.5, 1.5],\n",
              "        [6. , 3.4, 4.5, 1.6],\n",
              "        [6.7, 3.1, 4.7, 1.5],\n",
              "        [6.3, 2.3, 4.4, 1.3],\n",
              "        [5.6, 3. , 4.1, 1.3],\n",
              "        [5.5, 2.5, 4. , 1.3],\n",
              "        [5.5, 2.6, 4.4, 1.2],\n",
              "        [6.1, 3. , 4.6, 1.4],\n",
              "        [5.8, 2.6, 4. , 1.2],\n",
              "        [5. , 2.3, 3.3, 1. ],\n",
              "        [5.6, 2.7, 4.2, 1.3],\n",
              "        [5.7, 3. , 4.2, 1.2],\n",
              "        [5.7, 2.9, 4.2, 1.3],\n",
              "        [6.2, 2.9, 4.3, 1.3],\n",
              "        [5.1, 2.5, 3. , 1.1],\n",
              "        [5.7, 2.8, 4.1, 1.3],\n",
              "        [6.3, 3.3, 6. , 2.5],\n",
              "        [5.8, 2.7, 5.1, 1.9],\n",
              "        [7.1, 3. , 5.9, 2.1],\n",
              "        [6.3, 2.9, 5.6, 1.8],\n",
              "        [6.5, 3. , 5.8, 2.2],\n",
              "        [7.6, 3. , 6.6, 2.1],\n",
              "        [4.9, 2.5, 4.5, 1.7],\n",
              "        [7.3, 2.9, 6.3, 1.8],\n",
              "        [6.7, 2.5, 5.8, 1.8],\n",
              "        [7.2, 3.6, 6.1, 2.5],\n",
              "        [6.5, 3.2, 5.1, 2. ],\n",
              "        [6.4, 2.7, 5.3, 1.9],\n",
              "        [6.8, 3. , 5.5, 2.1],\n",
              "        [5.7, 2.5, 5. , 2. ],\n",
              "        [5.8, 2.8, 5.1, 2.4],\n",
              "        [6.4, 3.2, 5.3, 2.3],\n",
              "        [6.5, 3. , 5.5, 1.8],\n",
              "        [7.7, 3.8, 6.7, 2.2],\n",
              "        [7.7, 2.6, 6.9, 2.3],\n",
              "        [6. , 2.2, 5. , 1.5],\n",
              "        [6.9, 3.2, 5.7, 2.3],\n",
              "        [5.6, 2.8, 4.9, 2. ],\n",
              "        [7.7, 2.8, 6.7, 2. ],\n",
              "        [6.3, 2.7, 4.9, 1.8],\n",
              "        [6.7, 3.3, 5.7, 2.1],\n",
              "        [7.2, 3.2, 6. , 1.8],\n",
              "        [6.2, 2.8, 4.8, 1.8],\n",
              "        [6.1, 3. , 4.9, 1.8],\n",
              "        [6.4, 2.8, 5.6, 2.1],\n",
              "        [7.2, 3. , 5.8, 1.6],\n",
              "        [7.4, 2.8, 6.1, 1.9],\n",
              "        [7.9, 3.8, 6.4, 2. ],\n",
              "        [6.4, 2.8, 5.6, 2.2],\n",
              "        [6.3, 2.8, 5.1, 1.5],\n",
              "        [6.1, 2.6, 5.6, 1.4],\n",
              "        [7.7, 3. , 6.1, 2.3],\n",
              "        [6.3, 3.4, 5.6, 2.4],\n",
              "        [6.4, 3.1, 5.5, 1.8],\n",
              "        [6. , 3. , 4.8, 1.8],\n",
              "        [6.9, 3.1, 5.4, 2.1],\n",
              "        [6.7, 3.1, 5.6, 2.4],\n",
              "        [6.9, 3.1, 5.1, 2.3],\n",
              "        [5.8, 2.7, 5.1, 1.9],\n",
              "        [6.8, 3.2, 5.9, 2.3],\n",
              "        [6.7, 3.3, 5.7, 2.5],\n",
              "        [6.7, 3. , 5.2, 2.3],\n",
              "        [6.3, 2.5, 5. , 1.9],\n",
              "        [6.5, 3. , 5.2, 2. ],\n",
              "        [6.2, 3.4, 5.4, 2.3],\n",
              "        [5.9, 3. , 5.1, 1.8]]),\n",
              " 'target': array([0, 0, 0, 0, 0, 0, 0, 0, 0, 0, 0, 0, 0, 0, 0, 0, 0, 0, 0, 0, 0, 0,\n",
              "        0, 0, 0, 0, 0, 0, 0, 0, 0, 0, 0, 0, 0, 0, 0, 0, 0, 0, 0, 0, 0, 0,\n",
              "        0, 0, 0, 0, 0, 0, 1, 1, 1, 1, 1, 1, 1, 1, 1, 1, 1, 1, 1, 1, 1, 1,\n",
              "        1, 1, 1, 1, 1, 1, 1, 1, 1, 1, 1, 1, 1, 1, 1, 1, 1, 1, 1, 1, 1, 1,\n",
              "        1, 1, 1, 1, 1, 1, 1, 1, 1, 1, 1, 1, 2, 2, 2, 2, 2, 2, 2, 2, 2, 2,\n",
              "        2, 2, 2, 2, 2, 2, 2, 2, 2, 2, 2, 2, 2, 2, 2, 2, 2, 2, 2, 2, 2, 2,\n",
              "        2, 2, 2, 2, 2, 2, 2, 2, 2, 2, 2, 2, 2, 2, 2, 2, 2, 2]),\n",
              " 'frame': None,\n",
              " 'target_names': array(['setosa', 'versicolor', 'virginica'], dtype='<U10'),\n",
              " 'DESCR': '.. _iris_dataset:\\n\\nIris plants dataset\\n--------------------\\n\\n**Data Set Characteristics:**\\n\\n    :Number of Instances: 150 (50 in each of three classes)\\n    :Number of Attributes: 4 numeric, predictive attributes and the class\\n    :Attribute Information:\\n        - sepal length in cm\\n        - sepal width in cm\\n        - petal length in cm\\n        - petal width in cm\\n        - class:\\n                - Iris-Setosa\\n                - Iris-Versicolour\\n                - Iris-Virginica\\n                \\n    :Summary Statistics:\\n\\n    ============== ==== ==== ======= ===== ====================\\n                    Min  Max   Mean    SD   Class Correlation\\n    ============== ==== ==== ======= ===== ====================\\n    sepal length:   4.3  7.9   5.84   0.83    0.7826\\n    sepal width:    2.0  4.4   3.05   0.43   -0.4194\\n    petal length:   1.0  6.9   3.76   1.76    0.9490  (high!)\\n    petal width:    0.1  2.5   1.20   0.76    0.9565  (high!)\\n    ============== ==== ==== ======= ===== ====================\\n\\n    :Missing Attribute Values: None\\n    :Class Distribution: 33.3% for each of 3 classes.\\n    :Creator: R.A. Fisher\\n    :Donor: Michael Marshall (MARSHALL%PLU@io.arc.nasa.gov)\\n    :Date: July, 1988\\n\\nThe famous Iris database, first used by Sir R.A. Fisher. The dataset is taken\\nfrom Fisher\\'s paper. Note that it\\'s the same as in R, but not as in the UCI\\nMachine Learning Repository, which has two wrong data points.\\n\\nThis is perhaps the best known database to be found in the\\npattern recognition literature.  Fisher\\'s paper is a classic in the field and\\nis referenced frequently to this day.  (See Duda & Hart, for example.)  The\\ndata set contains 3 classes of 50 instances each, where each class refers to a\\ntype of iris plant.  One class is linearly separable from the other 2; the\\nlatter are NOT linearly separable from each other.\\n\\n.. topic:: References\\n\\n   - Fisher, R.A. \"The use of multiple measurements in taxonomic problems\"\\n     Annual Eugenics, 7, Part II, 179-188 (1936); also in \"Contributions to\\n     Mathematical Statistics\" (John Wiley, NY, 1950).\\n   - Duda, R.O., & Hart, P.E. (1973) Pattern Classification and Scene Analysis.\\n     (Q327.D83) John Wiley & Sons.  ISBN 0-471-22361-1.  See page 218.\\n   - Dasarathy, B.V. (1980) \"Nosing Around the Neighborhood: A New System\\n     Structure and Classification Rule for Recognition in Partially Exposed\\n     Environments\".  IEEE Transactions on Pattern Analysis and Machine\\n     Intelligence, Vol. PAMI-2, No. 1, 67-71.\\n   - Gates, G.W. (1972) \"The Reduced Nearest Neighbor Rule\".  IEEE Transactions\\n     on Information Theory, May 1972, 431-433.\\n   - See also: 1988 MLC Proceedings, 54-64.  Cheeseman et al\"s AUTOCLASS II\\n     conceptual clustering system finds 3 classes in the data.\\n   - Many, many more ...',\n",
              " 'feature_names': ['sepal length (cm)',\n",
              "  'sepal width (cm)',\n",
              "  'petal length (cm)',\n",
              "  'petal width (cm)'],\n",
              " 'filename': 'iris.csv',\n",
              " 'data_module': 'sklearn.datasets.data'}"
            ]
          },
          "metadata": {},
          "execution_count": 64
        }
      ]
    },
    {
      "cell_type": "markdown",
      "metadata": {
        "id": "MmPcOUceb377"
      },
      "source": [
        "* type() "
      ]
    },
    {
      "cell_type": "code",
      "metadata": {
        "id": "N387xfTlK4Pr",
        "colab": {
          "base_uri": "https://localhost:8080/"
        },
        "outputId": "15b13787-3bcd-4c55-f8d8-165943c6d9dc"
      },
      "source": [
        "type(iris)"
      ],
      "execution_count": null,
      "outputs": [
        {
          "output_type": "execute_result",
          "data": {
            "text/plain": [
              "sklearn.utils.Bunch"
            ]
          },
          "metadata": {},
          "execution_count": 65
        }
      ]
    },
    {
      "cell_type": "markdown",
      "metadata": {
        "id": "j3gJTo8wb5Zq"
      },
      "source": [
        "* keys()"
      ]
    },
    {
      "cell_type": "code",
      "metadata": {
        "scrolled": true,
        "id": "MrMBIWcmK4Pw",
        "colab": {
          "base_uri": "https://localhost:8080/"
        },
        "outputId": "3d5c4554-177f-420c-aa26-184f354a34f5"
      },
      "source": [
        "iris.keys()"
      ],
      "execution_count": null,
      "outputs": [
        {
          "output_type": "execute_result",
          "data": {
            "text/plain": [
              "dict_keys(['data', 'target', 'frame', 'target_names', 'DESCR', 'feature_names', 'filename', 'data_module'])"
            ]
          },
          "metadata": {},
          "execution_count": 66
        }
      ]
    },
    {
      "cell_type": "markdown",
      "metadata": {
        "id": "1kX7NLcXb7cZ"
      },
      "source": [
        "* DESCR"
      ]
    },
    {
      "cell_type": "code",
      "metadata": {
        "scrolled": true,
        "id": "N6VQdyuHK4P1",
        "colab": {
          "base_uri": "https://localhost:8080/"
        },
        "outputId": "48d3bf87-fc09-4810-a262-e26a13b9faba"
      },
      "source": [
        "print(iris['DESCR'])"
      ],
      "execution_count": null,
      "outputs": [
        {
          "output_type": "stream",
          "name": "stdout",
          "text": [
            ".. _iris_dataset:\n",
            "\n",
            "Iris plants dataset\n",
            "--------------------\n",
            "\n",
            "**Data Set Characteristics:**\n",
            "\n",
            "    :Number of Instances: 150 (50 in each of three classes)\n",
            "    :Number of Attributes: 4 numeric, predictive attributes and the class\n",
            "    :Attribute Information:\n",
            "        - sepal length in cm\n",
            "        - sepal width in cm\n",
            "        - petal length in cm\n",
            "        - petal width in cm\n",
            "        - class:\n",
            "                - Iris-Setosa\n",
            "                - Iris-Versicolour\n",
            "                - Iris-Virginica\n",
            "                \n",
            "    :Summary Statistics:\n",
            "\n",
            "    ============== ==== ==== ======= ===== ====================\n",
            "                    Min  Max   Mean    SD   Class Correlation\n",
            "    ============== ==== ==== ======= ===== ====================\n",
            "    sepal length:   4.3  7.9   5.84   0.83    0.7826\n",
            "    sepal width:    2.0  4.4   3.05   0.43   -0.4194\n",
            "    petal length:   1.0  6.9   3.76   1.76    0.9490  (high!)\n",
            "    petal width:    0.1  2.5   1.20   0.76    0.9565  (high!)\n",
            "    ============== ==== ==== ======= ===== ====================\n",
            "\n",
            "    :Missing Attribute Values: None\n",
            "    :Class Distribution: 33.3% for each of 3 classes.\n",
            "    :Creator: R.A. Fisher\n",
            "    :Donor: Michael Marshall (MARSHALL%PLU@io.arc.nasa.gov)\n",
            "    :Date: July, 1988\n",
            "\n",
            "The famous Iris database, first used by Sir R.A. Fisher. The dataset is taken\n",
            "from Fisher's paper. Note that it's the same as in R, but not as in the UCI\n",
            "Machine Learning Repository, which has two wrong data points.\n",
            "\n",
            "This is perhaps the best known database to be found in the\n",
            "pattern recognition literature.  Fisher's paper is a classic in the field and\n",
            "is referenced frequently to this day.  (See Duda & Hart, for example.)  The\n",
            "data set contains 3 classes of 50 instances each, where each class refers to a\n",
            "type of iris plant.  One class is linearly separable from the other 2; the\n",
            "latter are NOT linearly separable from each other.\n",
            "\n",
            ".. topic:: References\n",
            "\n",
            "   - Fisher, R.A. \"The use of multiple measurements in taxonomic problems\"\n",
            "     Annual Eugenics, 7, Part II, 179-188 (1936); also in \"Contributions to\n",
            "     Mathematical Statistics\" (John Wiley, NY, 1950).\n",
            "   - Duda, R.O., & Hart, P.E. (1973) Pattern Classification and Scene Analysis.\n",
            "     (Q327.D83) John Wiley & Sons.  ISBN 0-471-22361-1.  See page 218.\n",
            "   - Dasarathy, B.V. (1980) \"Nosing Around the Neighborhood: A New System\n",
            "     Structure and Classification Rule for Recognition in Partially Exposed\n",
            "     Environments\".  IEEE Transactions on Pattern Analysis and Machine\n",
            "     Intelligence, Vol. PAMI-2, No. 1, 67-71.\n",
            "   - Gates, G.W. (1972) \"The Reduced Nearest Neighbor Rule\".  IEEE Transactions\n",
            "     on Information Theory, May 1972, 431-433.\n",
            "   - See also: 1988 MLC Proceedings, 54-64.  Cheeseman et al\"s AUTOCLASS II\n",
            "     conceptual clustering system finds 3 classes in the data.\n",
            "   - Many, many more ...\n"
          ]
        }
      ]
    },
    {
      "cell_type": "markdown",
      "metadata": {
        "id": "6S80UN_xcBMa"
      },
      "source": [
        "* data"
      ]
    },
    {
      "cell_type": "code",
      "metadata": {
        "id": "4eBn7MpmK4QC",
        "colab": {
          "base_uri": "https://localhost:8080/"
        },
        "outputId": "69a6fa82-1bdd-4136-d435-15a9d83afb76"
      },
      "source": [
        "iris.data[:5]"
      ],
      "execution_count": null,
      "outputs": [
        {
          "output_type": "execute_result",
          "data": {
            "text/plain": [
              "array([[5.1, 3.5, 1.4, 0.2],\n",
              "       [4.9, 3. , 1.4, 0.2],\n",
              "       [4.7, 3.2, 1.3, 0.2],\n",
              "       [4.6, 3.1, 1.5, 0.2],\n",
              "       [5. , 3.6, 1.4, 0.2]])"
            ]
          },
          "metadata": {},
          "execution_count": 69
        }
      ]
    },
    {
      "cell_type": "markdown",
      "metadata": {
        "id": "r58VuVy1cCga"
      },
      "source": [
        "* data.shape"
      ]
    },
    {
      "cell_type": "code",
      "metadata": {
        "id": "Ca7rOHjhK4QK",
        "colab": {
          "base_uri": "https://localhost:8080/"
        },
        "outputId": "eb68bc40-77d4-4dbe-faf3-debdbcc58e5f"
      },
      "source": [
        "iris.data.shape"
      ],
      "execution_count": null,
      "outputs": [
        {
          "output_type": "execute_result",
          "data": {
            "text/plain": [
              "(150, 4)"
            ]
          },
          "metadata": {},
          "execution_count": 70
        }
      ]
    },
    {
      "cell_type": "markdown",
      "metadata": {
        "id": "73Vz7pxjb9WD"
      },
      "source": [
        "* feature_names"
      ]
    },
    {
      "cell_type": "code",
      "metadata": {
        "id": "5_5b1XuxK4P6",
        "colab": {
          "base_uri": "https://localhost:8080/"
        },
        "outputId": "4bd49e74-763e-4124-b41a-68a4c6aca1f6"
      },
      "source": [
        "iris.feature_names"
      ],
      "execution_count": null,
      "outputs": [
        {
          "output_type": "execute_result",
          "data": {
            "text/plain": [
              "['sepal length (cm)',\n",
              " 'sepal width (cm)',\n",
              " 'petal length (cm)',\n",
              " 'petal width (cm)']"
            ]
          },
          "metadata": {},
          "execution_count": 71
        }
      ]
    },
    {
      "cell_type": "markdown",
      "metadata": {
        "id": "SO3o82nLcEes"
      },
      "source": [
        "* target"
      ]
    },
    {
      "cell_type": "code",
      "metadata": {
        "id": "i-TtYXgeK4QO",
        "colab": {
          "base_uri": "https://localhost:8080/"
        },
        "outputId": "46b3dae3-9941-4432-f32e-2cc46a216b85"
      },
      "source": [
        "iris.target"
      ],
      "execution_count": null,
      "outputs": [
        {
          "output_type": "execute_result",
          "data": {
            "text/plain": [
              "array([0, 0, 0, 0, 0, 0, 0, 0, 0, 0, 0, 0, 0, 0, 0, 0, 0, 0, 0, 0, 0, 0,\n",
              "       0, 0, 0, 0, 0, 0, 0, 0, 0, 0, 0, 0, 0, 0, 0, 0, 0, 0, 0, 0, 0, 0,\n",
              "       0, 0, 0, 0, 0, 0, 1, 1, 1, 1, 1, 1, 1, 1, 1, 1, 1, 1, 1, 1, 1, 1,\n",
              "       1, 1, 1, 1, 1, 1, 1, 1, 1, 1, 1, 1, 1, 1, 1, 1, 1, 1, 1, 1, 1, 1,\n",
              "       1, 1, 1, 1, 1, 1, 1, 1, 1, 1, 1, 1, 2, 2, 2, 2, 2, 2, 2, 2, 2, 2,\n",
              "       2, 2, 2, 2, 2, 2, 2, 2, 2, 2, 2, 2, 2, 2, 2, 2, 2, 2, 2, 2, 2, 2,\n",
              "       2, 2, 2, 2, 2, 2, 2, 2, 2, 2, 2, 2, 2, 2, 2, 2, 2, 2])"
            ]
          },
          "metadata": {},
          "execution_count": 72
        }
      ]
    },
    {
      "cell_type": "markdown",
      "metadata": {
        "id": "vP6SedLlcGUB"
      },
      "source": [
        "* target.shape"
      ]
    },
    {
      "cell_type": "code",
      "metadata": {
        "id": "YJlXWUlUK4QS",
        "colab": {
          "base_uri": "https://localhost:8080/"
        },
        "outputId": "ff5ca258-89e5-44f1-9d61-524614e3da65"
      },
      "source": [
        "iris.target.shape"
      ],
      "execution_count": null,
      "outputs": [
        {
          "output_type": "execute_result",
          "data": {
            "text/plain": [
              "(150,)"
            ]
          },
          "metadata": {},
          "execution_count": 74
        }
      ]
    },
    {
      "cell_type": "markdown",
      "metadata": {
        "id": "h4IJW0w6b_Uh"
      },
      "source": [
        "* target_names"
      ]
    },
    {
      "cell_type": "code",
      "metadata": {
        "id": "xKid1HeIK4P-",
        "colab": {
          "base_uri": "https://localhost:8080/"
        },
        "outputId": "52a40222-c8d0-417c-bd4e-ab55edc0f85c"
      },
      "source": [
        "iris.target_names"
      ],
      "execution_count": null,
      "outputs": [
        {
          "output_type": "execute_result",
          "data": {
            "text/plain": [
              "array(['setosa', 'versicolor', 'virginica'], dtype='<U10')"
            ]
          },
          "metadata": {},
          "execution_count": 75
        }
      ]
    },
    {
      "cell_type": "markdown",
      "metadata": {
        "id": "-Vs9tlrmcJS9"
      },
      "source": [
        "* DataFrame으로 생성"
      ]
    },
    {
      "cell_type": "code",
      "metadata": {
        "id": "WrGDYvBtK4QW",
        "colab": {
          "base_uri": "https://localhost:8080/",
          "height": 300
        },
        "outputId": "50baa006-ff87-43f0-f711-d47d1abbe900"
      },
      "source": [
        "import pandas as pd\n",
        "\n",
        "df = pd.DataFrame(iris.data, columns=iris.feature_names)\n",
        "df['target'] = iris.target\n",
        "df['speces'] = iris.target_names[iris.target]\n",
        "df[::20]"
      ],
      "execution_count": null,
      "outputs": [
        {
          "output_type": "execute_result",
          "data": {
            "text/plain": [
              "     sepal length (cm)  sepal width (cm)  petal length (cm)  petal width (cm)  \\\n",
              "0                  5.1               3.5                1.4               0.2   \n",
              "20                 5.4               3.4                1.7               0.2   \n",
              "40                 5.0               3.5                1.3               0.3   \n",
              "60                 5.0               2.0                3.5               1.0   \n",
              "80                 5.5               2.4                3.8               1.1   \n",
              "100                6.3               3.3                6.0               2.5   \n",
              "120                6.9               3.2                5.7               2.3   \n",
              "140                6.7               3.1                5.6               2.4   \n",
              "\n",
              "     target      speces  \n",
              "0         0      setosa  \n",
              "20        0      setosa  \n",
              "40        0      setosa  \n",
              "60        1  versicolor  \n",
              "80        1  versicolor  \n",
              "100       2   virginica  \n",
              "120       2   virginica  \n",
              "140       2   virginica  "
            ],
            "text/html": [
              "\n",
              "  <div id=\"df-6f454ecf-c80a-49a4-a09e-43265c44e527\">\n",
              "    <div class=\"colab-df-container\">\n",
              "      <div>\n",
              "<style scoped>\n",
              "    .dataframe tbody tr th:only-of-type {\n",
              "        vertical-align: middle;\n",
              "    }\n",
              "\n",
              "    .dataframe tbody tr th {\n",
              "        vertical-align: top;\n",
              "    }\n",
              "\n",
              "    .dataframe thead th {\n",
              "        text-align: right;\n",
              "    }\n",
              "</style>\n",
              "<table border=\"1\" class=\"dataframe\">\n",
              "  <thead>\n",
              "    <tr style=\"text-align: right;\">\n",
              "      <th></th>\n",
              "      <th>sepal length (cm)</th>\n",
              "      <th>sepal width (cm)</th>\n",
              "      <th>petal length (cm)</th>\n",
              "      <th>petal width (cm)</th>\n",
              "      <th>target</th>\n",
              "      <th>speces</th>\n",
              "    </tr>\n",
              "  </thead>\n",
              "  <tbody>\n",
              "    <tr>\n",
              "      <th>0</th>\n",
              "      <td>5.1</td>\n",
              "      <td>3.5</td>\n",
              "      <td>1.4</td>\n",
              "      <td>0.2</td>\n",
              "      <td>0</td>\n",
              "      <td>setosa</td>\n",
              "    </tr>\n",
              "    <tr>\n",
              "      <th>20</th>\n",
              "      <td>5.4</td>\n",
              "      <td>3.4</td>\n",
              "      <td>1.7</td>\n",
              "      <td>0.2</td>\n",
              "      <td>0</td>\n",
              "      <td>setosa</td>\n",
              "    </tr>\n",
              "    <tr>\n",
              "      <th>40</th>\n",
              "      <td>5.0</td>\n",
              "      <td>3.5</td>\n",
              "      <td>1.3</td>\n",
              "      <td>0.3</td>\n",
              "      <td>0</td>\n",
              "      <td>setosa</td>\n",
              "    </tr>\n",
              "    <tr>\n",
              "      <th>60</th>\n",
              "      <td>5.0</td>\n",
              "      <td>2.0</td>\n",
              "      <td>3.5</td>\n",
              "      <td>1.0</td>\n",
              "      <td>1</td>\n",
              "      <td>versicolor</td>\n",
              "    </tr>\n",
              "    <tr>\n",
              "      <th>80</th>\n",
              "      <td>5.5</td>\n",
              "      <td>2.4</td>\n",
              "      <td>3.8</td>\n",
              "      <td>1.1</td>\n",
              "      <td>1</td>\n",
              "      <td>versicolor</td>\n",
              "    </tr>\n",
              "    <tr>\n",
              "      <th>100</th>\n",
              "      <td>6.3</td>\n",
              "      <td>3.3</td>\n",
              "      <td>6.0</td>\n",
              "      <td>2.5</td>\n",
              "      <td>2</td>\n",
              "      <td>virginica</td>\n",
              "    </tr>\n",
              "    <tr>\n",
              "      <th>120</th>\n",
              "      <td>6.9</td>\n",
              "      <td>3.2</td>\n",
              "      <td>5.7</td>\n",
              "      <td>2.3</td>\n",
              "      <td>2</td>\n",
              "      <td>virginica</td>\n",
              "    </tr>\n",
              "    <tr>\n",
              "      <th>140</th>\n",
              "      <td>6.7</td>\n",
              "      <td>3.1</td>\n",
              "      <td>5.6</td>\n",
              "      <td>2.4</td>\n",
              "      <td>2</td>\n",
              "      <td>virginica</td>\n",
              "    </tr>\n",
              "  </tbody>\n",
              "</table>\n",
              "</div>\n",
              "      <button class=\"colab-df-convert\" onclick=\"convertToInteractive('df-6f454ecf-c80a-49a4-a09e-43265c44e527')\"\n",
              "              title=\"Convert this dataframe to an interactive table.\"\n",
              "              style=\"display:none;\">\n",
              "        \n",
              "  <svg xmlns=\"http://www.w3.org/2000/svg\" height=\"24px\"viewBox=\"0 0 24 24\"\n",
              "       width=\"24px\">\n",
              "    <path d=\"M0 0h24v24H0V0z\" fill=\"none\"/>\n",
              "    <path d=\"M18.56 5.44l.94 2.06.94-2.06 2.06-.94-2.06-.94-.94-2.06-.94 2.06-2.06.94zm-11 1L8.5 8.5l.94-2.06 2.06-.94-2.06-.94L8.5 2.5l-.94 2.06-2.06.94zm10 10l.94 2.06.94-2.06 2.06-.94-2.06-.94-.94-2.06-.94 2.06-2.06.94z\"/><path d=\"M17.41 7.96l-1.37-1.37c-.4-.4-.92-.59-1.43-.59-.52 0-1.04.2-1.43.59L10.3 9.45l-7.72 7.72c-.78.78-.78 2.05 0 2.83L4 21.41c.39.39.9.59 1.41.59.51 0 1.02-.2 1.41-.59l7.78-7.78 2.81-2.81c.8-.78.8-2.07 0-2.86zM5.41 20L4 18.59l7.72-7.72 1.47 1.35L5.41 20z\"/>\n",
              "  </svg>\n",
              "      </button>\n",
              "      \n",
              "  <style>\n",
              "    .colab-df-container {\n",
              "      display:flex;\n",
              "      flex-wrap:wrap;\n",
              "      gap: 12px;\n",
              "    }\n",
              "\n",
              "    .colab-df-convert {\n",
              "      background-color: #E8F0FE;\n",
              "      border: none;\n",
              "      border-radius: 50%;\n",
              "      cursor: pointer;\n",
              "      display: none;\n",
              "      fill: #1967D2;\n",
              "      height: 32px;\n",
              "      padding: 0 0 0 0;\n",
              "      width: 32px;\n",
              "    }\n",
              "\n",
              "    .colab-df-convert:hover {\n",
              "      background-color: #E2EBFA;\n",
              "      box-shadow: 0px 1px 2px rgba(60, 64, 67, 0.3), 0px 1px 3px 1px rgba(60, 64, 67, 0.15);\n",
              "      fill: #174EA6;\n",
              "    }\n",
              "\n",
              "    [theme=dark] .colab-df-convert {\n",
              "      background-color: #3B4455;\n",
              "      fill: #D2E3FC;\n",
              "    }\n",
              "\n",
              "    [theme=dark] .colab-df-convert:hover {\n",
              "      background-color: #434B5C;\n",
              "      box-shadow: 0px 1px 3px 1px rgba(0, 0, 0, 0.15);\n",
              "      filter: drop-shadow(0px 1px 2px rgba(0, 0, 0, 0.3));\n",
              "      fill: #FFFFFF;\n",
              "    }\n",
              "  </style>\n",
              "\n",
              "      <script>\n",
              "        const buttonEl =\n",
              "          document.querySelector('#df-6f454ecf-c80a-49a4-a09e-43265c44e527 button.colab-df-convert');\n",
              "        buttonEl.style.display =\n",
              "          google.colab.kernel.accessAllowed ? 'block' : 'none';\n",
              "\n",
              "        async function convertToInteractive(key) {\n",
              "          const element = document.querySelector('#df-6f454ecf-c80a-49a4-a09e-43265c44e527');\n",
              "          const dataTable =\n",
              "            await google.colab.kernel.invokeFunction('convertToInteractive',\n",
              "                                                     [key], {});\n",
              "          if (!dataTable) return;\n",
              "\n",
              "          const docLinkHtml = 'Like what you see? Visit the ' +\n",
              "            '<a target=\"_blank\" href=https://colab.research.google.com/notebooks/data_table.ipynb>data table notebook</a>'\n",
              "            + ' to learn more about interactive tables.';\n",
              "          element.innerHTML = '';\n",
              "          dataTable['output_type'] = 'display_data';\n",
              "          await google.colab.output.renderOutput(dataTable, element);\n",
              "          const docLink = document.createElement('div');\n",
              "          docLink.innerHTML = docLinkHtml;\n",
              "          element.appendChild(docLink);\n",
              "        }\n",
              "      </script>\n",
              "    </div>\n",
              "  </div>\n",
              "  "
            ]
          },
          "metadata": {},
          "execution_count": 78
        }
      ]
    },
    {
      "cell_type": "markdown",
      "metadata": {
        "id": "Un8HHpIVi1Fj"
      },
      "source": [
        "## Iris KNN 품종 분류 실습"
      ]
    },
    {
      "cell_type": "markdown",
      "metadata": {
        "id": "YsGiQl3WcNr9"
      },
      "source": [
        "* iris 데이타를 knn으로 train 데이터 학습 \n",
        "* test 데이터 예측\n",
        "* test accuracy 계산"
      ]
    },
    {
      "cell_type": "code",
      "metadata": {
        "colab": {
          "base_uri": "https://localhost:8080/"
        },
        "id": "C46q-bQRjP_Z",
        "outputId": "c1fb2dad-129e-4d38-b326-2a641b1983be"
      },
      "source": [
        "iris = load_iris()\n",
        "X_train, X_test, y_train, y_test = train_test_split(iris.data, iris.target, random_state=0)\n",
        "print(X_train.shape, X_test.shape, y_train.shape, y_test.shape)\n",
        "\n",
        "knn = KNeighborsClassifier()\n",
        "knn.fit(X_train, y_train)\n",
        "y_pred = knn.predict(X_test)\n",
        "print(f'accuracy:{np.mean(y_pred == y_test)}')"
      ],
      "execution_count": null,
      "outputs": [
        {
          "output_type": "stream",
          "name": "stdout",
          "text": [
            "(112, 4) (38, 4) (112,) (38,)\n",
            "accuracy:0.9736842105263158\n"
          ]
        }
      ]
    },
    {
      "cell_type": "code",
      "metadata": {
        "colab": {
          "base_uri": "https://localhost:8080/"
        },
        "id": "gES09Pa_Tqe3",
        "outputId": "7430301a-bb84-4d0d-c425-8ab96b8b08fc"
      },
      "source": [
        "knn.predict_proba(X_test)"
      ],
      "execution_count": null,
      "outputs": [
        {
          "output_type": "execute_result",
          "data": {
            "text/plain": [
              "array([[0. , 0. , 1. ],\n",
              "       [0. , 1. , 0. ],\n",
              "       [1. , 0. , 0. ],\n",
              "       [0. , 0. , 1. ],\n",
              "       [1. , 0. , 0. ],\n",
              "       [0. , 0. , 1. ],\n",
              "       [1. , 0. , 0. ],\n",
              "       [0. , 1. , 0. ],\n",
              "       [0. , 1. , 0. ],\n",
              "       [0. , 1. , 0. ],\n",
              "       [0. , 0. , 1. ],\n",
              "       [0. , 1. , 0. ],\n",
              "       [0. , 1. , 0. ],\n",
              "       [0. , 1. , 0. ],\n",
              "       [0. , 0.6, 0.4],\n",
              "       [1. , 0. , 0. ],\n",
              "       [0. , 0.8, 0.2],\n",
              "       [0. , 1. , 0. ],\n",
              "       [1. , 0. , 0. ],\n",
              "       [1. , 0. , 0. ],\n",
              "       [0. , 0. , 1. ],\n",
              "       [0. , 1. , 0. ],\n",
              "       [1. , 0. , 0. ],\n",
              "       [1. , 0. , 0. ],\n",
              "       [0. , 0.2, 0.8],\n",
              "       [1. , 0. , 0. ],\n",
              "       [1. , 0. , 0. ],\n",
              "       [0. , 1. , 0. ],\n",
              "       [0. , 1. , 0. ],\n",
              "       [1. , 0. , 0. ],\n",
              "       [0. , 0. , 1. ],\n",
              "       [0. , 1. , 0. ],\n",
              "       [1. , 0. , 0. ],\n",
              "       [0. , 0.2, 0.8],\n",
              "       [0. , 0. , 1. ],\n",
              "       [0. , 1. , 0. ],\n",
              "       [1. , 0. , 0. ],\n",
              "       [0. , 0. , 1. ]])"
            ]
          },
          "metadata": {},
          "execution_count": 80
        }
      ]
    },
    {
      "cell_type": "markdown",
      "metadata": {
        "id": "a65jby_zR1hZ"
      },
      "source": [
        "# 분류 평가 지표"
      ]
    },
    {
      "cell_type": "markdown",
      "metadata": {
        "id": "Yya4yIi1Ux1U"
      },
      "source": [
        "### 정확도(Accuracy)"
      ]
    },
    {
      "cell_type": "code",
      "metadata": {
        "colab": {
          "base_uri": "https://localhost:8080/"
        },
        "id": "4UOgYOeDtDTp",
        "outputId": "cc3d158f-aac1-44a2-cec5-d554a55bd433"
      },
      "source": [
        "np.sum(y_pred==y_test)/y_test.shape[0], knn.score(X_test, y_test), accuracy_score(y_test, y_pred)"
      ],
      "execution_count": null,
      "outputs": [
        {
          "output_type": "execute_result",
          "data": {
            "text/plain": [
              "(0.9736842105263158, 0.9736842105263158, 0.9736842105263158)"
            ]
          },
          "metadata": {},
          "execution_count": 83
        }
      ]
    },
    {
      "cell_type": "code",
      "metadata": {
        "colab": {
          "base_uri": "https://localhost:8080/"
        },
        "id": "bMq9s83kSCnB",
        "outputId": "46d86816-ea22-46af-847a-13b71330ae88"
      },
      "source": [
        "from sklearn.metrics import confusion_matrix\n",
        "\n",
        "y_true = np.array([0,1,1,1,1,1,1,1,1,1])\n",
        "y_pred = np.array([1,0,1,1,1,1,1,1,1,1])\n",
        "\n",
        "print(f'accuracy: {accuracy_score(y_true, y_pred)*100:.2f}%')\n",
        "print(confusion_matrix(y_true, y_pred))"
      ],
      "execution_count": null,
      "outputs": [
        {
          "output_type": "stream",
          "name": "stdout",
          "text": [
            "accuracy: 80.00%\n",
            "[[0 1]\n",
            " [1 8]]\n"
          ]
        }
      ]
    },
    {
      "cell_type": "code",
      "metadata": {
        "colab": {
          "base_uri": "https://localhost:8080/"
        },
        "id": "iBP_stm7g1X_",
        "outputId": "09372e09-b6f5-4834-b583-37cd0410c7b4"
      },
      "source": [
        "y_true = np.array([1,0,2,0,1,2,0,1,2,0,2,1])\n",
        "y_pred = np.array([1,0,2,1,2,1,0,1,2,0,1,1])\n",
        "\n",
        "print(f'accuracy: {accuracy_score(y_true, y_pred)*100:.2f}%')\n",
        "print(confusion_matrix(y_true, y_pred))"
      ],
      "execution_count": null,
      "outputs": [
        {
          "output_type": "stream",
          "name": "stdout",
          "text": [
            "accuracy: 66.67%\n",
            "[[3 1 0]\n",
            " [0 3 1]\n",
            " [0 2 2]]\n"
          ]
        }
      ]
    },
    {
      "cell_type": "markdown",
      "metadata": {
        "id": "JVnGMz_5hdRs"
      },
      "source": [
        "### 정밀도, 재현율"
      ]
    },
    {
      "cell_type": "code",
      "metadata": {
        "colab": {
          "base_uri": "https://localhost:8080/"
        },
        "id": "alo7poGuSKER",
        "outputId": "5fd45b0b-5a01-4ceb-e044-bb8ba2661534"
      },
      "source": [
        "from sklearn.metrics import precision_score, recall_score\n",
        "\n",
        "y_true = np.array([0,0,0,0,0,1,1,1,1,1])\n",
        "y_pred = np.array([0,0,0,0,1,0,1,1,1,1])\n",
        "\n",
        "accuracy = accuracy_score(y_true, y_pred)\n",
        "precision = precision_score(y_true, y_pred)\n",
        "recall = recall_score(y_true, y_pred)\n",
        "\n",
        "print(f'accuracy:{accuracy}, precision:{precision}, recall:{recall}')"
      ],
      "execution_count": null,
      "outputs": [
        {
          "output_type": "stream",
          "name": "stdout",
          "text": [
            "accuracy:0.8, precision:0.8, recall:0.8\n"
          ]
        }
      ]
    },
    {
      "cell_type": "code",
      "metadata": {
        "colab": {
          "base_uri": "https://localhost:8080/"
        },
        "id": "mP787jijSNNf",
        "outputId": "b2a3e4e8-3684-4d2f-e43a-61544330c231"
      },
      "source": [
        "from sklearn.metrics import f1_score, classification_report\n",
        "\n",
        "y_true =  [0,0,0,0,0,0,0,0,1,1]\n",
        "y_pred1 = [0,0,0,0,0,0,1,1,1,1]\n",
        "y_pred2 = [0,0,0,0,0,0,0,1,0,1]\n",
        "\n",
        "for y_pred in [y_pred1, y_pred2]:\n",
        "    print(confusion_matrix(y_true, y_pred))\n",
        "    accuracy = accuracy_score(y_true, y_pred)\n",
        "    precision = precision_score(y_true, y_pred)\n",
        "    recall = recall_score(y_true, y_pred)\n",
        "    f1 = f1_score(y_true, y_pred)\n",
        "    print(f'accuracy:{accuracy}, precision:{precision},\\\n",
        "                       recall:{recall}, f1: {f1}')\n",
        "    print(classification_report(y_true, y_pred))"
      ],
      "execution_count": null,
      "outputs": [
        {
          "output_type": "stream",
          "name": "stdout",
          "text": [
            "[[6 2]\n",
            " [0 2]]\n",
            "accuracy:0.8, precision:0.5,                       recall:1.0, f1: 0.6666666666666666\n",
            "              precision    recall  f1-score   support\n",
            "\n",
            "           0       1.00      0.75      0.86         8\n",
            "           1       0.50      1.00      0.67         2\n",
            "\n",
            "    accuracy                           0.80        10\n",
            "   macro avg       0.75      0.88      0.76        10\n",
            "weighted avg       0.90      0.80      0.82        10\n",
            "\n",
            "[[7 1]\n",
            " [1 1]]\n",
            "accuracy:0.8, precision:0.5,                       recall:0.5, f1: 0.5\n",
            "              precision    recall  f1-score   support\n",
            "\n",
            "           0       0.88      0.88      0.88         8\n",
            "           1       0.50      0.50      0.50         2\n",
            "\n",
            "    accuracy                           0.80        10\n",
            "   macro avg       0.69      0.69      0.69        10\n",
            "weighted avg       0.80      0.80      0.80        10\n",
            "\n"
          ]
        }
      ]
    },
    {
      "cell_type": "markdown",
      "metadata": {
        "id": "N1vCmn9zqiGC"
      },
      "source": [
        "## ROC, AUC"
      ]
    },
    {
      "cell_type": "code",
      "metadata": {
        "colab": {
          "base_uri": "https://localhost:8080/",
          "height": 315
        },
        "id": "1GTDMiXOSdyY",
        "outputId": "a8020eb8-73fd-4121-c7d8-455da4aaa286"
      },
      "source": [
        "from sklearn.metrics import roc_curve, roc_auc_score\n",
        "\n",
        "\n",
        "y_true =  [0,0,0,0,0,0,0,0,1,1]\n",
        "y_pred1 = [0,0,0,0,0,0,1,1,1,1]\n",
        "y_pred2 = [0,0,0,0,0,0,0,1,0,1]\n",
        "fpr1, tpr1, thresh1 = roc_curve(y_true, y_pred1)\n",
        "fpr2, tpr2, thresh2 = roc_curve(y_true, y_pred2)\n",
        "\n",
        "plt.plot(fpr1, tpr1, label='pred1')\n",
        "plt.plot(fpr2, tpr2, label='pred2')\n",
        "plt.plot([0,1],[0,1], 'k--', label='random')\n",
        "plt.legend()\n",
        "plt.xlabel('fpr')\n",
        "plt.ylabel('tpr')\n",
        "\n",
        "auc1 = roc_auc_score(y_true, y_pred1)\n",
        "auc2 = roc_auc_score(y_true, y_pred2)\n",
        "print('auc1:', auc1, 'auc2:',auc2)\n",
        "print(thresh1, thresh2)"
      ],
      "execution_count": null,
      "outputs": [
        {
          "output_type": "stream",
          "name": "stdout",
          "text": [
            "auc1: 0.875 auc2: 0.6875\n",
            "[2 1 0] [2 1 0]\n"
          ]
        },
        {
          "output_type": "display_data",
          "data": {
            "text/plain": [
              "<Figure size 432x288 with 1 Axes>"
            ],
            "image/png": "[encoded data removed]"
          },
          "metadata": {
            "needs_background": "light"
          }
        }
      ]
    },
    {
      "cell_type": "markdown",
      "metadata": {
        "id": "pl_rc5IeiQkx"
      },
      "source": [
        "### 유방암 데이터로 ROC 실습\n",
        "* `load_breast_cancer()`\n"
      ]
    },
    {
      "cell_type": "code",
      "source": [
        "cancer = load_breast_cancer()\n",
        "print(cancer.keys())\n",
        "\n",
        "df = pd.DataFrame(cancer.data, columns=cancer.feature_names)\n",
        "df['target'] = cancer.target\n",
        "df['class'] = cancer.target_names[cancer.target]\n",
        "df"
      ],
      "metadata": {
        "colab": {
          "base_uri": "https://localhost:8080/",
          "height": 540
        },
        "id": "gVcw6ZWFUKYK",
        "outputId": "e90e0cc1-6ae4-4c47-f5b9-cafb90367e5f"
      },
      "execution_count": null,
      "outputs": [
        {
          "output_type": "stream",
          "name": "stdout",
          "text": [
            "dict_keys(['data', 'target', 'frame', 'target_names', 'DESCR', 'feature_names', 'filename', 'data_module'])\n"
          ]
        },
        {
          "output_type": "execute_result",
          "data": {
            "text/plain": [
              "     mean radius  mean texture  mean perimeter  mean area  mean smoothness  \\\n",
              "0          17.99         10.38          122.80     1001.0          0.11840   \n",
              "1          20.57         17.77          132.90     1326.0          0.08474   \n",
              "2          19.69         21.25          130.00     1203.0          0.10960   \n",
              "3          11.42         20.38           77.58      386.1          0.14250   \n",
              "4          20.29         14.34          135.10     1297.0          0.10030   \n",
              "..           ...           ...             ...        ...              ...   \n",
              "564        21.56         22.39          142.00     1479.0          0.11100   \n",
              "565        20.13         28.25          131.20     1261.0          0.09780   \n",
              "566        16.60         28.08          108.30      858.1          0.08455   \n",
              "567        20.60         29.33          140.10     1265.0          0.11780   \n",
              "568         7.76         24.54           47.92      181.0          0.05263   \n",
              "\n",
              "     mean compactness  mean concavity  mean concave points  mean symmetry  \\\n",
              "0             0.27760         0.30010              0.14710         0.2419   \n",
              "1             0.07864         0.08690              0.07017         0.1812   \n",
              "2             0.15990         0.19740              0.12790         0.2069   \n",
              "3             0.28390         0.24140              0.10520         0.2597   \n",
              "4             0.13280         0.19800              0.10430         0.1809   \n",
              "..                ...             ...                  ...            ...   \n",
              "564           0.11590         0.24390              0.13890         0.1726   \n",
              "565           0.10340         0.14400              0.09791         0.1752   \n",
              "566           0.10230         0.09251              0.05302         0.1590   \n",
              "567           0.27700         0.35140              0.15200         0.2397   \n",
              "568           0.04362         0.00000              0.00000         0.1587   \n",
              "\n",
              "     mean fractal dimension  ...  worst perimeter  worst area  \\\n",
              "0                   0.07871  ...           184.60      2019.0   \n",
              "1                   0.05667  ...           158.80      1956.0   \n",
              "2                   0.05999  ...           152.50      1709.0   \n",
              "3                   0.09744  ...            98.87       567.7   \n",
              "4                   0.05883  ...           152.20      1575.0   \n",
              "..                      ...  ...              ...         ...   \n",
              "564                 0.05623  ...           166.10      2027.0   \n",
              "565                 0.05533  ...           155.00      1731.0   \n",
              "566                 0.05648  ...           126.70      1124.0   \n",
              "567                 0.07016  ...           184.60      1821.0   \n",
              "568                 0.05884  ...            59.16       268.6   \n",
              "\n",
              "     worst smoothness  worst compactness  worst concavity  \\\n",
              "0             0.16220            0.66560           0.7119   \n",
              "1             0.12380            0.18660           0.2416   \n",
              "2             0.14440            0.42450           0.4504   \n",
              "3             0.20980            0.86630           0.6869   \n",
              "4             0.13740            0.20500           0.4000   \n",
              "..                ...                ...              ...   \n",
              "564           0.14100            0.21130           0.4107   \n",
              "565           0.11660            0.19220           0.3215   \n",
              "566           0.11390            0.30940           0.3403   \n",
              "567           0.16500            0.86810           0.9387   \n",
              "568           0.08996            0.06444           0.0000   \n",
              "\n",
              "     worst concave points  worst symmetry  worst fractal dimension  target  \\\n",
              "0                  0.2654          0.4601                  0.11890       0   \n",
              "1                  0.1860          0.2750                  0.08902       0   \n",
              "2                  0.2430          0.3613                  0.08758       0   \n",
              "3                  0.2575          0.6638                  0.17300       0   \n",
              "4                  0.1625          0.2364                  0.07678       0   \n",
              "..                    ...             ...                      ...     ...   \n",
              "564                0.2216          0.2060                  0.07115       0   \n",
              "565                0.1628          0.2572                  0.06637       0   \n",
              "566                0.1418          0.2218                  0.07820       0   \n",
              "567                0.2650          0.4087                  0.12400       0   \n",
              "568                0.0000          0.2871                  0.07039       1   \n",
              "\n",
              "         class  \n",
              "0    malignant  \n",
              "1    malignant  \n",
              "2    malignant  \n",
              "3    malignant  \n",
              "4    malignant  \n",
              "..         ...  \n",
              "564  malignant  \n",
              "565  malignant  \n",
              "566  malignant  \n",
              "567  malignant  \n",
              "568     benign  \n",
              "\n",
              "[569 rows x 32 columns]"
            ],
            "text/html": [
              "\n",
              "  <div id=\"df-0a28b4b5-6070-48be-9d70-a52a484415d2\">\n",
              "    <div class=\"colab-df-container\">\n",
              "      <div>\n",
              "<style scoped>\n",
              "    .dataframe tbody tr th:only-of-type {\n",
              "        vertical-align: middle;\n",
              "    }\n",
              "\n",
              "    .dataframe tbody tr th {\n",
              "        vertical-align: top;\n",
              "    }\n",
              "\n",
              "    .dataframe thead th {\n",
              "        text-align: right;\n",
              "    }\n",
              "</style>\n",
              "<table border=\"1\" class=\"dataframe\">\n",
              "  <thead>\n",
              "    <tr style=\"text-align: right;\">\n",
              "      <th></th>\n",
              "      <th>mean radius</th>\n",
              "      <th>mean texture</th>\n",
              "      <th>mean perimeter</th>\n",
              "      <th>mean area</th>\n",
              "      <th>mean smoothness</th>\n",
              "      <th>mean compactness</th>\n",
              "      <th>mean concavity</th>\n",
              "      <th>mean concave points</th>\n",
              "      <th>mean symmetry</th>\n",
              "      <th>mean fractal dimension</th>\n",
              "      <th>...</th>\n",
              "      <th>worst perimeter</th>\n",
              "      <th>worst area</th>\n",
              "      <th>worst smoothness</th>\n",
              "      <th>worst compactness</th>\n",
              "      <th>worst concavity</th>\n",
              "      <th>worst concave points</th>\n",
              "      <th>worst symmetry</th>\n",
              "      <th>worst fractal dimension</th>\n",
              "      <th>target</th>\n",
              "      <th>class</th>\n",
              "    </tr>\n",
              "  </thead>\n",
              "  <tbody>\n",
              "    <tr>\n",
              "      <th>0</th>\n",
              "      <td>17.99</td>\n",
              "      <td>10.38</td>\n",
              "      <td>122.80</td>\n",
              "      <td>1001.0</td>\n",
              "      <td>0.11840</td>\n",
              "      <td>0.27760</td>\n",
              "      <td>0.30010</td>\n",
              "      <td>0.14710</td>\n",
              "      <td>0.2419</td>\n",
              "      <td>0.07871</td>\n",
              "      <td>...</td>\n",
              "      <td>184.60</td>\n",
              "      <td>2019.0</td>\n",
              "      <td>0.16220</td>\n",
              "      <td>0.66560</td>\n",
              "      <td>0.7119</td>\n",
              "      <td>0.2654</td>\n",
              "      <td>0.4601</td>\n",
              "      <td>0.11890</td>\n",
              "      <td>0</td>\n",
              "      <td>malignant</td>\n",
              "    </tr>\n",
              "    <tr>\n",
              "      <th>1</th>\n",
              "      <td>20.57</td>\n",
              "      <td>17.77</td>\n",
              "      <td>132.90</td>\n",
              "      <td>1326.0</td>\n",
              "      <td>0.08474</td>\n",
              "      <td>0.07864</td>\n",
              "      <td>0.08690</td>\n",
              "      <td>0.07017</td>\n",
              "      <td>0.1812</td>\n",
              "      <td>0.05667</td>\n",
              "      <td>...</td>\n",
              "      <td>158.80</td>\n",
              "      <td>1956.0</td>\n",
              "      <td>0.12380</td>\n",
              "      <td>0.18660</td>\n",
              "      <td>0.2416</td>\n",
              "      <td>0.1860</td>\n",
              "      <td>0.2750</td>\n",
              "      <td>0.08902</td>\n",
              "      <td>0</td>\n",
              "      <td>malignant</td>\n",
              "    </tr>\n",
              "    <tr>\n",
              "      <th>2</th>\n",
              "      <td>19.69</td>\n",
              "      <td>21.25</td>\n",
              "      <td>130.00</td>\n",
              "      <td>1203.0</td>\n",
              "      <td>0.10960</td>\n",
              "      <td>0.15990</td>\n",
              "      <td>0.19740</td>\n",
              "      <td>0.12790</td>\n",
              "      <td>0.2069</td>\n",
              "      <td>0.05999</td>\n",
              "      <td>...</td>\n",
              "      <td>152.50</td>\n",
              "      <td>1709.0</td>\n",
              "      <td>0.14440</td>\n",
              "      <td>0.42450</td>\n",
              "      <td>0.4504</td>\n",
              "      <td>0.2430</td>\n",
              "      <td>0.3613</td>\n",
              "      <td>0.08758</td>\n",
              "      <td>0</td>\n",
              "      <td>malignant</td>\n",
              "    </tr>\n",
              "    <tr>\n",
              "      <th>3</th>\n",
              "      <td>11.42</td>\n",
              "      <td>20.38</td>\n",
              "      <td>77.58</td>\n",
              "      <td>386.1</td>\n",
              "      <td>0.14250</td>\n",
              "      <td>0.28390</td>\n",
              "      <td>0.24140</td>\n",
              "      <td>0.10520</td>\n",
              "      <td>0.2597</td>\n",
              "      <td>0.09744</td>\n",
              "      <td>...</td>\n",
              "      <td>98.87</td>\n",
              "      <td>567.7</td>\n",
              "      <td>0.20980</td>\n",
              "      <td>0.86630</td>\n",
              "      <td>0.6869</td>\n",
              "      <td>0.2575</td>\n",
              "      <td>0.6638</td>\n",
              "      <td>0.17300</td>\n",
              "      <td>0</td>\n",
              "      <td>malignant</td>\n",
              "    </tr>\n",
              "    <tr>\n",
              "      <th>4</th>\n",
              "      <td>20.29</td>\n",
              "      <td>14.34</td>\n",
              "      <td>135.10</td>\n",
              "      <td>1297.0</td>\n",
              "      <td>0.10030</td>\n",
              "      <td>0.13280</td>\n",
              "      <td>0.19800</td>\n",
              "      <td>0.10430</td>\n",
              "      <td>0.1809</td>\n",
              "      <td>0.05883</td>\n",
              "      <td>...</td>\n",
              "      <td>152.20</td>\n",
              "      <td>1575.0</td>\n",
              "      <td>0.13740</td>\n",
              "      <td>0.20500</td>\n",
              "      <td>0.4000</td>\n",
              "      <td>0.1625</td>\n",
              "      <td>0.2364</td>\n",
              "      <td>0.07678</td>\n",
              "      <td>0</td>\n",
              "      <td>malignant</td>\n",
              "    </tr>\n",
              "    <tr>\n",
              "      <th>...</th>\n",
              "      <td>...</td>\n",
              "      <td>...</td>\n",
              "      <td>...</td>\n",
              "      <td>...</td>\n",
              "      <td>...</td>\n",
              "      <td>...</td>\n",
              "      <td>...</td>\n",
              "      <td>...</td>\n",
              "      <td>...</td>\n",
              "      <td>...</td>\n",
              "      <td>...</td>\n",
              "      <td>...</td>\n",
              "      <td>...</td>\n",
              "      <td>...</td>\n",
              "      <td>...</td>\n",
              "      <td>...</td>\n",
              "      <td>...</td>\n",
              "      <td>...</td>\n",
              "      <td>...</td>\n",
              "      <td>...</td>\n",
              "      <td>...</td>\n",
              "    </tr>\n",
              "    <tr>\n",
              "      <th>564</th>\n",
              "      <td>21.56</td>\n",
              "      <td>22.39</td>\n",
              "      <td>142.00</td>\n",
              "      <td>1479.0</td>\n",
              "      <td>0.11100</td>\n",
              "      <td>0.11590</td>\n",
              "      <td>0.24390</td>\n",
              "      <td>0.13890</td>\n",
              "      <td>0.1726</td>\n",
              "      <td>0.05623</td>\n",
              "      <td>...</td>\n",
              "      <td>166.10</td>\n",
              "      <td>2027.0</td>\n",
              "      <td>0.14100</td>\n",
              "      <td>0.21130</td>\n",
              "      <td>0.4107</td>\n",
              "      <td>0.2216</td>\n",
              "      <td>0.2060</td>\n",
              "      <td>0.07115</td>\n",
              "      <td>0</td>\n",
              "      <td>malignant</td>\n",
              "    </tr>\n",
              "    <tr>\n",
              "      <th>565</th>\n",
              "      <td>20.13</td>\n",
              "      <td>28.25</td>\n",
              "      <td>131.20</td>\n",
              "      <td>1261.0</td>\n",
              "      <td>0.09780</td>\n",
              "      <td>0.10340</td>\n",
              "      <td>0.14400</td>\n",
              "      <td>0.09791</td>\n",
              "      <td>0.1752</td>\n",
              "      <td>0.05533</td>\n",
              "      <td>...</td>\n",
              "      <td>155.00</td>\n",
              "      <td>1731.0</td>\n",
              "      <td>0.11660</td>\n",
              "      <td>0.19220</td>\n",
              "      <td>0.3215</td>\n",
              "      <td>0.1628</td>\n",
              "      <td>0.2572</td>\n",
              "      <td>0.06637</td>\n",
              "      <td>0</td>\n",
              "      <td>malignant</td>\n",
              "    </tr>\n",
              "    <tr>\n",
              "      <th>566</th>\n",
              "      <td>16.60</td>\n",
              "      <td>28.08</td>\n",
              "      <td>108.30</td>\n",
              "      <td>858.1</td>\n",
              "      <td>0.08455</td>\n",
              "      <td>0.10230</td>\n",
              "      <td>0.09251</td>\n",
              "      <td>0.05302</td>\n",
              "      <td>0.1590</td>\n",
              "      <td>0.05648</td>\n",
              "      <td>...</td>\n",
              "      <td>126.70</td>\n",
              "      <td>1124.0</td>\n",
              "      <td>0.11390</td>\n",
              "      <td>0.30940</td>\n",
              "      <td>0.3403</td>\n",
              "      <td>0.1418</td>\n",
              "      <td>0.2218</td>\n",
              "      <td>0.07820</td>\n",
              "      <td>0</td>\n",
              "      <td>malignant</td>\n",
              "    </tr>\n",
              "    <tr>\n",
              "      <th>567</th>\n",
              "      <td>20.60</td>\n",
              "      <td>29.33</td>\n",
              "      <td>140.10</td>\n",
              "      <td>1265.0</td>\n",
              "      <td>0.11780</td>\n",
              "      <td>0.27700</td>\n",
              "      <td>0.35140</td>\n",
              "      <td>0.15200</td>\n",
              "      <td>0.2397</td>\n",
              "      <td>0.07016</td>\n",
              "      <td>...</td>\n",
              "      <td>184.60</td>\n",
              "      <td>1821.0</td>\n",
              "      <td>0.16500</td>\n",
              "      <td>0.86810</td>\n",
              "      <td>0.9387</td>\n",
              "      <td>0.2650</td>\n",
              "      <td>0.4087</td>\n",
              "      <td>0.12400</td>\n",
              "      <td>0</td>\n",
              "      <td>malignant</td>\n",
              "    </tr>\n",
              "    <tr>\n",
              "      <th>568</th>\n",
              "      <td>7.76</td>\n",
              "      <td>24.54</td>\n",
              "      <td>47.92</td>\n",
              "      <td>181.0</td>\n",
              "      <td>0.05263</td>\n",
              "      <td>0.04362</td>\n",
              "      <td>0.00000</td>\n",
              "      <td>0.00000</td>\n",
              "      <td>0.1587</td>\n",
              "      <td>0.05884</td>\n",
              "      <td>...</td>\n",
              "      <td>59.16</td>\n",
              "      <td>268.6</td>\n",
              "      <td>0.08996</td>\n",
              "      <td>0.06444</td>\n",
              "      <td>0.0000</td>\n",
              "      <td>0.0000</td>\n",
              "      <td>0.2871</td>\n",
              "      <td>0.07039</td>\n",
              "      <td>1</td>\n",
              "      <td>benign</td>\n",
              "    </tr>\n",
              "  </tbody>\n",
              "</table>\n",
              "<p>569 rows × 32 columns</p>\n",
              "</div>\n",
              "      <button class=\"colab-df-convert\" onclick=\"convertToInteractive('df-0a28b4b5-6070-48be-9d70-a52a484415d2')\"\n",
              "              title=\"Convert this dataframe to an interactive table.\"\n",
              "              style=\"display:none;\">\n",
              "        \n",
              "  <svg xmlns=\"http://www.w3.org/2000/svg\" height=\"24px\"viewBox=\"0 0 24 24\"\n",
              "       width=\"24px\">\n",
              "    <path d=\"M0 0h24v24H0V0z\" fill=\"none\"/>\n",
              "    <path d=\"M18.56 5.44l.94 2.06.94-2.06 2.06-.94-2.06-.94-.94-2.06-.94 2.06-2.06.94zm-11 1L8.5 8.5l.94-2.06 2.06-.94-2.06-.94L8.5 2.5l-.94 2.06-2.06.94zm10 10l.94 2.06.94-2.06 2.06-.94-2.06-.94-.94-2.06-.94 2.06-2.06.94z\"/><path d=\"M17.41 7.96l-1.37-1.37c-.4-.4-.92-.59-1.43-.59-.52 0-1.04.2-1.43.59L10.3 9.45l-7.72 7.72c-.78.78-.78 2.05 0 2.83L4 21.41c.39.39.9.59 1.41.59.51 0 1.02-.2 1.41-.59l7.78-7.78 2.81-2.81c.8-.78.8-2.07 0-2.86zM5.41 20L4 18.59l7.72-7.72 1.47 1.35L5.41 20z\"/>\n",
              "  </svg>\n",
              "      </button>\n",
              "      \n",
              "  <style>\n",
              "    .colab-df-container {\n",
              "      display:flex;\n",
              "      flex-wrap:wrap;\n",
              "      gap: 12px;\n",
              "    }\n",
              "\n",
              "    .colab-df-convert {\n",
              "      background-color: #E8F0FE;\n",
              "      border: none;\n",
              "      border-radius: 50%;\n",
              "      cursor: pointer;\n",
              "      display: none;\n",
              "      fill: #1967D2;\n",
              "      height: 32px;\n",
              "      padding: 0 0 0 0;\n",
              "      width: 32px;\n",
              "    }\n",
              "\n",
              "    .colab-df-convert:hover {\n",
              "      background-color: #E2EBFA;\n",
              "      box-shadow: 0px 1px 2px rgba(60, 64, 67, 0.3), 0px 1px 3px 1px rgba(60, 64, 67, 0.15);\n",
              "      fill: #174EA6;\n",
              "    }\n",
              "\n",
              "    [theme=dark] .colab-df-convert {\n",
              "      background-color: #3B4455;\n",
              "      fill: #D2E3FC;\n",
              "    }\n",
              "\n",
              "    [theme=dark] .colab-df-convert:hover {\n",
              "      background-color: #434B5C;\n",
              "      box-shadow: 0px 1px 3px 1px rgba(0, 0, 0, 0.15);\n",
              "      filter: drop-shadow(0px 1px 2px rgba(0, 0, 0, 0.3));\n",
              "      fill: #FFFFFF;\n",
              "    }\n",
              "  </style>\n",
              "\n",
              "      <script>\n",
              "        const buttonEl =\n",
              "          document.querySelector('#df-0a28b4b5-6070-48be-9d70-a52a484415d2 button.colab-df-convert');\n",
              "        buttonEl.style.display =\n",
              "          google.colab.kernel.accessAllowed ? 'block' : 'none';\n",
              "\n",
              "        async function convertToInteractive(key) {\n",
              "          const element = document.querySelector('#df-0a28b4b5-6070-48be-9d70-a52a484415d2');\n",
              "          const dataTable =\n",
              "            await google.colab.kernel.invokeFunction('convertToInteractive',\n",
              "                                                     [key], {});\n",
              "          if (!dataTable) return;\n",
              "\n",
              "          const docLinkHtml = 'Like what you see? Visit the ' +\n",
              "            '<a target=\"_blank\" href=https://colab.research.google.com/notebooks/data_table.ipynb>data table notebook</a>'\n",
              "            + ' to learn more about interactive tables.';\n",
              "          element.innerHTML = '';\n",
              "          dataTable['output_type'] = 'display_data';\n",
              "          await google.colab.output.renderOutput(dataTable, element);\n",
              "          const docLink = document.createElement('div');\n",
              "          docLink.innerHTML = docLinkHtml;\n",
              "          element.appendChild(docLink);\n",
              "        }\n",
              "      </script>\n",
              "    </div>\n",
              "  </div>\n",
              "  "
            ]
          },
          "metadata": {},
          "execution_count": 93
        }
      ]
    },
    {
      "cell_type": "code",
      "source": [
        "df['class'].value_counts()"
      ],
      "metadata": {
        "colab": {
          "base_uri": "https://localhost:8080/"
        },
        "id": "2LBCl1zCYYDJ",
        "outputId": "2388e799-bb02-42cf-f999-a219606e868a"
      },
      "execution_count": null,
      "outputs": [
        {
          "output_type": "execute_result",
          "data": {
            "text/plain": [
              "benign       357\n",
              "malignant    212\n",
              "Name: class, dtype: int64"
            ]
          },
          "metadata": {},
          "execution_count": 94
        }
      ]
    },
    {
      "cell_type": "code",
      "metadata": {
        "colab": {
          "base_uri": "https://localhost:8080/",
          "height": 338
        },
        "id": "5odNQ-eniPJ_",
        "outputId": "26063c9f-0ad4-463f-8616-c2fe2aaf1871"
      },
      "source": [
        "X_train, X_test, y_train, y_test = train_test_split(cancer.data, cancer.target, random_state=0)\n",
        "knn = KNeighborsClassifier()\n",
        "knn.fit(X_train, y_train)\n",
        "y_pred = knn.predict(X_test)\n",
        "\n",
        "acc = accuracy_score(y_test, y_pred)\n",
        "fpr, tpr, thresh = roc_curve(y_test, y_pred)\n",
        "plt.plot(fpr, tpr, marker='o')\n",
        "plt.plot([0,1], [0,1], 'k--')\n",
        "auc_score = roc_auc_score(y_test, y_pred)\n",
        "print('acc:', acc, 'auc:', auc_score)\n",
        "thresh, fpr, tpr"
      ],
      "execution_count": null,
      "outputs": [
        {
          "output_type": "stream",
          "name": "stdout",
          "text": [
            "acc: 0.9370629370629371 auc: 0.9344863731656184\n"
          ]
        },
        {
          "output_type": "execute_result",
          "data": {
            "text/plain": [
              "(array([2, 1, 0]),\n",
              " array([0.       , 0.0754717, 1.       ]),\n",
              " array([0.        , 0.94444444, 1.        ]))"
            ]
          },
          "metadata": {},
          "execution_count": 96
        },
        {
          "output_type": "display_data",
          "data": {
            "text/plain": [
              "<Figure size 432x288 with 1 Axes>"
            ],
            "image/png": "[encoded data removed]"
          },
          "metadata": {
            "needs_background": "light"
          }
        }
      ]
    },
    {
      "cell_type": "markdown",
      "source": [
        "### 예측 확률로 ROC 실습\n",
        "* `knn.predict_proba(X_test)`"
      ],
      "metadata": {
        "id": "oZ4PQMT35hGS"
      }
    },
    {
      "cell_type": "code",
      "metadata": {
        "colab": {
          "base_uri": "https://localhost:8080/",
          "height": 410
        },
        "id": "5p8wtPDBpMV6",
        "outputId": "d1d5983d-1e65-4a08-a381-df02037689c1"
      },
      "source": [
        "y_proba = knn.predict_proba(X_test)\n",
        "print(y_proba[:5])\n",
        "print(y_test[:5])\n",
        "fpr, tpr, thresh = roc_curve(y_test, y_proba[:, 1])\n",
        "plt.plot(fpr, tpr, marker='o')\n",
        "plt.plot([0,1], [0,1])\n",
        "print(thresh)\n",
        "\n",
        "best_idx = np.argmax(tpr-fpr)\n",
        "best_thresh = thresh[best_idx]\n",
        "print(best_thresh)\n",
        "\n",
        "for i, t in enumerate(thresh):\n",
        "  plt.annotate(t, xy=(fpr[i], tpr[i]))"
      ],
      "execution_count": null,
      "outputs": [
        {
          "output_type": "stream",
          "name": "stdout",
          "text": [
            "[[0.6 0.4]\n",
            " [0.  1. ]\n",
            " [0.  1. ]\n",
            " [0.6 0.4]\n",
            " [0.  1. ]]\n",
            "[0 1 1 1 1]\n",
            "[2.  1.  0.8 0.6 0.4 0.2 0. ]\n",
            "0.6\n"
          ]
        },
        {
          "output_type": "display_data",
          "data": {
            "text/plain": [
              "<Figure size 432x288 with 1 Axes>"
            ],
            "image/png": "[encoded data removed]"
          },
          "metadata": {
            "needs_background": "light"
          }
        }
      ]
    },
    {
      "cell_type": "markdown",
      "source": [
        "### Best Threshold\n",
        "```python\n",
        "best_idx = np.argmax(tpr - fpr)\n",
        "best_thresh = thresh[best_idx]\n",
        "```"
      ],
      "metadata": {
        "id": "XpT5CJAehtyc"
      }
    },
    {
      "cell_type": "code",
      "metadata": {
        "colab": {
          "base_uri": "https://localhost:8080/",
          "height": 387
        },
        "id": "jINwWCymojDg",
        "outputId": "b88fd69c-a4df-4d68-a4f2-496e85246fe4"
      },
      "source": [],
      "execution_count": null,
      "outputs": [
        {
          "output_type": "stream",
          "name": "stdout",
          "text": [
            "thresh [2.  1.  0.8 0.6 0.4 0.2 0. ]\n",
            "fpr [0.         0.05660377 0.0754717  0.0754717  0.11320755 0.32075472\n",
            " 1.        ] tpr [0.         0.83333333 0.91111111 0.94444444 0.97777778 1.\n",
            " 1.        ]\n",
            "best thresh: 0.6\n"
          ]
        },
        {
          "output_type": "display_data",
          "data": {
            "image/png": "[encoded data removed]",
            "text/plain": [
              "<Figure size 432x288 with 1 Axes>"
            ]
          },
          "metadata": {
            "needs_background": "light"
          }
        }
      ]
    },
    {
      "cell_type": "code",
      "metadata": {
        "colab": {
          "base_uri": "https://localhost:8080/"
        },
        "id": "pxgLkhbHrNRY",
        "outputId": "76b609d9-372f-458f-8a8a-75f8d1431afe"
      },
      "source": [
        "y_pred2 = np.float32(y_proba[:, 1] >= best_thresh)\n",
        "y_pred2"
      ],
      "execution_count": null,
      "outputs": [
        {
          "output_type": "execute_result",
          "data": {
            "text/plain": [
              "array([0., 1., 1., 0., 1., 1., 1., 1., 1., 1., 1., 1., 1., 0., 0., 0., 1.,\n",
              "       0., 0., 0., 0., 0., 1., 1., 0., 1., 1., 1., 1., 0., 1., 0., 1., 0.,\n",
              "       1., 0., 1., 0., 1., 0., 0., 1., 0., 1., 0., 0., 1., 1., 1., 0., 0.,\n",
              "       1., 0., 1., 1., 1., 1., 1., 1., 0., 0., 0., 1., 1., 0., 1., 0., 0.,\n",
              "       0., 1., 1., 0., 1., 1., 0., 1., 1., 1., 1., 1., 0., 0., 0., 1., 0.,\n",
              "       1., 1., 1., 0., 0., 1., 0., 1., 0., 1., 1., 0., 1., 1., 1., 1., 1.,\n",
              "       1., 1., 0., 1., 0., 1., 0., 0., 1., 0., 0., 1., 1., 1., 0., 1., 1.,\n",
              "       1., 1., 1., 1., 1., 0., 1., 1., 1., 1., 1., 0., 1., 1., 1., 1., 1.,\n",
              "       1., 0., 0., 1., 1., 1., 0.], dtype=float32)"
            ]
          },
          "metadata": {},
          "execution_count": 113
        }
      ]
    },
    {
      "cell_type": "code",
      "metadata": {
        "colab": {
          "base_uri": "https://localhost:8080/"
        },
        "id": "XGqLxSm2NpUD",
        "outputId": "b4a1391d-98be-435b-f37d-1542e4dc5c76"
      },
      "source": [
        "np.all(y_pred == y_pred2)"
      ],
      "execution_count": null,
      "outputs": [
        {
          "output_type": "execute_result",
          "data": {
            "text/plain": [
              "True"
            ]
          },
          "metadata": {},
          "execution_count": 115
        }
      ]
    },
    {
      "cell_type": "code",
      "source": [
        "roc_auc_score(y_test, y_pred), roc_auc_score(y_test, y_pred2)"
      ],
      "metadata": {
        "colab": {
          "base_uri": "https://localhost:8080/"
        },
        "id": "qPbA_a0xjjL-",
        "outputId": "a7470ebc-4cd6-4e83-8ae7-450254cb3287"
      },
      "execution_count": null,
      "outputs": [
        {
          "output_type": "execute_result",
          "data": {
            "text/plain": [
              "(0.9344863731656184, 0.9344863731656184)"
            ]
          },
          "metadata": {},
          "execution_count": 116
        }
      ]
    },
    {
      "cell_type": "markdown",
      "source": [
        "### Multi-Class ROC"
      ],
      "metadata": {
        "id": "CXg02HVIsr_s"
      }
    },
    {
      "cell_type": "code",
      "source": [
        "from sklearn.metrics import auc, roc_curve\n",
        "\n",
        "iris = load_iris()\n",
        "X_train, X_test, y_train, y_test = train_test_split(iris.data,\n",
        "                                                    iris.target,\n",
        "                                                    random_state=0)\n",
        "knn = KNeighborsClassifier()\n",
        "knn.fit(X_train, y_train)\n",
        "y_proba = knn.predict_proba(X_test)\n",
        "acc = knn.score(X_test, y_test)\n",
        "print('acc:', acc)\n",
        "\n",
        "plt.xlabel('FPR');plt.ylabel('TPR')\n",
        "for i, target_name in enumerate(iris.target_names):\n",
        "  fpr, tpr, thresh = roc_curve(y_test, y_proba[:, i], pos_label=i)\n",
        "  score = auc(fpr, tpr)\n",
        "  plt.plot(fpr, tpr, marker='o', label=f'{target_name} AUC:{score:.2f}')\n",
        "_ = plt.legend()"
      ],
      "metadata": {
        "colab": {
          "base_uri": "https://localhost:8080/",
          "height": 297
        },
        "id": "cnIDXVyEsqXD",
        "outputId": "77a1a81f-32d4-4c13-8366-2228ef98a78d"
      },
      "execution_count": null,
      "outputs": [
        {
          "output_type": "stream",
          "name": "stdout",
          "text": [
            "acc: 0.9736842105263158\n"
          ]
        },
        {
          "output_type": "display_data",
          "data": {
            "text/plain": [
              "<Figure size 432x288 with 1 Axes>"
            ],
            "image/png": "[encoded data removed]"
          },
          "metadata": {
            "needs_background": "light"
          }
        }
      ]
    },
    {
      "cell_type": "markdown",
      "metadata": {
        "id": "fDXnbuCFK4Qg"
      },
      "source": [
        "# 표준화 정규화"
      ]
    },
    {
      "cell_type": "markdown",
      "metadata": {
        "id": "5zfQFzvRcdyL"
      },
      "source": [
        "## 임의의 수 표준화 실습\n",
        "* `[2,8,10]` \n",
        "* 표준화 계산\n",
        "* StandarsScaler 실습"
      ]
    },
    {
      "cell_type": "code",
      "metadata": {
        "id": "URVpnMLFK4Qg",
        "colab": {
          "base_uri": "https://localhost:8080/"
        },
        "outputId": "15c89c24-7d6f-45e8-8860-63c17b7180c1"
      },
      "source": [
        "arr = np.array([2,8,10], dtype=np.float32).reshape(-1,1)\n",
        "print(f'mean: {arr.mean()}, var: {arr.var()}, std : {arr.std()}')\n",
        "print((arr - arr.mean()) / arr.std())\n",
        "\n",
        "std_scaler = StandardScaler()\n",
        "std_scaler.fit(arr)\n",
        "print(std_scaler.mean_, std_scaler.var_)\n",
        "std_scaler.transform(arr)"
      ],
      "execution_count": null,
      "outputs": [
        {
          "output_type": "stream",
          "name": "stdout",
          "text": [
            "mean: 6.666666507720947, var: 11.555556297302246, std : 3.399346351623535\n",
            "[[-1.3728129 ]\n",
            " [ 0.39223233]\n",
            " [ 0.98058075]]\n",
            "[6.66666667] [11.55555556]\n"
          ]
        },
        {
          "output_type": "execute_result",
          "data": {
            "text/plain": [
              "array([[-1.3728129 ],\n",
              "       [ 0.39223227],\n",
              "       [ 0.9805806 ]], dtype=float32)"
            ]
          },
          "metadata": {},
          "execution_count": 123
        }
      ]
    },
    {
      "cell_type": "code",
      "source": [
        "StandardScaler().fit_transform(arr)\n",
        "#scaler.mean_, scaler.var_"
      ],
      "metadata": {
        "colab": {
          "base_uri": "https://localhost:8080/"
        },
        "id": "_cPUOW4rrfft",
        "outputId": "fbac5907-fe35-4dc5-9be0-332f34062e18"
      },
      "execution_count": null,
      "outputs": [
        {
          "output_type": "execute_result",
          "data": {
            "text/plain": [
              "array([[-1.3728129 ],\n",
              "       [ 0.39223227],\n",
              "       [ 0.9805806 ]], dtype=float32)"
            ]
          },
          "metadata": {},
          "execution_count": 127
        }
      ]
    },
    {
      "cell_type": "markdown",
      "metadata": {
        "id": "PVLLkxBGchB9"
      },
      "source": [
        "## Iris 데이터 표준화 실습\n",
        "* iris 0,1 feature 표준화 및 시각화"
      ]
    },
    {
      "cell_type": "code",
      "metadata": {
        "id": "TzYBhZcVK4Qk",
        "colab": {
          "base_uri": "https://localhost:8080/",
          "height": 516
        },
        "outputId": "6994fd08-b881-4e9b-d657-381a6eb2ef35"
      },
      "source": [
        "iris = load_iris()\n",
        "data = iris.data\n",
        "\n",
        "plt.plot(data[:, 0], data[:,1], '.')\n",
        "plt.grid()\n",
        "plt.show()\n",
        "\n",
        "scaled = StandardScaler().fit_transform(data)\n",
        "plt.plot(scaled[:, 0], scaled[:, 1], '.')\n",
        "plt.grid()"
      ],
      "execution_count": null,
      "outputs": [
        {
          "output_type": "display_data",
          "data": {
            "text/plain": [
              "<Figure size 432x288 with 1 Axes>"
            ],
            "image/png": "[encoded data removed]"
          },
          "metadata": {
            "needs_background": "light"
          }
        },
        {
          "output_type": "display_data",
          "data": {
            "text/plain": [
              "<Figure size 432x288 with 1 Axes>"
            ],
            "image/png": "[encoded data removed]"
          },
          "metadata": {
            "needs_background": "light"
          }
        }
      ]
    },
    {
      "cell_type": "markdown",
      "metadata": {
        "id": "7bQqZJXpm6Jz"
      },
      "source": [
        "## 표준화의 필요성"
      ]
    },
    {
      "cell_type": "markdown",
      "metadata": {
        "id": "te1sSeTRcj_T"
      },
      "source": [
        "* `x = np.load('standard.npy')`\n",
        "* `y = np.concatenate((np.ones(35), np.zeros(14)))`"
      ]
    },
    {
      "cell_type": "code",
      "metadata": {
        "colab": {
          "base_uri": "https://localhost:8080/",
          "height": 283
        },
        "id": "v-PwjxZfm74z",
        "outputId": "07e3c0a5-7e6d-440f-da1a-2eb70051f2d3"
      },
      "source": [
        "\n",
        "x = np.array([[  25.4,  242. ],\n",
        "       [  26.3,  290. ],\n",
        "       [  26.5,  340. ],\n",
        "       [  29. ,  363. ],\n",
        "       [  29. ,  430. ],\n",
        "       [  29.7,  450. ],\n",
        "       [  29.7,  500. ],\n",
        "       [  30. ,  390. ],\n",
        "       [  30. ,  450. ],\n",
        "       [  30.7,  500. ],\n",
        "       [  31. ,  475. ],\n",
        "       [  31. ,  500. ],\n",
        "       [  31.5,  500. ],\n",
        "       [  32. ,  340. ],\n",
        "       [  32. ,  600. ],\n",
        "       [  32. ,  600. ],\n",
        "       [  33. ,  700. ],\n",
        "       [  33. ,  700. ],\n",
        "       [  33.5,  610. ],\n",
        "       [  33.5,  650. ],\n",
        "       [  34. ,  575. ],\n",
        "       [  34. ,  685. ],\n",
        "       [  34.5,  620. ],\n",
        "       [  35. ,  680. ],\n",
        "       [  35. ,  700. ],\n",
        "       [  35. ,  725. ],\n",
        "       [  35. ,  720. ],\n",
        "       [  36. ,  714. ],\n",
        "       [  36. ,  850. ],\n",
        "       [  37. , 1000. ],\n",
        "       [  38.5,  920. ],\n",
        "       [  38.5,  955. ],\n",
        "       [  39.5,  925. ],\n",
        "       [  41. ,  975. ],\n",
        "       [  41. ,  950. ],\n",
        "       [   9.8,    6.7],\n",
        "       [  10.5,    7.5],\n",
        "       [  10.6,    7. ],\n",
        "       [  11. ,    9.7],\n",
        "       [  11.2,    9.8],\n",
        "       [  11.3,    8.7],\n",
        "       [  11.8,   10. ],\n",
        "       [  11.8,    9.9],\n",
        "       [  12. ,    9.8],\n",
        "       [  12.2,   12.2],\n",
        "       [  12.4,   13.4],\n",
        "       [  13. ,   12.2],\n",
        "       [  14.3,   19.7],\n",
        "       [  15. ,   19.9]])\n",
        "       \n",
        "y = np.concatenate((np.ones(35), np.zeros(14)))\n",
        "newb = np.array([[25, 150]])\n",
        " \n",
        "sns.scatterplot(x=x[:, 0], y=x[:, 1], hue=y)\n",
        "plt.plot(newb[0,0], newb[0,1], 'g*')"
      ],
      "execution_count": null,
      "outputs": [
        {
          "output_type": "execute_result",
          "data": {
            "text/plain": [
              "[<matplotlib.lines.Line2D at 0x7fb66fb5ae50>]"
            ]
          },
          "metadata": {},
          "execution_count": 132
        },
        {
          "output_type": "display_data",
          "data": {
            "text/plain": [
              "<Figure size 432x288 with 1 Axes>"
            ],
            "image/png": "[encoded data removed]"
          },
          "metadata": {
            "needs_background": "light"
          }
        }
      ]
    },
    {
      "cell_type": "code",
      "metadata": {
        "colab": {
          "base_uri": "https://localhost:8080/"
        },
        "id": "Vpqf2Oa_nGwr",
        "outputId": "c2d6282d-f596-4449-e845-6212627dcd29"
      },
      "source": [
        "knn = KNeighborsClassifier()\n",
        "knn.fit(x, y)\n",
        "print(knn.score(x, y))\n",
        "\n",
        "knn.predict(newb)"
      ],
      "execution_count": null,
      "outputs": [
        {
          "output_type": "stream",
          "name": "stdout",
          "text": [
            "1.0\n"
          ]
        },
        {
          "output_type": "execute_result",
          "data": {
            "text/plain": [
              "array([0.])"
            ]
          },
          "metadata": {},
          "execution_count": 134
        }
      ]
    },
    {
      "cell_type": "code",
      "metadata": {
        "colab": {
          "base_uri": "https://localhost:8080/"
        },
        "id": "syaEkJiqnKCM",
        "outputId": "2cf220bc-eea7-460c-fe7e-3aabd85caf2b"
      },
      "source": [
        "dist, idx = knn.kneighbors(newb)\n",
        "dist, idx"
      ],
      "execution_count": null,
      "outputs": [
        {
          "output_type": "execute_result",
          "data": {
            "text/plain": [
              "(array([[ 92.00086956, 130.48375378, 130.73859415, 137.17988191,\n",
              "         138.32150953]]), array([[ 0, 48, 47, 45, 46]]))"
            ]
          },
          "metadata": {},
          "execution_count": 135
        }
      ]
    },
    {
      "cell_type": "code",
      "metadata": {
        "colab": {
          "base_uri": "https://localhost:8080/",
          "height": 265
        },
        "id": "8AAXwMrPnLkP",
        "outputId": "b703a1bb-fd68-4cc5-ea5d-256390720551"
      },
      "source": [
        "sns.scatterplot(x=x[:, 0], y=x[:, 1], hue=y)\n",
        "plt.plot(newb[0,0], newb[0,1], 'g*')\n",
        "_ = plt.plot(x[idx,0], x[idx,1], 'go')"
      ],
      "execution_count": null,
      "outputs": [
        {
          "output_type": "display_data",
          "data": {
            "text/plain": [
              "<Figure size 432x288 with 1 Axes>"
            ],
            "image/png": "[encoded data removed]"
          },
          "metadata": {
            "needs_background": "light"
          }
        }
      ]
    },
    {
      "cell_type": "code",
      "metadata": {
        "colab": {
          "base_uri": "https://localhost:8080/",
          "height": 283
        },
        "id": "f2w66luWnNpD",
        "outputId": "6d402315-341a-4830-f570-626c2d987bf5"
      },
      "source": [
        "from sklearn.preprocessing import StandardScaler\n",
        "\n",
        "std = StandardScaler()\n",
        "std.fit(x)\n",
        "x_t = std.transform(x)\n",
        "\n",
        "sns.scatterplot(x=x_t[:, 0], y=x_t[:, 1], hue=y)\n",
        "newb_t = std.transform(newb)\n",
        "plt.plot(newb_t[0,0], newb_t[0,1], 'g*')"
      ],
      "execution_count": null,
      "outputs": [
        {
          "output_type": "execute_result",
          "data": {
            "text/plain": [
              "[<matplotlib.lines.Line2D at 0x7fb66fc63ad0>]"
            ]
          },
          "metadata": {},
          "execution_count": 137
        },
        {
          "output_type": "display_data",
          "data": {
            "text/plain": [
              "<Figure size 432x288 with 1 Axes>"
            ],
            "image/png": "[encoded data removed]"
          },
          "metadata": {
            "needs_background": "light"
          }
        }
      ]
    },
    {
      "cell_type": "code",
      "metadata": {
        "colab": {
          "base_uri": "https://localhost:8080/"
        },
        "id": "5JwLgGqgnP3s",
        "outputId": "6b6ff811-aa9e-471e-fc24-90b736f00de7"
      },
      "source": [
        "knn2 = KNeighborsClassifier()\n",
        "knn2.fit(x_t, y)\n",
        "knn2.predict(newb_t)"
      ],
      "execution_count": null,
      "outputs": [
        {
          "output_type": "execute_result",
          "data": {
            "text/plain": [
              "array([1.])"
            ]
          },
          "metadata": {},
          "execution_count": 138
        }
      ]
    },
    {
      "cell_type": "markdown",
      "metadata": {
        "id": "lP4Wx8jKK4Qo"
      },
      "source": [
        "## MinMaxScaler"
      ]
    },
    {
      "cell_type": "markdown",
      "metadata": {
        "id": "1R8MjxT9cmip"
      },
      "source": [
        "* `[2,8,10]` \n",
        "* min max 정규화 계산\n",
        "* MinMaxScaler 사용"
      ]
    },
    {
      "cell_type": "code",
      "metadata": {
        "id": "Bje2_qYXK4Qp",
        "colab": {
          "base_uri": "https://localhost:8080/"
        },
        "outputId": "0343cdae-cba9-48f9-fe9e-4b7f7859ecec"
      },
      "source": [
        "from sklearn.preprocessing import MinMaxScaler\n",
        "\n",
        "arr = np.array([2,8,10], dtype=np.float32).reshape(-1,1)\n",
        "print(f\"before:{arr}\")\n",
        "\n",
        "print((arr - np.min(arr))/ (np.max(arr) - np.min(arr)))\n",
        "\n",
        "mm_scaler = MinMaxScaler()\n",
        "mm_scaler.fit(arr)\n",
        "mm_scaler.data_max_, mm_scaler.data_min_\n",
        "print(mm_scaler.transform(arr))"
      ],
      "execution_count": null,
      "outputs": [
        {
          "output_type": "stream",
          "name": "stdout",
          "text": [
            "before:[[ 2.]\n",
            " [ 8.]\n",
            " [10.]]\n",
            "[[0.  ]\n",
            " [0.75]\n",
            " [1.  ]]\n",
            "[[0.  ]\n",
            " [0.75]\n",
            " [1.  ]]\n"
          ]
        }
      ]
    },
    {
      "cell_type": "code",
      "source": [
        "mm_scaler.transform(np.array([1,8, 20], dtype=np.float32).reshape(-1,1))\n"
      ],
      "metadata": {
        "colab": {
          "base_uri": "https://localhost:8080/"
        },
        "id": "hq22nNMt9MT1",
        "outputId": "a4e5a832-ca8d-45a6-9bf6-3a6029d19aba"
      },
      "execution_count": null,
      "outputs": [
        {
          "output_type": "execute_result",
          "data": {
            "text/plain": [
              "array([[-0.125],\n",
              "       [ 0.75 ],\n",
              "       [ 2.25 ]], dtype=float32)"
            ]
          },
          "metadata": {},
          "execution_count": 157
        }
      ]
    },
    {
      "cell_type": "markdown",
      "metadata": {
        "id": "ZrI4BzwncqhV"
      },
      "source": [
        "* iris 0,1 feature 정규화 및 시각화"
      ]
    },
    {
      "cell_type": "code",
      "metadata": {
        "id": "r3ZgxieWK4Qu",
        "colab": {
          "base_uri": "https://localhost:8080/",
          "height": 516
        },
        "outputId": "7df3716e-84fa-415f-86c9-18e00ebb2609"
      },
      "source": [
        "from sklearn.preprocessing import MinMaxScaler\n",
        "\n",
        "iris = load_iris()\n",
        "data = iris.data\n",
        "plt.plot(data[:, 0], data[:, 1], '.')\n",
        "plt.grid()\n",
        "plt.show()\n",
        "\n",
        "scaled = MinMaxScaler().fit_transform(data)\n",
        "plt.plot(scaled[:, 0], scaled[:, 1], '.')\n",
        "plt.grid()\n",
        "plt.show()\n"
      ],
      "execution_count": null,
      "outputs": [
        {
          "output_type": "display_data",
          "data": {
            "text/plain": [
              "<Figure size 432x288 with 1 Axes>"
            ],
            "image/png": "[encoded data removed]"
          },
          "metadata": {
            "needs_background": "light"
          }
        },
        {
          "output_type": "display_data",
          "data": {
            "text/plain": [
              "<Figure size 432x288 with 1 Axes>"
            ],
            "image/png": "[encoded data removed]"
          },
          "metadata": {
            "needs_background": "light"
          }
        }
      ]
    },
    {
      "cell_type": "markdown",
      "metadata": {
        "id": "UEtJ57GvuEpI"
      },
      "source": [
        "## Iris 표준화 후 kNN 분류 실습"
      ]
    },
    {
      "cell_type": "markdown",
      "metadata": {
        "id": "vsFU5YHWctHC"
      },
      "source": [
        "* iris 데이터 표준화 후 학습 및 평가"
      ]
    },
    {
      "cell_type": "code",
      "metadata": {
        "colab": {
          "base_uri": "https://localhost:8080/"
        },
        "id": "ukcRgJiTq5iq",
        "outputId": "ef6ae325-d3eb-4b68-becd-068c74fb3eb3"
      },
      "source": [
        "iris = load_iris()\n",
        "scaler = StandardScaler()\n",
        "scaler.fit(iris.data)\n",
        "scaled = scaler.transform(iris.data)\n",
        "\n",
        "X_train, X_test, y_train, y_test = train_test_split(scaled, iris.target, random_state=0)\n",
        "knn = KNeighborsClassifier()\n",
        "knn.fit(X_train, y_train)\n",
        "acc = knn.score(X_test, y_test)\n",
        "print('acc:', acc)"
      ],
      "execution_count": null,
      "outputs": [
        {
          "output_type": "stream",
          "name": "stdout",
          "text": [
            "acc: 0.9736842105263158\n"
          ]
        }
      ]
    },
    {
      "cell_type": "code",
      "source": [
        "X_train, X_test, y_train, y_test = train_test_split(iris.data, iris.target, random_state=0)\n",
        "\n",
        "scaler = StandardScaler()\n",
        "scaler.fit(X_train)\n",
        "scaled_train = scaler.transform(X_train)\n",
        "\n",
        "#scaler = StandardScaler() # 절대 금지\n",
        "#scaler.fit(X_test) # 절대금지\n",
        "scaled_test = scaler.transform(X_test)\n",
        "\n",
        "knn = KNeighborsClassifier()\n",
        "knn.fit(scaled_train, y_train)\n",
        "acc = knn.score(scaled_test, y_test)\n",
        "print('acc:', acc)"
      ],
      "metadata": {
        "colab": {
          "base_uri": "https://localhost:8080/"
        },
        "id": "s44lI7ow5Pb3",
        "outputId": "8185b110-2401-44e3-f6df-08ef72062285"
      },
      "execution_count": null,
      "outputs": [
        {
          "output_type": "stream",
          "name": "stdout",
          "text": [
            "acc: 0.9736842105263158\n"
          ]
        }
      ]
    },
    {
      "cell_type": "markdown",
      "source": [
        "## Pipeline\n",
        "* `sklearn.pipeline.Pipeline`\n"
      ],
      "metadata": {
        "id": "1_HWSRc999O3"
      }
    },
    {
      "cell_type": "code",
      "source": [
        "from sklearn.pipeline import Pipeline\n",
        "\n",
        "iris = load_iris()\n",
        "X_train, X_test, y_train, y_test = train_test_split(iris.data, iris.target, random_state=0)\n",
        "\n",
        "pipe = Pipeline([('std',StandardScaler()),('knn', KNeighborsClassifier())])\n",
        "\n",
        "pipe.fit(X_train, y_train)\n",
        "y_pred = pipe.predict(X_test)\n",
        "acc = pipe.score(X_test, y_test)\n",
        "print('acc:', acc)"
      ],
      "metadata": {
        "colab": {
          "base_uri": "https://localhost:8080/"
        },
        "id": "uHbN_30Q-H_3",
        "outputId": "9b7d239b-50b8-49bf-ea83-2dc8819e3ee5"
      },
      "execution_count": null,
      "outputs": [
        {
          "output_type": "stream",
          "name": "stdout",
          "text": [
            "acc: 0.9736842105263158\n"
          ]
        }
      ]
    },
    {
      "cell_type": "code",
      "source": [
        "pipe.steps"
      ],
      "metadata": {
        "colab": {
          "base_uri": "https://localhost:8080/"
        },
        "id": "67BC8E1qbkZ0",
        "outputId": "211f2e65-530e-4f7f-954b-3f7af1f7dc38"
      },
      "execution_count": null,
      "outputs": [
        {
          "output_type": "execute_result",
          "data": {
            "text/plain": [
              "[('std', StandardScaler()), ('knn', KNeighborsClassifier())]"
            ]
          },
          "metadata": {},
          "execution_count": 152
        }
      ]
    },
    {
      "cell_type": "code",
      "source": [
        "pipe.named_steps"
      ],
      "metadata": {
        "colab": {
          "base_uri": "https://localhost:8080/"
        },
        "id": "IcWfxJaCbnTM",
        "outputId": "40376427-09fc-4fd2-b5af-0b57b8aea021"
      },
      "execution_count": null,
      "outputs": [
        {
          "output_type": "execute_result",
          "data": {
            "text/plain": [
              "{'std': StandardScaler(), 'knn': KNeighborsClassifier()}"
            ]
          },
          "metadata": {},
          "execution_count": 153
        }
      ]
    },
    {
      "cell_type": "code",
      "source": [
        "pipe[1], pipe['knn']"
      ],
      "metadata": {
        "colab": {
          "base_uri": "https://localhost:8080/"
        },
        "id": "UD2eOjUabscr",
        "outputId": "6266db45-3139-4f49-c46e-56f3a3a10120"
      },
      "execution_count": null,
      "outputs": [
        {
          "output_type": "execute_result",
          "data": {
            "text/plain": [
              "(KNeighborsClassifier(), KNeighborsClassifier())"
            ]
          },
          "metadata": {},
          "execution_count": 154
        }
      ]
    },
    {
      "cell_type": "code",
      "source": [
        "pipe.set_params(knn__n_neighbors=1)"
      ],
      "metadata": {
        "colab": {
          "base_uri": "https://localhost:8080/"
        },
        "id": "dRWPXkq4bv60",
        "outputId": "fa9e0767-01da-4061-bba2-4837b32bb91d"
      },
      "execution_count": null,
      "outputs": [
        {
          "output_type": "execute_result",
          "data": {
            "text/plain": [
              "Pipeline(steps=[('std', StandardScaler()),\n",
              "                ('knn', KNeighborsClassifier(n_neighbors=1))])"
            ]
          },
          "metadata": {},
          "execution_count": 155
        }
      ]
    },
    {
      "cell_type": "markdown",
      "metadata": {
        "id": "thYoaN9LuWdo"
      },
      "source": [
        "# 손글씨 숫자 분류\n",
        "* `load_digits()`"
      ]
    },
    {
      "cell_type": "code",
      "metadata": {
        "colab": {
          "base_uri": "https://localhost:8080/",
          "height": 289
        },
        "id": "7oQ34tQWuXyj",
        "outputId": "86dc12c6-7f81-44da-a210-21bfee2bccae"
      },
      "source": [
        "from sklearn.datasets import load_digits\n",
        "\n",
        "digits = load_digits()\n",
        "#print(digits.DESCR)\n",
        "print(digits.data.shape, digits.target.shape)\n",
        "\n",
        "img = digits.data[0]\n",
        "plt.subplot(1,2,1)\n",
        "plt.imshow(img.reshape(8,8), cmap='gray')\n",
        "\n",
        "print(digits.keys())\n",
        "print(digits.images.shape)\n",
        "\n",
        "plt.subplot(1,2,2)\n",
        "plt.imshow(digits.images[0], cmap='gray')\n",
        "plt.title(digits.target[0])\n",
        "print(digits.data.max(), digits.data.min())"
      ],
      "execution_count": null,
      "outputs": [
        {
          "output_type": "stream",
          "name": "stdout",
          "text": [
            "(1797, 64) (1797,)\n",
            "dict_keys(['data', 'target', 'frame', 'feature_names', 'target_names', 'images', 'DESCR'])\n",
            "(1797, 8, 8)\n",
            "16.0 0.0\n"
          ]
        },
        {
          "output_type": "display_data",
          "data": {
            "text/plain": [
              "<Figure size 432x288 with 2 Axes>"
            ],
            "image/png": "[encoded data removed]"
          },
          "metadata": {
            "needs_background": "light"
          }
        }
      ]
    },
    {
      "cell_type": "code",
      "source": [
        "print(digits.DESCR)"
      ],
      "metadata": {
        "colab": {
          "base_uri": "https://localhost:8080/"
        },
        "id": "M2EbbhOioUN1",
        "outputId": "9af9692d-19df-432d-c3e0-d144cf8c59b2"
      },
      "execution_count": null,
      "outputs": [
        {
          "output_type": "stream",
          "name": "stdout",
          "text": [
            ".. _digits_dataset:\n",
            "\n",
            "Optical recognition of handwritten digits dataset\n",
            "--------------------------------------------------\n",
            "\n",
            "**Data Set Characteristics:**\n",
            "\n",
            "    :Number of Instances: 1797\n",
            "    :Number of Attributes: 64\n",
            "    :Attribute Information: 8x8 image of integer pixels in the range 0..16.\n",
            "    :Missing Attribute Values: None\n",
            "    :Creator: E. Alpaydin (alpaydin '@' boun.edu.tr)\n",
            "    :Date: July; 1998\n",
            "\n",
            "This is a copy of the test set of the UCI ML hand-written digits datasets\n",
            "https://archive.ics.uci.edu/ml/datasets/Optical+Recognition+of+Handwritten+Digits\n",
            "\n",
            "The data set contains images of hand-written digits: 10 classes where\n",
            "each class refers to a digit.\n",
            "\n",
            "Preprocessing programs made available by NIST were used to extract\n",
            "normalized bitmaps of handwritten digits from a preprinted form. From a\n",
            "total of 43 people, 30 contributed to the training set and different 13\n",
            "to the test set. 32x32 bitmaps are divided into nonoverlapping blocks of\n",
            "4x4 and the number of on pixels are counted in each block. This generates\n",
            "an input matrix of 8x8 where each element is an integer in the range\n",
            "0..16. This reduces dimensionality and gives invariance to small\n",
            "distortions.\n",
            "\n",
            "For info on NIST preprocessing routines, see M. D. Garris, J. L. Blue, G.\n",
            "T. Candela, D. L. Dimmick, J. Geist, P. J. Grother, S. A. Janet, and C.\n",
            "L. Wilson, NIST Form-Based Handprint Recognition System, NISTIR 5469,\n",
            "1994.\n",
            "\n",
            ".. topic:: References\n",
            "\n",
            "  - C. Kaynak (1995) Methods of Combining Multiple Classifiers and Their\n",
            "    Applications to Handwritten Digit Recognition, MSc Thesis, Institute of\n",
            "    Graduate Studies in Science and Engineering, Bogazici University.\n",
            "  - E. Alpaydin, C. Kaynak (1998) Cascading Classifiers, Kybernetika.\n",
            "  - Ken Tang and Ponnuthurai N. Suganthan and Xi Yao and A. Kai Qin.\n",
            "    Linear dimensionalityreduction using relevance weighted LDA. School of\n",
            "    Electrical and Electronic Engineering Nanyang Technological University.\n",
            "    2005.\n",
            "  - Claudio Gentile. A New Approximate Maximal Margin Classification\n",
            "    Algorithm. NIPS. 2000.\n",
            "\n"
          ]
        }
      ]
    },
    {
      "cell_type": "markdown",
      "metadata": {
        "id": "JPJJw5uRubkC"
      },
      "source": [
        "\n",
        "* 첫 번째 숫자만 **표시**"
      ]
    },
    {
      "cell_type": "code",
      "metadata": {
        "colab": {
          "base_uri": "https://localhost:8080/",
          "height": 94
        },
        "id": "hZPA3CNnuZiv",
        "outputId": "d3ae8d1a-24dc-4be6-b779-9810c9576c75"
      },
      "source": [
        "plt.figure(figsize=(10,4))\n",
        "for i in range(10):\n",
        "  dimg = digits.images[digits.target==i][0]\n",
        "  plt.subplot(1,10, i+1)\n",
        "  plt.imshow(dimg, cmap='gray')\n",
        "  plt.title(i)\n",
        "  plt.axis('off')"
      ],
      "execution_count": null,
      "outputs": [
        {
          "output_type": "display_data",
          "data": {
            "text/plain": [
              "<Figure size 720x288 with 10 Axes>"
            ],
            "image/png": "[encoded data removed]"
          },
          "metadata": {
            "needs_background": "light"
          }
        }
      ]
    },
    {
      "cell_type": "markdown",
      "metadata": {
        "id": "Nqkwul66uee-"
      },
      "source": [
        "* 훈련 세트와 테스트 세트 분류\n",
        "* `n_neighbors`를 1~11로 변경하면서 학습 및 평가"
      ]
    },
    {
      "cell_type": "code",
      "metadata": {
        "colab": {
          "base_uri": "https://localhost:8080/"
        },
        "id": "e8tYZRh1uc4A",
        "outputId": "3e7db43b-57cc-4981-a9f2-5720f7cdb4fb"
      },
      "source": [
        "mm = MinMaxScaler()\n",
        "X = mm.fit_transform(digits.data)\n",
        "X_train, X_test, y_train, y_test = train_test_split(X, digits.target,)\n",
        "                                                    #random_state=3)\n",
        "for k in range(1, 11):\n",
        "  knn = KNeighborsClassifier(n_neighbors=k)\n",
        "  knn.fit(X_train, y_train)\n",
        "  score = knn.score(X_test, y_test)\n",
        "  print(f'k={k}, accuracy={score*100:.2f}%')"
      ],
      "execution_count": null,
      "outputs": [
        {
          "output_type": "stream",
          "name": "stdout",
          "text": [
            "k=1, accuracy=98.00%\n",
            "k=2, accuracy=96.44%\n",
            "k=3, accuracy=97.56%\n",
            "k=4, accuracy=97.11%\n",
            "k=5, accuracy=97.11%\n",
            "k=6, accuracy=96.89%\n",
            "k=7, accuracy=96.67%\n",
            "k=8, accuracy=96.22%\n",
            "k=9, accuracy=96.44%\n",
            "k=10, accuracy=96.00%\n"
          ]
        }
      ]
    },
    {
      "cell_type": "markdown",
      "metadata": {
        "id": "3uYuyDIdnN8z"
      },
      "source": [
        "# 교차 검증(Cross Validation)\n"
      ]
    },
    {
      "cell_type": "markdown",
      "metadata": {
        "id": "8Yn5_dbdc26J"
      },
      "source": [
        "## KFold\n",
        "* `np.arange(0.0, 1.5, 0.1)`를 `KFold(3)`으로 분할"
      ]
    },
    {
      "cell_type": "code",
      "metadata": {
        "colab": {
          "base_uri": "https://localhost:8080/"
        },
        "id": "Wbi1VugTpjGy",
        "outputId": "efc728af-5c83-47e6-a839-928519a2c0da"
      },
      "source": [
        "from sklearn.model_selection import KFold\n",
        "\n",
        "x = np.arange(0.0, 1.5, 0.1)\n",
        "kfold = KFold(3, shuffle=True)\n",
        "for train, test in kfold.split(x):\n",
        "  print('train idx:', train, 'test idx:', test)\n",
        "  print('train value:', x[train], 'test value:', x[test])"
      ],
      "execution_count": null,
      "outputs": [
        {
          "output_type": "stream",
          "name": "stdout",
          "text": [
            "train idx: [ 0  2  3  5  6  7  8  9 10 12] test idx: [ 1  4 11 13 14]\n",
            "train value: [0.  0.2 0.3 0.5 0.6 0.7 0.8 0.9 1.  1.2] test value: [0.1 0.4 1.1 1.3 1.4]\n",
            "train idx: [ 1  4  5  6  9 10 11 12 13 14] test idx: [0 2 3 7 8]\n",
            "train value: [0.1 0.4 0.5 0.6 0.9 1.  1.1 1.2 1.3 1.4] test value: [0.  0.2 0.3 0.7 0.8]\n",
            "train idx: [ 0  1  2  3  4  7  8 11 13 14] test idx: [ 5  6  9 10 12]\n",
            "train value: [0.  0.1 0.2 0.3 0.4 0.7 0.8 1.1 1.3 1.4] test value: [0.5 0.6 0.9 1.  1.2]\n"
          ]
        }
      ]
    },
    {
      "cell_type": "markdown",
      "metadata": {
        "id": "fwgZb7Psc46t"
      },
      "source": [
        "* `np.arange(0.0, 1.5, 0.1)`를 KFold(3, shuffle=True)으로 분할\n",
        "* y는 0,1 비율이 10:5로 생성"
      ]
    },
    {
      "cell_type": "code",
      "metadata": {
        "colab": {
          "base_uri": "https://localhost:8080/"
        },
        "id": "-tBqQWSkuk51",
        "outputId": "be9e83df-b3b7-4f53-8299-f188590b6ea4"
      },
      "source": [
        "x = np.arange(0.0, 1.5, 0.1)\n",
        "y = np.zeros(15)\n",
        "y[10:] = 1\n",
        "\n",
        "kfold = KFold(3, shuffle=True)\n",
        "for train, test in kfold.split(x):\n",
        "  print(y[train], y[test])"
      ],
      "execution_count": null,
      "outputs": [
        {
          "output_type": "stream",
          "name": "stdout",
          "text": [
            "[0. 0. 0. 0. 0. 0. 0. 1. 1. 1.] [0. 0. 0. 1. 1.]\n",
            "[0. 0. 0. 0. 0. 1. 1. 1. 1. 1.] [0. 0. 0. 0. 0.]\n",
            "[0. 0. 0. 0. 0. 0. 0. 0. 1. 1.] [0. 0. 1. 1. 1.]\n"
          ]
        }
      ]
    },
    {
      "cell_type": "markdown",
      "metadata": {
        "id": "1pdDlbU5dCFi"
      },
      "source": [
        "* `np.arange(0.0, 1.5, 0.1)`를 StratifiedKFold(5, shuffle=True)으로 분할\n",
        "* y는 0,1 비율이 10:5로 생성"
      ]
    },
    {
      "cell_type": "code",
      "metadata": {
        "colab": {
          "base_uri": "https://localhost:8080/"
        },
        "id": "Z9O8YsrVvY7P",
        "outputId": "9cb664ab-3f3d-4ef3-e6b4-7d9009c80593"
      },
      "source": [
        "from sklearn.model_selection import StratifiedKFold\n",
        " \n",
        "x = np.arange(0.0, 1.5, 0.1)\n",
        "y = np.zeros(15)\n",
        "y[10:] = 1\n",
        "\n",
        "skfold = StratifiedKFold(5)\n",
        "for train, test in skfold.split(x, y):\n",
        "  print(y[train], y[test])\n"
      ],
      "execution_count": null,
      "outputs": [
        {
          "output_type": "stream",
          "name": "stdout",
          "text": [
            "[0. 0. 0. 0. 0. 0. 0. 0. 1. 1. 1. 1.] [0. 0. 1.]\n",
            "[0. 0. 0. 0. 0. 0. 0. 0. 1. 1. 1. 1.] [0. 0. 1.]\n",
            "[0. 0. 0. 0. 0. 0. 0. 0. 1. 1. 1. 1.] [0. 0. 1.]\n",
            "[0. 0. 0. 0. 0. 0. 0. 0. 1. 1. 1. 1.] [0. 0. 1.]\n",
            "[0. 0. 0. 0. 0. 0. 0. 0. 1. 1. 1. 1.] [0. 0. 1.]\n"
          ]
        }
      ]
    },
    {
      "cell_type": "markdown",
      "metadata": {
        "id": "nH7CptRndAwp"
      },
      "source": [
        "## 손글씨 data KFold(5)로 kNN 학습 및 평가"
      ]
    },
    {
      "cell_type": "code",
      "metadata": {
        "colab": {
          "base_uri": "https://localhost:8080/"
        },
        "id": "tlpk4tzZpMIa",
        "outputId": "592f1aed-36a8-4932-d77a-a6c0c2d8e0eb"
      },
      "source": [
        "digits = load_digits()\n",
        "kfold = KFold(n_splits=5)\n",
        "\n",
        "knn = KNeighborsClassifier(n_neighbors=1)\n",
        "cv_acc = np.array([])\n",
        "\n",
        "for i, (train_idx, test_idx) in enumerate(kfold.split(digits.data)):\n",
        "  X_train, X_test = digits.data[train_idx], digits.data[test_idx]\n",
        "  y_train, y_test = digits.target[train_idx], digits.target[test_idx]\n",
        "  knn.fit(X_train, y_train)\n",
        "  y_pred = knn.predict(X_test)\n",
        "  acc = accuracy_score(y_test, y_pred)\n",
        "  cv_acc = np.append(cv_acc, acc)\n",
        "\n",
        "print(f'acc scores:{cv_acc}')\n",
        "print(f'mean acc:{cv_acc.mean()}')\n"
      ],
      "execution_count": null,
      "outputs": [
        {
          "output_type": "stream",
          "name": "stdout",
          "text": [
            "acc scores:[0.96111111 0.95277778 0.96657382 0.98885794 0.95543175]\n",
            "mean acc:0.9649504797276384\n"
          ]
        }
      ]
    },
    {
      "cell_type": "code",
      "source": [
        "digits = load_digits()\n",
        "kfold = KFold(n_splits=5)\n",
        "\n",
        "for k in range(1, 11):\n",
        "  knn = KNeighborsClassifier(n_neighbors=k)\n",
        "  cv_acc = np.array([])\n",
        "\n",
        "  for i, (train_idx, test_idx) in enumerate(kfold.split(digits.data)):\n",
        "    X_train, X_test = digits.data[train_idx], digits.data[test_idx]\n",
        "    y_train, y_test = digits.target[train_idx], digits.target[test_idx]\n",
        "    knn.fit(X_train, y_train)\n",
        "    y_pred = knn.predict(X_test)\n",
        "    acc = accuracy_score(y_test, y_pred)\n",
        "    cv_acc = np.append(cv_acc, acc)\n",
        "\n",
        "  print(f'k={k} acc scores:{cv_acc}')\n",
        "  print(f'k={k} mean acc:{cv_acc.mean()}')"
      ],
      "metadata": {
        "colab": {
          "base_uri": "https://localhost:8080/"
        },
        "id": "_9vpwBLvtyGo",
        "outputId": "08bf57fe-83a1-4cf5-f694-dc7d9c8f3376"
      },
      "execution_count": null,
      "outputs": [
        {
          "output_type": "stream",
          "name": "stdout",
          "text": [
            "k=1 acc scores:[0.96111111 0.95277778 0.96657382 0.98885794 0.95543175]\n",
            "k=1 mean acc:0.9649504797276384\n",
            "k=2 acc scores:[0.96388889 0.96666667 0.96935933 0.97771588 0.9637883 ]\n",
            "k=2 mean acc:0.9682838130609719\n",
            "k=3 acc scores:[0.95555556 0.96111111 0.9637883  0.98607242 0.96657382]\n",
            "k=3 mean acc:0.9666202414113277\n",
            "k=4 acc scores:[0.95       0.96111111 0.9637883  0.98050139 0.96657382]\n",
            "k=4 mean acc:0.964394924172083\n",
            "k=5 acc scores:[0.95       0.96388889 0.9637883  0.98328691 0.9637883 ]\n",
            "k=5 mean acc:0.9649504797276384\n",
            "k=6 acc scores:[0.95       0.96388889 0.9637883  0.97493036 0.95264624]\n",
            "k=6 mean acc:0.9610507582791705\n",
            "k=7 acc scores:[0.93888889 0.96388889 0.96657382 0.97771588 0.95264624]\n",
            "k=7 mean acc:0.9599427421850819\n",
            "k=8 acc scores:[0.94166667 0.96388889 0.96657382 0.97493036 0.94986072]\n",
            "k=8 mean acc:0.9593840916125039\n",
            "k=9 acc scores:[0.93611111 0.95555556 0.96935933 0.97493036 0.94986072]\n",
            "k=9 mean acc:0.9571634168987929\n",
            "k=10 acc scores:[0.93888889 0.95277778 0.96657382 0.97493036 0.94986072]\n",
            "k=10 mean acc:0.956606313834726\n"
          ]
        }
      ]
    },
    {
      "cell_type": "markdown",
      "metadata": {
        "id": "LToal637riRT"
      },
      "source": [
        "\n",
        "## `cross_val_score(estimator, X, y, groups, scoring, cv)`\n",
        "* scoring : https://scikit-learn.org/stable/modules/model_evaluation.html#scoring-parameter"
      ]
    },
    {
      "cell_type": "code",
      "metadata": {
        "colab": {
          "base_uri": "https://localhost:8080/"
        },
        "id": "MWeU3pyrphsy",
        "outputId": "1e88ef12-1e1e-4f24-ba55-66fc758f7f91"
      },
      "source": [
        "from sklearn.model_selection import cross_val_score, cross_validate\n",
        "\n",
        "knn = KNeighborsClassifier(n_neighbors=1)\n",
        "\n",
        "scores = cross_val_score(knn, digits.data, digits.target, cv=5)\n",
        "print(f'acc:{scores}')\n",
        "print(f'mean acc:{scores.mean()}')"
      ],
      "execution_count": null,
      "outputs": [
        {
          "output_type": "stream",
          "name": "stdout",
          "text": [
            "acc:[0.96111111 0.95277778 0.96657382 0.98607242 0.95543175]\n",
            "mean acc:0.9643933766635715\n"
          ]
        }
      ]
    },
    {
      "cell_type": "code",
      "source": [
        "cross_validate(knn, digits.data, digits.target, cv=5)"
      ],
      "metadata": {
        "colab": {
          "base_uri": "https://localhost:8080/"
        },
        "id": "-1WdNcZF6_Q1",
        "outputId": "ad42a9ea-c10f-4c9b-cee2-6f82fd7e5fd5"
      },
      "execution_count": null,
      "outputs": [
        {
          "output_type": "execute_result",
          "data": {
            "text/plain": [
              "{'fit_time': array([0.00131822, 0.00154161, 0.00139952, 0.00134754, 0.0025413 ]),\n",
              " 'score_time': array([0.02734184, 0.02344871, 0.02285171, 0.02290416, 0.02253938]),\n",
              " 'test_score': array([0.96111111, 0.95277778, 0.96657382, 0.98607242, 0.95543175])}"
            ]
          },
          "metadata": {},
          "execution_count": 41
        }
      ]
    },
    {
      "cell_type": "code",
      "metadata": {
        "colab": {
          "base_uri": "https://localhost:8080/"
        },
        "id": "eqC0T1Q1xY_3",
        "outputId": "e921c98f-4dcd-4186-c614-de6fdfe14653"
      },
      "source": [
        "best = (0,0)\n",
        "for k in range(1, 11):\n",
        "  knn = KNeighborsClassifier(n_neighbors=k)\n",
        "\n",
        "  scores = cross_val_score(knn, digits.data, digits.target, cv=5)\n",
        "  print(f'acc:{scores}')\n",
        "  print(f'mean acc:{scores.mean()}')\n",
        "  if best[1] < scores.mean():\n",
        "    best = (k, scores.mean())\n",
        "print(f'best k:{best[0]}, mean acc:{best[1]}')"
      ],
      "execution_count": null,
      "outputs": [
        {
          "output_type": "stream",
          "name": "stdout",
          "text": [
            "acc:[0.96111111 0.95277778 0.96657382 0.98607242 0.95543175]\n",
            "mean acc:0.9643933766635715\n",
            "acc:[0.96111111 0.96666667 0.96935933 0.97771588 0.96100279]\n",
            "mean acc:0.9671711544413494\n",
            "acc:[0.95555556 0.95833333 0.96657382 0.98607242 0.96657382]\n",
            "mean acc:0.966621788919839\n",
            "acc:[0.94722222 0.95833333 0.96657382 0.98050139 0.96657382]\n",
            "mean acc:0.9638409161250386\n",
            "acc:[0.94722222 0.95555556 0.96657382 0.98050139 0.9637883 ]\n",
            "mean acc:0.9627282575054161\n",
            "acc:[0.94444444 0.95833333 0.96657382 0.97493036 0.95264624]\n",
            "mean acc:0.9593856391210152\n",
            "acc:[0.93611111 0.96111111 0.96935933 0.98050139 0.95264624]\n",
            "mean acc:0.9599458372021046\n",
            "acc:[0.93611111 0.95833333 0.96935933 0.97771588 0.94986072]\n",
            "mean acc:0.9582760755184154\n",
            "acc:[0.93055556 0.95277778 0.97214485 0.97771588 0.94986072]\n",
            "mean acc:0.9566109563602601\n",
            "acc:[0.93055556 0.94722222 0.96935933 0.97771588 0.94986072]\n",
            "mean acc:0.954942742185082\n",
            "best k:2, mean acc:0.9671711544413494\n"
          ]
        }
      ]
    },
    {
      "cell_type": "markdown",
      "metadata": {
        "id": "wEBWrPqEnHzF"
      },
      "source": [
        "# GridSearchCV"
      ]
    },
    {
      "cell_type": "markdown",
      "metadata": {
        "id": "Cg73ZoMXdEeo"
      },
      "source": [
        "* GridSearchCV, knn으로 최적의 n_neighbors 찾기"
      ]
    },
    {
      "cell_type": "code",
      "metadata": {
        "colab": {
          "base_uri": "https://localhost:8080/",
          "height": 637
        },
        "id": "0ESQTrdvyXAy",
        "outputId": "ee0954a3-8047-476c-aef5-0d2f854d3e10"
      },
      "source": [
        "knn = KNeighborsClassifier()\n",
        "gcv = GridSearchCV(knn, {'n_neighbors':range(1, 11)}, cv=KFold(5, shuffle=True))\n",
        "gcv.fit(digits.data, digits.target)\n",
        "#print(gcv.cv_results_)\n",
        "display(pd.DataFrame(gcv.cv_results_))\n",
        "print(gcv.best_params_)\n",
        "gcv.best_estimator_"
      ],
      "execution_count": null,
      "outputs": [
        {
          "output_type": "display_data",
          "data": {
            "text/plain": [
              "   mean_fit_time  std_fit_time  mean_score_time  std_score_time  \\\n",
              "0       0.001393      0.000038         0.024755        0.002543   \n",
              "1       0.001439      0.000124         0.025103        0.000537   \n",
              "2       0.001366      0.000028         0.026468        0.000506   \n",
              "3       0.001461      0.000149         0.030181        0.001571   \n",
              "4       0.001389      0.000019         0.034311        0.010134   \n",
              "5       0.001470      0.000241         0.030757        0.003707   \n",
              "6       0.001361      0.000022         0.030867        0.004092   \n",
              "7       0.001798      0.000798         0.031524        0.006191   \n",
              "8       0.001368      0.000025         0.031609        0.003690   \n",
              "9       0.001377      0.000037         0.029024        0.000556   \n",
              "\n",
              "  param_n_neighbors               params  split0_test_score  \\\n",
              "0                 1   {'n_neighbors': 1}           0.986111   \n",
              "1                 2   {'n_neighbors': 2}           0.983333   \n",
              "2                 3   {'n_neighbors': 3}           0.988889   \n",
              "3                 4   {'n_neighbors': 4}           0.988889   \n",
              "4                 5   {'n_neighbors': 5}           0.991667   \n",
              "5                 6   {'n_neighbors': 6}           0.991667   \n",
              "6                 7   {'n_neighbors': 7}           0.988889   \n",
              "7                 8   {'n_neighbors': 8}           0.983333   \n",
              "8                 9   {'n_neighbors': 9}           0.986111   \n",
              "9                10  {'n_neighbors': 10}           0.980556   \n",
              "\n",
              "   split1_test_score  split2_test_score  split3_test_score  split4_test_score  \\\n",
              "0           0.983333           1.000000           0.983287           0.988858   \n",
              "1           0.980556           0.991643           0.980501           0.991643   \n",
              "2           0.983333           0.997214           0.983287           0.988858   \n",
              "3           0.977778           0.994429           0.977716           0.986072   \n",
              "4           0.977778           0.994429           0.980501           0.988858   \n",
              "5           0.975000           0.988858           0.977716           0.986072   \n",
              "6           0.975000           0.991643           0.977716           0.983287   \n",
              "7           0.975000           0.991643           0.983287           0.980501   \n",
              "8           0.975000           0.991643           0.983287           0.980501   \n",
              "9           0.977778           0.988858           0.986072           0.980501   \n",
              "\n",
              "   mean_test_score  std_test_score  rank_test_score  \n",
              "0         0.988318        0.006193                1  \n",
              "1         0.985535        0.005091                4  \n",
              "2         0.988316        0.005098                2  \n",
              "3         0.984977        0.006487                5  \n",
              "4         0.986647        0.006435                3  \n",
              "5         0.983863        0.006435                6  \n",
              "6         0.983307        0.006339                8  \n",
              "7         0.982753        0.005382                9  \n",
              "8         0.983309        0.005554                7  \n",
              "9         0.982753        0.004073                9  "
            ],
            "text/html": [
              "\n",
              "  <div id=\"df-7906f541-9ce3-474a-86cc-02dd92f4a567\">\n",
              "    <div class=\"colab-df-container\">\n",
              "      <div>\n",
              "<style scoped>\n",
              "    .dataframe tbody tr th:only-of-type {\n",
              "        vertical-align: middle;\n",
              "    }\n",
              "\n",
              "    .dataframe tbody tr th {\n",
              "        vertical-align: top;\n",
              "    }\n",
              "\n",
              "    .dataframe thead th {\n",
              "        text-align: right;\n",
              "    }\n",
              "</style>\n",
              "<table border=\"1\" class=\"dataframe\">\n",
              "  <thead>\n",
              "    <tr style=\"text-align: right;\">\n",
              "      <th></th>\n",
              "      <th>mean_fit_time</th>\n",
              "      <th>std_fit_time</th>\n",
              "      <th>mean_score_time</th>\n",
              "      <th>std_score_time</th>\n",
              "      <th>param_n_neighbors</th>\n",
              "      <th>params</th>\n",
              "      <th>split0_test_score</th>\n",
              "      <th>split1_test_score</th>\n",
              "      <th>split2_test_score</th>\n",
              "      <th>split3_test_score</th>\n",
              "      <th>split4_test_score</th>\n",
              "      <th>mean_test_score</th>\n",
              "      <th>std_test_score</th>\n",
              "      <th>rank_test_score</th>\n",
              "    </tr>\n",
              "  </thead>\n",
              "  <tbody>\n",
              "    <tr>\n",
              "      <th>0</th>\n",
              "      <td>0.001393</td>\n",
              "      <td>0.000038</td>\n",
              "      <td>0.024755</td>\n",
              "      <td>0.002543</td>\n",
              "      <td>1</td>\n",
              "      <td>{'n_neighbors': 1}</td>\n",
              "      <td>0.986111</td>\n",
              "      <td>0.983333</td>\n",
              "      <td>1.000000</td>\n",
              "      <td>0.983287</td>\n",
              "      <td>0.988858</td>\n",
              "      <td>0.988318</td>\n",
              "      <td>0.006193</td>\n",
              "      <td>1</td>\n",
              "    </tr>\n",
              "    <tr>\n",
              "      <th>1</th>\n",
              "      <td>0.001439</td>\n",
              "      <td>0.000124</td>\n",
              "      <td>0.025103</td>\n",
              "      <td>0.000537</td>\n",
              "      <td>2</td>\n",
              "      <td>{'n_neighbors': 2}</td>\n",
              "      <td>0.983333</td>\n",
              "      <td>0.980556</td>\n",
              "      <td>0.991643</td>\n",
              "      <td>0.980501</td>\n",
              "      <td>0.991643</td>\n",
              "      <td>0.985535</td>\n",
              "      <td>0.005091</td>\n",
              "      <td>4</td>\n",
              "    </tr>\n",
              "    <tr>\n",
              "      <th>2</th>\n",
              "      <td>0.001366</td>\n",
              "      <td>0.000028</td>\n",
              "      <td>0.026468</td>\n",
              "      <td>0.000506</td>\n",
              "      <td>3</td>\n",
              "      <td>{'n_neighbors': 3}</td>\n",
              "      <td>0.988889</td>\n",
              "      <td>0.983333</td>\n",
              "      <td>0.997214</td>\n",
              "      <td>0.983287</td>\n",
              "      <td>0.988858</td>\n",
              "      <td>0.988316</td>\n",
              "      <td>0.005098</td>\n",
              "      <td>2</td>\n",
              "    </tr>\n",
              "    <tr>\n",
              "      <th>3</th>\n",
              "      <td>0.001461</td>\n",
              "      <td>0.000149</td>\n",
              "      <td>0.030181</td>\n",
              "      <td>0.001571</td>\n",
              "      <td>4</td>\n",
              "      <td>{'n_neighbors': 4}</td>\n",
              "      <td>0.988889</td>\n",
              "      <td>0.977778</td>\n",
              "      <td>0.994429</td>\n",
              "      <td>0.977716</td>\n",
              "      <td>0.986072</td>\n",
              "      <td>0.984977</td>\n",
              "      <td>0.006487</td>\n",
              "      <td>5</td>\n",
              "    </tr>\n",
              "    <tr>\n",
              "      <th>4</th>\n",
              "      <td>0.001389</td>\n",
              "      <td>0.000019</td>\n",
              "      <td>0.034311</td>\n",
              "      <td>0.010134</td>\n",
              "      <td>5</td>\n",
              "      <td>{'n_neighbors': 5}</td>\n",
              "      <td>0.991667</td>\n",
              "      <td>0.977778</td>\n",
              "      <td>0.994429</td>\n",
              "      <td>0.980501</td>\n",
              "      <td>0.988858</td>\n",
              "      <td>0.986647</td>\n",
              "      <td>0.006435</td>\n",
              "      <td>3</td>\n",
              "    </tr>\n",
              "    <tr>\n",
              "      <th>5</th>\n",
              "      <td>0.001470</td>\n",
              "      <td>0.000241</td>\n",
              "      <td>0.030757</td>\n",
              "      <td>0.003707</td>\n",
              "      <td>6</td>\n",
              "      <td>{'n_neighbors': 6}</td>\n",
              "      <td>0.991667</td>\n",
              "      <td>0.975000</td>\n",
              "      <td>0.988858</td>\n",
              "      <td>0.977716</td>\n",
              "      <td>0.986072</td>\n",
              "      <td>0.983863</td>\n",
              "      <td>0.006435</td>\n",
              "      <td>6</td>\n",
              "    </tr>\n",
              "    <tr>\n",
              "      <th>6</th>\n",
              "      <td>0.001361</td>\n",
              "      <td>0.000022</td>\n",
              "      <td>0.030867</td>\n",
              "      <td>0.004092</td>\n",
              "      <td>7</td>\n",
              "      <td>{'n_neighbors': 7}</td>\n",
              "      <td>0.988889</td>\n",
              "      <td>0.975000</td>\n",
              "      <td>0.991643</td>\n",
              "      <td>0.977716</td>\n",
              "      <td>0.983287</td>\n",
              "      <td>0.983307</td>\n",
              "      <td>0.006339</td>\n",
              "      <td>8</td>\n",
              "    </tr>\n",
              "    <tr>\n",
              "      <th>7</th>\n",
              "      <td>0.001798</td>\n",
              "      <td>0.000798</td>\n",
              "      <td>0.031524</td>\n",
              "      <td>0.006191</td>\n",
              "      <td>8</td>\n",
              "      <td>{'n_neighbors': 8}</td>\n",
              "      <td>0.983333</td>\n",
              "      <td>0.975000</td>\n",
              "      <td>0.991643</td>\n",
              "      <td>0.983287</td>\n",
              "      <td>0.980501</td>\n",
              "      <td>0.982753</td>\n",
              "      <td>0.005382</td>\n",
              "      <td>9</td>\n",
              "    </tr>\n",
              "    <tr>\n",
              "      <th>8</th>\n",
              "      <td>0.001368</td>\n",
              "      <td>0.000025</td>\n",
              "      <td>0.031609</td>\n",
              "      <td>0.003690</td>\n",
              "      <td>9</td>\n",
              "      <td>{'n_neighbors': 9}</td>\n",
              "      <td>0.986111</td>\n",
              "      <td>0.975000</td>\n",
              "      <td>0.991643</td>\n",
              "      <td>0.983287</td>\n",
              "      <td>0.980501</td>\n",
              "      <td>0.983309</td>\n",
              "      <td>0.005554</td>\n",
              "      <td>7</td>\n",
              "    </tr>\n",
              "    <tr>\n",
              "      <th>9</th>\n",
              "      <td>0.001377</td>\n",
              "      <td>0.000037</td>\n",
              "      <td>0.029024</td>\n",
              "      <td>0.000556</td>\n",
              "      <td>10</td>\n",
              "      <td>{'n_neighbors': 10}</td>\n",
              "      <td>0.980556</td>\n",
              "      <td>0.977778</td>\n",
              "      <td>0.988858</td>\n",
              "      <td>0.986072</td>\n",
              "      <td>0.980501</td>\n",
              "      <td>0.982753</td>\n",
              "      <td>0.004073</td>\n",
              "      <td>9</td>\n",
              "    </tr>\n",
              "  </tbody>\n",
              "</table>\n",
              "</div>\n",
              "      <button class=\"colab-df-convert\" onclick=\"convertToInteractive('df-7906f541-9ce3-474a-86cc-02dd92f4a567')\"\n",
              "              title=\"Convert this dataframe to an interactive table.\"\n",
              "              style=\"display:none;\">\n",
              "        \n",
              "  <svg xmlns=\"http://www.w3.org/2000/svg\" height=\"24px\"viewBox=\"0 0 24 24\"\n",
              "       width=\"24px\">\n",
              "    <path d=\"M0 0h24v24H0V0z\" fill=\"none\"/>\n",
              "    <path d=\"M18.56 5.44l.94 2.06.94-2.06 2.06-.94-2.06-.94-.94-2.06-.94 2.06-2.06.94zm-11 1L8.5 8.5l.94-2.06 2.06-.94-2.06-.94L8.5 2.5l-.94 2.06-2.06.94zm10 10l.94 2.06.94-2.06 2.06-.94-2.06-.94-.94-2.06-.94 2.06-2.06.94z\"/><path d=\"M17.41 7.96l-1.37-1.37c-.4-.4-.92-.59-1.43-.59-.52 0-1.04.2-1.43.59L10.3 9.45l-7.72 7.72c-.78.78-.78 2.05 0 2.83L4 21.41c.39.39.9.59 1.41.59.51 0 1.02-.2 1.41-.59l7.78-7.78 2.81-2.81c.8-.78.8-2.07 0-2.86zM5.41 20L4 18.59l7.72-7.72 1.47 1.35L5.41 20z\"/>\n",
              "  </svg>\n",
              "      </button>\n",
              "      \n",
              "  <style>\n",
              "    .colab-df-container {\n",
              "      display:flex;\n",
              "      flex-wrap:wrap;\n",
              "      gap: 12px;\n",
              "    }\n",
              "\n",
              "    .colab-df-convert {\n",
              "      background-color: #E8F0FE;\n",
              "      border: none;\n",
              "      border-radius: 50%;\n",
              "      cursor: pointer;\n",
              "      display: none;\n",
              "      fill: #1967D2;\n",
              "      height: 32px;\n",
              "      padding: 0 0 0 0;\n",
              "      width: 32px;\n",
              "    }\n",
              "\n",
              "    .colab-df-convert:hover {\n",
              "      background-color: #E2EBFA;\n",
              "      box-shadow: 0px 1px 2px rgba(60, 64, 67, 0.3), 0px 1px 3px 1px rgba(60, 64, 67, 0.15);\n",
              "      fill: #174EA6;\n",
              "    }\n",
              "\n",
              "    [theme=dark] .colab-df-convert {\n",
              "      background-color: #3B4455;\n",
              "      fill: #D2E3FC;\n",
              "    }\n",
              "\n",
              "    [theme=dark] .colab-df-convert:hover {\n",
              "      background-color: #434B5C;\n",
              "      box-shadow: 0px 1px 3px 1px rgba(0, 0, 0, 0.15);\n",
              "      filter: drop-shadow(0px 1px 2px rgba(0, 0, 0, 0.3));\n",
              "      fill: #FFFFFF;\n",
              "    }\n",
              "  </style>\n",
              "\n",
              "      <script>\n",
              "        const buttonEl =\n",
              "          document.querySelector('#df-7906f541-9ce3-474a-86cc-02dd92f4a567 button.colab-df-convert');\n",
              "        buttonEl.style.display =\n",
              "          google.colab.kernel.accessAllowed ? 'block' : 'none';\n",
              "\n",
              "        async function convertToInteractive(key) {\n",
              "          const element = document.querySelector('#df-7906f541-9ce3-474a-86cc-02dd92f4a567');\n",
              "          const dataTable =\n",
              "            await google.colab.kernel.invokeFunction('convertToInteractive',\n",
              "                                                     [key], {});\n",
              "          if (!dataTable) return;\n",
              "\n",
              "          const docLinkHtml = 'Like what you see? Visit the ' +\n",
              "            '<a target=\"_blank\" href=https://colab.research.google.com/notebooks/data_table.ipynb>data table notebook</a>'\n",
              "            + ' to learn more about interactive tables.';\n",
              "          element.innerHTML = '';\n",
              "          dataTable['output_type'] = 'display_data';\n",
              "          await google.colab.output.renderOutput(dataTable, element);\n",
              "          const docLink = document.createElement('div');\n",
              "          docLink.innerHTML = docLinkHtml;\n",
              "          element.appendChild(docLink);\n",
              "        }\n",
              "      </script>\n",
              "    </div>\n",
              "  </div>\n",
              "  "
            ]
          },
          "metadata": {}
        },
        {
          "output_type": "stream",
          "name": "stdout",
          "text": [
            "{'n_neighbors': 1}\n"
          ]
        },
        {
          "output_type": "execute_result",
          "data": {
            "text/plain": [
              "KNeighborsClassifier(n_neighbors=1)"
            ]
          },
          "metadata": {},
          "execution_count": 47
        }
      ]
    },
    {
      "cell_type": "markdown",
      "source": [
        "## Train, Test, Validation Set"
      ],
      "metadata": {
        "id": "wlJhZpRV0GqY"
      }
    },
    {
      "cell_type": "code",
      "metadata": {
        "colab": {
          "base_uri": "https://localhost:8080/",
          "height": 1000
        },
        "id": "Aam-F6PFughy",
        "outputId": "6f763040-78bc-4b1d-cf5e-18ccbe1a4b5c"
      },
      "source": [
        "\n",
        "X_train, X_test, y_train, y_test = train_test_split(digits.data, digits.target, random_state=0)\n",
        "gcv = GridSearchCV(KNeighborsClassifier(), {'n_neighbors':range(1, 11), 'weights':['uniform', 'distance']}, cv=5)\n",
        "gcv.fit(X_train, y_train)\n",
        "display(pd.DataFrame(gcv.cv_results_))\n",
        "print('best param:', gcv.best_params_)\n",
        "\n",
        "estimator = gcv.best_estimator_\n",
        "acc = estimator.score(X_test, y_test)\n",
        "print('test acc:', acc)"
      ],
      "execution_count": null,
      "outputs": [
        {
          "output_type": "display_data",
          "data": {
            "text/plain": [
              "    mean_fit_time  std_fit_time  mean_score_time  std_score_time  \\\n",
              "0        0.001382      0.000147         0.018629        0.002655   \n",
              "1        0.001305      0.000085         0.015634        0.002449   \n",
              "2        0.002415      0.002378         0.033727        0.004415   \n",
              "3        0.003272      0.003955         0.013621        0.003989   \n",
              "4        0.002226      0.001908         0.022330        0.002049   \n",
              "5        0.003344      0.004057         0.014957        0.003929   \n",
              "6        0.001334      0.000121         0.031635        0.009541   \n",
              "7        0.002962      0.003367         0.021762        0.002869   \n",
              "8        0.002382      0.002043         0.042695        0.001670   \n",
              "9        0.002667      0.002852         0.014643        0.002942   \n",
              "10       0.002685      0.002830         0.035861        0.007723   \n",
              "11       0.001302      0.000123         0.013754        0.003210   \n",
              "12       0.001300      0.000069         0.023029        0.003331   \n",
              "13       0.001264      0.000041         0.023800        0.004236   \n",
              "14       0.003959      0.002679         0.062841        0.005898   \n",
              "15       0.007090      0.005980         0.042706        0.004608   \n",
              "16       0.003178      0.003668         0.074792        0.010845   \n",
              "17       0.002805      0.001818         0.029956        0.015118   \n",
              "18       0.001294      0.000180         0.021047        0.002318   \n",
              "19       0.001266      0.000048         0.012169        0.001714   \n",
              "\n",
              "   param_n_neighbors param_weights  \\\n",
              "0                  1       uniform   \n",
              "1                  1      distance   \n",
              "2                  2       uniform   \n",
              "3                  2      distance   \n",
              "4                  3       uniform   \n",
              "5                  3      distance   \n",
              "6                  4       uniform   \n",
              "7                  4      distance   \n",
              "8                  5       uniform   \n",
              "9                  5      distance   \n",
              "10                 6       uniform   \n",
              "11                 6      distance   \n",
              "12                 7       uniform   \n",
              "13                 7      distance   \n",
              "14                 8       uniform   \n",
              "15                 8      distance   \n",
              "16                 9       uniform   \n",
              "17                 9      distance   \n",
              "18                10       uniform   \n",
              "19                10      distance   \n",
              "\n",
              "                                        params  split0_test_score  \\\n",
              "0     {'n_neighbors': 1, 'weights': 'uniform'}           0.970370   \n",
              "1    {'n_neighbors': 1, 'weights': 'distance'}           0.970370   \n",
              "2     {'n_neighbors': 2, 'weights': 'uniform'}           0.970370   \n",
              "3    {'n_neighbors': 2, 'weights': 'distance'}           0.970370   \n",
              "4     {'n_neighbors': 3, 'weights': 'uniform'}           0.985185   \n",
              "5    {'n_neighbors': 3, 'weights': 'distance'}           0.985185   \n",
              "6     {'n_neighbors': 4, 'weights': 'uniform'}           0.981481   \n",
              "7    {'n_neighbors': 4, 'weights': 'distance'}           0.985185   \n",
              "8     {'n_neighbors': 5, 'weights': 'uniform'}           0.985185   \n",
              "9    {'n_neighbors': 5, 'weights': 'distance'}           0.985185   \n",
              "10    {'n_neighbors': 6, 'weights': 'uniform'}           0.974074   \n",
              "11   {'n_neighbors': 6, 'weights': 'distance'}           0.985185   \n",
              "12    {'n_neighbors': 7, 'weights': 'uniform'}           0.977778   \n",
              "13   {'n_neighbors': 7, 'weights': 'distance'}           0.981481   \n",
              "14    {'n_neighbors': 8, 'weights': 'uniform'}           0.977778   \n",
              "15   {'n_neighbors': 8, 'weights': 'distance'}           0.985185   \n",
              "16    {'n_neighbors': 9, 'weights': 'uniform'}           0.974074   \n",
              "17   {'n_neighbors': 9, 'weights': 'distance'}           0.974074   \n",
              "18   {'n_neighbors': 10, 'weights': 'uniform'}           0.977778   \n",
              "19  {'n_neighbors': 10, 'weights': 'distance'}           0.981481   \n",
              "\n",
              "    split1_test_score  split2_test_score  split3_test_score  \\\n",
              "0            0.985185           0.988848           0.988848   \n",
              "1            0.985185           0.988848           0.988848   \n",
              "2            0.977778           0.985130           0.985130   \n",
              "3            0.985185           0.988848           0.988848   \n",
              "4            0.988889           0.985130           0.985130   \n",
              "5            0.992593           0.985130           0.985130   \n",
              "6            0.996296           0.977695           0.981413   \n",
              "7            0.996296           0.981413           0.985130   \n",
              "8            0.996296           0.973978           0.985130   \n",
              "9            0.996296           0.973978           0.985130   \n",
              "10           0.988889           0.973978           0.981413   \n",
              "11           0.996296           0.973978           0.985130   \n",
              "12           0.988889           0.973978           0.985130   \n",
              "13           0.988889           0.973978           0.985130   \n",
              "14           0.988889           0.973978           0.985130   \n",
              "15           0.988889           0.977695           0.985130   \n",
              "16           0.985185           0.973978           0.981413   \n",
              "17           0.988889           0.973978           0.985130   \n",
              "18           0.981481           0.973978           0.977695   \n",
              "19           0.985185           0.977695           0.981413   \n",
              "\n",
              "    split4_test_score  mean_test_score  std_test_score  rank_test_score  \n",
              "0            0.988848         0.984420        0.007166                5  \n",
              "1            0.988848         0.984420        0.007166                5  \n",
              "2            0.977695         0.979221        0.005524               19  \n",
              "3            0.988848         0.984420        0.007166                5  \n",
              "4            0.985130         0.985893        0.001498                3  \n",
              "5            0.985130         0.986634        0.002980                1  \n",
              "6            0.981413         0.983660        0.006482               12  \n",
              "7            0.985130         0.986631        0.005045                2  \n",
              "8            0.985130         0.985144        0.007058                4  \n",
              "9            0.981413         0.984400        0.007214                9  \n",
              "10           0.985130         0.980697        0.005938               17  \n",
              "11           0.981413         0.984400        0.007214                9  \n",
              "12           0.988848         0.982924        0.006034               13  \n",
              "13           0.988848         0.983665        0.005566               11  \n",
              "14           0.981413         0.981437        0.005257               16  \n",
              "15           0.985130         0.984406        0.003655                8  \n",
              "16           0.985130         0.979956        0.005031               18  \n",
              "17           0.985130         0.981440        0.006207               15  \n",
              "18           0.985130         0.979212        0.003793               20  \n",
              "19           0.985130         0.982181        0.002790               14  "
            ],
            "text/html": [
              "\n",
              "  <div id=\"df-1c662253-56f2-406f-a071-8754cc782d36\">\n",
              "    <div class=\"colab-df-container\">\n",
              "      <div>\n",
              "<style scoped>\n",
              "    .dataframe tbody tr th:only-of-type {\n",
              "        vertical-align: middle;\n",
              "    }\n",
              "\n",
              "    .dataframe tbody tr th {\n",
              "        vertical-align: top;\n",
              "    }\n",
              "\n",
              "    .dataframe thead th {\n",
              "        text-align: right;\n",
              "    }\n",
              "</style>\n",
              "<table border=\"1\" class=\"dataframe\">\n",
              "  <thead>\n",
              "    <tr style=\"text-align: right;\">\n",
              "      <th></th>\n",
              "      <th>mean_fit_time</th>\n",
              "      <th>std_fit_time</th>\n",
              "      <th>mean_score_time</th>\n",
              "      <th>std_score_time</th>\n",
              "      <th>param_n_neighbors</th>\n",
              "      <th>param_weights</th>\n",
              "      <th>params</th>\n",
              "      <th>split0_test_score</th>\n",
              "      <th>split1_test_score</th>\n",
              "      <th>split2_test_score</th>\n",
              "      <th>split3_test_score</th>\n",
              "      <th>split4_test_score</th>\n",
              "      <th>mean_test_score</th>\n",
              "      <th>std_test_score</th>\n",
              "      <th>rank_test_score</th>\n",
              "    </tr>\n",
              "  </thead>\n",
              "  <tbody>\n",
              "    <tr>\n",
              "      <th>0</th>\n",
              "      <td>0.001382</td>\n",
              "      <td>0.000147</td>\n",
              "      <td>0.018629</td>\n",
              "      <td>0.002655</td>\n",
              "      <td>1</td>\n",
              "      <td>uniform</td>\n",
              "      <td>{'n_neighbors': 1, 'weights': 'uniform'}</td>\n",
              "      <td>0.970370</td>\n",
              "      <td>0.985185</td>\n",
              "      <td>0.988848</td>\n",
              "      <td>0.988848</td>\n",
              "      <td>0.988848</td>\n",
              "      <td>0.984420</td>\n",
              "      <td>0.007166</td>\n",
              "      <td>5</td>\n",
              "    </tr>\n",
              "    <tr>\n",
              "      <th>1</th>\n",
              "      <td>0.001305</td>\n",
              "      <td>0.000085</td>\n",
              "      <td>0.015634</td>\n",
              "      <td>0.002449</td>\n",
              "      <td>1</td>\n",
              "      <td>distance</td>\n",
              "      <td>{'n_neighbors': 1, 'weights': 'distance'}</td>\n",
              "      <td>0.970370</td>\n",
              "      <td>0.985185</td>\n",
              "      <td>0.988848</td>\n",
              "      <td>0.988848</td>\n",
              "      <td>0.988848</td>\n",
              "      <td>0.984420</td>\n",
              "      <td>0.007166</td>\n",
              "      <td>5</td>\n",
              "    </tr>\n",
              "    <tr>\n",
              "      <th>2</th>\n",
              "      <td>0.002415</td>\n",
              "      <td>0.002378</td>\n",
              "      <td>0.033727</td>\n",
              "      <td>0.004415</td>\n",
              "      <td>2</td>\n",
              "      <td>uniform</td>\n",
              "      <td>{'n_neighbors': 2, 'weights': 'uniform'}</td>\n",
              "      <td>0.970370</td>\n",
              "      <td>0.977778</td>\n",
              "      <td>0.985130</td>\n",
              "      <td>0.985130</td>\n",
              "      <td>0.977695</td>\n",
              "      <td>0.979221</td>\n",
              "      <td>0.005524</td>\n",
              "      <td>19</td>\n",
              "    </tr>\n",
              "    <tr>\n",
              "      <th>3</th>\n",
              "      <td>0.003272</td>\n",
              "      <td>0.003955</td>\n",
              "      <td>0.013621</td>\n",
              "      <td>0.003989</td>\n",
              "      <td>2</td>\n",
              "      <td>distance</td>\n",
              "      <td>{'n_neighbors': 2, 'weights': 'distance'}</td>\n",
              "      <td>0.970370</td>\n",
              "      <td>0.985185</td>\n",
              "      <td>0.988848</td>\n",
              "      <td>0.988848</td>\n",
              "      <td>0.988848</td>\n",
              "      <td>0.984420</td>\n",
              "      <td>0.007166</td>\n",
              "      <td>5</td>\n",
              "    </tr>\n",
              "    <tr>\n",
              "      <th>4</th>\n",
              "      <td>0.002226</td>\n",
              "      <td>0.001908</td>\n",
              "      <td>0.022330</td>\n",
              "      <td>0.002049</td>\n",
              "      <td>3</td>\n",
              "      <td>uniform</td>\n",
              "      <td>{'n_neighbors': 3, 'weights': 'uniform'}</td>\n",
              "      <td>0.985185</td>\n",
              "      <td>0.988889</td>\n",
              "      <td>0.985130</td>\n",
              "      <td>0.985130</td>\n",
              "      <td>0.985130</td>\n",
              "      <td>0.985893</td>\n",
              "      <td>0.001498</td>\n",
              "      <td>3</td>\n",
              "    </tr>\n",
              "    <tr>\n",
              "      <th>5</th>\n",
              "      <td>0.003344</td>\n",
              "      <td>0.004057</td>\n",
              "      <td>0.014957</td>\n",
              "      <td>0.003929</td>\n",
              "      <td>3</td>\n",
              "      <td>distance</td>\n",
              "      <td>{'n_neighbors': 3, 'weights': 'distance'}</td>\n",
              "      <td>0.985185</td>\n",
              "      <td>0.992593</td>\n",
              "      <td>0.985130</td>\n",
              "      <td>0.985130</td>\n",
              "      <td>0.985130</td>\n",
              "      <td>0.986634</td>\n",
              "      <td>0.002980</td>\n",
              "      <td>1</td>\n",
              "    </tr>\n",
              "    <tr>\n",
              "      <th>6</th>\n",
              "      <td>0.001334</td>\n",
              "      <td>0.000121</td>\n",
              "      <td>0.031635</td>\n",
              "      <td>0.009541</td>\n",
              "      <td>4</td>\n",
              "      <td>uniform</td>\n",
              "      <td>{'n_neighbors': 4, 'weights': 'uniform'}</td>\n",
              "      <td>0.981481</td>\n",
              "      <td>0.996296</td>\n",
              "      <td>0.977695</td>\n",
              "      <td>0.981413</td>\n",
              "      <td>0.981413</td>\n",
              "      <td>0.983660</td>\n",
              "      <td>0.006482</td>\n",
              "      <td>12</td>\n",
              "    </tr>\n",
              "    <tr>\n",
              "      <th>7</th>\n",
              "      <td>0.002962</td>\n",
              "      <td>0.003367</td>\n",
              "      <td>0.021762</td>\n",
              "      <td>0.002869</td>\n",
              "      <td>4</td>\n",
              "      <td>distance</td>\n",
              "      <td>{'n_neighbors': 4, 'weights': 'distance'}</td>\n",
              "      <td>0.985185</td>\n",
              "      <td>0.996296</td>\n",
              "      <td>0.981413</td>\n",
              "      <td>0.985130</td>\n",
              "      <td>0.985130</td>\n",
              "      <td>0.986631</td>\n",
              "      <td>0.005045</td>\n",
              "      <td>2</td>\n",
              "    </tr>\n",
              "    <tr>\n",
              "      <th>8</th>\n",
              "      <td>0.002382</td>\n",
              "      <td>0.002043</td>\n",
              "      <td>0.042695</td>\n",
              "      <td>0.001670</td>\n",
              "      <td>5</td>\n",
              "      <td>uniform</td>\n",
              "      <td>{'n_neighbors': 5, 'weights': 'uniform'}</td>\n",
              "      <td>0.985185</td>\n",
              "      <td>0.996296</td>\n",
              "      <td>0.973978</td>\n",
              "      <td>0.985130</td>\n",
              "      <td>0.985130</td>\n",
              "      <td>0.985144</td>\n",
              "      <td>0.007058</td>\n",
              "      <td>4</td>\n",
              "    </tr>\n",
              "    <tr>\n",
              "      <th>9</th>\n",
              "      <td>0.002667</td>\n",
              "      <td>0.002852</td>\n",
              "      <td>0.014643</td>\n",
              "      <td>0.002942</td>\n",
              "      <td>5</td>\n",
              "      <td>distance</td>\n",
              "      <td>{'n_neighbors': 5, 'weights': 'distance'}</td>\n",
              "      <td>0.985185</td>\n",
              "      <td>0.996296</td>\n",
              "      <td>0.973978</td>\n",
              "      <td>0.985130</td>\n",
              "      <td>0.981413</td>\n",
              "      <td>0.984400</td>\n",
              "      <td>0.007214</td>\n",
              "      <td>9</td>\n",
              "    </tr>\n",
              "    <tr>\n",
              "      <th>10</th>\n",
              "      <td>0.002685</td>\n",
              "      <td>0.002830</td>\n",
              "      <td>0.035861</td>\n",
              "      <td>0.007723</td>\n",
              "      <td>6</td>\n",
              "      <td>uniform</td>\n",
              "      <td>{'n_neighbors': 6, 'weights': 'uniform'}</td>\n",
              "      <td>0.974074</td>\n",
              "      <td>0.988889</td>\n",
              "      <td>0.973978</td>\n",
              "      <td>0.981413</td>\n",
              "      <td>0.985130</td>\n",
              "      <td>0.980697</td>\n",
              "      <td>0.005938</td>\n",
              "      <td>17</td>\n",
              "    </tr>\n",
              "    <tr>\n",
              "      <th>11</th>\n",
              "      <td>0.001302</td>\n",
              "      <td>0.000123</td>\n",
              "      <td>0.013754</td>\n",
              "      <td>0.003210</td>\n",
              "      <td>6</td>\n",
              "      <td>distance</td>\n",
              "      <td>{'n_neighbors': 6, 'weights': 'distance'}</td>\n",
              "      <td>0.985185</td>\n",
              "      <td>0.996296</td>\n",
              "      <td>0.973978</td>\n",
              "      <td>0.985130</td>\n",
              "      <td>0.981413</td>\n",
              "      <td>0.984400</td>\n",
              "      <td>0.007214</td>\n",
              "      <td>9</td>\n",
              "    </tr>\n",
              "    <tr>\n",
              "      <th>12</th>\n",
              "      <td>0.001300</td>\n",
              "      <td>0.000069</td>\n",
              "      <td>0.023029</td>\n",
              "      <td>0.003331</td>\n",
              "      <td>7</td>\n",
              "      <td>uniform</td>\n",
              "      <td>{'n_neighbors': 7, 'weights': 'uniform'}</td>\n",
              "      <td>0.977778</td>\n",
              "      <td>0.988889</td>\n",
              "      <td>0.973978</td>\n",
              "      <td>0.985130</td>\n",
              "      <td>0.988848</td>\n",
              "      <td>0.982924</td>\n",
              "      <td>0.006034</td>\n",
              "      <td>13</td>\n",
              "    </tr>\n",
              "    <tr>\n",
              "      <th>13</th>\n",
              "      <td>0.001264</td>\n",
              "      <td>0.000041</td>\n",
              "      <td>0.023800</td>\n",
              "      <td>0.004236</td>\n",
              "      <td>7</td>\n",
              "      <td>distance</td>\n",
              "      <td>{'n_neighbors': 7, 'weights': 'distance'}</td>\n",
              "      <td>0.981481</td>\n",
              "      <td>0.988889</td>\n",
              "      <td>0.973978</td>\n",
              "      <td>0.985130</td>\n",
              "      <td>0.988848</td>\n",
              "      <td>0.983665</td>\n",
              "      <td>0.005566</td>\n",
              "      <td>11</td>\n",
              "    </tr>\n",
              "    <tr>\n",
              "      <th>14</th>\n",
              "      <td>0.003959</td>\n",
              "      <td>0.002679</td>\n",
              "      <td>0.062841</td>\n",
              "      <td>0.005898</td>\n",
              "      <td>8</td>\n",
              "      <td>uniform</td>\n",
              "      <td>{'n_neighbors': 8, 'weights': 'uniform'}</td>\n",
              "      <td>0.977778</td>\n",
              "      <td>0.988889</td>\n",
              "      <td>0.973978</td>\n",
              "      <td>0.985130</td>\n",
              "      <td>0.981413</td>\n",
              "      <td>0.981437</td>\n",
              "      <td>0.005257</td>\n",
              "      <td>16</td>\n",
              "    </tr>\n",
              "    <tr>\n",
              "      <th>15</th>\n",
              "      <td>0.007090</td>\n",
              "      <td>0.005980</td>\n",
              "      <td>0.042706</td>\n",
              "      <td>0.004608</td>\n",
              "      <td>8</td>\n",
              "      <td>distance</td>\n",
              "      <td>{'n_neighbors': 8, 'weights': 'distance'}</td>\n",
              "      <td>0.985185</td>\n",
              "      <td>0.988889</td>\n",
              "      <td>0.977695</td>\n",
              "      <td>0.985130</td>\n",
              "      <td>0.985130</td>\n",
              "      <td>0.984406</td>\n",
              "      <td>0.003655</td>\n",
              "      <td>8</td>\n",
              "    </tr>\n",
              "    <tr>\n",
              "      <th>16</th>\n",
              "      <td>0.003178</td>\n",
              "      <td>0.003668</td>\n",
              "      <td>0.074792</td>\n",
              "      <td>0.010845</td>\n",
              "      <td>9</td>\n",
              "      <td>uniform</td>\n",
              "      <td>{'n_neighbors': 9, 'weights': 'uniform'}</td>\n",
              "      <td>0.974074</td>\n",
              "      <td>0.985185</td>\n",
              "      <td>0.973978</td>\n",
              "      <td>0.981413</td>\n",
              "      <td>0.985130</td>\n",
              "      <td>0.979956</td>\n",
              "      <td>0.005031</td>\n",
              "      <td>18</td>\n",
              "    </tr>\n",
              "    <tr>\n",
              "      <th>17</th>\n",
              "      <td>0.002805</td>\n",
              "      <td>0.001818</td>\n",
              "      <td>0.029956</td>\n",
              "      <td>0.015118</td>\n",
              "      <td>9</td>\n",
              "      <td>distance</td>\n",
              "      <td>{'n_neighbors': 9, 'weights': 'distance'}</td>\n",
              "      <td>0.974074</td>\n",
              "      <td>0.988889</td>\n",
              "      <td>0.973978</td>\n",
              "      <td>0.985130</td>\n",
              "      <td>0.985130</td>\n",
              "      <td>0.981440</td>\n",
              "      <td>0.006207</td>\n",
              "      <td>15</td>\n",
              "    </tr>\n",
              "    <tr>\n",
              "      <th>18</th>\n",
              "      <td>0.001294</td>\n",
              "      <td>0.000180</td>\n",
              "      <td>0.021047</td>\n",
              "      <td>0.002318</td>\n",
              "      <td>10</td>\n",
              "      <td>uniform</td>\n",
              "      <td>{'n_neighbors': 10, 'weights': 'uniform'}</td>\n",
              "      <td>0.977778</td>\n",
              "      <td>0.981481</td>\n",
              "      <td>0.973978</td>\n",
              "      <td>0.977695</td>\n",
              "      <td>0.985130</td>\n",
              "      <td>0.979212</td>\n",
              "      <td>0.003793</td>\n",
              "      <td>20</td>\n",
              "    </tr>\n",
              "    <tr>\n",
              "      <th>19</th>\n",
              "      <td>0.001266</td>\n",
              "      <td>0.000048</td>\n",
              "      <td>0.012169</td>\n",
              "      <td>0.001714</td>\n",
              "      <td>10</td>\n",
              "      <td>distance</td>\n",
              "      <td>{'n_neighbors': 10, 'weights': 'distance'}</td>\n",
              "      <td>0.981481</td>\n",
              "      <td>0.985185</td>\n",
              "      <td>0.977695</td>\n",
              "      <td>0.981413</td>\n",
              "      <td>0.985130</td>\n",
              "      <td>0.982181</td>\n",
              "      <td>0.002790</td>\n",
              "      <td>14</td>\n",
              "    </tr>\n",
              "  </tbody>\n",
              "</table>\n",
              "</div>\n",
              "      <button class=\"colab-df-convert\" onclick=\"convertToInteractive('df-1c662253-56f2-406f-a071-8754cc782d36')\"\n",
              "              title=\"Convert this dataframe to an interactive table.\"\n",
              "              style=\"display:none;\">\n",
              "        \n",
              "  <svg xmlns=\"http://www.w3.org/2000/svg\" height=\"24px\"viewBox=\"0 0 24 24\"\n",
              "       width=\"24px\">\n",
              "    <path d=\"M0 0h24v24H0V0z\" fill=\"none\"/>\n",
              "    <path d=\"M18.56 5.44l.94 2.06.94-2.06 2.06-.94-2.06-.94-.94-2.06-.94 2.06-2.06.94zm-11 1L8.5 8.5l.94-2.06 2.06-.94-2.06-.94L8.5 2.5l-.94 2.06-2.06.94zm10 10l.94 2.06.94-2.06 2.06-.94-2.06-.94-.94-2.06-.94 2.06-2.06.94z\"/><path d=\"M17.41 7.96l-1.37-1.37c-.4-.4-.92-.59-1.43-.59-.52 0-1.04.2-1.43.59L10.3 9.45l-7.72 7.72c-.78.78-.78 2.05 0 2.83L4 21.41c.39.39.9.59 1.41.59.51 0 1.02-.2 1.41-.59l7.78-7.78 2.81-2.81c.8-.78.8-2.07 0-2.86zM5.41 20L4 18.59l7.72-7.72 1.47 1.35L5.41 20z\"/>\n",
              "  </svg>\n",
              "      </button>\n",
              "      \n",
              "  <style>\n",
              "    .colab-df-container {\n",
              "      display:flex;\n",
              "      flex-wrap:wrap;\n",
              "      gap: 12px;\n",
              "    }\n",
              "\n",
              "    .colab-df-convert {\n",
              "      background-color: #E8F0FE;\n",
              "      border: none;\n",
              "      border-radius: 50%;\n",
              "      cursor: pointer;\n",
              "      display: none;\n",
              "      fill: #1967D2;\n",
              "      height: 32px;\n",
              "      padding: 0 0 0 0;\n",
              "      width: 32px;\n",
              "    }\n",
              "\n",
              "    .colab-df-convert:hover {\n",
              "      background-color: #E2EBFA;\n",
              "      box-shadow: 0px 1px 2px rgba(60, 64, 67, 0.3), 0px 1px 3px 1px rgba(60, 64, 67, 0.15);\n",
              "      fill: #174EA6;\n",
              "    }\n",
              "\n",
              "    [theme=dark] .colab-df-convert {\n",
              "      background-color: #3B4455;\n",
              "      fill: #D2E3FC;\n",
              "    }\n",
              "\n",
              "    [theme=dark] .colab-df-convert:hover {\n",
              "      background-color: #434B5C;\n",
              "      box-shadow: 0px 1px 3px 1px rgba(0, 0, 0, 0.15);\n",
              "      filter: drop-shadow(0px 1px 2px rgba(0, 0, 0, 0.3));\n",
              "      fill: #FFFFFF;\n",
              "    }\n",
              "  </style>\n",
              "\n",
              "      <script>\n",
              "        const buttonEl =\n",
              "          document.querySelector('#df-1c662253-56f2-406f-a071-8754cc782d36 button.colab-df-convert');\n",
              "        buttonEl.style.display =\n",
              "          google.colab.kernel.accessAllowed ? 'block' : 'none';\n",
              "\n",
              "        async function convertToInteractive(key) {\n",
              "          const element = document.querySelector('#df-1c662253-56f2-406f-a071-8754cc782d36');\n",
              "          const dataTable =\n",
              "            await google.colab.kernel.invokeFunction('convertToInteractive',\n",
              "                                                     [key], {});\n",
              "          if (!dataTable) return;\n",
              "\n",
              "          const docLinkHtml = 'Like what you see? Visit the ' +\n",
              "            '<a target=\"_blank\" href=https://colab.research.google.com/notebooks/data_table.ipynb>data table notebook</a>'\n",
              "            + ' to learn more about interactive tables.';\n",
              "          element.innerHTML = '';\n",
              "          dataTable['output_type'] = 'display_data';\n",
              "          await google.colab.output.renderOutput(dataTable, element);\n",
              "          const docLink = document.createElement('div');\n",
              "          docLink.innerHTML = docLinkHtml;\n",
              "          element.appendChild(docLink);\n",
              "        }\n",
              "      </script>\n",
              "    </div>\n",
              "  </div>\n",
              "  "
            ]
          },
          "metadata": {}
        },
        {
          "output_type": "stream",
          "name": "stdout",
          "text": [
            "best param: {'n_neighbors': 3, 'weights': 'distance'}\n",
            "test acc: 0.9888888888888889\n"
          ]
        }
      ]
    },
    {
      "cell_type": "markdown",
      "source": [
        "## Pipeline + GridSearch\n",
        "* Minmax Scaler"
      ],
      "metadata": {
        "id": "W-gtOS2c8tj9"
      }
    },
    {
      "cell_type": "code",
      "source": [
        "\n",
        "X_train, X_test, y_train, y_test = train_test_split(digits.data, digits.target, random_state=0)\n",
        "mm_scaler = MinMaxScaler()\n",
        "knn = KNeighborsClassifier()\n",
        "pipe = Pipeline([('scaler',mm_scaler),('knn', knn)])\n",
        "gcv = GridSearchCV(pipe, {'knn__n_neighbors': range(1, 11), 'knn__weights':['uniform', 'distance']}, cv=5)\n",
        "gcv.fit(X_train, y_train)\n",
        "display(pd.DataFrame(gcv.cv_results_))\n",
        "print('best param:', gcv.best_params_)\n",
        "print('test acc:', gcv.score(X_test, y_test))"
      ],
      "metadata": {
        "colab": {
          "base_uri": "https://localhost:8080/",
          "height": 1000
        },
        "id": "XPwjegAQ9PDK",
        "outputId": "2ab36687-a490-4db4-b11b-260789056e07"
      },
      "execution_count": null,
      "outputs": [
        {
          "output_type": "display_data",
          "data": {
            "text/plain": [
              "    mean_fit_time  std_fit_time  mean_score_time  std_score_time  \\\n",
              "0        0.003291      0.000697         0.018488        0.001911   \n",
              "1        0.003125      0.000355         0.007858        0.000448   \n",
              "2        0.002847      0.000082         0.019461        0.001969   \n",
              "3        0.002785      0.000052         0.008606        0.000186   \n",
              "4        0.002908      0.000256         0.019299        0.001828   \n",
              "5        0.002844      0.000250         0.009828        0.000741   \n",
              "6        0.002949      0.000131         0.022944        0.001913   \n",
              "7        0.002822      0.000098         0.010939        0.000277   \n",
              "8        0.002737      0.000034         0.020103        0.000489   \n",
              "9        0.002847      0.000099         0.011427        0.000592   \n",
              "10       0.003234      0.000874         0.021050        0.001381   \n",
              "11       0.002952      0.000166         0.015061        0.004471   \n",
              "12       0.002796      0.000065         0.020841        0.000785   \n",
              "13       0.002825      0.000082         0.011120        0.000542   \n",
              "14       0.003033      0.000313         0.022521        0.002621   \n",
              "15       0.002855      0.000125         0.011230        0.000450   \n",
              "16       0.002787      0.000037         0.021313        0.002133   \n",
              "17       0.002826      0.000130         0.011217        0.000235   \n",
              "18       0.003133      0.000337         0.022348        0.001697   \n",
              "19       0.002809      0.000069         0.014093        0.005370   \n",
              "\n",
              "   param_knn__n_neighbors param_knn__weights  \\\n",
              "0                       1            uniform   \n",
              "1                       1           distance   \n",
              "2                       2            uniform   \n",
              "3                       2           distance   \n",
              "4                       3            uniform   \n",
              "5                       3           distance   \n",
              "6                       4            uniform   \n",
              "7                       4           distance   \n",
              "8                       5            uniform   \n",
              "9                       5           distance   \n",
              "10                      6            uniform   \n",
              "11                      6           distance   \n",
              "12                      7            uniform   \n",
              "13                      7           distance   \n",
              "14                      8            uniform   \n",
              "15                      8           distance   \n",
              "16                      9            uniform   \n",
              "17                      9           distance   \n",
              "18                     10            uniform   \n",
              "19                     10           distance   \n",
              "\n",
              "                                               params  split0_test_score  \\\n",
              "0   {'knn__n_neighbors': 1, 'knn__weights': 'unifo...           0.974074   \n",
              "1   {'knn__n_neighbors': 1, 'knn__weights': 'dista...           0.974074   \n",
              "2   {'knn__n_neighbors': 2, 'knn__weights': 'unifo...           0.977778   \n",
              "3   {'knn__n_neighbors': 2, 'knn__weights': 'dista...           0.974074   \n",
              "4   {'knn__n_neighbors': 3, 'knn__weights': 'unifo...           0.985185   \n",
              "5   {'knn__n_neighbors': 3, 'knn__weights': 'dista...           0.985185   \n",
              "6   {'knn__n_neighbors': 4, 'knn__weights': 'unifo...           0.981481   \n",
              "7   {'knn__n_neighbors': 4, 'knn__weights': 'dista...           0.985185   \n",
              "8   {'knn__n_neighbors': 5, 'knn__weights': 'unifo...           0.988889   \n",
              "9   {'knn__n_neighbors': 5, 'knn__weights': 'dista...           0.988889   \n",
              "10  {'knn__n_neighbors': 6, 'knn__weights': 'unifo...           0.977778   \n",
              "11  {'knn__n_neighbors': 6, 'knn__weights': 'dista...           0.981481   \n",
              "12  {'knn__n_neighbors': 7, 'knn__weights': 'unifo...           0.977778   \n",
              "13  {'knn__n_neighbors': 7, 'knn__weights': 'dista...           0.981481   \n",
              "14  {'knn__n_neighbors': 8, 'knn__weights': 'unifo...           0.974074   \n",
              "15  {'knn__n_neighbors': 8, 'knn__weights': 'dista...           0.981481   \n",
              "16  {'knn__n_neighbors': 9, 'knn__weights': 'unifo...           0.974074   \n",
              "17  {'knn__n_neighbors': 9, 'knn__weights': 'dista...           0.977778   \n",
              "18  {'knn__n_neighbors': 10, 'knn__weights': 'unif...           0.977778   \n",
              "19  {'knn__n_neighbors': 10, 'knn__weights': 'dist...           0.981481   \n",
              "\n",
              "    split1_test_score  split2_test_score  split3_test_score  \\\n",
              "0            0.985185           0.988848           0.988848   \n",
              "1            0.985185           0.988848           0.988848   \n",
              "2            0.977778           0.985130           0.985130   \n",
              "3            0.985185           0.988848           0.988848   \n",
              "4            0.988889           0.985130           0.985130   \n",
              "5            0.992593           0.985130           0.985130   \n",
              "6            0.992593           0.977695           0.981413   \n",
              "7            0.996296           0.981413           0.985130   \n",
              "8            0.992593           0.973978           0.985130   \n",
              "9            0.992593           0.973978           0.985130   \n",
              "10           0.985185           0.973978           0.981413   \n",
              "11           0.996296           0.973978           0.985130   \n",
              "12           0.988889           0.973978           0.985130   \n",
              "13           0.988889           0.973978           0.985130   \n",
              "14           0.988889           0.973978           0.985130   \n",
              "15           0.988889           0.977695           0.985130   \n",
              "16           0.988889           0.970260           0.981413   \n",
              "17           0.988889           0.970260           0.985130   \n",
              "18           0.988889           0.973978           0.981413   \n",
              "19           0.988889           0.977695           0.985130   \n",
              "\n",
              "    split4_test_score  mean_test_score  std_test_score  rank_test_score  \n",
              "0            0.985130         0.984417        0.005428                5  \n",
              "1            0.985130         0.984417        0.005428                5  \n",
              "2            0.977695         0.980702        0.003616               17  \n",
              "3            0.985130         0.984417        0.005428                5  \n",
              "4            0.981413         0.985149        0.002364                3  \n",
              "5            0.981413         0.985890        0.003650                2  \n",
              "6            0.977695         0.982175        0.005472               14  \n",
              "7            0.985130         0.986631        0.005045                1  \n",
              "8            0.985130         0.985144        0.006232                4  \n",
              "9            0.981413         0.984400        0.006409                8  \n",
              "10           0.981413         0.979953        0.003797               20  \n",
              "11           0.981413         0.983660        0.007285               12  \n",
              "12           0.985130         0.982181        0.005460               13  \n",
              "13           0.988848         0.983665        0.005566                9  \n",
              "14           0.981413         0.980697        0.005938               18  \n",
              "15           0.985130         0.983665        0.003794                9  \n",
              "16           0.985130         0.979953        0.006889               19  \n",
              "17           0.985130         0.981437        0.006650               15  \n",
              "18           0.985130         0.981437        0.005257               15  \n",
              "19           0.985130         0.983665        0.003794                9  "
            ],
            "text/html": [
              "\n",
              "  <div id=\"df-e59c31b6-a40a-424f-988c-9c8060f77d03\">\n",
              "    <div class=\"colab-df-container\">\n",
              "      <div>\n",
              "<style scoped>\n",
              "    .dataframe tbody tr th:only-of-type {\n",
              "        vertical-align: middle;\n",
              "    }\n",
              "\n",
              "    .dataframe tbody tr th {\n",
              "        vertical-align: top;\n",
              "    }\n",
              "\n",
              "    .dataframe thead th {\n",
              "        text-align: right;\n",
              "    }\n",
              "</style>\n",
              "<table border=\"1\" class=\"dataframe\">\n",
              "  <thead>\n",
              "    <tr style=\"text-align: right;\">\n",
              "      <th></th>\n",
              "      <th>mean_fit_time</th>\n",
              "      <th>std_fit_time</th>\n",
              "      <th>mean_score_time</th>\n",
              "      <th>std_score_time</th>\n",
              "      <th>param_knn__n_neighbors</th>\n",
              "      <th>param_knn__weights</th>\n",
              "      <th>params</th>\n",
              "      <th>split0_test_score</th>\n",
              "      <th>split1_test_score</th>\n",
              "      <th>split2_test_score</th>\n",
              "      <th>split3_test_score</th>\n",
              "      <th>split4_test_score</th>\n",
              "      <th>mean_test_score</th>\n",
              "      <th>std_test_score</th>\n",
              "      <th>rank_test_score</th>\n",
              "    </tr>\n",
              "  </thead>\n",
              "  <tbody>\n",
              "    <tr>\n",
              "      <th>0</th>\n",
              "      <td>0.003291</td>\n",
              "      <td>0.000697</td>\n",
              "      <td>0.018488</td>\n",
              "      <td>0.001911</td>\n",
              "      <td>1</td>\n",
              "      <td>uniform</td>\n",
              "      <td>{'knn__n_neighbors': 1, 'knn__weights': 'unifo...</td>\n",
              "      <td>0.974074</td>\n",
              "      <td>0.985185</td>\n",
              "      <td>0.988848</td>\n",
              "      <td>0.988848</td>\n",
              "      <td>0.985130</td>\n",
              "      <td>0.984417</td>\n",
              "      <td>0.005428</td>\n",
              "      <td>5</td>\n",
              "    </tr>\n",
              "    <tr>\n",
              "      <th>1</th>\n",
              "      <td>0.003125</td>\n",
              "      <td>0.000355</td>\n",
              "      <td>0.007858</td>\n",
              "      <td>0.000448</td>\n",
              "      <td>1</td>\n",
              "      <td>distance</td>\n",
              "      <td>{'knn__n_neighbors': 1, 'knn__weights': 'dista...</td>\n",
              "      <td>0.974074</td>\n",
              "      <td>0.985185</td>\n",
              "      <td>0.988848</td>\n",
              "      <td>0.988848</td>\n",
              "      <td>0.985130</td>\n",
              "      <td>0.984417</td>\n",
              "      <td>0.005428</td>\n",
              "      <td>5</td>\n",
              "    </tr>\n",
              "    <tr>\n",
              "      <th>2</th>\n",
              "      <td>0.002847</td>\n",
              "      <td>0.000082</td>\n",
              "      <td>0.019461</td>\n",
              "      <td>0.001969</td>\n",
              "      <td>2</td>\n",
              "      <td>uniform</td>\n",
              "      <td>{'knn__n_neighbors': 2, 'knn__weights': 'unifo...</td>\n",
              "      <td>0.977778</td>\n",
              "      <td>0.977778</td>\n",
              "      <td>0.985130</td>\n",
              "      <td>0.985130</td>\n",
              "      <td>0.977695</td>\n",
              "      <td>0.980702</td>\n",
              "      <td>0.003616</td>\n",
              "      <td>17</td>\n",
              "    </tr>\n",
              "    <tr>\n",
              "      <th>3</th>\n",
              "      <td>0.002785</td>\n",
              "      <td>0.000052</td>\n",
              "      <td>0.008606</td>\n",
              "      <td>0.000186</td>\n",
              "      <td>2</td>\n",
              "      <td>distance</td>\n",
              "      <td>{'knn__n_neighbors': 2, 'knn__weights': 'dista...</td>\n",
              "      <td>0.974074</td>\n",
              "      <td>0.985185</td>\n",
              "      <td>0.988848</td>\n",
              "      <td>0.988848</td>\n",
              "      <td>0.985130</td>\n",
              "      <td>0.984417</td>\n",
              "      <td>0.005428</td>\n",
              "      <td>5</td>\n",
              "    </tr>\n",
              "    <tr>\n",
              "      <th>4</th>\n",
              "      <td>0.002908</td>\n",
              "      <td>0.000256</td>\n",
              "      <td>0.019299</td>\n",
              "      <td>0.001828</td>\n",
              "      <td>3</td>\n",
              "      <td>uniform</td>\n",
              "      <td>{'knn__n_neighbors': 3, 'knn__weights': 'unifo...</td>\n",
              "      <td>0.985185</td>\n",
              "      <td>0.988889</td>\n",
              "      <td>0.985130</td>\n",
              "      <td>0.985130</td>\n",
              "      <td>0.981413</td>\n",
              "      <td>0.985149</td>\n",
              "      <td>0.002364</td>\n",
              "      <td>3</td>\n",
              "    </tr>\n",
              "    <tr>\n",
              "      <th>5</th>\n",
              "      <td>0.002844</td>\n",
              "      <td>0.000250</td>\n",
              "      <td>0.009828</td>\n",
              "      <td>0.000741</td>\n",
              "      <td>3</td>\n",
              "      <td>distance</td>\n",
              "      <td>{'knn__n_neighbors': 3, 'knn__weights': 'dista...</td>\n",
              "      <td>0.985185</td>\n",
              "      <td>0.992593</td>\n",
              "      <td>0.985130</td>\n",
              "      <td>0.985130</td>\n",
              "      <td>0.981413</td>\n",
              "      <td>0.985890</td>\n",
              "      <td>0.003650</td>\n",
              "      <td>2</td>\n",
              "    </tr>\n",
              "    <tr>\n",
              "      <th>6</th>\n",
              "      <td>0.002949</td>\n",
              "      <td>0.000131</td>\n",
              "      <td>0.022944</td>\n",
              "      <td>0.001913</td>\n",
              "      <td>4</td>\n",
              "      <td>uniform</td>\n",
              "      <td>{'knn__n_neighbors': 4, 'knn__weights': 'unifo...</td>\n",
              "      <td>0.981481</td>\n",
              "      <td>0.992593</td>\n",
              "      <td>0.977695</td>\n",
              "      <td>0.981413</td>\n",
              "      <td>0.977695</td>\n",
              "      <td>0.982175</td>\n",
              "      <td>0.005472</td>\n",
              "      <td>14</td>\n",
              "    </tr>\n",
              "    <tr>\n",
              "      <th>7</th>\n",
              "      <td>0.002822</td>\n",
              "      <td>0.000098</td>\n",
              "      <td>0.010939</td>\n",
              "      <td>0.000277</td>\n",
              "      <td>4</td>\n",
              "      <td>distance</td>\n",
              "      <td>{'knn__n_neighbors': 4, 'knn__weights': 'dista...</td>\n",
              "      <td>0.985185</td>\n",
              "      <td>0.996296</td>\n",
              "      <td>0.981413</td>\n",
              "      <td>0.985130</td>\n",
              "      <td>0.985130</td>\n",
              "      <td>0.986631</td>\n",
              "      <td>0.005045</td>\n",
              "      <td>1</td>\n",
              "    </tr>\n",
              "    <tr>\n",
              "      <th>8</th>\n",
              "      <td>0.002737</td>\n",
              "      <td>0.000034</td>\n",
              "      <td>0.020103</td>\n",
              "      <td>0.000489</td>\n",
              "      <td>5</td>\n",
              "      <td>uniform</td>\n",
              "      <td>{'knn__n_neighbors': 5, 'knn__weights': 'unifo...</td>\n",
              "      <td>0.988889</td>\n",
              "      <td>0.992593</td>\n",
              "      <td>0.973978</td>\n",
              "      <td>0.985130</td>\n",
              "      <td>0.985130</td>\n",
              "      <td>0.985144</td>\n",
              "      <td>0.006232</td>\n",
              "      <td>4</td>\n",
              "    </tr>\n",
              "    <tr>\n",
              "      <th>9</th>\n",
              "      <td>0.002847</td>\n",
              "      <td>0.000099</td>\n",
              "      <td>0.011427</td>\n",
              "      <td>0.000592</td>\n",
              "      <td>5</td>\n",
              "      <td>distance</td>\n",
              "      <td>{'knn__n_neighbors': 5, 'knn__weights': 'dista...</td>\n",
              "      <td>0.988889</td>\n",
              "      <td>0.992593</td>\n",
              "      <td>0.973978</td>\n",
              "      <td>0.985130</td>\n",
              "      <td>0.981413</td>\n",
              "      <td>0.984400</td>\n",
              "      <td>0.006409</td>\n",
              "      <td>8</td>\n",
              "    </tr>\n",
              "    <tr>\n",
              "      <th>10</th>\n",
              "      <td>0.003234</td>\n",
              "      <td>0.000874</td>\n",
              "      <td>0.021050</td>\n",
              "      <td>0.001381</td>\n",
              "      <td>6</td>\n",
              "      <td>uniform</td>\n",
              "      <td>{'knn__n_neighbors': 6, 'knn__weights': 'unifo...</td>\n",
              "      <td>0.977778</td>\n",
              "      <td>0.985185</td>\n",
              "      <td>0.973978</td>\n",
              "      <td>0.981413</td>\n",
              "      <td>0.981413</td>\n",
              "      <td>0.979953</td>\n",
              "      <td>0.003797</td>\n",
              "      <td>20</td>\n",
              "    </tr>\n",
              "    <tr>\n",
              "      <th>11</th>\n",
              "      <td>0.002952</td>\n",
              "      <td>0.000166</td>\n",
              "      <td>0.015061</td>\n",
              "      <td>0.004471</td>\n",
              "      <td>6</td>\n",
              "      <td>distance</td>\n",
              "      <td>{'knn__n_neighbors': 6, 'knn__weights': 'dista...</td>\n",
              "      <td>0.981481</td>\n",
              "      <td>0.996296</td>\n",
              "      <td>0.973978</td>\n",
              "      <td>0.985130</td>\n",
              "      <td>0.981413</td>\n",
              "      <td>0.983660</td>\n",
              "      <td>0.007285</td>\n",
              "      <td>12</td>\n",
              "    </tr>\n",
              "    <tr>\n",
              "      <th>12</th>\n",
              "      <td>0.002796</td>\n",
              "      <td>0.000065</td>\n",
              "      <td>0.020841</td>\n",
              "      <td>0.000785</td>\n",
              "      <td>7</td>\n",
              "      <td>uniform</td>\n",
              "      <td>{'knn__n_neighbors': 7, 'knn__weights': 'unifo...</td>\n",
              "      <td>0.977778</td>\n",
              "      <td>0.988889</td>\n",
              "      <td>0.973978</td>\n",
              "      <td>0.985130</td>\n",
              "      <td>0.985130</td>\n",
              "      <td>0.982181</td>\n",
              "      <td>0.005460</td>\n",
              "      <td>13</td>\n",
              "    </tr>\n",
              "    <tr>\n",
              "      <th>13</th>\n",
              "      <td>0.002825</td>\n",
              "      <td>0.000082</td>\n",
              "      <td>0.011120</td>\n",
              "      <td>0.000542</td>\n",
              "      <td>7</td>\n",
              "      <td>distance</td>\n",
              "      <td>{'knn__n_neighbors': 7, 'knn__weights': 'dista...</td>\n",
              "      <td>0.981481</td>\n",
              "      <td>0.988889</td>\n",
              "      <td>0.973978</td>\n",
              "      <td>0.985130</td>\n",
              "      <td>0.988848</td>\n",
              "      <td>0.983665</td>\n",
              "      <td>0.005566</td>\n",
              "      <td>9</td>\n",
              "    </tr>\n",
              "    <tr>\n",
              "      <th>14</th>\n",
              "      <td>0.003033</td>\n",
              "      <td>0.000313</td>\n",
              "      <td>0.022521</td>\n",
              "      <td>0.002621</td>\n",
              "      <td>8</td>\n",
              "      <td>uniform</td>\n",
              "      <td>{'knn__n_neighbors': 8, 'knn__weights': 'unifo...</td>\n",
              "      <td>0.974074</td>\n",
              "      <td>0.988889</td>\n",
              "      <td>0.973978</td>\n",
              "      <td>0.985130</td>\n",
              "      <td>0.981413</td>\n",
              "      <td>0.980697</td>\n",
              "      <td>0.005938</td>\n",
              "      <td>18</td>\n",
              "    </tr>\n",
              "    <tr>\n",
              "      <th>15</th>\n",
              "      <td>0.002855</td>\n",
              "      <td>0.000125</td>\n",
              "      <td>0.011230</td>\n",
              "      <td>0.000450</td>\n",
              "      <td>8</td>\n",
              "      <td>distance</td>\n",
              "      <td>{'knn__n_neighbors': 8, 'knn__weights': 'dista...</td>\n",
              "      <td>0.981481</td>\n",
              "      <td>0.988889</td>\n",
              "      <td>0.977695</td>\n",
              "      <td>0.985130</td>\n",
              "      <td>0.985130</td>\n",
              "      <td>0.983665</td>\n",
              "      <td>0.003794</td>\n",
              "      <td>9</td>\n",
              "    </tr>\n",
              "    <tr>\n",
              "      <th>16</th>\n",
              "      <td>0.002787</td>\n",
              "      <td>0.000037</td>\n",
              "      <td>0.021313</td>\n",
              "      <td>0.002133</td>\n",
              "      <td>9</td>\n",
              "      <td>uniform</td>\n",
              "      <td>{'knn__n_neighbors': 9, 'knn__weights': 'unifo...</td>\n",
              "      <td>0.974074</td>\n",
              "      <td>0.988889</td>\n",
              "      <td>0.970260</td>\n",
              "      <td>0.981413</td>\n",
              "      <td>0.985130</td>\n",
              "      <td>0.979953</td>\n",
              "      <td>0.006889</td>\n",
              "      <td>19</td>\n",
              "    </tr>\n",
              "    <tr>\n",
              "      <th>17</th>\n",
              "      <td>0.002826</td>\n",
              "      <td>0.000130</td>\n",
              "      <td>0.011217</td>\n",
              "      <td>0.000235</td>\n",
              "      <td>9</td>\n",
              "      <td>distance</td>\n",
              "      <td>{'knn__n_neighbors': 9, 'knn__weights': 'dista...</td>\n",
              "      <td>0.977778</td>\n",
              "      <td>0.988889</td>\n",
              "      <td>0.970260</td>\n",
              "      <td>0.985130</td>\n",
              "      <td>0.985130</td>\n",
              "      <td>0.981437</td>\n",
              "      <td>0.006650</td>\n",
              "      <td>15</td>\n",
              "    </tr>\n",
              "    <tr>\n",
              "      <th>18</th>\n",
              "      <td>0.003133</td>\n",
              "      <td>0.000337</td>\n",
              "      <td>0.022348</td>\n",
              "      <td>0.001697</td>\n",
              "      <td>10</td>\n",
              "      <td>uniform</td>\n",
              "      <td>{'knn__n_neighbors': 10, 'knn__weights': 'unif...</td>\n",
              "      <td>0.977778</td>\n",
              "      <td>0.988889</td>\n",
              "      <td>0.973978</td>\n",
              "      <td>0.981413</td>\n",
              "      <td>0.985130</td>\n",
              "      <td>0.981437</td>\n",
              "      <td>0.005257</td>\n",
              "      <td>15</td>\n",
              "    </tr>\n",
              "    <tr>\n",
              "      <th>19</th>\n",
              "      <td>0.002809</td>\n",
              "      <td>0.000069</td>\n",
              "      <td>0.014093</td>\n",
              "      <td>0.005370</td>\n",
              "      <td>10</td>\n",
              "      <td>distance</td>\n",
              "      <td>{'knn__n_neighbors': 10, 'knn__weights': 'dist...</td>\n",
              "      <td>0.981481</td>\n",
              "      <td>0.988889</td>\n",
              "      <td>0.977695</td>\n",
              "      <td>0.985130</td>\n",
              "      <td>0.985130</td>\n",
              "      <td>0.983665</td>\n",
              "      <td>0.003794</td>\n",
              "      <td>9</td>\n",
              "    </tr>\n",
              "  </tbody>\n",
              "</table>\n",
              "</div>\n",
              "      <button class=\"colab-df-convert\" onclick=\"convertToInteractive('df-e59c31b6-a40a-424f-988c-9c8060f77d03')\"\n",
              "              title=\"Convert this dataframe to an interactive table.\"\n",
              "              style=\"display:none;\">\n",
              "        \n",
              "  <svg xmlns=\"http://www.w3.org/2000/svg\" height=\"24px\"viewBox=\"0 0 24 24\"\n",
              "       width=\"24px\">\n",
              "    <path d=\"M0 0h24v24H0V0z\" fill=\"none\"/>\n",
              "    <path d=\"M18.56 5.44l.94 2.06.94-2.06 2.06-.94-2.06-.94-.94-2.06-.94 2.06-2.06.94zm-11 1L8.5 8.5l.94-2.06 2.06-.94-2.06-.94L8.5 2.5l-.94 2.06-2.06.94zm10 10l.94 2.06.94-2.06 2.06-.94-2.06-.94-.94-2.06-.94 2.06-2.06.94z\"/><path d=\"M17.41 7.96l-1.37-1.37c-.4-.4-.92-.59-1.43-.59-.52 0-1.04.2-1.43.59L10.3 9.45l-7.72 7.72c-.78.78-.78 2.05 0 2.83L4 21.41c.39.39.9.59 1.41.59.51 0 1.02-.2 1.41-.59l7.78-7.78 2.81-2.81c.8-.78.8-2.07 0-2.86zM5.41 20L4 18.59l7.72-7.72 1.47 1.35L5.41 20z\"/>\n",
              "  </svg>\n",
              "      </button>\n",
              "      \n",
              "  <style>\n",
              "    .colab-df-container {\n",
              "      display:flex;\n",
              "      flex-wrap:wrap;\n",
              "      gap: 12px;\n",
              "    }\n",
              "\n",
              "    .colab-df-convert {\n",
              "      background-color: #E8F0FE;\n",
              "      border: none;\n",
              "      border-radius: 50%;\n",
              "      cursor: pointer;\n",
              "      display: none;\n",
              "      fill: #1967D2;\n",
              "      height: 32px;\n",
              "      padding: 0 0 0 0;\n",
              "      width: 32px;\n",
              "    }\n",
              "\n",
              "    .colab-df-convert:hover {\n",
              "      background-color: #E2EBFA;\n",
              "      box-shadow: 0px 1px 2px rgba(60, 64, 67, 0.3), 0px 1px 3px 1px rgba(60, 64, 67, 0.15);\n",
              "      fill: #174EA6;\n",
              "    }\n",
              "\n",
              "    [theme=dark] .colab-df-convert {\n",
              "      background-color: #3B4455;\n",
              "      fill: #D2E3FC;\n",
              "    }\n",
              "\n",
              "    [theme=dark] .colab-df-convert:hover {\n",
              "      background-color: #434B5C;\n",
              "      box-shadow: 0px 1px 3px 1px rgba(0, 0, 0, 0.15);\n",
              "      filter: drop-shadow(0px 1px 2px rgba(0, 0, 0, 0.3));\n",
              "      fill: #FFFFFF;\n",
              "    }\n",
              "  </style>\n",
              "\n",
              "      <script>\n",
              "        const buttonEl =\n",
              "          document.querySelector('#df-e59c31b6-a40a-424f-988c-9c8060f77d03 button.colab-df-convert');\n",
              "        buttonEl.style.display =\n",
              "          google.colab.kernel.accessAllowed ? 'block' : 'none';\n",
              "\n",
              "        async function convertToInteractive(key) {\n",
              "          const element = document.querySelector('#df-e59c31b6-a40a-424f-988c-9c8060f77d03');\n",
              "          const dataTable =\n",
              "            await google.colab.kernel.invokeFunction('convertToInteractive',\n",
              "                                                     [key], {});\n",
              "          if (!dataTable) return;\n",
              "\n",
              "          const docLinkHtml = 'Like what you see? Visit the ' +\n",
              "            '<a target=\"_blank\" href=https://colab.research.google.com/notebooks/data_table.ipynb>data table notebook</a>'\n",
              "            + ' to learn more about interactive tables.';\n",
              "          element.innerHTML = '';\n",
              "          dataTable['output_type'] = 'display_data';\n",
              "          await google.colab.output.renderOutput(dataTable, element);\n",
              "          const docLink = document.createElement('div');\n",
              "          docLink.innerHTML = docLinkHtml;\n",
              "          element.appendChild(docLink);\n",
              "        }\n",
              "      </script>\n",
              "    </div>\n",
              "  </div>\n",
              "  "
            ]
          },
          "metadata": {}
        },
        {
          "output_type": "stream",
          "name": "stdout",
          "text": [
            "best param: {'knn__n_neighbors': 4, 'knn__weights': 'distance'}\n",
            "test acc: 0.9866666666666667\n"
          ]
        }
      ]
    },
    {
      "cell_type": "code",
      "source": [
        "estimator = gcv.best_estimator_\n",
        "estimator.score(X_test, y_test)"
      ],
      "metadata": {
        "colab": {
          "base_uri": "https://localhost:8080/"
        },
        "id": "gBOSP0KlISk5",
        "outputId": "b8b39313-b291-43a8-f137-9b1b5bcaf4e7"
      },
      "execution_count": null,
      "outputs": [
        {
          "output_type": "execute_result",
          "data": {
            "text/plain": [
              "0.9866666666666667"
            ]
          },
          "metadata": {},
          "execution_count": 53
        }
      ]
    },
    {
      "cell_type": "markdown",
      "source": [
        "# RandomizeSearchCV"
      ],
      "metadata": {
        "id": "Id0PGyFF6_iN"
      }
    },
    {
      "cell_type": "code",
      "source": [
        "from sklearn.model_selection import RandomizedSearchCV\n",
        "\n",
        "X_train, X_test, y_train, y_test = train_test_split(digits.data, digits.target, random_state=0)\n",
        "mm_scaler = MinMaxScaler()\n",
        "knn = KNeighborsClassifier()\n",
        "pipe = Pipeline([('scaler',mm_scaler),('knn', knn)])\n",
        "gcv = RandomizedSearchCV(pipe, {'knn__n_neighbors': range(1, 11), 'knn__weights':['uniform', 'distance']}, cv=5, n_iter=5)\n",
        "gcv.fit(X_train, y_train)\n",
        "display(pd.DataFrame(gcv.cv_results_))\n",
        "print('best param:', gcv.best_params_)\n",
        "print('test acc:', gcv.score(X_test, y_test))"
      ],
      "metadata": {
        "colab": {
          "base_uri": "https://localhost:8080/",
          "height": 480
        },
        "id": "dyQtBB5V7B7t",
        "outputId": "defce7f7-7033-4fbc-d066-c0515dcb4b06"
      },
      "execution_count": null,
      "outputs": [
        {
          "output_type": "display_data",
          "data": {
            "text/plain": [
              "   mean_fit_time  std_fit_time  mean_score_time  std_score_time  \\\n",
              "0       0.013277      0.003208         0.048263        0.003104   \n",
              "1       0.013453      0.003772         0.048652        0.001058   \n",
              "2       0.011838      0.005966         0.067436        0.008249   \n",
              "3       0.011942      0.005318         0.054245        0.013873   \n",
              "4       0.004456      0.002253         0.015451        0.004781   \n",
              "\n",
              "  param_knn__weights param_knn__n_neighbors  \\\n",
              "0           distance                      6   \n",
              "1           distance                      4   \n",
              "2            uniform                      9   \n",
              "3            uniform                      3   \n",
              "4           distance                      7   \n",
              "\n",
              "                                              params  split0_test_score  \\\n",
              "0  {'knn__weights': 'distance', 'knn__n_neighbors...           0.981481   \n",
              "1  {'knn__weights': 'distance', 'knn__n_neighbors...           0.985185   \n",
              "2  {'knn__weights': 'uniform', 'knn__n_neighbors'...           0.974074   \n",
              "3  {'knn__weights': 'uniform', 'knn__n_neighbors'...           0.985185   \n",
              "4  {'knn__weights': 'distance', 'knn__n_neighbors...           0.981481   \n",
              "\n",
              "   split1_test_score  split2_test_score  split3_test_score  split4_test_score  \\\n",
              "0           0.996296           0.973978           0.985130           0.981413   \n",
              "1           0.996296           0.981413           0.985130           0.985130   \n",
              "2           0.988889           0.970260           0.981413           0.985130   \n",
              "3           0.988889           0.985130           0.985130           0.981413   \n",
              "4           0.988889           0.973978           0.985130           0.988848   \n",
              "\n",
              "   mean_test_score  std_test_score  rank_test_score  \n",
              "0         0.983660        0.007285                4  \n",
              "1         0.986631        0.005045                1  \n",
              "2         0.979953        0.006889                5  \n",
              "3         0.985149        0.002364                2  \n",
              "4         0.983665        0.005566                3  "
            ],
            "text/html": [
              "\n",
              "  <div id=\"df-6ac09b41-d947-4ff5-a904-a06eec2fccd8\">\n",
              "    <div class=\"colab-df-container\">\n",
              "      <div>\n",
              "<style scoped>\n",
              "    .dataframe tbody tr th:only-of-type {\n",
              "        vertical-align: middle;\n",
              "    }\n",
              "\n",
              "    .dataframe tbody tr th {\n",
              "        vertical-align: top;\n",
              "    }\n",
              "\n",
              "    .dataframe thead th {\n",
              "        text-align: right;\n",
              "    }\n",
              "</style>\n",
              "<table border=\"1\" class=\"dataframe\">\n",
              "  <thead>\n",
              "    <tr style=\"text-align: right;\">\n",
              "      <th></th>\n",
              "      <th>mean_fit_time</th>\n",
              "      <th>std_fit_time</th>\n",
              "      <th>mean_score_time</th>\n",
              "      <th>std_score_time</th>\n",
              "      <th>param_knn__weights</th>\n",
              "      <th>param_knn__n_neighbors</th>\n",
              "      <th>params</th>\n",
              "      <th>split0_test_score</th>\n",
              "      <th>split1_test_score</th>\n",
              "      <th>split2_test_score</th>\n",
              "      <th>split3_test_score</th>\n",
              "      <th>split4_test_score</th>\n",
              "      <th>mean_test_score</th>\n",
              "      <th>std_test_score</th>\n",
              "      <th>rank_test_score</th>\n",
              "    </tr>\n",
              "  </thead>\n",
              "  <tbody>\n",
              "    <tr>\n",
              "      <th>0</th>\n",
              "      <td>0.013277</td>\n",
              "      <td>0.003208</td>\n",
              "      <td>0.048263</td>\n",
              "      <td>0.003104</td>\n",
              "      <td>distance</td>\n",
              "      <td>6</td>\n",
              "      <td>{'knn__weights': 'distance', 'knn__n_neighbors...</td>\n",
              "      <td>0.981481</td>\n",
              "      <td>0.996296</td>\n",
              "      <td>0.973978</td>\n",
              "      <td>0.985130</td>\n",
              "      <td>0.981413</td>\n",
              "      <td>0.983660</td>\n",
              "      <td>0.007285</td>\n",
              "      <td>4</td>\n",
              "    </tr>\n",
              "    <tr>\n",
              "      <th>1</th>\n",
              "      <td>0.013453</td>\n",
              "      <td>0.003772</td>\n",
              "      <td>0.048652</td>\n",
              "      <td>0.001058</td>\n",
              "      <td>distance</td>\n",
              "      <td>4</td>\n",
              "      <td>{'knn__weights': 'distance', 'knn__n_neighbors...</td>\n",
              "      <td>0.985185</td>\n",
              "      <td>0.996296</td>\n",
              "      <td>0.981413</td>\n",
              "      <td>0.985130</td>\n",
              "      <td>0.985130</td>\n",
              "      <td>0.986631</td>\n",
              "      <td>0.005045</td>\n",
              "      <td>1</td>\n",
              "    </tr>\n",
              "    <tr>\n",
              "      <th>2</th>\n",
              "      <td>0.011838</td>\n",
              "      <td>0.005966</td>\n",
              "      <td>0.067436</td>\n",
              "      <td>0.008249</td>\n",
              "      <td>uniform</td>\n",
              "      <td>9</td>\n",
              "      <td>{'knn__weights': 'uniform', 'knn__n_neighbors'...</td>\n",
              "      <td>0.974074</td>\n",
              "      <td>0.988889</td>\n",
              "      <td>0.970260</td>\n",
              "      <td>0.981413</td>\n",
              "      <td>0.985130</td>\n",
              "      <td>0.979953</td>\n",
              "      <td>0.006889</td>\n",
              "      <td>5</td>\n",
              "    </tr>\n",
              "    <tr>\n",
              "      <th>3</th>\n",
              "      <td>0.011942</td>\n",
              "      <td>0.005318</td>\n",
              "      <td>0.054245</td>\n",
              "      <td>0.013873</td>\n",
              "      <td>uniform</td>\n",
              "      <td>3</td>\n",
              "      <td>{'knn__weights': 'uniform', 'knn__n_neighbors'...</td>\n",
              "      <td>0.985185</td>\n",
              "      <td>0.988889</td>\n",
              "      <td>0.985130</td>\n",
              "      <td>0.985130</td>\n",
              "      <td>0.981413</td>\n",
              "      <td>0.985149</td>\n",
              "      <td>0.002364</td>\n",
              "      <td>2</td>\n",
              "    </tr>\n",
              "    <tr>\n",
              "      <th>4</th>\n",
              "      <td>0.004456</td>\n",
              "      <td>0.002253</td>\n",
              "      <td>0.015451</td>\n",
              "      <td>0.004781</td>\n",
              "      <td>distance</td>\n",
              "      <td>7</td>\n",
              "      <td>{'knn__weights': 'distance', 'knn__n_neighbors...</td>\n",
              "      <td>0.981481</td>\n",
              "      <td>0.988889</td>\n",
              "      <td>0.973978</td>\n",
              "      <td>0.985130</td>\n",
              "      <td>0.988848</td>\n",
              "      <td>0.983665</td>\n",
              "      <td>0.005566</td>\n",
              "      <td>3</td>\n",
              "    </tr>\n",
              "  </tbody>\n",
              "</table>\n",
              "</div>\n",
              "      <button class=\"colab-df-convert\" onclick=\"convertToInteractive('df-6ac09b41-d947-4ff5-a904-a06eec2fccd8')\"\n",
              "              title=\"Convert this dataframe to an interactive table.\"\n",
              "              style=\"display:none;\">\n",
              "        \n",
              "  <svg xmlns=\"http://www.w3.org/2000/svg\" height=\"24px\"viewBox=\"0 0 24 24\"\n",
              "       width=\"24px\">\n",
              "    <path d=\"M0 0h24v24H0V0z\" fill=\"none\"/>\n",
              "    <path d=\"M18.56 5.44l.94 2.06.94-2.06 2.06-.94-2.06-.94-.94-2.06-.94 2.06-2.06.94zm-11 1L8.5 8.5l.94-2.06 2.06-.94-2.06-.94L8.5 2.5l-.94 2.06-2.06.94zm10 10l.94 2.06.94-2.06 2.06-.94-2.06-.94-.94-2.06-.94 2.06-2.06.94z\"/><path d=\"M17.41 7.96l-1.37-1.37c-.4-.4-.92-.59-1.43-.59-.52 0-1.04.2-1.43.59L10.3 9.45l-7.72 7.72c-.78.78-.78 2.05 0 2.83L4 21.41c.39.39.9.59 1.41.59.51 0 1.02-.2 1.41-.59l7.78-7.78 2.81-2.81c.8-.78.8-2.07 0-2.86zM5.41 20L4 18.59l7.72-7.72 1.47 1.35L5.41 20z\"/>\n",
              "  </svg>\n",
              "      </button>\n",
              "      \n",
              "  <style>\n",
              "    .colab-df-container {\n",
              "      display:flex;\n",
              "      flex-wrap:wrap;\n",
              "      gap: 12px;\n",
              "    }\n",
              "\n",
              "    .colab-df-convert {\n",
              "      background-color: #E8F0FE;\n",
              "      border: none;\n",
              "      border-radius: 50%;\n",
              "      cursor: pointer;\n",
              "      display: none;\n",
              "      fill: #1967D2;\n",
              "      height: 32px;\n",
              "      padding: 0 0 0 0;\n",
              "      width: 32px;\n",
              "    }\n",
              "\n",
              "    .colab-df-convert:hover {\n",
              "      background-color: #E2EBFA;\n",
              "      box-shadow: 0px 1px 2px rgba(60, 64, 67, 0.3), 0px 1px 3px 1px rgba(60, 64, 67, 0.15);\n",
              "      fill: #174EA6;\n",
              "    }\n",
              "\n",
              "    [theme=dark] .colab-df-convert {\n",
              "      background-color: #3B4455;\n",
              "      fill: #D2E3FC;\n",
              "    }\n",
              "\n",
              "    [theme=dark] .colab-df-convert:hover {\n",
              "      background-color: #434B5C;\n",
              "      box-shadow: 0px 1px 3px 1px rgba(0, 0, 0, 0.15);\n",
              "      filter: drop-shadow(0px 1px 2px rgba(0, 0, 0, 0.3));\n",
              "      fill: #FFFFFF;\n",
              "    }\n",
              "  </style>\n",
              "\n",
              "      <script>\n",
              "        const buttonEl =\n",
              "          document.querySelector('#df-6ac09b41-d947-4ff5-a904-a06eec2fccd8 button.colab-df-convert');\n",
              "        buttonEl.style.display =\n",
              "          google.colab.kernel.accessAllowed ? 'block' : 'none';\n",
              "\n",
              "        async function convertToInteractive(key) {\n",
              "          const element = document.querySelector('#df-6ac09b41-d947-4ff5-a904-a06eec2fccd8');\n",
              "          const dataTable =\n",
              "            await google.colab.kernel.invokeFunction('convertToInteractive',\n",
              "                                                     [key], {});\n",
              "          if (!dataTable) return;\n",
              "\n",
              "          const docLinkHtml = 'Like what you see? Visit the ' +\n",
              "            '<a target=\"_blank\" href=https://colab.research.google.com/notebooks/data_table.ipynb>data table notebook</a>'\n",
              "            + ' to learn more about interactive tables.';\n",
              "          element.innerHTML = '';\n",
              "          dataTable['output_type'] = 'display_data';\n",
              "          await google.colab.output.renderOutput(dataTable, element);\n",
              "          const docLink = document.createElement('div');\n",
              "          docLink.innerHTML = docLinkHtml;\n",
              "          element.appendChild(docLink);\n",
              "        }\n",
              "      </script>\n",
              "    </div>\n",
              "  </div>\n",
              "  "
            ]
          },
          "metadata": {}
        },
        {
          "output_type": "stream",
          "name": "stdout",
          "text": [
            "best param: {'knn__weights': 'distance', 'knn__n_neighbors': 4}\n",
            "test acc: 0.9866666666666667\n"
          ]
        }
      ]
    },
    {
      "cell_type": "code",
      "source": [
        "\n",
        "X_train, X_test, y_train, y_test = train_test_split(digits.data, digits.target, random_state=0)\n"
      ],
      "metadata": {
        "colab": {
          "base_uri": "https://localhost:8080/",
          "height": 637
        },
        "id": "nqll6DAh7iy_",
        "outputId": "f12f7e3c-4648-49fb-c9e6-40883d8a02a2"
      },
      "execution_count": null,
      "outputs": [
        {
          "output_type": "display_data",
          "data": {
            "text/plain": [
              "   mean_fit_time  std_fit_time  mean_score_time  std_score_time  \\\n",
              "0       0.003295      0.000334         0.021785        0.001627   \n",
              "1       0.003090      0.000069         0.018868        0.000498   \n",
              "2       0.003359      0.000933         0.016116        0.000181   \n",
              "3       0.002866      0.000118         0.020095        0.000260   \n",
              "4       0.003101      0.000474         0.023444        0.005168   \n",
              "5       0.003107      0.000722         0.020672        0.000962   \n",
              "6       0.002794      0.000107         0.020404        0.000261   \n",
              "7       0.003303      0.000728         0.022609        0.003014   \n",
              "8       0.002840      0.000046         0.020891        0.001474   \n",
              "9       0.002891      0.000117         0.020593        0.000882   \n",
              "\n",
              "  param_knn__n_neighbors                    params  split0_test_score  \\\n",
              "0                      5   {'knn__n_neighbors': 5}           0.988889   \n",
              "1                      3   {'knn__n_neighbors': 3}           0.985185   \n",
              "2                      1   {'knn__n_neighbors': 1}           0.974074   \n",
              "3                     10  {'knn__n_neighbors': 10}           0.977778   \n",
              "4                     17  {'knn__n_neighbors': 17}           0.970370   \n",
              "5                     16  {'knn__n_neighbors': 16}           0.970370   \n",
              "6                     12  {'knn__n_neighbors': 12}           0.974074   \n",
              "7                     13  {'knn__n_neighbors': 13}           0.977778   \n",
              "8                     20  {'knn__n_neighbors': 20}           0.959259   \n",
              "9                     18  {'knn__n_neighbors': 18}           0.966667   \n",
              "\n",
              "   split1_test_score  split2_test_score  split3_test_score  split4_test_score  \\\n",
              "0           0.992593           0.973978           0.985130           0.985130   \n",
              "1           0.988889           0.985130           0.985130           0.981413   \n",
              "2           0.985185           0.988848           0.988848           0.985130   \n",
              "3           0.988889           0.973978           0.981413           0.985130   \n",
              "4           0.970370           0.966543           0.962825           0.970260   \n",
              "5           0.970370           0.966543           0.966543           0.977695   \n",
              "6           0.981481           0.973978           0.981413           0.985130   \n",
              "7           0.981481           0.973978           0.977695           0.973978   \n",
              "8           0.970370           0.962825           0.970260           0.973978   \n",
              "9           0.970370           0.962825           0.966543           0.977695   \n",
              "\n",
              "   mean_test_score  std_test_score  rank_test_score  \n",
              "0         0.985144        0.006232                2  \n",
              "1         0.985149        0.002364                1  \n",
              "2         0.984417        0.005428                3  \n",
              "3         0.981437        0.005257                4  \n",
              "4         0.968074        0.003007                9  \n",
              "5         0.970304        0.004073                7  \n",
              "6         0.979215        0.004446                5  \n",
              "7         0.976982        0.002809                6  \n",
              "8         0.967339        0.005430               10  \n",
              "9         0.968820        0.005038                8  "
            ],
            "text/html": [
              "\n",
              "  <div id=\"df-21c5365a-5e58-466f-aa52-97308dddaa84\">\n",
              "    <div class=\"colab-df-container\">\n",
              "      <div>\n",
              "<style scoped>\n",
              "    .dataframe tbody tr th:only-of-type {\n",
              "        vertical-align: middle;\n",
              "    }\n",
              "\n",
              "    .dataframe tbody tr th {\n",
              "        vertical-align: top;\n",
              "    }\n",
              "\n",
              "    .dataframe thead th {\n",
              "        text-align: right;\n",
              "    }\n",
              "</style>\n",
              "<table border=\"1\" class=\"dataframe\">\n",
              "  <thead>\n",
              "    <tr style=\"text-align: right;\">\n",
              "      <th></th>\n",
              "      <th>mean_fit_time</th>\n",
              "      <th>std_fit_time</th>\n",
              "      <th>mean_score_time</th>\n",
              "      <th>std_score_time</th>\n",
              "      <th>param_knn__n_neighbors</th>\n",
              "      <th>params</th>\n",
              "      <th>split0_test_score</th>\n",
              "      <th>split1_test_score</th>\n",
              "      <th>split2_test_score</th>\n",
              "      <th>split3_test_score</th>\n",
              "      <th>split4_test_score</th>\n",
              "      <th>mean_test_score</th>\n",
              "      <th>std_test_score</th>\n",
              "      <th>rank_test_score</th>\n",
              "    </tr>\n",
              "  </thead>\n",
              "  <tbody>\n",
              "    <tr>\n",
              "      <th>0</th>\n",
              "      <td>0.003295</td>\n",
              "      <td>0.000334</td>\n",
              "      <td>0.021785</td>\n",
              "      <td>0.001627</td>\n",
              "      <td>5</td>\n",
              "      <td>{'knn__n_neighbors': 5}</td>\n",
              "      <td>0.988889</td>\n",
              "      <td>0.992593</td>\n",
              "      <td>0.973978</td>\n",
              "      <td>0.985130</td>\n",
              "      <td>0.985130</td>\n",
              "      <td>0.985144</td>\n",
              "      <td>0.006232</td>\n",
              "      <td>2</td>\n",
              "    </tr>\n",
              "    <tr>\n",
              "      <th>1</th>\n",
              "      <td>0.003090</td>\n",
              "      <td>0.000069</td>\n",
              "      <td>0.018868</td>\n",
              "      <td>0.000498</td>\n",
              "      <td>3</td>\n",
              "      <td>{'knn__n_neighbors': 3}</td>\n",
              "      <td>0.985185</td>\n",
              "      <td>0.988889</td>\n",
              "      <td>0.985130</td>\n",
              "      <td>0.985130</td>\n",
              "      <td>0.981413</td>\n",
              "      <td>0.985149</td>\n",
              "      <td>0.002364</td>\n",
              "      <td>1</td>\n",
              "    </tr>\n",
              "    <tr>\n",
              "      <th>2</th>\n",
              "      <td>0.003359</td>\n",
              "      <td>0.000933</td>\n",
              "      <td>0.016116</td>\n",
              "      <td>0.000181</td>\n",
              "      <td>1</td>\n",
              "      <td>{'knn__n_neighbors': 1}</td>\n",
              "      <td>0.974074</td>\n",
              "      <td>0.985185</td>\n",
              "      <td>0.988848</td>\n",
              "      <td>0.988848</td>\n",
              "      <td>0.985130</td>\n",
              "      <td>0.984417</td>\n",
              "      <td>0.005428</td>\n",
              "      <td>3</td>\n",
              "    </tr>\n",
              "    <tr>\n",
              "      <th>3</th>\n",
              "      <td>0.002866</td>\n",
              "      <td>0.000118</td>\n",
              "      <td>0.020095</td>\n",
              "      <td>0.000260</td>\n",
              "      <td>10</td>\n",
              "      <td>{'knn__n_neighbors': 10}</td>\n",
              "      <td>0.977778</td>\n",
              "      <td>0.988889</td>\n",
              "      <td>0.973978</td>\n",
              "      <td>0.981413</td>\n",
              "      <td>0.985130</td>\n",
              "      <td>0.981437</td>\n",
              "      <td>0.005257</td>\n",
              "      <td>4</td>\n",
              "    </tr>\n",
              "    <tr>\n",
              "      <th>4</th>\n",
              "      <td>0.003101</td>\n",
              "      <td>0.000474</td>\n",
              "      <td>0.023444</td>\n",
              "      <td>0.005168</td>\n",
              "      <td>17</td>\n",
              "      <td>{'knn__n_neighbors': 17}</td>\n",
              "      <td>0.970370</td>\n",
              "      <td>0.970370</td>\n",
              "      <td>0.966543</td>\n",
              "      <td>0.962825</td>\n",
              "      <td>0.970260</td>\n",
              "      <td>0.968074</td>\n",
              "      <td>0.003007</td>\n",
              "      <td>9</td>\n",
              "    </tr>\n",
              "    <tr>\n",
              "      <th>5</th>\n",
              "      <td>0.003107</td>\n",
              "      <td>0.000722</td>\n",
              "      <td>0.020672</td>\n",
              "      <td>0.000962</td>\n",
              "      <td>16</td>\n",
              "      <td>{'knn__n_neighbors': 16}</td>\n",
              "      <td>0.970370</td>\n",
              "      <td>0.970370</td>\n",
              "      <td>0.966543</td>\n",
              "      <td>0.966543</td>\n",
              "      <td>0.977695</td>\n",
              "      <td>0.970304</td>\n",
              "      <td>0.004073</td>\n",
              "      <td>7</td>\n",
              "    </tr>\n",
              "    <tr>\n",
              "      <th>6</th>\n",
              "      <td>0.002794</td>\n",
              "      <td>0.000107</td>\n",
              "      <td>0.020404</td>\n",
              "      <td>0.000261</td>\n",
              "      <td>12</td>\n",
              "      <td>{'knn__n_neighbors': 12}</td>\n",
              "      <td>0.974074</td>\n",
              "      <td>0.981481</td>\n",
              "      <td>0.973978</td>\n",
              "      <td>0.981413</td>\n",
              "      <td>0.985130</td>\n",
              "      <td>0.979215</td>\n",
              "      <td>0.004446</td>\n",
              "      <td>5</td>\n",
              "    </tr>\n",
              "    <tr>\n",
              "      <th>7</th>\n",
              "      <td>0.003303</td>\n",
              "      <td>0.000728</td>\n",
              "      <td>0.022609</td>\n",
              "      <td>0.003014</td>\n",
              "      <td>13</td>\n",
              "      <td>{'knn__n_neighbors': 13}</td>\n",
              "      <td>0.977778</td>\n",
              "      <td>0.981481</td>\n",
              "      <td>0.973978</td>\n",
              "      <td>0.977695</td>\n",
              "      <td>0.973978</td>\n",
              "      <td>0.976982</td>\n",
              "      <td>0.002809</td>\n",
              "      <td>6</td>\n",
              "    </tr>\n",
              "    <tr>\n",
              "      <th>8</th>\n",
              "      <td>0.002840</td>\n",
              "      <td>0.000046</td>\n",
              "      <td>0.020891</td>\n",
              "      <td>0.001474</td>\n",
              "      <td>20</td>\n",
              "      <td>{'knn__n_neighbors': 20}</td>\n",
              "      <td>0.959259</td>\n",
              "      <td>0.970370</td>\n",
              "      <td>0.962825</td>\n",
              "      <td>0.970260</td>\n",
              "      <td>0.973978</td>\n",
              "      <td>0.967339</td>\n",
              "      <td>0.005430</td>\n",
              "      <td>10</td>\n",
              "    </tr>\n",
              "    <tr>\n",
              "      <th>9</th>\n",
              "      <td>0.002891</td>\n",
              "      <td>0.000117</td>\n",
              "      <td>0.020593</td>\n",
              "      <td>0.000882</td>\n",
              "      <td>18</td>\n",
              "      <td>{'knn__n_neighbors': 18}</td>\n",
              "      <td>0.966667</td>\n",
              "      <td>0.970370</td>\n",
              "      <td>0.962825</td>\n",
              "      <td>0.966543</td>\n",
              "      <td>0.977695</td>\n",
              "      <td>0.968820</td>\n",
              "      <td>0.005038</td>\n",
              "      <td>8</td>\n",
              "    </tr>\n",
              "  </tbody>\n",
              "</table>\n",
              "</div>\n",
              "      <button class=\"colab-df-convert\" onclick=\"convertToInteractive('df-21c5365a-5e58-466f-aa52-97308dddaa84')\"\n",
              "              title=\"Convert this dataframe to an interactive table.\"\n",
              "              style=\"display:none;\">\n",
              "        \n",
              "  <svg xmlns=\"http://www.w3.org/2000/svg\" height=\"24px\"viewBox=\"0 0 24 24\"\n",
              "       width=\"24px\">\n",
              "    <path d=\"M0 0h24v24H0V0z\" fill=\"none\"/>\n",
              "    <path d=\"M18.56 5.44l.94 2.06.94-2.06 2.06-.94-2.06-.94-.94-2.06-.94 2.06-2.06.94zm-11 1L8.5 8.5l.94-2.06 2.06-.94-2.06-.94L8.5 2.5l-.94 2.06-2.06.94zm10 10l.94 2.06.94-2.06 2.06-.94-2.06-.94-.94-2.06-.94 2.06-2.06.94z\"/><path d=\"M17.41 7.96l-1.37-1.37c-.4-.4-.92-.59-1.43-.59-.52 0-1.04.2-1.43.59L10.3 9.45l-7.72 7.72c-.78.78-.78 2.05 0 2.83L4 21.41c.39.39.9.59 1.41.59.51 0 1.02-.2 1.41-.59l7.78-7.78 2.81-2.81c.8-.78.8-2.07 0-2.86zM5.41 20L4 18.59l7.72-7.72 1.47 1.35L5.41 20z\"/>\n",
              "  </svg>\n",
              "      </button>\n",
              "      \n",
              "  <style>\n",
              "    .colab-df-container {\n",
              "      display:flex;\n",
              "      flex-wrap:wrap;\n",
              "      gap: 12px;\n",
              "    }\n",
              "\n",
              "    .colab-df-convert {\n",
              "      background-color: #E8F0FE;\n",
              "      border: none;\n",
              "      border-radius: 50%;\n",
              "      cursor: pointer;\n",
              "      display: none;\n",
              "      fill: #1967D2;\n",
              "      height: 32px;\n",
              "      padding: 0 0 0 0;\n",
              "      width: 32px;\n",
              "    }\n",
              "\n",
              "    .colab-df-convert:hover {\n",
              "      background-color: #E2EBFA;\n",
              "      box-shadow: 0px 1px 2px rgba(60, 64, 67, 0.3), 0px 1px 3px 1px rgba(60, 64, 67, 0.15);\n",
              "      fill: #174EA6;\n",
              "    }\n",
              "\n",
              "    [theme=dark] .colab-df-convert {\n",
              "      background-color: #3B4455;\n",
              "      fill: #D2E3FC;\n",
              "    }\n",
              "\n",
              "    [theme=dark] .colab-df-convert:hover {\n",
              "      background-color: #434B5C;\n",
              "      box-shadow: 0px 1px 3px 1px rgba(0, 0, 0, 0.15);\n",
              "      filter: drop-shadow(0px 1px 2px rgba(0, 0, 0, 0.3));\n",
              "      fill: #FFFFFF;\n",
              "    }\n",
              "  </style>\n",
              "\n",
              "      <script>\n",
              "        const buttonEl =\n",
              "          document.querySelector('#df-21c5365a-5e58-466f-aa52-97308dddaa84 button.colab-df-convert');\n",
              "        buttonEl.style.display =\n",
              "          google.colab.kernel.accessAllowed ? 'block' : 'none';\n",
              "\n",
              "        async function convertToInteractive(key) {\n",
              "          const element = document.querySelector('#df-21c5365a-5e58-466f-aa52-97308dddaa84');\n",
              "          const dataTable =\n",
              "            await google.colab.kernel.invokeFunction('convertToInteractive',\n",
              "                                                     [key], {});\n",
              "          if (!dataTable) return;\n",
              "\n",
              "          const docLinkHtml = 'Like what you see? Visit the ' +\n",
              "            '<a target=\"_blank\" href=https://colab.research.google.com/notebooks/data_table.ipynb>data table notebook</a>'\n",
              "            + ' to learn more about interactive tables.';\n",
              "          element.innerHTML = '';\n",
              "          dataTable['output_type'] = 'display_data';\n",
              "          await google.colab.output.renderOutput(dataTable, element);\n",
              "          const docLink = document.createElement('div');\n",
              "          docLink.innerHTML = docLinkHtml;\n",
              "          element.appendChild(docLink);\n",
              "        }\n",
              "      </script>\n",
              "    </div>\n",
              "  </div>\n",
              "  "
            ]
          },
          "metadata": {}
        },
        {
          "output_type": "stream",
          "name": "stdout",
          "text": [
            "best param: {'knn__n_neighbors': 3}\n",
            "Test acc: 0.9888888888888889\n"
          ]
        }
      ]
    },
    {
      "cell_type": "code",
      "source": [
        "estimator"
      ],
      "metadata": {
        "colab": {
          "base_uri": "https://localhost:8080/"
        },
        "id": "WfSpzvJ07wnE",
        "outputId": "4d461e21-49e7-46b0-f8e2-3aeb77529845"
      },
      "execution_count": null,
      "outputs": [
        {
          "output_type": "execute_result",
          "data": {
            "text/plain": [
              "Pipeline(steps=[('mm_scaler', MinMaxScaler()),\n",
              "                ('knn', KNeighborsClassifier(n_neighbors=3))])"
            ]
          },
          "metadata": {},
          "execution_count": 49
        }
      ]
    },
    {
      "cell_type": "markdown",
      "metadata": {
        "id": "pGiAtKagyqfC"
      },
      "source": [
        "# 모델 저장 및 복원"
      ]
    },
    {
      "cell_type": "markdown",
      "metadata": {
        "id": "bB0VAX3mdGTJ"
      },
      "source": [
        "* 최적의 모델 저장\n",
        " *  `model.dat`"
      ]
    },
    {
      "cell_type": "code",
      "metadata": {
        "id": "llCtIe4LysbB"
      },
      "source": [
        "import pickle\n",
        "\n",
        "with open('model.dat', 'wb') as f:\n",
        "  pickle.dump(estimator, f)\n"
      ],
      "execution_count": null,
      "outputs": []
    },
    {
      "cell_type": "code",
      "metadata": {
        "colab": {
          "base_uri": "https://localhost:8080/"
        },
        "id": "VarXA9q3y9Oh",
        "outputId": "14de273b-f08c-4cab-e036-930130e6063c"
      },
      "source": [
        "with open('model.dat', 'rb') as f:\n",
        "  model = pickle.load(f)\n",
        "\n",
        "model.score(X_test, y_test)"
      ],
      "execution_count": null,
      "outputs": [
        {
          "output_type": "execute_result",
          "data": {
            "text/plain": [
              "0.9866666666666667"
            ]
          },
          "metadata": {},
          "execution_count": 57
        }
      ]
    },
    {
      "cell_type": "markdown",
      "metadata": {
        "id": "zneU-0DcukNn"
      },
      "source": [
        "### 손으로 쓴 숫자 인식하기\n",
        "* 온라인 그림판 : https://sketch.io/sketchpad/\n",
        "* 샘플 숫자 이미지 다운로드 :  0458.png"
      ]
    },
    {
      "cell_type": "code",
      "source": [
        "#강사가 파일을 제공한 경우 실행하지 마세요.\n",
        "import os\n",
        "file_0458 = '0458.png'\n",
        "#url_0458 = 'https://www.dropbox.com/s/yvzxeut7um2aeng/0458.png?dl=1'\n",
        "url_0458 = 'https://share.sketchpad.app/22/5b7-417a-0da9f1.png'\n",
        "if os.name =='posix':\n",
        "  !wget -O $file_0458 $url_0458\n",
        "else:\n",
        "  !pip install wget\n",
        "  import wget\n",
        "  wget.download(url_0458, out=file_0458)"
      ],
      "metadata": {
        "id": "hi4m-sAl1zIs",
        "colab": {
          "base_uri": "https://localhost:8080/"
        },
        "outputId": "8286c5ed-07fa-465e-d1f1-32c2a164e107"
      },
      "execution_count": null,
      "outputs": [
        {
          "output_type": "stream",
          "name": "stdout",
          "text": [
            "--2022-09-20 03:39:27--  https://share.sketchpad.app/22/5b7-417a-0da9f1.png\n",
            "Resolving share.sketchpad.app (share.sketchpad.app)... 172.67.69.185, 104.26.15.176, 104.26.14.176, ...\n",
            "Connecting to share.sketchpad.app (share.sketchpad.app)|172.67.69.185|:443... connected.\n",
            "HTTP request sent, awaiting response... 200 OK\n",
            "Length: 105233 (103K) [image/png]\n",
            "Saving to: ‘0458.png’\n",
            "\n",
            "0458.png            100%[===================>] 102.77K  --.-KB/s    in 0.08s   \n",
            "\n",
            "2022-09-20 03:39:28 (1.21 MB/s) - ‘0458.png’ saved [105233/105233]\n",
            "\n"
          ]
        }
      ]
    },
    {
      "cell_type": "markdown",
      "metadata": {
        "id": "FtmEUpoturDf"
      },
      "source": [
        "*  img2data 모듈 download"
      ]
    },
    {
      "cell_type": "code",
      "source": [
        "#강사가 파일을 제공한 경우 실행하지 마세요.\n",
        "import os\n",
        "img2data = 'img2data.py'\n",
        "url_img2data = 'https://www.dropbox.com/s/2b3eamclndq9dkp/img2data.py?dl=1'\n",
        "if os.name =='posix':\n",
        "  !wget -O $img2data $url_img2data\n",
        "else:\n",
        "  !pip install wget\n",
        "  import wget\n",
        "  wget.download(url_img2data, out=img2data)"
      ],
      "metadata": {
        "id": "MJCBaVsY2u6k",
        "colab": {
          "base_uri": "https://localhost:8080/"
        },
        "outputId": "921eee86-61c9-4a82-e703-694cba14be1e"
      },
      "execution_count": null,
      "outputs": [
        {
          "output_type": "stream",
          "name": "stdout",
          "text": [
            "--2022-09-20 03:40:57--  https://www.dropbox.com/s/2b3eamclndq9dkp/img2data.py?dl=1\n",
            "Resolving www.dropbox.com (www.dropbox.com)... 162.125.5.18, 2620:100:601b:18::a27d:812\n",
            "Connecting to www.dropbox.com (www.dropbox.com)|162.125.5.18|:443... connected.\n",
            "HTTP request sent, awaiting response... 302 Found\n",
            "Location: /s/dl/2b3eamclndq9dkp/img2data.py [following]\n",
            "--2022-09-20 03:40:57--  https://www.dropbox.com/s/dl/2b3eamclndq9dkp/img2data.py\n",
            "Reusing existing connection to www.dropbox.com:443.\n",
            "HTTP request sent, awaiting response... 302 Found\n",
            "Location: https://uc0216be1b3e03f9b2d3aec21e13.dl.dropboxusercontent.com/cd/0/get/BtRhqyk93oxy0eHKNCwn47al46BFSIbc2l5LVnvthHK1I0tb4Cv8J-TQwy2hfGaDSPJ1JpayGvsf9Jge9RbfPcgQWGbBJDVgcX4ME5J_Jy90gL2Uklq0XbNdr5JnOWDHqgPrV-IuIeBqHZk3ax4Fc6syQNJvzv4zzWySEOE24tzKiA/file?dl=1# [following]\n",
            "--2022-09-20 03:40:57--  https://uc0216be1b3e03f9b2d3aec21e13.dl.dropboxusercontent.com/cd/0/get/BtRhqyk93oxy0eHKNCwn47al46BFSIbc2l5LVnvthHK1I0tb4Cv8J-TQwy2hfGaDSPJ1JpayGvsf9Jge9RbfPcgQWGbBJDVgcX4ME5J_Jy90gL2Uklq0XbNdr5JnOWDHqgPrV-IuIeBqHZk3ax4Fc6syQNJvzv4zzWySEOE24tzKiA/file?dl=1\n",
            "Resolving uc0216be1b3e03f9b2d3aec21e13.dl.dropboxusercontent.com (uc0216be1b3e03f9b2d3aec21e13.dl.dropboxusercontent.com)... 162.125.5.15, 2620:100:601d:15::a27d:50f\n",
            "Connecting to uc0216be1b3e03f9b2d3aec21e13.dl.dropboxusercontent.com (uc0216be1b3e03f9b2d3aec21e13.dl.dropboxusercontent.com)|162.125.5.15|:443... connected.\n",
            "HTTP request sent, awaiting response... 200 OK\n",
            "Length: 2216 (2.2K) [application/binary]\n",
            "Saving to: ‘img2data.py’\n",
            "\n",
            "img2data.py         100%[===================>]   2.16K  --.-KB/s    in 0s      \n",
            "\n",
            "2022-09-20 03:40:58 (226 MB/s) - ‘img2data.py’ saved [2216/2216]\n",
            "\n"
          ]
        }
      ]
    },
    {
      "cell_type": "markdown",
      "source": [
        "* OpenCV 설치"
      ],
      "metadata": {
        "id": "Dw4hPJrHP67g"
      }
    },
    {
      "cell_type": "code",
      "source": [
        "!pip install opencv-python"
      ],
      "metadata": {
        "colab": {
          "base_uri": "https://localhost:8080/"
        },
        "id": "JuQpaSMRP3-y",
        "outputId": "593d1e5d-c7a1-45f9-b273-437df96744e6"
      },
      "execution_count": null,
      "outputs": [
        {
          "output_type": "stream",
          "name": "stdout",
          "text": [
            "Looking in indexes: https://pypi.org/simple, https://us-python.pkg.dev/colab-wheels/public/simple/\n",
            "Requirement already satisfied: opencv-python in /usr/local/lib/python3.7/dist-packages (4.6.0.66)\n",
            "Requirement already satisfied: numpy>=1.14.5 in /usr/local/lib/python3.7/dist-packages (from opencv-python) (1.21.6)\n"
          ]
        }
      ]
    },
    {
      "cell_type": "code",
      "metadata": {
        "colab": {
          "base_uri": "https://localhost:8080/",
          "height": 319
        },
        "id": "aaAwkHlNusru",
        "outputId": "0b35836b-f5b8-4fdb-e4d8-7f800be3a0c6"
      },
      "source": [
        "import img2data\n",
        "\n",
        "img_path = '0458.png'\n",
        "image = cv2.imread(img_path)\n",
        "plt.imshow(image)\n",
        "plt.show()\n",
        "\n",
        "numbers = img2data.img2digits(image, (8,8), reshape=True)\n",
        "for i, n in enumerate(numbers):\n",
        "    n = n/n.max() * 16 # 0~255 구간을 0~16구간으로 변경\n",
        "    pred = model.predict(n)\n",
        "    plt.subplot(1, len(numbers), i+1)\n",
        "    plt.title(str(pred))\n",
        "    plt.imshow(n.reshape(8,8), cmap=\"gray\")\n",
        "    plt.axis(\"off\")"
      ],
      "execution_count": null,
      "outputs": [
        {
          "output_type": "display_data",
          "data": {
            "text/plain": [
              "<Figure size 432x288 with 1 Axes>"
            ],
            "image/png": "[encoded data removed]"
          },
          "metadata": {
            "needs_background": "light"
          }
        },
        {
          "output_type": "display_data",
          "data": {
            "text/plain": [
              "<Figure size 432x288 with 4 Axes>"
            ],
            "image/png": "[encoded data removed]"
          },
          "metadata": {
            "needs_background": "light"
          }
        }
      ]
    },
    {
      "cell_type": "code",
      "source": [],
      "metadata": {
        "id": "9McB7yvLP9Lg"
      },
      "execution_count": null,
      "outputs": []
    }
  ]
}