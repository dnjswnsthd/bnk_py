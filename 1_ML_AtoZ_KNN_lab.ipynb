{
  "nbformat": 4,
  "nbformat_minor": 0,
  "metadata": {
    "kernelspec": {
      "display_name": "Python 3",
      "language": "python",
      "name": "python3"
    },
    "language_info": {
      "codemirror_mode": {
        "name": "ipython",
        "version": 3
      },
      "file_extension": ".py",
      "mimetype": "text/x-python",
      "name": "python",
      "nbconvert_exporter": "python",
      "pygments_lexer": "ipython3",
      "version": "3.8.1"
    },
    "colab": {
      "provenance": [],
      "collapsed_sections": [],
      "include_colab_link": true
    }
  },
  "cells": [
    {
      "cell_type": "markdown",
      "metadata": {
        "id": "view-in-github",
        "colab_type": "text"
      },
      "source": [
        "<a href=\"https://colab.research.google.com/github/dnjswnsthd/bnk_py/blob/develop/1_ML_AtoZ_KNN_lab.ipynb\" target=\"_parent\"><img src=\"https://colab.research.google.com/assets/colab-badge.svg\" alt=\"Open In Colab\"/></a>"
      ]
    },
    {
      "cell_type": "markdown",
      "metadata": {
        "id": "2wsT1Yq2zyHa"
      },
      "source": [
        "<h1>Machine Learning A to Z with KNN</h1>"
      ]
    },
    {
      "cell_type": "markdown",
      "metadata": {
        "id": "4SpqKuibfW8m"
      },
      "source": [
        "# import"
      ]
    },
    {
      "cell_type": "code",
      "metadata": {
        "id": "q6qfyC6FzdAZ"
      },
      "source": [
        "import numpy as np\n",
        "import pandas as pd\n",
        "import matplotlib.pyplot as plt\n",
        "import seaborn as sns\n",
        "import cv2\n",
        "import pickle\n",
        "from sklearn.neighbors import KNeighborsClassifier \n",
        "from sklearn.datasets import make_classification, load_iris, load_breast_cancer, load_digits\n",
        "from sklearn.preprocessing import LabelEncoder, StandardScaler, MinMaxScaler\n",
        "from sklearn.metrics import accuracy_score, confusion_matrix\n",
        "from sklearn.metrics import f1_score, classification_report,precision_score, recall_score\n",
        "from sklearn.metrics import auc, roc_curve, roc_auc_score\n",
        "from sklearn.model_selection import  train_test_split, KFold, StratifiedKFold, GridSearchCV, RandomizedSearchCV\n",
        "from sklearn.model_selection import  cross_val_score, cross_validate\n",
        "from sklearn.pipeline import Pipeline"
      ],
      "execution_count": 1,
      "outputs": []
    },
    {
      "cell_type": "markdown",
      "metadata": {
        "id": "qqmaP-XF2jAh"
      },
      "source": [
        "# KNN 무작위수 분류"
      ]
    },
    {
      "cell_type": "markdown",
      "metadata": {
        "id": "zrYixBU6btiE"
      },
      "source": [
        "## `np.random.randint()`\n",
        "* `np.random.randint()`로 무작위수 25x2를 생성\n",
        "* 무작위수를 kNN으로 학습\n",
        "* 새로운 무작위수 1x2를 만들어서 kNN으로 분류"
      ]
    },
    {
      "cell_type": "code",
      "metadata": {
        "colab": {
          "base_uri": "https://localhost:8080/",
          "height": 302
        },
        "id": "QQvKqYojfdIh",
        "outputId": "c5645a41-b57f-42dc-e018-c1f9c7bb40c9"
      },
      "source": [
        "from sklearn.neighbors import KNeighborsClassifier \n",
        "from sklearn.utils import shuffle\n",
        "\n",
        "#np.random.seed(0)\n",
        "red = np.random.randint(0, 110, (25, 2))   #0\n",
        "blue = np.random.randint(90, 200, (25, 2)) #1\n",
        "X = np.vstack((red, blue))\n",
        "print(X.shape)\n",
        "y = np.zeros((50,))\n",
        "y[25:] = 1 #0:red, 1:blue\n",
        "\n",
        "X, y = shuffle(X,y, random_state=0)\n",
        "\n",
        "df = pd.DataFrame(X, columns=['x1', 'x2'])\n",
        "df['y'] = y\n",
        "df\n",
        "\n",
        "plt.plot(X[y==0, 0], X[y==0, 1], 'r^')\n",
        "plt.plot(X[y==1, 0], X[y==1, 1], 'bs')\n",
        "\n",
        "newb = np.random.randint(0, 200, (1,2))\n",
        "plt.plot(newb[:,0], newb[:, 1], 'g*')\n",
        "\n",
        "knn = KNeighborsClassifier()\n",
        "knn.fit(X, y)\n",
        "y_pred = knn.predict(newb)\n",
        "print(\"prediction:\", y_pred)\n",
        "plt.annotate('red' if y_pred==0 else 'blue', xy=newb[0], \\\n",
        "             xytext=(newb[0]), fontsize=20)\n",
        "plt.show()"
      ],
      "execution_count": 20,
      "outputs": [
        {
          "output_type": "stream",
          "name": "stdout",
          "text": [
            "(50, 2)\n",
            "prediction: [0.]\n"
          ]
        },
        {
          "output_type": "display_data",
          "data": {
            "text/plain": [
              "<Figure size 432x288 with 1 Axes>"
            ],
            "image/png": "[encoded data removed]"
          },
          "metadata": {
            "needs_background": "light"
          }
        }
      ]
    },
    {
      "cell_type": "markdown",
      "metadata": {
        "id": "KfJb1BzQipxp"
      },
      "source": [
        "##  `make_classification()`\n",
        "\n",
        "> 들여쓴 블록\n",
        "\n",
        "\n",
        "* make_classification() : 분류 모델에 적합한 임의의 데이터 생성 함수\n",
        "  * n_samples=100 : 표본 데이터 수(건수)\n",
        "  * n_features=20 : 독립 변수의 수(X 갯수)\n",
        "  * n_informative=2 : 독립 변수 중 종속 변수와 상관관계가 있는 성분 수\n",
        "  * n_redundant=2 : 독립 변수 중 다른 독립 변수의 선형 조합으로 나타나는 성분의 수\n",
        "  * n_repeated=0 : 독립 변수 중 단순 중복된 성분의 수\n",
        "  * n_classes=2 : 종속 변수의 클래스 수\n",
        "  * n_clusters_per_class=2: 클래스 당 클러스터의 수\n",
        "  * weights=None : 클래스 당 표본 수 비율, 예) (0.3, 0.7) \n",
        "  * flip_y=0.01 : 클래스가 임의로 교환되는 샘플의 비율, 노이즈 생성 \n",
        "  * random_state : random seed \n",
        "\n",
        "* sklean의 make_classficiation()함수로 변경해서 실습\n",
        "* `X, y = make_classification(n_samples=50, n_features=2,n_classes=2,  n_redundant=0, random_state=0)`  "
      ]
    },
    {
      "cell_type": "code",
      "metadata": {
        "colab": {
          "base_uri": "https://localhost:8080/",
          "height": 320
        },
        "id": "VBPmTmW6hSKO",
        "outputId": "6cacb9ed-7e1f-417e-e669-046884e6450b"
      },
      "source": [
        "from sklearn.datasets import make_classification\n",
        "\n",
        "#np.random.seed(0)\n",
        "X, y = make_classification(n_samples=50, n_features=2, n_classes=2, n_clusters_per_class=1, n_redundant=0)\n",
        "print(f'X.shape:{X.shape}, y.shape:{y.shape}')\n",
        "print(f'y_classes: {np.unique(y)}')\n",
        "\n",
        "plt.plot(X[y==0, 0], X[y==0, 1], 'r^')\n",
        "plt.plot(X[y==1, 0], X[y==1, 1], 'bs')\n",
        "newb = np.random.randn(1,2)\n",
        "plt.plot(newb[0,0], newb[0,1], 'g*')\n",
        "\n",
        "knn = KNeighborsClassifier()\n",
        "knn.fit(X,y)\n",
        "y_pred = knn.predict(newb)\n",
        "print(y_pred)\n",
        "plt.annotate('red' if y_pred == 0 else 'blue', xy=newb[0])\n",
        "plt.show()\n"
      ],
      "execution_count": 29,
      "outputs": [
        {
          "output_type": "stream",
          "name": "stdout",
          "text": [
            "X.shape:(50, 2), y.shape:(50,)\n",
            "y_classes: [0 1]\n",
            "[0]\n"
          ]
        },
        {
          "output_type": "display_data",
          "data": {
            "text/plain": [
              "<Figure size 432x288 with 1 Axes>"
            ],
            "image/png": "[encoded data removed]"
          },
          "metadata": {
            "needs_background": "light"
          }
        }
      ]
    },
    {
      "cell_type": "markdown",
      "metadata": {
        "id": "swsjc-BH2Z__"
      },
      "source": [
        "# Iris 품종 분류\n"
      ]
    },
    {
      "cell_type": "markdown",
      "metadata": {
        "id": "L9yUQBNR3cfk"
      },
      "source": [
        "## Iris Raw Data, CSV\n",
        "* `sns.load_dataset('iris')`\n",
        "* https://raw.githubusercontent.com/mwaskom/seaborn-data/master/iris.csv"
      ]
    },
    {
      "cell_type": "code",
      "source": [
        "file_iris = 'iris.csv'"
      ],
      "metadata": {
        "id": "_Fjubglh-1hu"
      },
      "execution_count": 30,
      "outputs": []
    },
    {
      "cell_type": "code",
      "source": [
        "# 강사가 파일을 제공한 경우 실행하지 마세요.\n",
        "import os\n",
        "url_iris = 'https://raw.githubusercontent.com/mwaskom/seaborn-data/master/iris.csv'\n",
        "if os.name =='posix':\n",
        "  !wget -O $file_iris $url_iris\n",
        "else:\n",
        "  !pip install wget\n",
        "  import wget\n",
        "  wget.download(url_iris, out=file_iris)"
      ],
      "metadata": {
        "id": "KWSY8G9-4IRd",
        "colab": {
          "base_uri": "https://localhost:8080/"
        },
        "outputId": "81c4b163-b206-443c-e4b8-8a097d23fc25"
      },
      "execution_count": 31,
      "outputs": [
        {
          "output_type": "stream",
          "name": "stdout",
          "text": [
            "--2022-09-19 02:55:02--  https://raw.githubusercontent.com/mwaskom/seaborn-data/master/iris.csv\n",
            "Resolving raw.githubusercontent.com (raw.githubusercontent.com)... 185.199.110.133, 185.199.108.133, 185.199.111.133, ...\n",
            "Connecting to raw.githubusercontent.com (raw.githubusercontent.com)|185.199.110.133|:443... connected.\n",
            "HTTP request sent, awaiting response... 200 OK\n",
            "Length: 3858 (3.8K) [text/plain]\n",
            "Saving to: ‘iris.csv’\n",
            "\n",
            "\riris.csv              0%[                    ]       0  --.-KB/s               \riris.csv            100%[===================>]   3.77K  --.-KB/s    in 0s      \n",
            "\n",
            "2022-09-19 02:55:02 (41.8 MB/s) - ‘iris.csv’ saved [3858/3858]\n",
            "\n"
          ]
        }
      ]
    },
    {
      "cell_type": "code",
      "metadata": {
        "colab": {
          "base_uri": "https://localhost:8080/",
          "height": 300
        },
        "id": "jwCSkkIy3KW2",
        "outputId": "0fbef8f6-8d65-4bae-bfba-07b80f009f64"
      },
      "source": [
        "iris = pd.read_csv(file_iris)\n",
        "iris[::20]"
      ],
      "execution_count": 32,
      "outputs": [
        {
          "output_type": "execute_result",
          "data": {
            "text/plain": [
              "     sepal_length  sepal_width  petal_length  petal_width     species\n",
              "0             5.1          3.5           1.4          0.2      setosa\n",
              "20            5.4          3.4           1.7          0.2      setosa\n",
              "40            5.0          3.5           1.3          0.3      setosa\n",
              "60            5.0          2.0           3.5          1.0  versicolor\n",
              "80            5.5          2.4           3.8          1.1  versicolor\n",
              "100           6.3          3.3           6.0          2.5   virginica\n",
              "120           6.9          3.2           5.7          2.3   virginica\n",
              "140           6.7          3.1           5.6          2.4   virginica"
            ],
            "text/html": [
              "\n",
              "  <div id=\"df-65230d42-6464-40e8-a93d-004b5bd6578d\">\n",
              "    <div class=\"colab-df-container\">\n",
              "      <div>\n",
              "<style scoped>\n",
              "    .dataframe tbody tr th:only-of-type {\n",
              "        vertical-align: middle;\n",
              "    }\n",
              "\n",
              "    .dataframe tbody tr th {\n",
              "        vertical-align: top;\n",
              "    }\n",
              "\n",
              "    .dataframe thead th {\n",
              "        text-align: right;\n",
              "    }\n",
              "</style>\n",
              "<table border=\"1\" class=\"dataframe\">\n",
              "  <thead>\n",
              "    <tr style=\"text-align: right;\">\n",
              "      <th></th>\n",
              "      <th>sepal_length</th>\n",
              "      <th>sepal_width</th>\n",
              "      <th>petal_length</th>\n",
              "      <th>petal_width</th>\n",
              "      <th>species</th>\n",
              "    </tr>\n",
              "  </thead>\n",
              "  <tbody>\n",
              "    <tr>\n",
              "      <th>0</th>\n",
              "      <td>5.1</td>\n",
              "      <td>3.5</td>\n",
              "      <td>1.4</td>\n",
              "      <td>0.2</td>\n",
              "      <td>setosa</td>\n",
              "    </tr>\n",
              "    <tr>\n",
              "      <th>20</th>\n",
              "      <td>5.4</td>\n",
              "      <td>3.4</td>\n",
              "      <td>1.7</td>\n",
              "      <td>0.2</td>\n",
              "      <td>setosa</td>\n",
              "    </tr>\n",
              "    <tr>\n",
              "      <th>40</th>\n",
              "      <td>5.0</td>\n",
              "      <td>3.5</td>\n",
              "      <td>1.3</td>\n",
              "      <td>0.3</td>\n",
              "      <td>setosa</td>\n",
              "    </tr>\n",
              "    <tr>\n",
              "      <th>60</th>\n",
              "      <td>5.0</td>\n",
              "      <td>2.0</td>\n",
              "      <td>3.5</td>\n",
              "      <td>1.0</td>\n",
              "      <td>versicolor</td>\n",
              "    </tr>\n",
              "    <tr>\n",
              "      <th>80</th>\n",
              "      <td>5.5</td>\n",
              "      <td>2.4</td>\n",
              "      <td>3.8</td>\n",
              "      <td>1.1</td>\n",
              "      <td>versicolor</td>\n",
              "    </tr>\n",
              "    <tr>\n",
              "      <th>100</th>\n",
              "      <td>6.3</td>\n",
              "      <td>3.3</td>\n",
              "      <td>6.0</td>\n",
              "      <td>2.5</td>\n",
              "      <td>virginica</td>\n",
              "    </tr>\n",
              "    <tr>\n",
              "      <th>120</th>\n",
              "      <td>6.9</td>\n",
              "      <td>3.2</td>\n",
              "      <td>5.7</td>\n",
              "      <td>2.3</td>\n",
              "      <td>virginica</td>\n",
              "    </tr>\n",
              "    <tr>\n",
              "      <th>140</th>\n",
              "      <td>6.7</td>\n",
              "      <td>3.1</td>\n",
              "      <td>5.6</td>\n",
              "      <td>2.4</td>\n",
              "      <td>virginica</td>\n",
              "    </tr>\n",
              "  </tbody>\n",
              "</table>\n",
              "</div>\n",
              "      <button class=\"colab-df-convert\" onclick=\"convertToInteractive('df-65230d42-6464-40e8-a93d-004b5bd6578d')\"\n",
              "              title=\"Convert this dataframe to an interactive table.\"\n",
              "              style=\"display:none;\">\n",
              "        \n",
              "  <svg xmlns=\"http://www.w3.org/2000/svg\" height=\"24px\"viewBox=\"0 0 24 24\"\n",
              "       width=\"24px\">\n",
              "    <path d=\"M0 0h24v24H0V0z\" fill=\"none\"/>\n",
              "    <path d=\"M18.56 5.44l.94 2.06.94-2.06 2.06-.94-2.06-.94-.94-2.06-.94 2.06-2.06.94zm-11 1L8.5 8.5l.94-2.06 2.06-.94-2.06-.94L8.5 2.5l-.94 2.06-2.06.94zm10 10l.94 2.06.94-2.06 2.06-.94-2.06-.94-.94-2.06-.94 2.06-2.06.94z\"/><path d=\"M17.41 7.96l-1.37-1.37c-.4-.4-.92-.59-1.43-.59-.52 0-1.04.2-1.43.59L10.3 9.45l-7.72 7.72c-.78.78-.78 2.05 0 2.83L4 21.41c.39.39.9.59 1.41.59.51 0 1.02-.2 1.41-.59l7.78-7.78 2.81-2.81c.8-.78.8-2.07 0-2.86zM5.41 20L4 18.59l7.72-7.72 1.47 1.35L5.41 20z\"/>\n",
              "  </svg>\n",
              "      </button>\n",
              "      \n",
              "  <style>\n",
              "    .colab-df-container {\n",
              "      display:flex;\n",
              "      flex-wrap:wrap;\n",
              "      gap: 12px;\n",
              "    }\n",
              "\n",
              "    .colab-df-convert {\n",
              "      background-color: #E8F0FE;\n",
              "      border: none;\n",
              "      border-radius: 50%;\n",
              "      cursor: pointer;\n",
              "      display: none;\n",
              "      fill: #1967D2;\n",
              "      height: 32px;\n",
              "      padding: 0 0 0 0;\n",
              "      width: 32px;\n",
              "    }\n",
              "\n",
              "    .colab-df-convert:hover {\n",
              "      background-color: #E2EBFA;\n",
              "      box-shadow: 0px 1px 2px rgba(60, 64, 67, 0.3), 0px 1px 3px 1px rgba(60, 64, 67, 0.15);\n",
              "      fill: #174EA6;\n",
              "    }\n",
              "\n",
              "    [theme=dark] .colab-df-convert {\n",
              "      background-color: #3B4455;\n",
              "      fill: #D2E3FC;\n",
              "    }\n",
              "\n",
              "    [theme=dark] .colab-df-convert:hover {\n",
              "      background-color: #434B5C;\n",
              "      box-shadow: 0px 1px 3px 1px rgba(0, 0, 0, 0.15);\n",
              "      filter: drop-shadow(0px 1px 2px rgba(0, 0, 0, 0.3));\n",
              "      fill: #FFFFFF;\n",
              "    }\n",
              "  </style>\n",
              "\n",
              "      <script>\n",
              "        const buttonEl =\n",
              "          document.querySelector('#df-65230d42-6464-40e8-a93d-004b5bd6578d button.colab-df-convert');\n",
              "        buttonEl.style.display =\n",
              "          google.colab.kernel.accessAllowed ? 'block' : 'none';\n",
              "\n",
              "        async function convertToInteractive(key) {\n",
              "          const element = document.querySelector('#df-65230d42-6464-40e8-a93d-004b5bd6578d');\n",
              "          const dataTable =\n",
              "            await google.colab.kernel.invokeFunction('convertToInteractive',\n",
              "                                                     [key], {});\n",
              "          if (!dataTable) return;\n",
              "\n",
              "          const docLinkHtml = 'Like what you see? Visit the ' +\n",
              "            '<a target=\"_blank\" href=https://colab.research.google.com/notebooks/data_table.ipynb>data table notebook</a>'\n",
              "            + ' to learn more about interactive tables.';\n",
              "          element.innerHTML = '';\n",
              "          dataTable['output_type'] = 'display_data';\n",
              "          await google.colab.output.renderOutput(dataTable, element);\n",
              "          const docLink = document.createElement('div');\n",
              "          docLink.innerHTML = docLinkHtml;\n",
              "          element.appendChild(docLink);\n",
              "        }\n",
              "      </script>\n",
              "    </div>\n",
              "  </div>\n",
              "  "
            ]
          },
          "metadata": {},
          "execution_count": 32
        }
      ]
    },
    {
      "cell_type": "code",
      "source": [
        "iris.dtypes"
      ],
      "metadata": {
        "colab": {
          "base_uri": "https://localhost:8080/"
        },
        "id": "WKQEPYYysB-f",
        "outputId": "fdb38e97-6fa8-4d0c-8ec6-3172ca780782"
      },
      "execution_count": 33,
      "outputs": [
        {
          "output_type": "execute_result",
          "data": {
            "text/plain": [
              "sepal_length    float64\n",
              "sepal_width     float64\n",
              "petal_length    float64\n",
              "petal_width     float64\n",
              "species          object\n",
              "dtype: object"
            ]
          },
          "metadata": {},
          "execution_count": 33
        }
      ]
    },
    {
      "cell_type": "markdown",
      "metadata": {
        "id": "E8Rc2KKs4O2j"
      },
      "source": [
        "# LabelEncoding\n",
        "* `sklearn.preprocessing.LabelEncoder`\n",
        "  * `fit()`\n",
        "  * `transform()`\n",
        "  * `fit_transfrom()`\n",
        "  * `inverse_transform()`\n",
        "  * `classes_`\n"
      ]
    },
    {
      "cell_type": "code",
      "metadata": {
        "colab": {
          "base_uri": "https://localhost:8080/"
        },
        "id": "luXgHylfPS-H",
        "outputId": "3556c59b-21e5-4f4c-e525-230e2a30921c"
      },
      "source": [
        "from sklearn.preprocessing import LabelEncoder\n",
        "data = ['cat', 'dog', 'cow', 'cat', 'cow', 'cow', 'dog']\n",
        "\n",
        "le = LabelEncoder()\n",
        "le.fit(data)\n",
        "print(le.classes_)\n",
        "code = le.transform(data)\n",
        "print(code)\n",
        "\n",
        "le.inverse_transform(code)"
      ],
      "execution_count": 37,
      "outputs": [
        {
          "output_type": "stream",
          "name": "stdout",
          "text": [
            "['cat' 'cow' 'dog']\n",
            "[0 2 1 0 1 1 2]\n"
          ]
        },
        {
          "output_type": "execute_result",
          "data": {
            "text/plain": [
              "array(['cat', 'dog', 'cow', 'cat', 'cow', 'cow', 'dog'], dtype='<U3')"
            ]
          },
          "metadata": {},
          "execution_count": 37
        }
      ]
    },
    {
      "cell_type": "code",
      "metadata": {
        "colab": {
          "base_uri": "https://localhost:8080/",
          "height": 319
        },
        "id": "YIlcfv198jfE",
        "outputId": "265dbe2a-126e-4695-9e39-993f76e57fa2"
      },
      "source": [
        "le = LabelEncoder()\n",
        "le.fit(iris['species'])\n",
        "print(le.classes_)\n",
        "iris['target'] = le.transform(iris['species'])\n",
        "iris[::20]"
      ],
      "execution_count": 40,
      "outputs": [
        {
          "output_type": "stream",
          "name": "stdout",
          "text": [
            "['setosa' 'versicolor' 'virginica']\n"
          ]
        },
        {
          "output_type": "execute_result",
          "data": {
            "text/plain": [
              "     sepal_length  sepal_width  petal_length  petal_width     species  target\n",
              "0             5.1          3.5           1.4          0.2      setosa       0\n",
              "20            5.4          3.4           1.7          0.2      setosa       0\n",
              "40            5.0          3.5           1.3          0.3      setosa       0\n",
              "60            5.0          2.0           3.5          1.0  versicolor       1\n",
              "80            5.5          2.4           3.8          1.1  versicolor       1\n",
              "100           6.3          3.3           6.0          2.5   virginica       2\n",
              "120           6.9          3.2           5.7          2.3   virginica       2\n",
              "140           6.7          3.1           5.6          2.4   virginica       2"
            ],
            "text/html": [
              "\n",
              "  <div id=\"df-f7ea1d1b-4f92-44a8-a5d6-0471efc057cb\">\n",
              "    <div class=\"colab-df-container\">\n",
              "      <div>\n",
              "<style scoped>\n",
              "    .dataframe tbody tr th:only-of-type {\n",
              "        vertical-align: middle;\n",
              "    }\n",
              "\n",
              "    .dataframe tbody tr th {\n",
              "        vertical-align: top;\n",
              "    }\n",
              "\n",
              "    .dataframe thead th {\n",
              "        text-align: right;\n",
              "    }\n",
              "</style>\n",
              "<table border=\"1\" class=\"dataframe\">\n",
              "  <thead>\n",
              "    <tr style=\"text-align: right;\">\n",
              "      <th></th>\n",
              "      <th>sepal_length</th>\n",
              "      <th>sepal_width</th>\n",
              "      <th>petal_length</th>\n",
              "      <th>petal_width</th>\n",
              "      <th>species</th>\n",
              "      <th>target</th>\n",
              "    </tr>\n",
              "  </thead>\n",
              "  <tbody>\n",
              "    <tr>\n",
              "      <th>0</th>\n",
              "      <td>5.1</td>\n",
              "      <td>3.5</td>\n",
              "      <td>1.4</td>\n",
              "      <td>0.2</td>\n",
              "      <td>setosa</td>\n",
              "      <td>0</td>\n",
              "    </tr>\n",
              "    <tr>\n",
              "      <th>20</th>\n",
              "      <td>5.4</td>\n",
              "      <td>3.4</td>\n",
              "      <td>1.7</td>\n",
              "      <td>0.2</td>\n",
              "      <td>setosa</td>\n",
              "      <td>0</td>\n",
              "    </tr>\n",
              "    <tr>\n",
              "      <th>40</th>\n",
              "      <td>5.0</td>\n",
              "      <td>3.5</td>\n",
              "      <td>1.3</td>\n",
              "      <td>0.3</td>\n",
              "      <td>setosa</td>\n",
              "      <td>0</td>\n",
              "    </tr>\n",
              "    <tr>\n",
              "      <th>60</th>\n",
              "      <td>5.0</td>\n",
              "      <td>2.0</td>\n",
              "      <td>3.5</td>\n",
              "      <td>1.0</td>\n",
              "      <td>versicolor</td>\n",
              "      <td>1</td>\n",
              "    </tr>\n",
              "    <tr>\n",
              "      <th>80</th>\n",
              "      <td>5.5</td>\n",
              "      <td>2.4</td>\n",
              "      <td>3.8</td>\n",
              "      <td>1.1</td>\n",
              "      <td>versicolor</td>\n",
              "      <td>1</td>\n",
              "    </tr>\n",
              "    <tr>\n",
              "      <th>100</th>\n",
              "      <td>6.3</td>\n",
              "      <td>3.3</td>\n",
              "      <td>6.0</td>\n",
              "      <td>2.5</td>\n",
              "      <td>virginica</td>\n",
              "      <td>2</td>\n",
              "    </tr>\n",
              "    <tr>\n",
              "      <th>120</th>\n",
              "      <td>6.9</td>\n",
              "      <td>3.2</td>\n",
              "      <td>5.7</td>\n",
              "      <td>2.3</td>\n",
              "      <td>virginica</td>\n",
              "      <td>2</td>\n",
              "    </tr>\n",
              "    <tr>\n",
              "      <th>140</th>\n",
              "      <td>6.7</td>\n",
              "      <td>3.1</td>\n",
              "      <td>5.6</td>\n",
              "      <td>2.4</td>\n",
              "      <td>virginica</td>\n",
              "      <td>2</td>\n",
              "    </tr>\n",
              "  </tbody>\n",
              "</table>\n",
              "</div>\n",
              "      <button class=\"colab-df-convert\" onclick=\"convertToInteractive('df-f7ea1d1b-4f92-44a8-a5d6-0471efc057cb')\"\n",
              "              title=\"Convert this dataframe to an interactive table.\"\n",
              "              style=\"display:none;\">\n",
              "        \n",
              "  <svg xmlns=\"http://www.w3.org/2000/svg\" height=\"24px\"viewBox=\"0 0 24 24\"\n",
              "       width=\"24px\">\n",
              "    <path d=\"M0 0h24v24H0V0z\" fill=\"none\"/>\n",
              "    <path d=\"M18.56 5.44l.94 2.06.94-2.06 2.06-.94-2.06-.94-.94-2.06-.94 2.06-2.06.94zm-11 1L8.5 8.5l.94-2.06 2.06-.94-2.06-.94L8.5 2.5l-.94 2.06-2.06.94zm10 10l.94 2.06.94-2.06 2.06-.94-2.06-.94-.94-2.06-.94 2.06-2.06.94z\"/><path d=\"M17.41 7.96l-1.37-1.37c-.4-.4-.92-.59-1.43-.59-.52 0-1.04.2-1.43.59L10.3 9.45l-7.72 7.72c-.78.78-.78 2.05 0 2.83L4 21.41c.39.39.9.59 1.41.59.51 0 1.02-.2 1.41-.59l7.78-7.78 2.81-2.81c.8-.78.8-2.07 0-2.86zM5.41 20L4 18.59l7.72-7.72 1.47 1.35L5.41 20z\"/>\n",
              "  </svg>\n",
              "      </button>\n",
              "      \n",
              "  <style>\n",
              "    .colab-df-container {\n",
              "      display:flex;\n",
              "      flex-wrap:wrap;\n",
              "      gap: 12px;\n",
              "    }\n",
              "\n",
              "    .colab-df-convert {\n",
              "      background-color: #E8F0FE;\n",
              "      border: none;\n",
              "      border-radius: 50%;\n",
              "      cursor: pointer;\n",
              "      display: none;\n",
              "      fill: #1967D2;\n",
              "      height: 32px;\n",
              "      padding: 0 0 0 0;\n",
              "      width: 32px;\n",
              "    }\n",
              "\n",
              "    .colab-df-convert:hover {\n",
              "      background-color: #E2EBFA;\n",
              "      box-shadow: 0px 1px 2px rgba(60, 64, 67, 0.3), 0px 1px 3px 1px rgba(60, 64, 67, 0.15);\n",
              "      fill: #174EA6;\n",
              "    }\n",
              "\n",
              "    [theme=dark] .colab-df-convert {\n",
              "      background-color: #3B4455;\n",
              "      fill: #D2E3FC;\n",
              "    }\n",
              "\n",
              "    [theme=dark] .colab-df-convert:hover {\n",
              "      background-color: #434B5C;\n",
              "      box-shadow: 0px 1px 3px 1px rgba(0, 0, 0, 0.15);\n",
              "      filter: drop-shadow(0px 1px 2px rgba(0, 0, 0, 0.3));\n",
              "      fill: #FFFFFF;\n",
              "    }\n",
              "  </style>\n",
              "\n",
              "      <script>\n",
              "        const buttonEl =\n",
              "          document.querySelector('#df-f7ea1d1b-4f92-44a8-a5d6-0471efc057cb button.colab-df-convert');\n",
              "        buttonEl.style.display =\n",
              "          google.colab.kernel.accessAllowed ? 'block' : 'none';\n",
              "\n",
              "        async function convertToInteractive(key) {\n",
              "          const element = document.querySelector('#df-f7ea1d1b-4f92-44a8-a5d6-0471efc057cb');\n",
              "          const dataTable =\n",
              "            await google.colab.kernel.invokeFunction('convertToInteractive',\n",
              "                                                     [key], {});\n",
              "          if (!dataTable) return;\n",
              "\n",
              "          const docLinkHtml = 'Like what you see? Visit the ' +\n",
              "            '<a target=\"_blank\" href=https://colab.research.google.com/notebooks/data_table.ipynb>data table notebook</a>'\n",
              "            + ' to learn more about interactive tables.';\n",
              "          element.innerHTML = '';\n",
              "          dataTable['output_type'] = 'display_data';\n",
              "          await google.colab.output.renderOutput(dataTable, element);\n",
              "          const docLink = document.createElement('div');\n",
              "          docLink.innerHTML = docLinkHtml;\n",
              "          element.appendChild(docLink);\n",
              "        }\n",
              "      </script>\n",
              "    </div>\n",
              "  </div>\n",
              "  "
            ]
          },
          "metadata": {},
          "execution_count": 40
        }
      ]
    },
    {
      "cell_type": "markdown",
      "metadata": {
        "id": "y8KXhpWRK4Qb"
      },
      "source": [
        "# 데이타 분할\n",
        "* `X_train, X_test, y_train, y_test = sklearn.model_selection.train_test_split(X, y)`"
      ]
    },
    {
      "cell_type": "code",
      "metadata": {
        "id": "iMICB9hyK4Qc",
        "colab": {
          "base_uri": "https://localhost:8080/"
        },
        "outputId": "aaae1e97-384a-4d95-ed08-49cd1447ce9a"
      },
      "source": [
        "from sklearn.model_selection import  train_test_split\n",
        "\n",
        "X = np.arange(10)\n",
        "y = X * X\n",
        "print('X:', X, 'y:', y)\n",
        "\n",
        "X_train, X_test, y_train, y_test = train_test_split(X, y, test_size=4, shuffle=False)\n",
        "\n",
        "print('X_train: ', X_train)\n",
        "print('X_test: ', X_test)\n",
        "print('y_train: ', y_train)\n",
        "print('y_test: ', y_test)"
      ],
      "execution_count": 44,
      "outputs": [
        {
          "output_type": "stream",
          "name": "stdout",
          "text": [
            "X: [0 1 2 3 4 5 6 7 8 9] y: [ 0  1  4  9 16 25 36 49 64 81]\n",
            "X_train:  [4 3 6 8 7 9]\n",
            "X_test:  [0 1 2 5]\n",
            "y_train:  [16  9 36 64 49 81]\n",
            "y_test:  [ 0  1  4 25]\n"
          ]
        }
      ]
    },
    {
      "cell_type": "markdown",
      "metadata": {
        "id": "SOTlGvOH9s_C"
      },
      "source": [
        "## Iris Raw Data 분류"
      ]
    },
    {
      "cell_type": "code",
      "metadata": {
        "colab": {
          "base_uri": "https://localhost:8080/"
        },
        "id": "5KIo_oJF59mO",
        "outputId": "c7a40b2d-ab25-48ac-b69b-5d7a2a98e527"
      },
      "source": [
        "from sklearn.model_selection import  train_test_split\n",
        "\n",
        "feature_names = ['sepal_length','sepal_width','petal_length','petal_width']\n",
        "X_train, X_test, y_train, y_test = train_test_split(iris[feature_names], iris['target'], random_state=0)\n",
        "print(X_train.shape, X_test.shape, y_train.shape, y_test.shape)\n",
        "\n",
        "knn = KNeighborsClassifier()\n",
        "knn.fit(X_train, y_train)\n",
        "y_pred = knn.predict(X_test)\n",
        "\n",
        "print(y_test.values, y_pred)\n",
        "print(np.sum(y_test.values == y_pred)/y_test.shape[0])\n",
        "np.mean(y_test == y_pred)"
      ],
      "execution_count": 59,
      "outputs": [
        {
          "output_type": "stream",
          "name": "stdout",
          "text": [
            "(112, 4) (38, 4) (112,) (38,)\n",
            "[2 1 0 2 0 2 0 1 1 1 2 1 1 1 1 0 1 1 0 0 2 1 0 0 2 0 0 1 1 0 2 1 0 2 2 1 0\n",
            " 1] [2 1 0 2 0 2 0 1 1 1 2 1 1 1 1 0 1 1 0 0 2 1 0 0 2 0 0 1 1 0 2 1 0 2 2 1 0\n",
            " 2]\n",
            "0.9736842105263158\n"
          ]
        },
        {
          "output_type": "execute_result",
          "data": {
            "text/plain": [
              "0.9736842105263158"
            ]
          },
          "metadata": {},
          "execution_count": 59
        }
      ]
    },
    {
      "cell_type": "markdown",
      "metadata": {
        "id": "jHirwBBDK4Pj"
      },
      "source": [
        "# scikit-learn Dataset\n",
        "* `sklearn.datasets.load_iris()`"
      ]
    },
    {
      "cell_type": "code",
      "metadata": {
        "id": "qzaAQAmmK4Pk",
        "colab": {
          "base_uri": "https://localhost:8080/"
        },
        "outputId": "2f5005a1-68c3-4442-c9e3-907ce4aaa48c"
      },
      "source": [
        "from sklearn.datasets import load_iris\n",
        "iris = load_iris()\n",
        "iris"
      ],
      "execution_count": 60,
      "outputs": [
        {
          "output_type": "execute_result",
          "data": {
            "text/plain": [
              "{'data': array([[5.1, 3.5, 1.4, 0.2],\n",
              "        [4.9, 3. , 1.4, 0.2],\n",
              "        [4.7, 3.2, 1.3, 0.2],\n",
              "        [4.6, 3.1, 1.5, 0.2],\n",
              "        [5. , 3.6, 1.4, 0.2],\n",
              "        [5.4, 3.9, 1.7, 0.4],\n",
              "        [4.6, 3.4, 1.4, 0.3],\n",
              "        [5. , 3.4, 1.5, 0.2],\n",
              "        [4.4, 2.9, 1.4, 0.2],\n",
              "        [4.9, 3.1, 1.5, 0.1],\n",
              "        [5.4, 3.7, 1.5, 0.2],\n",
              "        [4.8, 3.4, 1.6, 0.2],\n",
              "        [4.8, 3. , 1.4, 0.1],\n",
              "        [4.3, 3. , 1.1, 0.1],\n",
              "        [5.8, 4. , 1.2, 0.2],\n",
              "        [5.7, 4.4, 1.5, 0.4],\n",
              "        [5.4, 3.9, 1.3, 0.4],\n",
              "        [5.1, 3.5, 1.4, 0.3],\n",
              "        [5.7, 3.8, 1.7, 0.3],\n",
              "        [5.1, 3.8, 1.5, 0.3],\n",
              "        [5.4, 3.4, 1.7, 0.2],\n",
              "        [5.1, 3.7, 1.5, 0.4],\n",
              "        [4.6, 3.6, 1. , 0.2],\n",
              "        [5.1, 3.3, 1.7, 0.5],\n",
              "        [4.8, 3.4, 1.9, 0.2],\n",
              "        [5. , 3. , 1.6, 0.2],\n",
              "        [5. , 3.4, 1.6, 0.4],\n",
              "        [5.2, 3.5, 1.5, 0.2],\n",
              "        [5.2, 3.4, 1.4, 0.2],\n",
              "        [4.7, 3.2, 1.6, 0.2],\n",
              "        [4.8, 3.1, 1.6, 0.2],\n",
              "        [5.4, 3.4, 1.5, 0.4],\n",
              "        [5.2, 4.1, 1.5, 0.1],\n",
              "        [5.5, 4.2, 1.4, 0.2],\n",
              "        [4.9, 3.1, 1.5, 0.2],\n",
              "        [5. , 3.2, 1.2, 0.2],\n",
              "        [5.5, 3.5, 1.3, 0.2],\n",
              "        [4.9, 3.6, 1.4, 0.1],\n",
              "        [4.4, 3. , 1.3, 0.2],\n",
              "        [5.1, 3.4, 1.5, 0.2],\n",
              "        [5. , 3.5, 1.3, 0.3],\n",
              "        [4.5, 2.3, 1.3, 0.3],\n",
              "        [4.4, 3.2, 1.3, 0.2],\n",
              "        [5. , 3.5, 1.6, 0.6],\n",
              "        [5.1, 3.8, 1.9, 0.4],\n",
              "        [4.8, 3. , 1.4, 0.3],\n",
              "        [5.1, 3.8, 1.6, 0.2],\n",
              "        [4.6, 3.2, 1.4, 0.2],\n",
              "        [5.3, 3.7, 1.5, 0.2],\n",
              "        [5. , 3.3, 1.4, 0.2],\n",
              "        [7. , 3.2, 4.7, 1.4],\n",
              "        [6.4, 3.2, 4.5, 1.5],\n",
              "        [6.9, 3.1, 4.9, 1.5],\n",
              "        [5.5, 2.3, 4. , 1.3],\n",
              "        [6.5, 2.8, 4.6, 1.5],\n",
              "        [5.7, 2.8, 4.5, 1.3],\n",
              "        [6.3, 3.3, 4.7, 1.6],\n",
              "        [4.9, 2.4, 3.3, 1. ],\n",
              "        [6.6, 2.9, 4.6, 1.3],\n",
              "        [5.2, 2.7, 3.9, 1.4],\n",
              "        [5. , 2. , 3.5, 1. ],\n",
              "        [5.9, 3. , 4.2, 1.5],\n",
              "        [6. , 2.2, 4. , 1. ],\n",
              "        [6.1, 2.9, 4.7, 1.4],\n",
              "        [5.6, 2.9, 3.6, 1.3],\n",
              "        [6.7, 3.1, 4.4, 1.4],\n",
              "        [5.6, 3. , 4.5, 1.5],\n",
              "        [5.8, 2.7, 4.1, 1. ],\n",
              "        [6.2, 2.2, 4.5, 1.5],\n",
              "        [5.6, 2.5, 3.9, 1.1],\n",
              "        [5.9, 3.2, 4.8, 1.8],\n",
              "        [6.1, 2.8, 4. , 1.3],\n",
              "        [6.3, 2.5, 4.9, 1.5],\n",
              "        [6.1, 2.8, 4.7, 1.2],\n",
              "        [6.4, 2.9, 4.3, 1.3],\n",
              "        [6.6, 3. , 4.4, 1.4],\n",
              "        [6.8, 2.8, 4.8, 1.4],\n",
              "        [6.7, 3. , 5. , 1.7],\n",
              "        [6. , 2.9, 4.5, 1.5],\n",
              "        [5.7, 2.6, 3.5, 1. ],\n",
              "        [5.5, 2.4, 3.8, 1.1],\n",
              "        [5.5, 2.4, 3.7, 1. ],\n",
              "        [5.8, 2.7, 3.9, 1.2],\n",
              "        [6. , 2.7, 5.1, 1.6],\n",
              "        [5.4, 3. , 4.5, 1.5],\n",
              "        [6. , 3.4, 4.5, 1.6],\n",
              "        [6.7, 3.1, 4.7, 1.5],\n",
              "        [6.3, 2.3, 4.4, 1.3],\n",
              "        [5.6, 3. , 4.1, 1.3],\n",
              "        [5.5, 2.5, 4. , 1.3],\n",
              "        [5.5, 2.6, 4.4, 1.2],\n",
              "        [6.1, 3. , 4.6, 1.4],\n",
              "        [5.8, 2.6, 4. , 1.2],\n",
              "        [5. , 2.3, 3.3, 1. ],\n",
              "        [5.6, 2.7, 4.2, 1.3],\n",
              "        [5.7, 3. , 4.2, 1.2],\n",
              "        [5.7, 2.9, 4.2, 1.3],\n",
              "        [6.2, 2.9, 4.3, 1.3],\n",
              "        [5.1, 2.5, 3. , 1.1],\n",
              "        [5.7, 2.8, 4.1, 1.3],\n",
              "        [6.3, 3.3, 6. , 2.5],\n",
              "        [5.8, 2.7, 5.1, 1.9],\n",
              "        [7.1, 3. , 5.9, 2.1],\n",
              "        [6.3, 2.9, 5.6, 1.8],\n",
              "        [6.5, 3. , 5.8, 2.2],\n",
              "        [7.6, 3. , 6.6, 2.1],\n",
              "        [4.9, 2.5, 4.5, 1.7],\n",
              "        [7.3, 2.9, 6.3, 1.8],\n",
              "        [6.7, 2.5, 5.8, 1.8],\n",
              "        [7.2, 3.6, 6.1, 2.5],\n",
              "        [6.5, 3.2, 5.1, 2. ],\n",
              "        [6.4, 2.7, 5.3, 1.9],\n",
              "        [6.8, 3. , 5.5, 2.1],\n",
              "        [5.7, 2.5, 5. , 2. ],\n",
              "        [5.8, 2.8, 5.1, 2.4],\n",
              "        [6.4, 3.2, 5.3, 2.3],\n",
              "        [6.5, 3. , 5.5, 1.8],\n",
              "        [7.7, 3.8, 6.7, 2.2],\n",
              "        [7.7, 2.6, 6.9, 2.3],\n",
              "        [6. , 2.2, 5. , 1.5],\n",
              "        [6.9, 3.2, 5.7, 2.3],\n",
              "        [5.6, 2.8, 4.9, 2. ],\n",
              "        [7.7, 2.8, 6.7, 2. ],\n",
              "        [6.3, 2.7, 4.9, 1.8],\n",
              "        [6.7, 3.3, 5.7, 2.1],\n",
              "        [7.2, 3.2, 6. , 1.8],\n",
              "        [6.2, 2.8, 4.8, 1.8],\n",
              "        [6.1, 3. , 4.9, 1.8],\n",
              "        [6.4, 2.8, 5.6, 2.1],\n",
              "        [7.2, 3. , 5.8, 1.6],\n",
              "        [7.4, 2.8, 6.1, 1.9],\n",
              "        [7.9, 3.8, 6.4, 2. ],\n",
              "        [6.4, 2.8, 5.6, 2.2],\n",
              "        [6.3, 2.8, 5.1, 1.5],\n",
              "        [6.1, 2.6, 5.6, 1.4],\n",
              "        [7.7, 3. , 6.1, 2.3],\n",
              "        [6.3, 3.4, 5.6, 2.4],\n",
              "        [6.4, 3.1, 5.5, 1.8],\n",
              "        [6. , 3. , 4.8, 1.8],\n",
              "        [6.9, 3.1, 5.4, 2.1],\n",
              "        [6.7, 3.1, 5.6, 2.4],\n",
              "        [6.9, 3.1, 5.1, 2.3],\n",
              "        [5.8, 2.7, 5.1, 1.9],\n",
              "        [6.8, 3.2, 5.9, 2.3],\n",
              "        [6.7, 3.3, 5.7, 2.5],\n",
              "        [6.7, 3. , 5.2, 2.3],\n",
              "        [6.3, 2.5, 5. , 1.9],\n",
              "        [6.5, 3. , 5.2, 2. ],\n",
              "        [6.2, 3.4, 5.4, 2.3],\n",
              "        [5.9, 3. , 5.1, 1.8]]),\n",
              " 'target': array([0, 0, 0, 0, 0, 0, 0, 0, 0, 0, 0, 0, 0, 0, 0, 0, 0, 0, 0, 0, 0, 0,\n",
              "        0, 0, 0, 0, 0, 0, 0, 0, 0, 0, 0, 0, 0, 0, 0, 0, 0, 0, 0, 0, 0, 0,\n",
              "        0, 0, 0, 0, 0, 0, 1, 1, 1, 1, 1, 1, 1, 1, 1, 1, 1, 1, 1, 1, 1, 1,\n",
              "        1, 1, 1, 1, 1, 1, 1, 1, 1, 1, 1, 1, 1, 1, 1, 1, 1, 1, 1, 1, 1, 1,\n",
              "        1, 1, 1, 1, 1, 1, 1, 1, 1, 1, 1, 1, 2, 2, 2, 2, 2, 2, 2, 2, 2, 2,\n",
              "        2, 2, 2, 2, 2, 2, 2, 2, 2, 2, 2, 2, 2, 2, 2, 2, 2, 2, 2, 2, 2, 2,\n",
              "        2, 2, 2, 2, 2, 2, 2, 2, 2, 2, 2, 2, 2, 2, 2, 2, 2, 2]),\n",
              " 'frame': None,\n",
              " 'target_names': array(['setosa', 'versicolor', 'virginica'], dtype='<U10'),\n",
              " 'DESCR': '.. _iris_dataset:\\n\\nIris plants dataset\\n--------------------\\n\\n**Data Set Characteristics:**\\n\\n    :Number of Instances: 150 (50 in each of three classes)\\n    :Number of Attributes: 4 numeric, predictive attributes and the class\\n    :Attribute Information:\\n        - sepal length in cm\\n        - sepal width in cm\\n        - petal length in cm\\n        - petal width in cm\\n        - class:\\n                - Iris-Setosa\\n                - Iris-Versicolour\\n                - Iris-Virginica\\n                \\n    :Summary Statistics:\\n\\n    ============== ==== ==== ======= ===== ====================\\n                    Min  Max   Mean    SD   Class Correlation\\n    ============== ==== ==== ======= ===== ====================\\n    sepal length:   4.3  7.9   5.84   0.83    0.7826\\n    sepal width:    2.0  4.4   3.05   0.43   -0.4194\\n    petal length:   1.0  6.9   3.76   1.76    0.9490  (high!)\\n    petal width:    0.1  2.5   1.20   0.76    0.9565  (high!)\\n    ============== ==== ==== ======= ===== ====================\\n\\n    :Missing Attribute Values: None\\n    :Class Distribution: 33.3% for each of 3 classes.\\n    :Creator: R.A. Fisher\\n    :Donor: Michael Marshall (MARSHALL%PLU@io.arc.nasa.gov)\\n    :Date: July, 1988\\n\\nThe famous Iris database, first used by Sir R.A. Fisher. The dataset is taken\\nfrom Fisher\\'s paper. Note that it\\'s the same as in R, but not as in the UCI\\nMachine Learning Repository, which has two wrong data points.\\n\\nThis is perhaps the best known database to be found in the\\npattern recognition literature.  Fisher\\'s paper is a classic in the field and\\nis referenced frequently to this day.  (See Duda & Hart, for example.)  The\\ndata set contains 3 classes of 50 instances each, where each class refers to a\\ntype of iris plant.  One class is linearly separable from the other 2; the\\nlatter are NOT linearly separable from each other.\\n\\n.. topic:: References\\n\\n   - Fisher, R.A. \"The use of multiple measurements in taxonomic problems\"\\n     Annual Eugenics, 7, Part II, 179-188 (1936); also in \"Contributions to\\n     Mathematical Statistics\" (John Wiley, NY, 1950).\\n   - Duda, R.O., & Hart, P.E. (1973) Pattern Classification and Scene Analysis.\\n     (Q327.D83) John Wiley & Sons.  ISBN 0-471-22361-1.  See page 218.\\n   - Dasarathy, B.V. (1980) \"Nosing Around the Neighborhood: A New System\\n     Structure and Classification Rule for Recognition in Partially Exposed\\n     Environments\".  IEEE Transactions on Pattern Analysis and Machine\\n     Intelligence, Vol. PAMI-2, No. 1, 67-71.\\n   - Gates, G.W. (1972) \"The Reduced Nearest Neighbor Rule\".  IEEE Transactions\\n     on Information Theory, May 1972, 431-433.\\n   - See also: 1988 MLC Proceedings, 54-64.  Cheeseman et al\"s AUTOCLASS II\\n     conceptual clustering system finds 3 classes in the data.\\n   - Many, many more ...',\n",
              " 'feature_names': ['sepal length (cm)',\n",
              "  'sepal width (cm)',\n",
              "  'petal length (cm)',\n",
              "  'petal width (cm)'],\n",
              " 'filename': 'iris.csv',\n",
              " 'data_module': 'sklearn.datasets.data'}"
            ]
          },
          "metadata": {},
          "execution_count": 60
        }
      ]
    },
    {
      "cell_type": "markdown",
      "metadata": {
        "id": "MmPcOUceb377"
      },
      "source": [
        "* type() "
      ]
    },
    {
      "cell_type": "code",
      "metadata": {
        "id": "N387xfTlK4Pr",
        "colab": {
          "base_uri": "https://localhost:8080/"
        },
        "outputId": "e657d0e1-5157-4f06-cb19-1e94eadc64e4"
      },
      "source": [
        "type(iris)"
      ],
      "execution_count": 61,
      "outputs": [
        {
          "output_type": "execute_result",
          "data": {
            "text/plain": [
              "sklearn.utils.Bunch"
            ]
          },
          "metadata": {},
          "execution_count": 61
        }
      ]
    },
    {
      "cell_type": "markdown",
      "metadata": {
        "id": "j3gJTo8wb5Zq"
      },
      "source": [
        "* keys()"
      ]
    },
    {
      "cell_type": "code",
      "metadata": {
        "scrolled": true,
        "id": "MrMBIWcmK4Pw",
        "colab": {
          "base_uri": "https://localhost:8080/"
        },
        "outputId": "01975797-e2a5-4f5d-fbd4-f952856353ae"
      },
      "source": [
        "iris.keys()"
      ],
      "execution_count": 64,
      "outputs": [
        {
          "output_type": "execute_result",
          "data": {
            "text/plain": [
              "dict_keys(['data', 'target', 'frame', 'target_names', 'DESCR', 'feature_names', 'filename', 'data_module'])"
            ]
          },
          "metadata": {},
          "execution_count": 64
        }
      ]
    },
    {
      "cell_type": "markdown",
      "metadata": {
        "id": "1kX7NLcXb7cZ"
      },
      "source": [
        "* DESCR"
      ]
    },
    {
      "cell_type": "code",
      "metadata": {
        "scrolled": true,
        "id": "N6VQdyuHK4P1",
        "colab": {
          "base_uri": "https://localhost:8080/"
        },
        "outputId": "4ebb3638-c3ba-48bc-8835-5898bde23d71"
      },
      "source": [
        "print(iris['DESCR'])"
      ],
      "execution_count": 65,
      "outputs": [
        {
          "output_type": "stream",
          "name": "stdout",
          "text": [
            ".. _iris_dataset:\n",
            "\n",
            "Iris plants dataset\n",
            "--------------------\n",
            "\n",
            "**Data Set Characteristics:**\n",
            "\n",
            "    :Number of Instances: 150 (50 in each of three classes)\n",
            "    :Number of Attributes: 4 numeric, predictive attributes and the class\n",
            "    :Attribute Information:\n",
            "        - sepal length in cm\n",
            "        - sepal width in cm\n",
            "        - petal length in cm\n",
            "        - petal width in cm\n",
            "        - class:\n",
            "                - Iris-Setosa\n",
            "                - Iris-Versicolour\n",
            "                - Iris-Virginica\n",
            "                \n",
            "    :Summary Statistics:\n",
            "\n",
            "    ============== ==== ==== ======= ===== ====================\n",
            "                    Min  Max   Mean    SD   Class Correlation\n",
            "    ============== ==== ==== ======= ===== ====================\n",
            "    sepal length:   4.3  7.9   5.84   0.83    0.7826\n",
            "    sepal width:    2.0  4.4   3.05   0.43   -0.4194\n",
            "    petal length:   1.0  6.9   3.76   1.76    0.9490  (high!)\n",
            "    petal width:    0.1  2.5   1.20   0.76    0.9565  (high!)\n",
            "    ============== ==== ==== ======= ===== ====================\n",
            "\n",
            "    :Missing Attribute Values: None\n",
            "    :Class Distribution: 33.3% for each of 3 classes.\n",
            "    :Creator: R.A. Fisher\n",
            "    :Donor: Michael Marshall (MARSHALL%PLU@io.arc.nasa.gov)\n",
            "    :Date: July, 1988\n",
            "\n",
            "The famous Iris database, first used by Sir R.A. Fisher. The dataset is taken\n",
            "from Fisher's paper. Note that it's the same as in R, but not as in the UCI\n",
            "Machine Learning Repository, which has two wrong data points.\n",
            "\n",
            "This is perhaps the best known database to be found in the\n",
            "pattern recognition literature.  Fisher's paper is a classic in the field and\n",
            "is referenced frequently to this day.  (See Duda & Hart, for example.)  The\n",
            "data set contains 3 classes of 50 instances each, where each class refers to a\n",
            "type of iris plant.  One class is linearly separable from the other 2; the\n",
            "latter are NOT linearly separable from each other.\n",
            "\n",
            ".. topic:: References\n",
            "\n",
            "   - Fisher, R.A. \"The use of multiple measurements in taxonomic problems\"\n",
            "     Annual Eugenics, 7, Part II, 179-188 (1936); also in \"Contributions to\n",
            "     Mathematical Statistics\" (John Wiley, NY, 1950).\n",
            "   - Duda, R.O., & Hart, P.E. (1973) Pattern Classification and Scene Analysis.\n",
            "     (Q327.D83) John Wiley & Sons.  ISBN 0-471-22361-1.  See page 218.\n",
            "   - Dasarathy, B.V. (1980) \"Nosing Around the Neighborhood: A New System\n",
            "     Structure and Classification Rule for Recognition in Partially Exposed\n",
            "     Environments\".  IEEE Transactions on Pattern Analysis and Machine\n",
            "     Intelligence, Vol. PAMI-2, No. 1, 67-71.\n",
            "   - Gates, G.W. (1972) \"The Reduced Nearest Neighbor Rule\".  IEEE Transactions\n",
            "     on Information Theory, May 1972, 431-433.\n",
            "   - See also: 1988 MLC Proceedings, 54-64.  Cheeseman et al\"s AUTOCLASS II\n",
            "     conceptual clustering system finds 3 classes in the data.\n",
            "   - Many, many more ...\n"
          ]
        }
      ]
    },
    {
      "cell_type": "markdown",
      "metadata": {
        "id": "6S80UN_xcBMa"
      },
      "source": [
        "* data"
      ]
    },
    {
      "cell_type": "code",
      "metadata": {
        "id": "4eBn7MpmK4QC",
        "colab": {
          "base_uri": "https://localhost:8080/"
        },
        "outputId": "ffe556a8-d8ff-492c-ba62-84a80eaa9fd3"
      },
      "source": [
        "iris.data[:5]"
      ],
      "execution_count": 67,
      "outputs": [
        {
          "output_type": "execute_result",
          "data": {
            "text/plain": [
              "array([[5.1, 3.5, 1.4, 0.2],\n",
              "       [4.9, 3. , 1.4, 0.2],\n",
              "       [4.7, 3.2, 1.3, 0.2],\n",
              "       [4.6, 3.1, 1.5, 0.2],\n",
              "       [5. , 3.6, 1.4, 0.2]])"
            ]
          },
          "metadata": {},
          "execution_count": 67
        }
      ]
    },
    {
      "cell_type": "markdown",
      "metadata": {
        "id": "r58VuVy1cCga"
      },
      "source": [
        "* data.shape"
      ]
    },
    {
      "cell_type": "code",
      "metadata": {
        "id": "Ca7rOHjhK4QK",
        "colab": {
          "base_uri": "https://localhost:8080/"
        },
        "outputId": "9c5a3498-df06-4a5c-8c92-41b0072816a9"
      },
      "source": [
        "iris.data.shape"
      ],
      "execution_count": 68,
      "outputs": [
        {
          "output_type": "execute_result",
          "data": {
            "text/plain": [
              "(150, 4)"
            ]
          },
          "metadata": {},
          "execution_count": 68
        }
      ]
    },
    {
      "cell_type": "markdown",
      "metadata": {
        "id": "73Vz7pxjb9WD"
      },
      "source": [
        "* feature_names"
      ]
    },
    {
      "cell_type": "code",
      "metadata": {
        "id": "5_5b1XuxK4P6",
        "colab": {
          "base_uri": "https://localhost:8080/"
        },
        "outputId": "bbd32008-3880-4293-c634-717577bc1c0a"
      },
      "source": [
        "iris.feature_names"
      ],
      "execution_count": 69,
      "outputs": [
        {
          "output_type": "execute_result",
          "data": {
            "text/plain": [
              "['sepal length (cm)',\n",
              " 'sepal width (cm)',\n",
              " 'petal length (cm)',\n",
              " 'petal width (cm)']"
            ]
          },
          "metadata": {},
          "execution_count": 69
        }
      ]
    },
    {
      "cell_type": "markdown",
      "metadata": {
        "id": "SO3o82nLcEes"
      },
      "source": [
        "* target"
      ]
    },
    {
      "cell_type": "code",
      "metadata": {
        "id": "i-TtYXgeK4QO",
        "colab": {
          "base_uri": "https://localhost:8080/"
        },
        "outputId": "0b43a3a4-2946-4ffa-d32e-9ec649c861d8"
      },
      "source": [
        "iris.target"
      ],
      "execution_count": 70,
      "outputs": [
        {
          "output_type": "execute_result",
          "data": {
            "text/plain": [
              "array([0, 0, 0, 0, 0, 0, 0, 0, 0, 0, 0, 0, 0, 0, 0, 0, 0, 0, 0, 0, 0, 0,\n",
              "       0, 0, 0, 0, 0, 0, 0, 0, 0, 0, 0, 0, 0, 0, 0, 0, 0, 0, 0, 0, 0, 0,\n",
              "       0, 0, 0, 0, 0, 0, 1, 1, 1, 1, 1, 1, 1, 1, 1, 1, 1, 1, 1, 1, 1, 1,\n",
              "       1, 1, 1, 1, 1, 1, 1, 1, 1, 1, 1, 1, 1, 1, 1, 1, 1, 1, 1, 1, 1, 1,\n",
              "       1, 1, 1, 1, 1, 1, 1, 1, 1, 1, 1, 1, 2, 2, 2, 2, 2, 2, 2, 2, 2, 2,\n",
              "       2, 2, 2, 2, 2, 2, 2, 2, 2, 2, 2, 2, 2, 2, 2, 2, 2, 2, 2, 2, 2, 2,\n",
              "       2, 2, 2, 2, 2, 2, 2, 2, 2, 2, 2, 2, 2, 2, 2, 2, 2, 2])"
            ]
          },
          "metadata": {},
          "execution_count": 70
        }
      ]
    },
    {
      "cell_type": "markdown",
      "metadata": {
        "id": "vP6SedLlcGUB"
      },
      "source": [
        "* target.shape"
      ]
    },
    {
      "cell_type": "code",
      "metadata": {
        "id": "YJlXWUlUK4QS",
        "colab": {
          "base_uri": "https://localhost:8080/"
        },
        "outputId": "257d5ef6-e8b2-4ce8-ba4b-0bfcc52a6d4c"
      },
      "source": [
        "iris.target.shape"
      ],
      "execution_count": 72,
      "outputs": [
        {
          "output_type": "execute_result",
          "data": {
            "text/plain": [
              "(150,)"
            ]
          },
          "metadata": {},
          "execution_count": 72
        }
      ]
    },
    {
      "cell_type": "markdown",
      "metadata": {
        "id": "h4IJW0w6b_Uh"
      },
      "source": [
        "* target_names"
      ]
    },
    {
      "cell_type": "code",
      "metadata": {
        "id": "xKid1HeIK4P-",
        "colab": {
          "base_uri": "https://localhost:8080/"
        },
        "outputId": "b204830e-f9f7-4d98-dd67-167f3949ca91"
      },
      "source": [
        "iris.feature_names"
      ],
      "execution_count": 74,
      "outputs": [
        {
          "output_type": "execute_result",
          "data": {
            "text/plain": [
              "['sepal length (cm)',\n",
              " 'sepal width (cm)',\n",
              " 'petal length (cm)',\n",
              " 'petal width (cm)']"
            ]
          },
          "metadata": {},
          "execution_count": 74
        }
      ]
    },
    {
      "cell_type": "markdown",
      "metadata": {
        "id": "-Vs9tlrmcJS9"
      },
      "source": [
        "* DataFrame으로 생성"
      ]
    },
    {
      "cell_type": "code",
      "metadata": {
        "id": "WrGDYvBtK4QW",
        "colab": {
          "base_uri": "https://localhost:8080/",
          "height": 300
        },
        "outputId": "18ffbb78-ca5c-420e-d46f-d822077c47ff"
      },
      "source": [
        "import pandas as pd\n",
        "\n",
        "df = pd.DataFrame(iris.data, columns=iris.feature_names)\n",
        "df['targe'] = iris.target\n",
        "df['speces'] = iris.target_names[iris.target]\n",
        "df[::20]"
      ],
      "execution_count": 79,
      "outputs": [
        {
          "output_type": "execute_result",
          "data": {
            "text/plain": [
              "     sepal length (cm)  sepal width (cm)  petal length (cm)  petal width (cm)  \\\n",
              "0                  5.1               3.5                1.4               0.2   \n",
              "20                 5.4               3.4                1.7               0.2   \n",
              "40                 5.0               3.5                1.3               0.3   \n",
              "60                 5.0               2.0                3.5               1.0   \n",
              "80                 5.5               2.4                3.8               1.1   \n",
              "100                6.3               3.3                6.0               2.5   \n",
              "120                6.9               3.2                5.7               2.3   \n",
              "140                6.7               3.1                5.6               2.4   \n",
              "\n",
              "     targe      speces  \n",
              "0        0      setosa  \n",
              "20       0      setosa  \n",
              "40       0      setosa  \n",
              "60       1  versicolor  \n",
              "80       1  versicolor  \n",
              "100      2   virginica  \n",
              "120      2   virginica  \n",
              "140      2   virginica  "
            ],
            "text/html": [
              "\n",
              "  <div id=\"df-cb515e1d-ac63-49d7-825e-caaf1033fe7c\">\n",
              "    <div class=\"colab-df-container\">\n",
              "      <div>\n",
              "<style scoped>\n",
              "    .dataframe tbody tr th:only-of-type {\n",
              "        vertical-align: middle;\n",
              "    }\n",
              "\n",
              "    .dataframe tbody tr th {\n",
              "        vertical-align: top;\n",
              "    }\n",
              "\n",
              "    .dataframe thead th {\n",
              "        text-align: right;\n",
              "    }\n",
              "</style>\n",
              "<table border=\"1\" class=\"dataframe\">\n",
              "  <thead>\n",
              "    <tr style=\"text-align: right;\">\n",
              "      <th></th>\n",
              "      <th>sepal length (cm)</th>\n",
              "      <th>sepal width (cm)</th>\n",
              "      <th>petal length (cm)</th>\n",
              "      <th>petal width (cm)</th>\n",
              "      <th>targe</th>\n",
              "      <th>speces</th>\n",
              "    </tr>\n",
              "  </thead>\n",
              "  <tbody>\n",
              "    <tr>\n",
              "      <th>0</th>\n",
              "      <td>5.1</td>\n",
              "      <td>3.5</td>\n",
              "      <td>1.4</td>\n",
              "      <td>0.2</td>\n",
              "      <td>0</td>\n",
              "      <td>setosa</td>\n",
              "    </tr>\n",
              "    <tr>\n",
              "      <th>20</th>\n",
              "      <td>5.4</td>\n",
              "      <td>3.4</td>\n",
              "      <td>1.7</td>\n",
              "      <td>0.2</td>\n",
              "      <td>0</td>\n",
              "      <td>setosa</td>\n",
              "    </tr>\n",
              "    <tr>\n",
              "      <th>40</th>\n",
              "      <td>5.0</td>\n",
              "      <td>3.5</td>\n",
              "      <td>1.3</td>\n",
              "      <td>0.3</td>\n",
              "      <td>0</td>\n",
              "      <td>setosa</td>\n",
              "    </tr>\n",
              "    <tr>\n",
              "      <th>60</th>\n",
              "      <td>5.0</td>\n",
              "      <td>2.0</td>\n",
              "      <td>3.5</td>\n",
              "      <td>1.0</td>\n",
              "      <td>1</td>\n",
              "      <td>versicolor</td>\n",
              "    </tr>\n",
              "    <tr>\n",
              "      <th>80</th>\n",
              "      <td>5.5</td>\n",
              "      <td>2.4</td>\n",
              "      <td>3.8</td>\n",
              "      <td>1.1</td>\n",
              "      <td>1</td>\n",
              "      <td>versicolor</td>\n",
              "    </tr>\n",
              "    <tr>\n",
              "      <th>100</th>\n",
              "      <td>6.3</td>\n",
              "      <td>3.3</td>\n",
              "      <td>6.0</td>\n",
              "      <td>2.5</td>\n",
              "      <td>2</td>\n",
              "      <td>virginica</td>\n",
              "    </tr>\n",
              "    <tr>\n",
              "      <th>120</th>\n",
              "      <td>6.9</td>\n",
              "      <td>3.2</td>\n",
              "      <td>5.7</td>\n",
              "      <td>2.3</td>\n",
              "      <td>2</td>\n",
              "      <td>virginica</td>\n",
              "    </tr>\n",
              "    <tr>\n",
              "      <th>140</th>\n",
              "      <td>6.7</td>\n",
              "      <td>3.1</td>\n",
              "      <td>5.6</td>\n",
              "      <td>2.4</td>\n",
              "      <td>2</td>\n",
              "      <td>virginica</td>\n",
              "    </tr>\n",
              "  </tbody>\n",
              "</table>\n",
              "</div>\n",
              "      <button class=\"colab-df-convert\" onclick=\"convertToInteractive('df-cb515e1d-ac63-49d7-825e-caaf1033fe7c')\"\n",
              "              title=\"Convert this dataframe to an interactive table.\"\n",
              "              style=\"display:none;\">\n",
              "        \n",
              "  <svg xmlns=\"http://www.w3.org/2000/svg\" height=\"24px\"viewBox=\"0 0 24 24\"\n",
              "       width=\"24px\">\n",
              "    <path d=\"M0 0h24v24H0V0z\" fill=\"none\"/>\n",
              "    <path d=\"M18.56 5.44l.94 2.06.94-2.06 2.06-.94-2.06-.94-.94-2.06-.94 2.06-2.06.94zm-11 1L8.5 8.5l.94-2.06 2.06-.94-2.06-.94L8.5 2.5l-.94 2.06-2.06.94zm10 10l.94 2.06.94-2.06 2.06-.94-2.06-.94-.94-2.06-.94 2.06-2.06.94z\"/><path d=\"M17.41 7.96l-1.37-1.37c-.4-.4-.92-.59-1.43-.59-.52 0-1.04.2-1.43.59L10.3 9.45l-7.72 7.72c-.78.78-.78 2.05 0 2.83L4 21.41c.39.39.9.59 1.41.59.51 0 1.02-.2 1.41-.59l7.78-7.78 2.81-2.81c.8-.78.8-2.07 0-2.86zM5.41 20L4 18.59l7.72-7.72 1.47 1.35L5.41 20z\"/>\n",
              "  </svg>\n",
              "      </button>\n",
              "      \n",
              "  <style>\n",
              "    .colab-df-container {\n",
              "      display:flex;\n",
              "      flex-wrap:wrap;\n",
              "      gap: 12px;\n",
              "    }\n",
              "\n",
              "    .colab-df-convert {\n",
              "      background-color: #E8F0FE;\n",
              "      border: none;\n",
              "      border-radius: 50%;\n",
              "      cursor: pointer;\n",
              "      display: none;\n",
              "      fill: #1967D2;\n",
              "      height: 32px;\n",
              "      padding: 0 0 0 0;\n",
              "      width: 32px;\n",
              "    }\n",
              "\n",
              "    .colab-df-convert:hover {\n",
              "      background-color: #E2EBFA;\n",
              "      box-shadow: 0px 1px 2px rgba(60, 64, 67, 0.3), 0px 1px 3px 1px rgba(60, 64, 67, 0.15);\n",
              "      fill: #174EA6;\n",
              "    }\n",
              "\n",
              "    [theme=dark] .colab-df-convert {\n",
              "      background-color: #3B4455;\n",
              "      fill: #D2E3FC;\n",
              "    }\n",
              "\n",
              "    [theme=dark] .colab-df-convert:hover {\n",
              "      background-color: #434B5C;\n",
              "      box-shadow: 0px 1px 3px 1px rgba(0, 0, 0, 0.15);\n",
              "      filter: drop-shadow(0px 1px 2px rgba(0, 0, 0, 0.3));\n",
              "      fill: #FFFFFF;\n",
              "    }\n",
              "  </style>\n",
              "\n",
              "      <script>\n",
              "        const buttonEl =\n",
              "          document.querySelector('#df-cb515e1d-ac63-49d7-825e-caaf1033fe7c button.colab-df-convert');\n",
              "        buttonEl.style.display =\n",
              "          google.colab.kernel.accessAllowed ? 'block' : 'none';\n",
              "\n",
              "        async function convertToInteractive(key) {\n",
              "          const element = document.querySelector('#df-cb515e1d-ac63-49d7-825e-caaf1033fe7c');\n",
              "          const dataTable =\n",
              "            await google.colab.kernel.invokeFunction('convertToInteractive',\n",
              "                                                     [key], {});\n",
              "          if (!dataTable) return;\n",
              "\n",
              "          const docLinkHtml = 'Like what you see? Visit the ' +\n",
              "            '<a target=\"_blank\" href=https://colab.research.google.com/notebooks/data_table.ipynb>data table notebook</a>'\n",
              "            + ' to learn more about interactive tables.';\n",
              "          element.innerHTML = '';\n",
              "          dataTable['output_type'] = 'display_data';\n",
              "          await google.colab.output.renderOutput(dataTable, element);\n",
              "          const docLink = document.createElement('div');\n",
              "          docLink.innerHTML = docLinkHtml;\n",
              "          element.appendChild(docLink);\n",
              "        }\n",
              "      </script>\n",
              "    </div>\n",
              "  </div>\n",
              "  "
            ]
          },
          "metadata": {},
          "execution_count": 79
        }
      ]
    },
    {
      "cell_type": "markdown",
      "metadata": {
        "id": "Un8HHpIVi1Fj"
      },
      "source": [
        "## Iris KNN 품종 분류 실습"
      ]
    },
    {
      "cell_type": "markdown",
      "metadata": {
        "id": "YsGiQl3WcNr9"
      },
      "source": [
        "* iris 데이타를 knn으로 train 데이터 학습 \n",
        "* test 데이터 예측\n",
        "* test accuracy 계산"
      ]
    },
    {
      "cell_type": "code",
      "metadata": {
        "colab": {
          "base_uri": "https://localhost:8080/"
        },
        "id": "C46q-bQRjP_Z",
        "outputId": "9b3c675e-c9fd-4cae-fe89-def583c841e3"
      },
      "source": [
        "iris = load_iris()\n",
        "X_train, x_test, y_train, y_test = train_test_split(iris.data, iris.target, random_state=0)\n",
        "print(X_train.shape, X_test.shape, y_train.shape, y_test.shape)\n",
        "\n",
        "knn = KNeighborsClassifier()\n",
        "knn.fit(X_train, y_train)\n",
        "y_pred = knn.predict(X_test)\n",
        "print(f'accuracy:{np.mean(y_pred == y_test)}')                             "
      ],
      "execution_count": 85,
      "outputs": [
        {
          "output_type": "stream",
          "name": "stdout",
          "text": [
            "(112, 4) (38, 4) (112,) (38,)\n",
            "accuracy:0.9736842105263158\n"
          ]
        },
        {
          "output_type": "stream",
          "name": "stderr",
          "text": [
            "/usr/local/lib/python3.7/dist-packages/sklearn/base.py:444: UserWarning: X has feature names, but KNeighborsClassifier was fitted without feature names\n",
            "  f\"X has feature names, but {self.__class__.__name__} was fitted without\"\n"
          ]
        }
      ]
    },
    {
      "cell_type": "code",
      "metadata": {
        "colab": {
          "base_uri": "https://localhost:8080/"
        },
        "id": "gES09Pa_Tqe3",
        "outputId": "647a935c-eba7-49cb-e354-b54c45d2a340"
      },
      "source": [
        "knn.predict_proba(X_test)"
      ],
      "execution_count": null,
      "outputs": [
        {
          "output_type": "execute_result",
          "data": {
            "text/plain": [
              "array([[0. , 0. , 1. ],\n",
              "       [0. , 1. , 0. ],\n",
              "       [1. , 0. , 0. ],\n",
              "       [0. , 0. , 1. ],\n",
              "       [1. , 0. , 0. ],\n",
              "       [0. , 0. , 1. ],\n",
              "       [1. , 0. , 0. ],\n",
              "       [0. , 1. , 0. ],\n",
              "       [0. , 1. , 0. ],\n",
              "       [0. , 1. , 0. ],\n",
              "       [0. , 0. , 1. ],\n",
              "       [0. , 1. , 0. ],\n",
              "       [0. , 1. , 0. ],\n",
              "       [0. , 1. , 0. ],\n",
              "       [0. , 0.6, 0.4],\n",
              "       [1. , 0. , 0. ],\n",
              "       [0. , 0.8, 0.2],\n",
              "       [0. , 1. , 0. ],\n",
              "       [1. , 0. , 0. ],\n",
              "       [1. , 0. , 0. ],\n",
              "       [0. , 0. , 1. ],\n",
              "       [0. , 1. , 0. ],\n",
              "       [1. , 0. , 0. ],\n",
              "       [1. , 0. , 0. ],\n",
              "       [0. , 0.2, 0.8],\n",
              "       [1. , 0. , 0. ],\n",
              "       [1. , 0. , 0. ],\n",
              "       [0. , 1. , 0. ],\n",
              "       [0. , 1. , 0. ],\n",
              "       [1. , 0. , 0. ],\n",
              "       [0. , 0. , 1. ],\n",
              "       [0. , 1. , 0. ],\n",
              "       [1. , 0. , 0. ],\n",
              "       [0. , 0.2, 0.8],\n",
              "       [0. , 0. , 1. ],\n",
              "       [0. , 1. , 0. ],\n",
              "       [1. , 0. , 0. ],\n",
              "       [0. , 0. , 1. ]])"
            ]
          },
          "metadata": {},
          "execution_count": 27
        }
      ]
    },
    {
      "cell_type": "markdown",
      "metadata": {
        "id": "a65jby_zR1hZ"
      },
      "source": [
        "# 분류 평가 지표"
      ]
    },
    {
      "cell_type": "markdown",
      "metadata": {
        "id": "Yya4yIi1Ux1U"
      },
      "source": [
        "### 정확도(Accuracy)"
      ]
    },
    {
      "cell_type": "code",
      "metadata": {
        "colab": {
          "base_uri": "https://localhost:8080/"
        },
        "id": "4UOgYOeDtDTp",
        "outputId": "a379c4a4-78c0-46b9-f119-d6076e1f9e30"
      },
      "source": [
        "np.sum(y_pred==y_test)/y_test.shape[0], knn.score(X_test, y_test), accuracy_score(y_test, y_pred)"
      ],
      "execution_count": 88,
      "outputs": [
        {
          "output_type": "stream",
          "name": "stderr",
          "text": [
            "/usr/local/lib/python3.7/dist-packages/sklearn/base.py:444: UserWarning: X has feature names, but KNeighborsClassifier was fitted without feature names\n",
            "  f\"X has feature names, but {self.__class__.__name__} was fitted without\"\n"
          ]
        },
        {
          "output_type": "execute_result",
          "data": {
            "text/plain": [
              "(0.9736842105263158, 0.9736842105263158, 0.9736842105263158)"
            ]
          },
          "metadata": {},
          "execution_count": 88
        }
      ]
    },
    {
      "cell_type": "code",
      "metadata": {
        "colab": {
          "base_uri": "https://localhost:8080/"
        },
        "id": "bMq9s83kSCnB",
        "outputId": "6c5b501b-0944-44df-a6e3-4ecc00feff22"
      },
      "source": [
        "from sklearn.metrics import confusion_matrix\n",
        "\n",
        "y_true = np.array([0,1,1,1,1,1,1,1,1,1])\n",
        "y_pred = np.array([1,0,1,1,1,1,1,1,1,1])\n",
        "\n",
        "print(f'accuracy: {accuracy_score(y_true, y_pred)*100:.2f}%')\n",
        "print(confusion_matrix(y_true, y_pred))"
      ],
      "execution_count": 89,
      "outputs": [
        {
          "output_type": "stream",
          "name": "stdout",
          "text": [
            "accuracy: 80.00%\n",
            "[[0 1]\n",
            " [1 8]]\n"
          ]
        }
      ]
    },
    {
      "cell_type": "code",
      "metadata": {
        "colab": {
          "base_uri": "https://localhost:8080/"
        },
        "id": "iBP_stm7g1X_",
        "outputId": "841ccd6c-22f2-4d2a-b605-3bf7accdc639"
      },
      "source": [
        "y_true = np.array([1,0,2,0,1,2,0,1,2,0,2,1])\n",
        "y_pred = np.array([1,0,2,1,2,1,0,1,2,0,1,1])\n",
        "\n",
        "print(f'accuracy: {accuracy_score(y_true, y_pred)*100:.2f}%')\n",
        "print(confusion_matrix(y_true, y_pred))"
      ],
      "execution_count": 90,
      "outputs": [
        {
          "output_type": "stream",
          "name": "stdout",
          "text": [
            "accuracy: 66.67%\n",
            "[[3 1 0]\n",
            " [0 3 1]\n",
            " [0 2 2]]\n"
          ]
        }
      ]
    },
    {
      "cell_type": "markdown",
      "metadata": {
        "id": "JVnGMz_5hdRs"
      },
      "source": [
        "### 정밀도, 재현율"
      ]
    },
    {
      "cell_type": "code",
      "metadata": {
        "colab": {
          "base_uri": "https://localhost:8080/"
        },
        "id": "alo7poGuSKER",
        "outputId": "be565759-501f-4dbf-cd54-ddb7336e95e1"
      },
      "source": [
        "from sklearn.metrics import precision_score, recall_score\n",
        "\n",
        "y_true = np.array([0,0,0,0,0,1,1,1,1,1])\n",
        "y_pred = np.array([0,0,0,0,1,0,1,1,1,1])\n",
        "\n",
        "accuracy = accuracy_score(y_true, y_pred)\n",
        "precision = precision_score(y_true, y_pred)\n",
        "recall = recall_score(y_true, y_pred)\n",
        "\n",
        "print(f'accuracy:{accuracy}, precision:{precision}, recall:{recall}')"
      ],
      "execution_count": 91,
      "outputs": [
        {
          "output_type": "stream",
          "name": "stdout",
          "text": [
            "accuracy:0.8, precision:0.8, recall:0.8\n"
          ]
        }
      ]
    },
    {
      "cell_type": "code",
      "metadata": {
        "colab": {
          "base_uri": "https://localhost:8080/"
        },
        "id": "mP787jijSNNf",
        "outputId": "862df0fb-5fdf-4d19-91a8-1612199472e3"
      },
      "source": [
        "from sklearn.metrics import f1_score, classification_report\n",
        "\n",
        "y_true =  [0,0,0,0,0,0,0,0,1,1]\n",
        "y_pred1 = [0,0,0,0,0,0,1,1,1,1] \n",
        "y_pred2 = [0,0,0,0,0,0,0,1,0,1]\n",
        "\n",
        "for y_pred in [y_pred1, y_pred2]:\n",
        "    print(confusion_matrix(y_true, y_pred))\n",
        "    accuracy = accuracy_score(y_true, y_pred)\n",
        "    precision = precision_score(y_true, y_pred)\n",
        "    recall = recall_score(y_true, y_pred)\n",
        "    f1 = f1_score(y_true, y_pred)\n",
        "    print(f'accuracy:{accuracy}, precision:{precision},\\\n",
        "                       recall:{recall}, f1: {f1}')\n",
        "    print(classification_report(y_true, y_pred))"
      ],
      "execution_count": 92,
      "outputs": [
        {
          "output_type": "stream",
          "name": "stdout",
          "text": [
            "[[6 2]\n",
            " [0 2]]\n",
            "accuracy:0.8, precision:0.5,                       recall:1.0, f1: 0.6666666666666666\n",
            "              precision    recall  f1-score   support\n",
            "\n",
            "           0       1.00      0.75      0.86         8\n",
            "           1       0.50      1.00      0.67         2\n",
            "\n",
            "    accuracy                           0.80        10\n",
            "   macro avg       0.75      0.88      0.76        10\n",
            "weighted avg       0.90      0.80      0.82        10\n",
            "\n",
            "[[7 1]\n",
            " [1 1]]\n",
            "accuracy:0.8, precision:0.5,                       recall:0.5, f1: 0.5\n",
            "              precision    recall  f1-score   support\n",
            "\n",
            "           0       0.88      0.88      0.88         8\n",
            "           1       0.50      0.50      0.50         2\n",
            "\n",
            "    accuracy                           0.80        10\n",
            "   macro avg       0.69      0.69      0.69        10\n",
            "weighted avg       0.80      0.80      0.80        10\n",
            "\n"
          ]
        }
      ]
    },
    {
      "cell_type": "markdown",
      "metadata": {
        "id": "N1vCmn9zqiGC"
      },
      "source": [
        "## ROC, AUC"
      ]
    },
    {
      "cell_type": "code",
      "metadata": {
        "colab": {
          "base_uri": "https://localhost:8080/",
          "height": 316
        },
        "id": "1GTDMiXOSdyY",
        "outputId": "e9405ef2-5555-46cb-c472-c515d90fdba4"
      },
      "source": [
        "from sklearn.metrics import roc_curve, roc_auc_score\n",
        "\n",
        "\n",
        "y_true =  [0,0,0,0,0,0,0,0,1,1]\n",
        "y_pred1 = [0,0,0,0,0,0,1,1,1,1]\n",
        "y_pred2 = [0,0,0,0,0,0,0,1,0,1]\n",
        "fpr1, tpr1, thresh1 = roc_curve(y_true, y_pred1)\n",
        "fpr2, tpr2, thresh2 = roc_curve(y_true, y_pred2)\n",
        "\n",
        "plt.plot(fpr1, tpr1, label='pred1')\n",
        "plt.plot(fpr2, tpr2, label='pred2')\n",
        "plt.plot([0,1],[0,1], 'k--', label='random')\n",
        "plt.legend()\n",
        "plt.xlabel('fpr')\n",
        "plt.ylabel('tpr')\n",
        "\n",
        "auc1 = roc_auc_score(y_true, y_pred1)\n",
        "auc2 = roc_auc_score(y_true, y_pred2)\n",
        "print('auc1', auc1, 'auc2', auc2)\n",
        "print(thresh1, thresh2)"
      ],
      "execution_count": 96,
      "outputs": [
        {
          "output_type": "stream",
          "name": "stdout",
          "text": [
            "auc1 0.875 auc2 0.6875\n",
            "[2 1 0] [2 1 0]\n"
          ]
        },
        {
          "output_type": "display_data",
          "data": {
            "text/plain": [
              "<Figure size 432x288 with 1 Axes>"
            ],
            "image/png": "[encoded data removed]"
          },
          "metadata": {
            "needs_background": "light"
          }
        }
      ]
    },
    {
      "cell_type": "markdown",
      "metadata": {
        "id": "pl_rc5IeiQkx"
      },
      "source": [
        "### 유방암 데이터로 ROC 실습\n",
        "* `load_breast_cancer()`\n"
      ]
    },
    {
      "cell_type": "code",
      "source": [
        "cancer = load_breast_cancer()\n",
        "print(cancer.keys())\n",
        "\n",
        "df = pd.DataFrame(data = cancer.data, columns = cancer.feature_names)\n",
        "df['target'] = cancer.target\n",
        "df['class'] = cancer.target_names[cancer.target]"
      ],
      "metadata": {
        "colab": {
          "base_uri": "https://localhost:8080/"
        },
        "id": "gVcw6ZWFUKYK",
        "outputId": "ae44423f-f5c0-44df-bb59-bb267abbdac3"
      },
      "execution_count": 100,
      "outputs": [
        {
          "output_type": "stream",
          "name": "stdout",
          "text": [
            "dict_keys(['data', 'target', 'frame', 'target_names', 'DESCR', 'feature_names', 'filename', 'data_module'])\n"
          ]
        }
      ]
    },
    {
      "cell_type": "code",
      "source": [
        "df['class'].value_counts()"
      ],
      "metadata": {
        "colab": {
          "base_uri": "https://localhost:8080/"
        },
        "id": "2LBCl1zCYYDJ",
        "outputId": "8c31d421-73f1-4e6e-db01-c7cf636d86e3"
      },
      "execution_count": 101,
      "outputs": [
        {
          "output_type": "execute_result",
          "data": {
            "text/plain": [
              "benign       357\n",
              "malignant    212\n",
              "Name: class, dtype: int64"
            ]
          },
          "metadata": {},
          "execution_count": 101
        }
      ]
    },
    {
      "cell_type": "code",
      "metadata": {
        "colab": {
          "base_uri": "https://localhost:8080/",
          "height": 338
        },
        "id": "5odNQ-eniPJ_",
        "outputId": "20e4defc-ba04-4f8f-cc8d-f15db5b98bfb"
      },
      "source": [
        "X_train, X_test, y_train, y_test = train_test_split(cancer.data, cancer.target, random_state=0)\n",
        "knn = KNeighborsClassifier()\n",
        "knn.fit(X_train, y_train)\n",
        "y_pred = knn.predict(X_test)\n",
        "\n",
        "acc = accuracy_score(y_test, y_pred)\n",
        "fpr, tpr, thresh = roc_curve(y_test, y_pred)\n",
        "plt.plot(fpr, tpr, marker = 'o')\n",
        "plt.plot([0,1], [0,1], 'k--')\n",
        "auc_score = roc_auc_score(y_test, y_pred)\n",
        "print('acc:', acc, 'auc:', auc_score) \n",
        "thresh, fpr, tpr"
      ],
      "execution_count": 107,
      "outputs": [
        {
          "output_type": "stream",
          "name": "stdout",
          "text": [
            "acc: 0.9370629370629371 auc: 0.9344863731656184\n"
          ]
        },
        {
          "output_type": "execute_result",
          "data": {
            "text/plain": [
              "(array([2, 1, 0]),\n",
              " array([0.       , 0.0754717, 1.       ]),\n",
              " array([0.        , 0.94444444, 1.        ]))"
            ]
          },
          "metadata": {},
          "execution_count": 107
        },
        {
          "output_type": "display_data",
          "data": {
            "text/plain": [
              "<Figure size 432x288 with 1 Axes>"
            ],
            "image/png": "[encoded data removed]"
          },
          "metadata": {
            "needs_background": "light"
          }
        }
      ]
    },
    {
      "cell_type": "markdown",
      "source": [
        "### 예측 확률로 ROC 실습\n",
        "* `knn.predict_proba(X_test)`"
      ],
      "metadata": {
        "id": "oZ4PQMT35hGS"
      }
    },
    {
      "cell_type": "code",
      "metadata": {
        "colab": {
          "base_uri": "https://localhost:8080/",
          "height": 412
        },
        "id": "5p8wtPDBpMV6",
        "outputId": "30569343-6ddc-4503-9f51-922460a1b389"
      },
      "source": [
        "y_proba = knn.predict_proba(X_test)\n",
        "print(y_proba[:5])\n",
        "print(y_test[:5]) # 0이면 0일 확률 100% 1일 확률 0%\n",
        "fpr, tpr, thresh = roc_curve(y_test, y_proba[:, 1])\n",
        "plt.plot(fpr, tpr, marker= 'o')\n",
        "plt.plot([0,1],[0,1])\n",
        "print(thresh)\n",
        "\n",
        "best_idx = np.argmax(tpr-fpr)\n",
        "best_thresh = thresh[best_idx]\n",
        "print(best_thresh)\n",
        "\n",
        "for i, t in enumerate(thresh):\n",
        "  plt.annotate(t, xy=(fpr[i], tpr[i]))"
      ],
      "execution_count": 117,
      "outputs": [
        {
          "output_type": "stream",
          "name": "stdout",
          "text": [
            "[[0.6 0.4]\n",
            " [0.  1. ]\n",
            " [0.  1. ]\n",
            " [0.6 0.4]\n",
            " [0.  1. ]]\n",
            "[0 1 1 1 1]\n",
            "[2.  1.  0.8 0.6 0.4 0.2 0. ]\n",
            "0.6\n"
          ]
        },
        {
          "output_type": "display_data",
          "data": {
            "text/plain": [
              "<Figure size 432x288 with 1 Axes>"
            ],
            "image/png": "[encoded data removed]"
          },
          "metadata": {
            "needs_background": "light"
          }
        }
      ]
    },
    {
      "cell_type": "code",
      "source": [
        "y_pred2 = np.float32(y_proba[:, 1] >= best_thresh)\n",
        "y_pred2"
      ],
      "metadata": {
        "colab": {
          "base_uri": "https://localhost:8080/"
        },
        "id": "OfmiNxBMjLLP",
        "outputId": "d662f71d-83d9-4b4b-82cd-b39cc03c837a"
      },
      "execution_count": 122,
      "outputs": [
        {
          "output_type": "execute_result",
          "data": {
            "text/plain": [
              "array([0., 1., 1., 0., 1., 1., 1., 1., 1., 1., 1., 1., 1., 0., 0., 0., 1.,\n",
              "       0., 0., 0., 0., 0., 1., 1., 0., 1., 1., 1., 1., 0., 1., 0., 1., 0.,\n",
              "       1., 0., 1., 0., 1., 0., 0., 1., 0., 1., 0., 0., 1., 1., 1., 0., 0.,\n",
              "       1., 0., 1., 1., 1., 1., 1., 1., 0., 0., 0., 1., 1., 0., 1., 0., 0.,\n",
              "       0., 1., 1., 0., 1., 1., 0., 1., 1., 1., 1., 1., 0., 0., 0., 1., 0.,\n",
              "       1., 1., 1., 0., 0., 1., 0., 1., 0., 1., 1., 0., 1., 1., 1., 1., 1.,\n",
              "       1., 1., 0., 1., 0., 1., 0., 0., 1., 0., 0., 1., 1., 1., 0., 1., 1.,\n",
              "       1., 1., 1., 1., 1., 0., 1., 1., 1., 1., 1., 0., 1., 1., 1., 1., 1.,\n",
              "       1., 0., 0., 1., 1., 1., 0.], dtype=float32)"
            ]
          },
          "metadata": {},
          "execution_count": 122
        }
      ]
    },
    {
      "cell_type": "code",
      "source": [
        "np.all(y_pred == y_pred2)"
      ],
      "metadata": {
        "colab": {
          "base_uri": "https://localhost:8080/"
        },
        "id": "olW3RlOyjp0b",
        "outputId": "cdf32cf7-5529-4ebd-8986-630df8fccd7e"
      },
      "execution_count": 124,
      "outputs": [
        {
          "output_type": "execute_result",
          "data": {
            "text/plain": [
              "True"
            ]
          },
          "metadata": {},
          "execution_count": 124
        }
      ]
    },
    {
      "cell_type": "code",
      "source": [
        "roc_auc_score(y_test, y_pred), roc_auc_score(y_test, y_pred2)"
      ],
      "metadata": {
        "colab": {
          "base_uri": "https://localhost:8080/"
        },
        "id": "qglJqgQXjx7n",
        "outputId": "2db598f7-af2d-4b27-fb2e-3a423a9eb78a"
      },
      "execution_count": 125,
      "outputs": [
        {
          "output_type": "execute_result",
          "data": {
            "text/plain": [
              "(0.9344863731656184, 0.9344863731656184)"
            ]
          },
          "metadata": {},
          "execution_count": 125
        }
      ]
    },
    {
      "cell_type": "markdown",
      "source": [
        "### Best Threshold\n",
        "```python\n",
        "best_idx = np.argmax(tpr - fpr)\n",
        "best_thresh = thresh[best_idx]\n",
        "```"
      ],
      "metadata": {
        "id": "XpT5CJAehtyc"
      }
    },
    {
      "cell_type": "code",
      "metadata": {
        "colab": {
          "base_uri": "https://localhost:8080/",
          "height": 387
        },
        "id": "jINwWCymojDg",
        "outputId": "b88fd69c-a4df-4d68-a4f2-496e85246fe4"
      },
      "source": [],
      "execution_count": null,
      "outputs": [
        {
          "output_type": "stream",
          "name": "stdout",
          "text": [
            "thresh [2.  1.  0.8 0.6 0.4 0.2 0. ]\n",
            "fpr [0.         0.05660377 0.0754717  0.0754717  0.11320755 0.32075472\n",
            " 1.        ] tpr [0.         0.83333333 0.91111111 0.94444444 0.97777778 1.\n",
            " 1.        ]\n",
            "best thresh: 0.6\n"
          ]
        },
        {
          "output_type": "display_data",
          "data": {
            "image/png": "[encoded data removed]",
            "text/plain": [
              "<Figure size 432x288 with 1 Axes>"
            ]
          },
          "metadata": {
            "needs_background": "light"
          }
        }
      ]
    },
    {
      "cell_type": "code",
      "metadata": {
        "colab": {
          "base_uri": "https://localhost:8080/"
        },
        "id": "pxgLkhbHrNRY",
        "outputId": "2db75d10-ca1b-4ca5-9d11-22b837a64e44"
      },
      "source": [],
      "execution_count": null,
      "outputs": [
        {
          "output_type": "execute_result",
          "data": {
            "text/plain": [
              "True"
            ]
          },
          "metadata": {},
          "execution_count": 112
        }
      ]
    },
    {
      "cell_type": "code",
      "metadata": {
        "colab": {
          "base_uri": "https://localhost:8080/"
        },
        "id": "XGqLxSm2NpUD",
        "outputId": "e41ee7f6-5224-414b-c8cd-57f3977640bf"
      },
      "source": [],
      "execution_count": null,
      "outputs": [
        {
          "output_type": "execute_result",
          "data": {
            "text/plain": [
              "(0.9344863731656184, 0.9344863731656184)"
            ]
          },
          "metadata": {},
          "execution_count": 115
        }
      ]
    },
    {
      "cell_type": "markdown",
      "source": [
        "### Multi-Class ROC"
      ],
      "metadata": {
        "id": "CXg02HVIsr_s"
      }
    },
    {
      "cell_type": "code",
      "source": [
        "from sklearn.metrics import auc, roc_curve\n",
        "\n",
        "iris = load_iris()\n",
        "X_train, X_test, y_train, y_test = train_test_split(iris.data,\n",
        "                                                    iris.target,\n",
        "                                                    random_state=0)\n",
        "knn = KNeighborsClassifier()\n",
        "knn.fit(X_train, y_train)\n",
        "acc = knn.score(X_test, y_test)\n",
        "print('acc:', acc)\n",
        "acc = knn.predict\n",
        "plt.xlabel('FPR');plt.ylabel('TPR')\n",
        "for i, target_name in enumerate(iris.target_names):\n",
        "  fpr, tpr, thresh = roc_curve(y_test, y_proba[:, i], pos_label=i)\n",
        "  score = auc(fpr, tpr)\n",
        "  plt.plot(fpr, tpr, marker='o', label=f'{target_name} AUC:{score:.2f}')\n",
        "_ = plt.legend()"
      ],
      "metadata": {
        "colab": {
          "base_uri": "https://localhost:8080/",
          "height": 297
        },
        "id": "cnIDXVyEsqXD",
        "outputId": "4e96ded0-ae87-4880-fd93-2aa691749a26"
      },
      "execution_count": 127,
      "outputs": [
        {
          "output_type": "stream",
          "name": "stdout",
          "text": [
            "acc: 0.9736842105263158\n"
          ]
        },
        {
          "output_type": "display_data",
          "data": {
            "text/plain": [
              "<Figure size 432x288 with 1 Axes>"
            ],
            "image/png": "[encoded data removed]"
          },
          "metadata": {
            "needs_background": "light"
          }
        }
      ]
    },
    {
      "cell_type": "markdown",
      "metadata": {
        "id": "fDXnbuCFK4Qg"
      },
      "source": [
        "# 표준화 정규화"
      ]
    },
    {
      "cell_type": "markdown",
      "metadata": {
        "id": "5zfQFzvRcdyL"
      },
      "source": [
        "## 임의의 수 표준화 실습\n",
        "* `[2,8,10]` \n",
        "* 표준화 계산\n",
        "* StandarsScaler 실습"
      ]
    },
    {
      "cell_type": "code",
      "metadata": {
        "id": "URVpnMLFK4Qg",
        "colab": {
          "base_uri": "https://localhost:8080/"
        },
        "outputId": "91e2a0a1-1d30-4d00-dce6-90caa500f0ae"
      },
      "source": [
        "arr = np.array([2,8,10], dtype=np.float32).reshape(-1,1)\n",
        "print(f'mean: {arr.mean()}, var: {arr.var()}, std : {arr.std()}')\n",
        "\n",
        "print((arr-arr.mean() / arr.std()))\n",
        "\n",
        "std_scaler = StandardScaler()\n",
        "std_scaler.fit(arr)\n",
        "print(std_scaler.mean_, std_scaler.var_)\n",
        "std_scaler.transform(arr)"
      ],
      "execution_count": 130,
      "outputs": [
        {
          "output_type": "stream",
          "name": "stdout",
          "text": [
            "mean: 6.666666507720947, var: 11.555556297302246, std : 3.399346351623535\n",
            "[[0.03883874]\n",
            " [6.038839  ]\n",
            " [8.038838  ]]\n",
            "[6.66666667] [11.55555556]\n"
          ]
        },
        {
          "output_type": "execute_result",
          "data": {
            "text/plain": [
              "array([[-1.3728129 ],\n",
              "       [ 0.39223227],\n",
              "       [ 0.9805806 ]], dtype=float32)"
            ]
          },
          "metadata": {},
          "execution_count": 130
        }
      ]
    },
    {
      "cell_type": "code",
      "source": [
        "StandardScaler().fit_transform(arr)"
      ],
      "metadata": {
        "colab": {
          "base_uri": "https://localhost:8080/"
        },
        "id": "4B1ayRZfrnsJ",
        "outputId": "45c47e56-27db-43ea-a58f-8c0e92f741d1"
      },
      "execution_count": 131,
      "outputs": [
        {
          "output_type": "execute_result",
          "data": {
            "text/plain": [
              "array([[-1.3728129 ],\n",
              "       [ 0.39223227],\n",
              "       [ 0.9805806 ]], dtype=float32)"
            ]
          },
          "metadata": {},
          "execution_count": 131
        }
      ]
    },
    {
      "cell_type": "markdown",
      "metadata": {
        "id": "PVLLkxBGchB9"
      },
      "source": [
        "## Iris 데이터 표준화 실습\n",
        "* iris 0,1 feature 표준화 및 시각화"
      ]
    },
    {
      "cell_type": "code",
      "metadata": {
        "id": "TzYBhZcVK4Qk",
        "colab": {
          "base_uri": "https://localhost:8080/",
          "height": 516
        },
        "outputId": "94249ba3-7920-40d4-c5e1-dc0b41e3a715"
      },
      "source": [
        "iris = load_iris()\n",
        "data = iris.data\n",
        "plt.plot(data[:, 0], data[:,1], '.')\n",
        "plt.show()\n",
        "\n",
        "scaled = StandardScaler().fit_transform(data)\n",
        "plt.plot(scaled[:, 0], scaled[:, 1], '.')\n",
        "plt.grid()"
      ],
      "execution_count": 136,
      "outputs": [
        {
          "output_type": "display_data",
          "data": {
            "text/plain": [
              "<Figure size 432x288 with 1 Axes>"
            ],
            "image/png": "[encoded data removed]"
          },
          "metadata": {
            "needs_background": "light"
          }
        },
        {
          "output_type": "display_data",
          "data": {
            "text/plain": [
              "<Figure size 432x288 with 1 Axes>"
            ],
            "image/png": "[encoded data removed]"
          },
          "metadata": {
            "needs_background": "light"
          }
        }
      ]
    },
    {
      "cell_type": "markdown",
      "metadata": {
        "id": "7bQqZJXpm6Jz"
      },
      "source": [
        "## 표준화의 필요성"
      ]
    },
    {
      "cell_type": "markdown",
      "metadata": {
        "id": "te1sSeTRcj_T"
      },
      "source": [
        "* `x = np.load('standard.npy')`\n",
        "* `y = np.concatenate((np.ones(35), np.zeros(14)))`"
      ]
    },
    {
      "cell_type": "code",
      "metadata": {
        "colab": {
          "base_uri": "https://localhost:8080/",
          "height": 283
        },
        "id": "v-PwjxZfm74z",
        "outputId": "98836a48-b7af-4048-b9f1-4a0c63950d58"
      },
      "source": [
        "\n",
        "x = np.array([[  25.4,  242. ],\n",
        "       [  26.3,  290. ],\n",
        "       [  26.5,  340. ],\n",
        "       [  29. ,  363. ],\n",
        "       [  29. ,  430. ],\n",
        "       [  29.7,  450. ],\n",
        "       [  29.7,  500. ],\n",
        "       [  30. ,  390. ],\n",
        "       [  30. ,  450. ],\n",
        "       [  30.7,  500. ],\n",
        "       [  31. ,  475. ],\n",
        "       [  31. ,  500. ],\n",
        "       [  31.5,  500. ],\n",
        "       [  32. ,  340. ],\n",
        "       [  32. ,  600. ],\n",
        "       [  32. ,  600. ],\n",
        "       [  33. ,  700. ],\n",
        "       [  33. ,  700. ],\n",
        "       [  33.5,  610. ],\n",
        "       [  33.5,  650. ],\n",
        "       [  34. ,  575. ],\n",
        "       [  34. ,  685. ],\n",
        "       [  34.5,  620. ],\n",
        "       [  35. ,  680. ],\n",
        "       [  35. ,  700. ],\n",
        "       [  35. ,  725. ],\n",
        "       [  35. ,  720. ],\n",
        "       [  36. ,  714. ],\n",
        "       [  36. ,  850. ],\n",
        "       [  37. , 1000. ],\n",
        "       [  38.5,  920. ],\n",
        "       [  38.5,  955. ],\n",
        "       [  39.5,  925. ],\n",
        "       [  41. ,  975. ],\n",
        "       [  41. ,  950. ],\n",
        "       [   9.8,    6.7],\n",
        "       [  10.5,    7.5],\n",
        "       [  10.6,    7. ],\n",
        "       [  11. ,    9.7],\n",
        "       [  11.2,    9.8],\n",
        "       [  11.3,    8.7],\n",
        "       [  11.8,   10. ],\n",
        "       [  11.8,    9.9],\n",
        "       [  12. ,    9.8],\n",
        "       [  12.2,   12.2],\n",
        "       [  12.4,   13.4],\n",
        "       [  13. ,   12.2],\n",
        "       [  14.3,   19.7],\n",
        "       [  15. ,   19.9]])\n",
        "       \n",
        "y = np.concatenate((np.ones(35), np.zeros(14)))\n",
        "newb = np.array([[25, 150]])\n",
        " \n",
        "sns.scatterplot(x=x[:, 0], y=x[:, 1], hue=y)\n",
        "plt.plot(newb[0,0], newb[0,1], 'g*')"
      ],
      "execution_count": 137,
      "outputs": [
        {
          "output_type": "execute_result",
          "data": {
            "text/plain": [
              "[<matplotlib.lines.Line2D at 0x7f14038cfd50>]"
            ]
          },
          "metadata": {},
          "execution_count": 137
        },
        {
          "output_type": "display_data",
          "data": {
            "text/plain": [
              "<Figure size 432x288 with 1 Axes>"
            ],
            "image/png": "[encoded data removed]"
          },
          "metadata": {
            "needs_background": "light"
          }
        }
      ]
    },
    {
      "cell_type": "code",
      "metadata": {
        "colab": {
          "base_uri": "https://localhost:8080/"
        },
        "id": "Vpqf2Oa_nGwr",
        "outputId": "d873fb9f-8916-41e2-fecb-ced58e7e49ba"
      },
      "source": [
        "knn = KNeighborsClassifier()\n",
        "knn.fit(x, y)\n",
        "knn.score(x, y)\n",
        "\n",
        "knn.predict(newb)"
      ],
      "execution_count": 138,
      "outputs": [
        {
          "output_type": "execute_result",
          "data": {
            "text/plain": [
              "array([0.])"
            ]
          },
          "metadata": {},
          "execution_count": 138
        }
      ]
    },
    {
      "cell_type": "code",
      "metadata": {
        "colab": {
          "base_uri": "https://localhost:8080/"
        },
        "id": "syaEkJiqnKCM",
        "outputId": "4cf8794e-47af-44b9-c56b-d61238b7599e"
      },
      "source": [
        "dist, idx = knn.kneighbors(newb)\n",
        "dist, idx"
      ],
      "execution_count": 139,
      "outputs": [
        {
          "output_type": "execute_result",
          "data": {
            "text/plain": [
              "(array([[ 92.00086956, 130.48375378, 130.73859415, 137.17988191,\n",
              "         138.32150953]]), array([[ 0, 48, 47, 45, 46]]))"
            ]
          },
          "metadata": {},
          "execution_count": 139
        }
      ]
    },
    {
      "cell_type": "code",
      "metadata": {
        "colab": {
          "base_uri": "https://localhost:8080/",
          "height": 265
        },
        "id": "8AAXwMrPnLkP",
        "outputId": "1365b4d7-ab6a-4954-c4fc-eb247868a5ad"
      },
      "source": [
        "sns.scatterplot(x=x[:, 0], y=x[:, 1], hue=y)\n",
        "plt.plot(newb[0,0], newb[0,1], 'g*')\n",
        "_ = plt.plot(x[idx,0], x[idx,1], 'go')"
      ],
      "execution_count": 140,
      "outputs": [
        {
          "output_type": "display_data",
          "data": {
            "text/plain": [
              "<Figure size 432x288 with 1 Axes>"
            ],
            "image/png": "[encoded data removed]"
          },
          "metadata": {
            "needs_background": "light"
          }
        }
      ]
    },
    {
      "cell_type": "code",
      "metadata": {
        "colab": {
          "base_uri": "https://localhost:8080/",
          "height": 283
        },
        "id": "f2w66luWnNpD",
        "outputId": "06ee53e5-a155-4b09-946f-cf9b7e4263ce"
      },
      "source": [
        "from sklearn.preprocessing import StandardScaler\n",
        "\n",
        "std = StandardScaler()\n",
        "std.fit(x)\n",
        "x_t = std.transform(x)\n",
        "\n",
        "sns.scatterplot(x=x_t[:, 0], y=x_t[:, 1], hue=y)\n",
        "newb_t = std.transform(newb)\n",
        "plt.plot(newb_t[0,0], newb_t[0,1], 'g*')"
      ],
      "execution_count": 141,
      "outputs": [
        {
          "output_type": "execute_result",
          "data": {
            "text/plain": [
              "[<matplotlib.lines.Line2D at 0x7f14037e1950>]"
            ]
          },
          "metadata": {},
          "execution_count": 141
        },
        {
          "output_type": "display_data",
          "data": {
            "text/plain": [
              "<Figure size 432x288 with 1 Axes>"
            ],
            "image/png": "[encoded data removed]"
          },
          "metadata": {
            "needs_background": "light"
          }
        }
      ]
    },
    {
      "cell_type": "code",
      "metadata": {
        "colab": {
          "base_uri": "https://localhost:8080/"
        },
        "id": "5JwLgGqgnP3s",
        "outputId": "8acae368-95b5-4ba8-dcb4-b6ea8a720c4c"
      },
      "source": [
        "knn2 = KNeighborsClassifier()\n",
        "knn2.fit(x_t, y)\n",
        "knn2.predict(newb_t)"
      ],
      "execution_count": 142,
      "outputs": [
        {
          "output_type": "execute_result",
          "data": {
            "text/plain": [
              "array([1.])"
            ]
          },
          "metadata": {},
          "execution_count": 142
        }
      ]
    },
    {
      "cell_type": "markdown",
      "metadata": {
        "id": "lP4Wx8jKK4Qo"
      },
      "source": [
        "## MinMaxScaler"
      ]
    },
    {
      "cell_type": "markdown",
      "metadata": {
        "id": "1R8MjxT9cmip"
      },
      "source": [
        "* `[2,8,10]` \n",
        "* min max 정규화 계산\n",
        "* MinMaxScaler 사용"
      ]
    },
    {
      "cell_type": "code",
      "metadata": {
        "id": "Bje2_qYXK4Qp",
        "colab": {
          "base_uri": "https://localhost:8080/"
        },
        "outputId": "7be03f4a-00f2-4388-c29a-bea4c066b989"
      },
      "source": [
        "from sklearn.preprocessing import MinMaxScaler\n",
        "\n",
        "arr = np.array([2,8,10], dtype=np.float32).reshape(-1,1)\n",
        "print(f\"before:{arr}\")\n",
        "\n",
        "(arr - np.min(arr))/ (np.max(arr) - np.min(arr))\n",
        "\n",
        "mm_scaler = MinMaxScaler()\n",
        "mm_scaler.fit(arr)\n",
        "mm_scaler.data_max_, mm_scaler.data_min_\n",
        "print(mm_scaler.transform(arr))\n"
      ],
      "execution_count": 149,
      "outputs": [
        {
          "output_type": "stream",
          "name": "stdout",
          "text": [
            "before:[[ 2.]\n",
            " [ 8.]\n",
            " [10.]]\n",
            "[[0.  ]\n",
            " [0.75]\n",
            " [1.  ]]\n"
          ]
        }
      ]
    },
    {
      "cell_type": "markdown",
      "metadata": {
        "id": "ZrI4BzwncqhV"
      },
      "source": [
        "* iris 0,1 feature 정규화 및 시각화"
      ]
    },
    {
      "cell_type": "code",
      "metadata": {
        "id": "r3ZgxieWK4Qu",
        "colab": {
          "base_uri": "https://localhost:8080/",
          "height": 516
        },
        "outputId": "391f3bde-5df4-4d60-db3c-4b389aaf36c4"
      },
      "source": [
        "from sklearn.preprocessing import MinMaxScaler\n",
        "\n",
        "iris = load_iris()\n",
        "data = iris.data\n",
        "plt.plot(data[:, 0], data[:, 1], '.')\n",
        "plt.grid()\n",
        "plt.show()\n",
        "\n",
        "scaled = MinMaxScaler().fit_transform(data)\n",
        "plt.plot(scaled[:, 0], scaled[:, 1], '.')\n",
        "plt.grid()\n",
        "plt.show()\n",
        "\n"
      ],
      "execution_count": 151,
      "outputs": [
        {
          "output_type": "display_data",
          "data": {
            "text/plain": [
              "<Figure size 432x288 with 1 Axes>"
            ],
            "image/png": "[encoded data removed]"
          },
          "metadata": {
            "needs_background": "light"
          }
        },
        {
          "output_type": "display_data",
          "data": {
            "text/plain": [
              "<Figure size 432x288 with 1 Axes>"
            ],
            "image/png": "[encoded data removed]"
          },
          "metadata": {
            "needs_background": "light"
          }
        }
      ]
    },
    {
      "cell_type": "markdown",
      "metadata": {
        "id": "UEtJ57GvuEpI"
      },
      "source": [
        "## Iris 표준화 후 kNN 분류 실습"
      ]
    },
    {
      "cell_type": "markdown",
      "metadata": {
        "id": "vsFU5YHWctHC"
      },
      "source": [
        "* iris 데이터 표준화 후 학습 및 평가"
      ]
    },
    {
      "cell_type": "code",
      "metadata": {
        "colab": {
          "base_uri": "https://localhost:8080/"
        },
        "id": "ukcRgJiTq5iq",
        "outputId": "e4042d41-1d90-4069-851c-919afc845d71"
      },
      "source": [
        " iris = load_iris()\n",
        " scaler = StandardScaler()\n",
        " scaler.fit(iris.data)\n",
        " scaled = scaler.transform(iris.data)\n",
        "\n",
        "X_train, X_test, y_train, y_test = train_test_split(scaled, iris.target, random_state = 0)\n",
        "knn = KNeighborsClassifier()\n",
        "knn.fit(X_train, y_train)\n",
        "acc = knn.score(X_test, y_test)\n",
        "print('acc:', acc)"
      ],
      "execution_count": 155,
      "outputs": [
        {
          "output_type": "stream",
          "name": "stdout",
          "text": [
            "acc: 0.9736842105263158\n"
          ]
        }
      ]
    },
    {
      "cell_type": "code",
      "source": [
        "X_train, X_test, y_train, y_test = train_test_split(iris.data, iris.target, random_state=0)\n",
        "\n",
        "scaler = StandardScaler()\n",
        "scaler.fit(X_train)\n",
        "scaled_train = scaler.transform(X_train)\n",
        "\n",
        "#scaler = StandardScaler() # 절대 금지\n",
        "#scaler.fit(X_test) # 절대금지\n",
        "scaled_test = scaler.transform(X_test)\n",
        "\n",
        "knn = KNeighborsClassifier()\n",
        "knn.fit(scaled_train, y_train)\n",
        "acc = knn.score(scaled_test, y_test)\n",
        "print('acc:', acc)"
      ],
      "metadata": {
        "colab": {
          "base_uri": "https://localhost:8080/"
        },
        "id": "AYgbXgy45VqX",
        "outputId": "9db4dc1f-9df1-4a13-f252-6825f4e48dd3"
      },
      "execution_count": 158,
      "outputs": [
        {
          "output_type": "stream",
          "name": "stdout",
          "text": [
            "acc: 0.9736842105263158\n"
          ]
        }
      ]
    },
    {
      "cell_type": "markdown",
      "source": [
        "## Pipeline\n",
        "* `sklearn.pipeline.Pipeline`\n"
      ],
      "metadata": {
        "id": "1_HWSRc999O3"
      }
    },
    {
      "cell_type": "code",
      "source": [
        "from sklearn.pipeline import Pipeline\n",
        "\n",
        "iris = load_iris()\n",
        "X_train, X_test, y_train, y_test = train_test_split(iris.data, iris.target, random_state=0)\n",
        "\n",
        "pipe = Pipeline([('std', StandardScaler()), ('knn', KNeighborsClassifier())])\n",
        "pipe.fit(X_train, y_train)\n",
        "pipe.predict(X_test)\n",
        "y_pred = pipe.predict(X_test)\n",
        "acc = pipe.score(X_test, y_test)\n",
        "print('acc:', acc)"
      ],
      "metadata": {
        "colab": {
          "base_uri": "https://localhost:8080/"
        },
        "id": "uHbN_30Q-H_3",
        "outputId": "c09a298f-868f-41fb-8ae4-af121ee197bf"
      },
      "execution_count": 166,
      "outputs": [
        {
          "output_type": "stream",
          "name": "stdout",
          "text": [
            "acc: 0.9736842105263158\n"
          ]
        }
      ]
    },
    {
      "cell_type": "code",
      "source": [
        "pipe.steps"
      ],
      "metadata": {
        "colab": {
          "base_uri": "https://localhost:8080/"
        },
        "id": "67BC8E1qbkZ0",
        "outputId": "d43e3d91-4970-43d6-99fd-6422b6adb866"
      },
      "execution_count": 167,
      "outputs": [
        {
          "output_type": "execute_result",
          "data": {
            "text/plain": [
              "[('std', StandardScaler()), ('knn', KNeighborsClassifier())]"
            ]
          },
          "metadata": {},
          "execution_count": 167
        }
      ]
    },
    {
      "cell_type": "code",
      "source": [
        "pipe.named_steps"
      ],
      "metadata": {
        "colab": {
          "base_uri": "https://localhost:8080/"
        },
        "id": "IcWfxJaCbnTM",
        "outputId": "37bf9413-6724-4085-beb7-44cf7223dc80"
      },
      "execution_count": 168,
      "outputs": [
        {
          "output_type": "execute_result",
          "data": {
            "text/plain": [
              "{'std': StandardScaler(), 'knn': KNeighborsClassifier()}"
            ]
          },
          "metadata": {},
          "execution_count": 168
        }
      ]
    },
    {
      "cell_type": "code",
      "source": [
        "pipe[1], pipe['knn']"
      ],
      "metadata": {
        "colab": {
          "base_uri": "https://localhost:8080/"
        },
        "id": "UD2eOjUabscr",
        "outputId": "b51d105e-b95e-45a8-a7f0-04c30f6e8005"
      },
      "execution_count": 169,
      "outputs": [
        {
          "output_type": "execute_result",
          "data": {
            "text/plain": [
              "(KNeighborsClassifier(), KNeighborsClassifier())"
            ]
          },
          "metadata": {},
          "execution_count": 169
        }
      ]
    },
    {
      "cell_type": "code",
      "source": [
        "pipe.set_params(knn__n_neighbors=1)"
      ],
      "metadata": {
        "colab": {
          "base_uri": "https://localhost:8080/"
        },
        "id": "dRWPXkq4bv60",
        "outputId": "a6409dfa-0463-4a5b-9510-56e24f36127b"
      },
      "execution_count": 170,
      "outputs": [
        {
          "output_type": "execute_result",
          "data": {
            "text/plain": [
              "Pipeline(steps=[('std', StandardScaler()),\n",
              "                ('knn', KNeighborsClassifier(n_neighbors=1))])"
            ]
          },
          "metadata": {},
          "execution_count": 170
        }
      ]
    },
    {
      "cell_type": "markdown",
      "metadata": {
        "id": "thYoaN9LuWdo"
      },
      "source": [
        "# 손글씨 숫자 분류\n",
        "* `load_digits()`"
      ]
    },
    {
      "cell_type": "code",
      "metadata": {
        "colab": {
          "base_uri": "https://localhost:8080/",
          "height": 237
        },
        "id": "7oQ34tQWuXyj",
        "outputId": "5ad21aef-5f84-48a5-8a82-39499e450c50"
      },
      "source": [],
      "execution_count": null,
      "outputs": [
        {
          "output_type": "stream",
          "name": "stdout",
          "text": [
            "shape: (1797, 64) min: 0.0 max: 16.0\n",
            "first digits : 0\n"
          ]
        },
        {
          "output_type": "display_data",
          "data": {
            "image/png": "[encoded data removed]",
            "text/plain": [
              "<Figure size 432x288 with 2 Axes>"
            ]
          },
          "metadata": {
            "needs_background": "light"
          }
        }
      ]
    },
    {
      "cell_type": "code",
      "source": [
        "print(digits.DESCR)"
      ],
      "metadata": {
        "colab": {
          "base_uri": "https://localhost:8080/"
        },
        "id": "M2EbbhOioUN1",
        "outputId": "7e17159c-8787-4d15-fe0e-be79c5f4c2b9"
      },
      "execution_count": null,
      "outputs": [
        {
          "output_type": "stream",
          "name": "stdout",
          "text": [
            ".. _digits_dataset:\n",
            "\n",
            "Optical recognition of handwritten digits dataset\n",
            "--------------------------------------------------\n",
            "\n",
            "**Data Set Characteristics:**\n",
            "\n",
            "    :Number of Instances: 1797\n",
            "    :Number of Attributes: 64\n",
            "    :Attribute Information: 8x8 image of integer pixels in the range 0..16.\n",
            "    :Missing Attribute Values: None\n",
            "    :Creator: E. Alpaydin (alpaydin '@' boun.edu.tr)\n",
            "    :Date: July; 1998\n",
            "\n",
            "This is a copy of the test set of the UCI ML hand-written digits datasets\n",
            "https://archive.ics.uci.edu/ml/datasets/Optical+Recognition+of+Handwritten+Digits\n",
            "\n",
            "The data set contains images of hand-written digits: 10 classes where\n",
            "each class refers to a digit.\n",
            "\n",
            "Preprocessing programs made available by NIST were used to extract\n",
            "normalized bitmaps of handwritten digits from a preprinted form. From a\n",
            "total of 43 people, 30 contributed to the training set and different 13\n",
            "to the test set. 32x32 bitmaps are divided into nonoverlapping blocks of\n",
            "4x4 and the number of on pixels are counted in each block. This generates\n",
            "an input matrix of 8x8 where each element is an integer in the range\n",
            "0..16. This reduces dimensionality and gives invariance to small\n",
            "distortions.\n",
            "\n",
            "For info on NIST preprocessing routines, see M. D. Garris, J. L. Blue, G.\n",
            "T. Candela, D. L. Dimmick, J. Geist, P. J. Grother, S. A. Janet, and C.\n",
            "L. Wilson, NIST Form-Based Handprint Recognition System, NISTIR 5469,\n",
            "1994.\n",
            "\n",
            ".. topic:: References\n",
            "\n",
            "  - C. Kaynak (1995) Methods of Combining Multiple Classifiers and Their\n",
            "    Applications to Handwritten Digit Recognition, MSc Thesis, Institute of\n",
            "    Graduate Studies in Science and Engineering, Bogazici University.\n",
            "  - E. Alpaydin, C. Kaynak (1998) Cascading Classifiers, Kybernetika.\n",
            "  - Ken Tang and Ponnuthurai N. Suganthan and Xi Yao and A. Kai Qin.\n",
            "    Linear dimensionalityreduction using relevance weighted LDA. School of\n",
            "    Electrical and Electronic Engineering Nanyang Technological University.\n",
            "    2005.\n",
            "  - Claudio Gentile. A New Approximate Maximal Margin Classification\n",
            "    Algorithm. NIPS. 2000.\n",
            "\n"
          ]
        }
      ]
    },
    {
      "cell_type": "markdown",
      "metadata": {
        "id": "JPJJw5uRubkC"
      },
      "source": [
        "\n",
        "* 첫 번째 숫자만 **표시**"
      ]
    },
    {
      "cell_type": "code",
      "metadata": {
        "colab": {
          "base_uri": "https://localhost:8080/",
          "height": 75
        },
        "id": "hZPA3CNnuZiv",
        "outputId": "e2b8dea2-03f0-4888-94d8-cceb0f8f058c"
      },
      "source": [],
      "execution_count": null,
      "outputs": [
        {
          "output_type": "display_data",
          "data": {
            "image/png": "[encoded data removed]",
            "text/plain": [
              "<Figure size 432x288 with 10 Axes>"
            ]
          },
          "metadata": {
            "tags": [],
            "needs_background": "light"
          }
        }
      ]
    },
    {
      "cell_type": "markdown",
      "metadata": {
        "id": "Nqkwul66uee-"
      },
      "source": [
        "* 훈련 세트와 테스트 세트 분류\n",
        "* `n_neighbors`를 1~11로 변경하면서 학습 및 평가"
      ]
    },
    {
      "cell_type": "code",
      "metadata": {
        "colab": {
          "base_uri": "https://localhost:8080/"
        },
        "id": "e8tYZRh1uc4A",
        "outputId": "dd95230f-7a84-483a-a8e6-37387f775bc7"
      },
      "source": [
        "mm = MinMaxScaler()\n",
        "X = mm.fit_transform(digits.data)\n",
        "X_train, X_test, y_train, y_test = train_test_split(X, digits.target,\n",
        "                                                    random_state=0)\n"
      ],
      "execution_count": null,
      "outputs": [
        {
          "output_type": "stream",
          "name": "stdout",
          "text": [
            "k= 1, accuracy=99.11%\n",
            "k= 2, accuracy=98.67%\n",
            "k= 3, accuracy=98.89%\n",
            "k= 4, accuracy=98.00%\n",
            "k= 5, accuracy=98.22%\n",
            "k= 6, accuracy=97.56%\n",
            "k= 7, accuracy=98.00%\n",
            "k= 8, accuracy=97.78%\n",
            "k= 9, accuracy=97.78%\n",
            "k=10, accuracy=97.78%\n"
          ]
        }
      ]
    },
    {
      "cell_type": "markdown",
      "metadata": {
        "id": "3uYuyDIdnN8z"
      },
      "source": [
        "# 교차 검증(Cross Validation)\n"
      ]
    },
    {
      "cell_type": "markdown",
      "metadata": {
        "id": "8Yn5_dbdc26J"
      },
      "source": [
        "## KFold\n",
        "* `np.arange(0.0, 1.5, 0.1)`를 `KFold(3)`으로 분할"
      ]
    },
    {
      "cell_type": "code",
      "metadata": {
        "colab": {
          "base_uri": "https://localhost:8080/"
        },
        "id": "Wbi1VugTpjGy",
        "outputId": "5a81591c-23a8-48f4-91ef-f8670666441f"
      },
      "source": [
        "from sklearn.model_selection import KFold\n",
        "\n",
        "x = np.arange(0.0, 1.5, 0.1)\n"
      ],
      "execution_count": null,
      "outputs": [
        {
          "output_type": "stream",
          "name": "stdout",
          "text": [
            "index: [ 5  6  7  8  9 10 11 12 13 14] [0 1 2 3 4]\n",
            "values: [0.5 0.6 0.7 0.8 0.9 1.  1.1 1.2 1.3 1.4] [0.  0.1 0.2 0.3 0.4]\n",
            "index: [ 0  1  2  3  4 10 11 12 13 14] [5 6 7 8 9]\n",
            "values: [0.  0.1 0.2 0.3 0.4 1.  1.1 1.2 1.3 1.4] [0.5 0.6 0.7 0.8 0.9]\n",
            "index: [0 1 2 3 4 5 6 7 8 9] [10 11 12 13 14]\n",
            "values: [0.  0.1 0.2 0.3 0.4 0.5 0.6 0.7 0.8 0.9] [1.  1.1 1.2 1.3 1.4]\n"
          ]
        }
      ]
    },
    {
      "cell_type": "markdown",
      "metadata": {
        "id": "fwgZb7Psc46t"
      },
      "source": [
        "* `np.arange(0.0, 1.5, 0.1)`를 KFold(3, shuffle=True)으로 분할\n",
        "* y는 0,1 비율이 10:5로 생성"
      ]
    },
    {
      "cell_type": "code",
      "metadata": {
        "colab": {
          "base_uri": "https://localhost:8080/"
        },
        "id": "-tBqQWSkuk51",
        "outputId": "93b6bdff-c484-48f1-b76b-5afefc499744"
      },
      "source": [
        "x = np.arange(0.0, 1.5, 0.1)\n",
        "y = np.zeros(15)\n",
        "y[10:] = 1\n"
      ],
      "execution_count": null,
      "outputs": [
        {
          "output_type": "stream",
          "name": "stdout",
          "text": [
            "[0. 0. 0. 0. 0. 1. 1. 1. 1. 1.] [0. 0. 0. 0. 0.]\n",
            "[0. 0. 0. 0. 0. 0. 0. 0. 0. 1.] [0. 1. 1. 1. 1.]\n",
            "[0. 0. 0. 0. 0. 0. 1. 1. 1. 1.] [0. 0. 0. 0. 1.]\n"
          ]
        }
      ]
    },
    {
      "cell_type": "markdown",
      "metadata": {
        "id": "1pdDlbU5dCFi"
      },
      "source": [
        "* `np.arange(0.0, 1.5, 0.1)`를 StratifiedKFold(5, shuffle=True)으로 분할\n",
        "* y는 0,1 비율이 10:5로 생성"
      ]
    },
    {
      "cell_type": "code",
      "metadata": {
        "colab": {
          "base_uri": "https://localhost:8080/"
        },
        "id": "Z9O8YsrVvY7P",
        "outputId": "77951663-af86-42c7-edd2-05757d10dd3c"
      },
      "source": [
        "from sklearn.model_selection import StratifiedKFold\n",
        " \n",
        "x = np.arange(0.0, 1.5, 0.1)\n",
        "y = np.zeros(15)\n",
        "y[10:] = 1\n",
        " \n"
      ],
      "execution_count": null,
      "outputs": [
        {
          "output_type": "stream",
          "name": "stdout",
          "text": [
            "[0. 0. 0. 0. 0. 0. 0. 0. 1. 1. 1. 1.] [0. 0. 1.]\n",
            "[0. 0. 0. 0. 0. 0. 0. 0. 1. 1. 1. 1.] [0. 0. 1.]\n",
            "[0. 0. 0. 0. 0. 0. 0. 0. 1. 1. 1. 1.] [0. 0. 1.]\n",
            "[0. 0. 0. 0. 0. 0. 0. 0. 1. 1. 1. 1.] [0. 0. 1.]\n",
            "[0. 0. 0. 0. 0. 0. 0. 0. 1. 1. 1. 1.] [0. 0. 1.]\n"
          ]
        }
      ]
    },
    {
      "cell_type": "markdown",
      "metadata": {
        "id": "nH7CptRndAwp"
      },
      "source": [
        "## 손글씨 data KFold(5)로 kNN 학습 및 평가"
      ]
    },
    {
      "cell_type": "code",
      "metadata": {
        "colab": {
          "base_uri": "https://localhost:8080/"
        },
        "id": "tlpk4tzZpMIa",
        "outputId": "1f297e2a-18a6-4cba-8f46-2bc7da977f2b"
      },
      "source": [
        "digits = load_digits()\n",
        "kfold = KFold(n_splits=5)\n",
        "\n",
        "knn = KNeighborsClassifier(n_neighbors=1)\n",
        "cv_acc = np.array([])\n",
        "\n"
      ],
      "execution_count": null,
      "outputs": [
        {
          "output_type": "stream",
          "text": [
            "acc scores:[0.96111111 0.95277778 0.96657382 0.98885794 0.95543175]\n",
            "mean acc:0.9649504797276384\n"
          ],
          "name": "stdout"
        }
      ]
    },
    {
      "cell_type": "markdown",
      "metadata": {
        "id": "LToal637riRT"
      },
      "source": [
        "\n",
        "## `cross_val_score(estimator, X, y, groups, scoring, cv)`\n",
        "* scoring : https://scikit-learn.org/stable/modules/model_evaluation.html#scoring-parameter"
      ]
    },
    {
      "cell_type": "code",
      "metadata": {
        "colab": {
          "base_uri": "https://localhost:8080/"
        },
        "id": "MWeU3pyrphsy",
        "outputId": "d43e5818-fde4-482b-bb94-395d6ac1ca5e"
      },
      "source": [
        "from sklearn.model_selection import cross_val_score, cross_validate\n",
        "\n",
        "knn = KNeighborsClassifier(n_neighbors=1)\n",
        "\n"
      ],
      "execution_count": null,
      "outputs": [
        {
          "output_type": "stream",
          "name": "stdout",
          "text": [
            "acc scores :[0.96111111 0.95277778 0.96657382 0.98607242 0.95543175]\n",
            "mean acc : 0.9643933766635715\n"
          ]
        }
      ]
    },
    {
      "cell_type": "code",
      "source": [
        "cross_validate(knn, digits.data, digits.target, cv=5)"
      ],
      "metadata": {
        "colab": {
          "base_uri": "https://localhost:8080/"
        },
        "id": "-1WdNcZF6_Q1",
        "outputId": "56e549e9-f03b-4d84-81ca-b67323dcdce4"
      },
      "execution_count": null,
      "outputs": [
        {
          "output_type": "execute_result",
          "data": {
            "text/plain": [
              "{'fit_time': array([0.00399137, 0.00141573, 0.00131369, 0.00133133, 0.00148273]),\n",
              " 'score_time': array([0.02565145, 0.02731156, 0.03026175, 0.02607179, 0.02476311]),\n",
              " 'test_score': array([0.96111111, 0.95277778, 0.96657382, 0.98607242, 0.95543175])}"
            ]
          },
          "metadata": {},
          "execution_count": 14
        }
      ]
    },
    {
      "cell_type": "code",
      "metadata": {
        "colab": {
          "base_uri": "https://localhost:8080/"
        },
        "id": "eqC0T1Q1xY_3",
        "outputId": "f81bd894-1c97-47a8-ba6f-22e3ac9fd39c"
      },
      "source": [
        "best = (0,0)\n"
      ],
      "execution_count": null,
      "outputs": [
        {
          "output_type": "stream",
          "text": [
            "k=1, mean acc:0.9643933766635715, acc scores :[0.96111111 0.95277778 0.96657382 0.98607242 0.95543175]\n",
            "k=2, mean acc:0.9671711544413494, acc scores :[0.96111111 0.96666667 0.96935933 0.97771588 0.96100279]\n",
            "k=3, mean acc:0.9660646858557721, acc scores :[0.95555556 0.95833333 0.96657382 0.98328691 0.96657382]\n",
            "k=4, mean acc:0.9638409161250386, acc scores :[0.94722222 0.95833333 0.96657382 0.98050139 0.96657382]\n",
            "k=5, mean acc:0.9627282575054161, acc scores :[0.94722222 0.95555556 0.96657382 0.98050139 0.9637883 ]\n",
            "k=6, mean acc:0.9593856391210152, acc scores :[0.94444444 0.95833333 0.96657382 0.97493036 0.95264624]\n",
            "k=7, mean acc:0.9599458372021046, acc scores :[0.93611111 0.96111111 0.96935933 0.98050139 0.95264624]\n",
            "k=8, mean acc:0.9582760755184154, acc scores :[0.93611111 0.95833333 0.96935933 0.97771588 0.94986072]\n",
            "k=9, mean acc:0.9566109563602601, acc scores :[0.93055556 0.95277778 0.97214485 0.97771588 0.94986072]\n",
            "k=10, mean acc:0.954942742185082, acc scores :[0.93055556 0.94722222 0.96935933 0.97771588 0.94986072]\n",
            "best, k:2, mean acc:0.9671711544413494\n"
          ],
          "name": "stdout"
        }
      ]
    },
    {
      "cell_type": "markdown",
      "metadata": {
        "id": "wEBWrPqEnHzF"
      },
      "source": [
        "# GridSearchCV"
      ]
    },
    {
      "cell_type": "markdown",
      "metadata": {
        "id": "Cg73ZoMXdEeo"
      },
      "source": [
        "* GridSearchCV, knn으로 최적의 n_neighbors 찾기"
      ]
    },
    {
      "cell_type": "code",
      "metadata": {
        "colab": {
          "base_uri": "https://localhost:8080/",
          "height": 619
        },
        "id": "0ESQTrdvyXAy",
        "outputId": "cf7adf6a-0330-4484-cafb-26bddb83539a"
      },
      "source": [],
      "execution_count": null,
      "outputs": [
        {
          "output_type": "display_data",
          "data": {
            "text/plain": [
              "   mean_fit_time  std_fit_time  mean_score_time  std_score_time  \\\n",
              "0       0.001696      0.000157         0.028349        0.006814   \n",
              "1       0.001614      0.000037         0.025264        0.000225   \n",
              "2       0.001652      0.000079         0.026412        0.000196   \n",
              "3       0.001625      0.000022         0.032042        0.003366   \n",
              "4       0.001623      0.000022         0.029835        0.000417   \n",
              "5       0.001635      0.000038         0.030825        0.001336   \n",
              "6       0.001636      0.000061         0.031699        0.001423   \n",
              "7       0.001696      0.000083         0.031586        0.003347   \n",
              "8       0.001644      0.000018         0.030958        0.001682   \n",
              "9       0.001634      0.000042         0.031214        0.001749   \n",
              "\n",
              "  param_n_neighbors               params  split0_test_score  \\\n",
              "0                 1   {'n_neighbors': 1}           0.961111   \n",
              "1                 2   {'n_neighbors': 2}           0.961111   \n",
              "2                 3   {'n_neighbors': 3}           0.955556   \n",
              "3                 4   {'n_neighbors': 4}           0.947222   \n",
              "4                 5   {'n_neighbors': 5}           0.947222   \n",
              "5                 6   {'n_neighbors': 6}           0.944444   \n",
              "6                 7   {'n_neighbors': 7}           0.936111   \n",
              "7                 8   {'n_neighbors': 8}           0.936111   \n",
              "8                 9   {'n_neighbors': 9}           0.930556   \n",
              "9                10  {'n_neighbors': 10}           0.930556   \n",
              "\n",
              "   split1_test_score  split2_test_score  split3_test_score  split4_test_score  \\\n",
              "0           0.952778           0.966574           0.986072           0.955432   \n",
              "1           0.966667           0.969359           0.977716           0.961003   \n",
              "2           0.958333           0.966574           0.986072           0.966574   \n",
              "3           0.958333           0.966574           0.980501           0.966574   \n",
              "4           0.955556           0.966574           0.980501           0.963788   \n",
              "5           0.958333           0.966574           0.974930           0.952646   \n",
              "6           0.961111           0.969359           0.980501           0.952646   \n",
              "7           0.958333           0.969359           0.977716           0.949861   \n",
              "8           0.952778           0.972145           0.977716           0.949861   \n",
              "9           0.947222           0.969359           0.977716           0.949861   \n",
              "\n",
              "   mean_test_score  std_test_score  rank_test_score  \n",
              "0         0.964393        0.011838                3  \n",
              "1         0.967171        0.006181                1  \n",
              "2         0.966622        0.010672                2  \n",
              "3         0.963841        0.010946                4  \n",
              "4         0.962728        0.011169                5  \n",
              "5         0.959386        0.010612                7  \n",
              "6         0.959946        0.015059                6  \n",
              "7         0.958276        0.014580                8  \n",
              "8         0.956611        0.016887                9  \n",
              "9         0.954943        0.016773               10  "
            ],
            "text/html": [
              "\n",
              "  <div id=\"df-d3258694-4c1e-41b5-b70b-4814abe84df2\">\n",
              "    <div class=\"colab-df-container\">\n",
              "      <div>\n",
              "<style scoped>\n",
              "    .dataframe tbody tr th:only-of-type {\n",
              "        vertical-align: middle;\n",
              "    }\n",
              "\n",
              "    .dataframe tbody tr th {\n",
              "        vertical-align: top;\n",
              "    }\n",
              "\n",
              "    .dataframe thead th {\n",
              "        text-align: right;\n",
              "    }\n",
              "</style>\n",
              "<table border=\"1\" class=\"dataframe\">\n",
              "  <thead>\n",
              "    <tr style=\"text-align: right;\">\n",
              "      <th></th>\n",
              "      <th>mean_fit_time</th>\n",
              "      <th>std_fit_time</th>\n",
              "      <th>mean_score_time</th>\n",
              "      <th>std_score_time</th>\n",
              "      <th>param_n_neighbors</th>\n",
              "      <th>params</th>\n",
              "      <th>split0_test_score</th>\n",
              "      <th>split1_test_score</th>\n",
              "      <th>split2_test_score</th>\n",
              "      <th>split3_test_score</th>\n",
              "      <th>split4_test_score</th>\n",
              "      <th>mean_test_score</th>\n",
              "      <th>std_test_score</th>\n",
              "      <th>rank_test_score</th>\n",
              "    </tr>\n",
              "  </thead>\n",
              "  <tbody>\n",
              "    <tr>\n",
              "      <th>0</th>\n",
              "      <td>0.001696</td>\n",
              "      <td>0.000157</td>\n",
              "      <td>0.028349</td>\n",
              "      <td>0.006814</td>\n",
              "      <td>1</td>\n",
              "      <td>{'n_neighbors': 1}</td>\n",
              "      <td>0.961111</td>\n",
              "      <td>0.952778</td>\n",
              "      <td>0.966574</td>\n",
              "      <td>0.986072</td>\n",
              "      <td>0.955432</td>\n",
              "      <td>0.964393</td>\n",
              "      <td>0.011838</td>\n",
              "      <td>3</td>\n",
              "    </tr>\n",
              "    <tr>\n",
              "      <th>1</th>\n",
              "      <td>0.001614</td>\n",
              "      <td>0.000037</td>\n",
              "      <td>0.025264</td>\n",
              "      <td>0.000225</td>\n",
              "      <td>2</td>\n",
              "      <td>{'n_neighbors': 2}</td>\n",
              "      <td>0.961111</td>\n",
              "      <td>0.966667</td>\n",
              "      <td>0.969359</td>\n",
              "      <td>0.977716</td>\n",
              "      <td>0.961003</td>\n",
              "      <td>0.967171</td>\n",
              "      <td>0.006181</td>\n",
              "      <td>1</td>\n",
              "    </tr>\n",
              "    <tr>\n",
              "      <th>2</th>\n",
              "      <td>0.001652</td>\n",
              "      <td>0.000079</td>\n",
              "      <td>0.026412</td>\n",
              "      <td>0.000196</td>\n",
              "      <td>3</td>\n",
              "      <td>{'n_neighbors': 3}</td>\n",
              "      <td>0.955556</td>\n",
              "      <td>0.958333</td>\n",
              "      <td>0.966574</td>\n",
              "      <td>0.986072</td>\n",
              "      <td>0.966574</td>\n",
              "      <td>0.966622</td>\n",
              "      <td>0.010672</td>\n",
              "      <td>2</td>\n",
              "    </tr>\n",
              "    <tr>\n",
              "      <th>3</th>\n",
              "      <td>0.001625</td>\n",
              "      <td>0.000022</td>\n",
              "      <td>0.032042</td>\n",
              "      <td>0.003366</td>\n",
              "      <td>4</td>\n",
              "      <td>{'n_neighbors': 4}</td>\n",
              "      <td>0.947222</td>\n",
              "      <td>0.958333</td>\n",
              "      <td>0.966574</td>\n",
              "      <td>0.980501</td>\n",
              "      <td>0.966574</td>\n",
              "      <td>0.963841</td>\n",
              "      <td>0.010946</td>\n",
              "      <td>4</td>\n",
              "    </tr>\n",
              "    <tr>\n",
              "      <th>4</th>\n",
              "      <td>0.001623</td>\n",
              "      <td>0.000022</td>\n",
              "      <td>0.029835</td>\n",
              "      <td>0.000417</td>\n",
              "      <td>5</td>\n",
              "      <td>{'n_neighbors': 5}</td>\n",
              "      <td>0.947222</td>\n",
              "      <td>0.955556</td>\n",
              "      <td>0.966574</td>\n",
              "      <td>0.980501</td>\n",
              "      <td>0.963788</td>\n",
              "      <td>0.962728</td>\n",
              "      <td>0.011169</td>\n",
              "      <td>5</td>\n",
              "    </tr>\n",
              "    <tr>\n",
              "      <th>5</th>\n",
              "      <td>0.001635</td>\n",
              "      <td>0.000038</td>\n",
              "      <td>0.030825</td>\n",
              "      <td>0.001336</td>\n",
              "      <td>6</td>\n",
              "      <td>{'n_neighbors': 6}</td>\n",
              "      <td>0.944444</td>\n",
              "      <td>0.958333</td>\n",
              "      <td>0.966574</td>\n",
              "      <td>0.974930</td>\n",
              "      <td>0.952646</td>\n",
              "      <td>0.959386</td>\n",
              "      <td>0.010612</td>\n",
              "      <td>7</td>\n",
              "    </tr>\n",
              "    <tr>\n",
              "      <th>6</th>\n",
              "      <td>0.001636</td>\n",
              "      <td>0.000061</td>\n",
              "      <td>0.031699</td>\n",
              "      <td>0.001423</td>\n",
              "      <td>7</td>\n",
              "      <td>{'n_neighbors': 7}</td>\n",
              "      <td>0.936111</td>\n",
              "      <td>0.961111</td>\n",
              "      <td>0.969359</td>\n",
              "      <td>0.980501</td>\n",
              "      <td>0.952646</td>\n",
              "      <td>0.959946</td>\n",
              "      <td>0.015059</td>\n",
              "      <td>6</td>\n",
              "    </tr>\n",
              "    <tr>\n",
              "      <th>7</th>\n",
              "      <td>0.001696</td>\n",
              "      <td>0.000083</td>\n",
              "      <td>0.031586</td>\n",
              "      <td>0.003347</td>\n",
              "      <td>8</td>\n",
              "      <td>{'n_neighbors': 8}</td>\n",
              "      <td>0.936111</td>\n",
              "      <td>0.958333</td>\n",
              "      <td>0.969359</td>\n",
              "      <td>0.977716</td>\n",
              "      <td>0.949861</td>\n",
              "      <td>0.958276</td>\n",
              "      <td>0.014580</td>\n",
              "      <td>8</td>\n",
              "    </tr>\n",
              "    <tr>\n",
              "      <th>8</th>\n",
              "      <td>0.001644</td>\n",
              "      <td>0.000018</td>\n",
              "      <td>0.030958</td>\n",
              "      <td>0.001682</td>\n",
              "      <td>9</td>\n",
              "      <td>{'n_neighbors': 9}</td>\n",
              "      <td>0.930556</td>\n",
              "      <td>0.952778</td>\n",
              "      <td>0.972145</td>\n",
              "      <td>0.977716</td>\n",
              "      <td>0.949861</td>\n",
              "      <td>0.956611</td>\n",
              "      <td>0.016887</td>\n",
              "      <td>9</td>\n",
              "    </tr>\n",
              "    <tr>\n",
              "      <th>9</th>\n",
              "      <td>0.001634</td>\n",
              "      <td>0.000042</td>\n",
              "      <td>0.031214</td>\n",
              "      <td>0.001749</td>\n",
              "      <td>10</td>\n",
              "      <td>{'n_neighbors': 10}</td>\n",
              "      <td>0.930556</td>\n",
              "      <td>0.947222</td>\n",
              "      <td>0.969359</td>\n",
              "      <td>0.977716</td>\n",
              "      <td>0.949861</td>\n",
              "      <td>0.954943</td>\n",
              "      <td>0.016773</td>\n",
              "      <td>10</td>\n",
              "    </tr>\n",
              "  </tbody>\n",
              "</table>\n",
              "</div>\n",
              "      <button class=\"colab-df-convert\" onclick=\"convertToInteractive('df-d3258694-4c1e-41b5-b70b-4814abe84df2')\"\n",
              "              title=\"Convert this dataframe to an interactive table.\"\n",
              "              style=\"display:none;\">\n",
              "        \n",
              "  <svg xmlns=\"http://www.w3.org/2000/svg\" height=\"24px\"viewBox=\"0 0 24 24\"\n",
              "       width=\"24px\">\n",
              "    <path d=\"M0 0h24v24H0V0z\" fill=\"none\"/>\n",
              "    <path d=\"M18.56 5.44l.94 2.06.94-2.06 2.06-.94-2.06-.94-.94-2.06-.94 2.06-2.06.94zm-11 1L8.5 8.5l.94-2.06 2.06-.94-2.06-.94L8.5 2.5l-.94 2.06-2.06.94zm10 10l.94 2.06.94-2.06 2.06-.94-2.06-.94-.94-2.06-.94 2.06-2.06.94z\"/><path d=\"M17.41 7.96l-1.37-1.37c-.4-.4-.92-.59-1.43-.59-.52 0-1.04.2-1.43.59L10.3 9.45l-7.72 7.72c-.78.78-.78 2.05 0 2.83L4 21.41c.39.39.9.59 1.41.59.51 0 1.02-.2 1.41-.59l7.78-7.78 2.81-2.81c.8-.78.8-2.07 0-2.86zM5.41 20L4 18.59l7.72-7.72 1.47 1.35L5.41 20z\"/>\n",
              "  </svg>\n",
              "      </button>\n",
              "      \n",
              "  <style>\n",
              "    .colab-df-container {\n",
              "      display:flex;\n",
              "      flex-wrap:wrap;\n",
              "      gap: 12px;\n",
              "    }\n",
              "\n",
              "    .colab-df-convert {\n",
              "      background-color: #E8F0FE;\n",
              "      border: none;\n",
              "      border-radius: 50%;\n",
              "      cursor: pointer;\n",
              "      display: none;\n",
              "      fill: #1967D2;\n",
              "      height: 32px;\n",
              "      padding: 0 0 0 0;\n",
              "      width: 32px;\n",
              "    }\n",
              "\n",
              "    .colab-df-convert:hover {\n",
              "      background-color: #E2EBFA;\n",
              "      box-shadow: 0px 1px 2px rgba(60, 64, 67, 0.3), 0px 1px 3px 1px rgba(60, 64, 67, 0.15);\n",
              "      fill: #174EA6;\n",
              "    }\n",
              "\n",
              "    [theme=dark] .colab-df-convert {\n",
              "      background-color: #3B4455;\n",
              "      fill: #D2E3FC;\n",
              "    }\n",
              "\n",
              "    [theme=dark] .colab-df-convert:hover {\n",
              "      background-color: #434B5C;\n",
              "      box-shadow: 0px 1px 3px 1px rgba(0, 0, 0, 0.15);\n",
              "      filter: drop-shadow(0px 1px 2px rgba(0, 0, 0, 0.3));\n",
              "      fill: #FFFFFF;\n",
              "    }\n",
              "  </style>\n",
              "\n",
              "      <script>\n",
              "        const buttonEl =\n",
              "          document.querySelector('#df-d3258694-4c1e-41b5-b70b-4814abe84df2 button.colab-df-convert');\n",
              "        buttonEl.style.display =\n",
              "          google.colab.kernel.accessAllowed ? 'block' : 'none';\n",
              "\n",
              "        async function convertToInteractive(key) {\n",
              "          const element = document.querySelector('#df-d3258694-4c1e-41b5-b70b-4814abe84df2');\n",
              "          const dataTable =\n",
              "            await google.colab.kernel.invokeFunction('convertToInteractive',\n",
              "                                                     [key], {});\n",
              "          if (!dataTable) return;\n",
              "\n",
              "          const docLinkHtml = 'Like what you see? Visit the ' +\n",
              "            '<a target=\"_blank\" href=https://colab.research.google.com/notebooks/data_table.ipynb>data table notebook</a>'\n",
              "            + ' to learn more about interactive tables.';\n",
              "          element.innerHTML = '';\n",
              "          dataTable['output_type'] = 'display_data';\n",
              "          await google.colab.output.renderOutput(dataTable, element);\n",
              "          const docLink = document.createElement('div');\n",
              "          docLink.innerHTML = docLinkHtml;\n",
              "          element.appendChild(docLink);\n",
              "        }\n",
              "      </script>\n",
              "    </div>\n",
              "  </div>\n",
              "  "
            ]
          },
          "metadata": {}
        },
        {
          "output_type": "stream",
          "name": "stdout",
          "text": [
            "best param: {'n_neighbors': 2}\n"
          ]
        }
      ]
    },
    {
      "cell_type": "markdown",
      "source": [
        "## Train, Test, Validation Set"
      ],
      "metadata": {
        "id": "wlJhZpRV0GqY"
      }
    },
    {
      "cell_type": "code",
      "metadata": {
        "colab": {
          "base_uri": "https://localhost:8080/",
          "height": 637
        },
        "id": "Aam-F6PFughy",
        "outputId": "48927b1c-755e-456f-ef7b-c1aac729d361"
      },
      "source": [
        "\n",
        "X_train, X_test, y_train, y_test = train_test_split(digits.data, digits.target, random_state=0)\n"
      ],
      "execution_count": null,
      "outputs": [
        {
          "output_type": "display_data",
          "data": {
            "text/plain": [
              "   mean_fit_time  std_fit_time  mean_score_time  std_score_time  \\\n",
              "0       0.001654      0.000610         0.018854        0.003464   \n",
              "1       0.001421      0.000045         0.020176        0.000254   \n",
              "2       0.001377      0.000073         0.020395        0.002007   \n",
              "3       0.001269      0.000065         0.019150        0.000101   \n",
              "4       0.001416      0.000273         0.025332        0.007245   \n",
              "5       0.001316      0.000050         0.019593        0.000394   \n",
              "6       0.001555      0.000492         0.019643        0.000477   \n",
              "7       0.001355      0.000061         0.020575        0.001870   \n",
              "8       0.001266      0.000027         0.019463        0.000462   \n",
              "9       0.003330      0.004104         0.019599        0.000488   \n",
              "\n",
              "  param_n_neighbors               params  split0_test_score  \\\n",
              "0                 1   {'n_neighbors': 1}           0.970370   \n",
              "1                 2   {'n_neighbors': 2}           0.970370   \n",
              "2                 3   {'n_neighbors': 3}           0.985185   \n",
              "3                 4   {'n_neighbors': 4}           0.981481   \n",
              "4                 5   {'n_neighbors': 5}           0.985185   \n",
              "5                 6   {'n_neighbors': 6}           0.974074   \n",
              "6                 7   {'n_neighbors': 7}           0.977778   \n",
              "7                 8   {'n_neighbors': 8}           0.977778   \n",
              "8                 9   {'n_neighbors': 9}           0.974074   \n",
              "9                10  {'n_neighbors': 10}           0.977778   \n",
              "\n",
              "   split1_test_score  split2_test_score  split3_test_score  split4_test_score  \\\n",
              "0           0.985185           0.988848           0.988848           0.988848   \n",
              "1           0.977778           0.985130           0.985130           0.977695   \n",
              "2           0.988889           0.985130           0.985130           0.985130   \n",
              "3           0.996296           0.977695           0.981413           0.981413   \n",
              "4           0.996296           0.973978           0.985130           0.985130   \n",
              "5           0.988889           0.973978           0.981413           0.985130   \n",
              "6           0.988889           0.973978           0.985130           0.988848   \n",
              "7           0.988889           0.973978           0.985130           0.981413   \n",
              "8           0.985185           0.973978           0.981413           0.985130   \n",
              "9           0.981481           0.973978           0.977695           0.985130   \n",
              "\n",
              "   mean_test_score  std_test_score  rank_test_score  \n",
              "0         0.984420        0.007166                3  \n",
              "1         0.979221        0.005524                9  \n",
              "2         0.985893        0.001498                1  \n",
              "3         0.983660        0.006482                4  \n",
              "4         0.985144        0.007058                2  \n",
              "5         0.980697        0.005938                7  \n",
              "6         0.982924        0.006034                5  \n",
              "7         0.981437        0.005257                6  \n",
              "8         0.979956        0.005031                8  \n",
              "9         0.979212        0.003793               10  "
            ],
            "text/html": [
              "\n",
              "  <div id=\"df-efa49e1c-4395-42b9-b876-5671b0672f98\">\n",
              "    <div class=\"colab-df-container\">\n",
              "      <div>\n",
              "<style scoped>\n",
              "    .dataframe tbody tr th:only-of-type {\n",
              "        vertical-align: middle;\n",
              "    }\n",
              "\n",
              "    .dataframe tbody tr th {\n",
              "        vertical-align: top;\n",
              "    }\n",
              "\n",
              "    .dataframe thead th {\n",
              "        text-align: right;\n",
              "    }\n",
              "</style>\n",
              "<table border=\"1\" class=\"dataframe\">\n",
              "  <thead>\n",
              "    <tr style=\"text-align: right;\">\n",
              "      <th></th>\n",
              "      <th>mean_fit_time</th>\n",
              "      <th>std_fit_time</th>\n",
              "      <th>mean_score_time</th>\n",
              "      <th>std_score_time</th>\n",
              "      <th>param_n_neighbors</th>\n",
              "      <th>params</th>\n",
              "      <th>split0_test_score</th>\n",
              "      <th>split1_test_score</th>\n",
              "      <th>split2_test_score</th>\n",
              "      <th>split3_test_score</th>\n",
              "      <th>split4_test_score</th>\n",
              "      <th>mean_test_score</th>\n",
              "      <th>std_test_score</th>\n",
              "      <th>rank_test_score</th>\n",
              "    </tr>\n",
              "  </thead>\n",
              "  <tbody>\n",
              "    <tr>\n",
              "      <th>0</th>\n",
              "      <td>0.001654</td>\n",
              "      <td>0.000610</td>\n",
              "      <td>0.018854</td>\n",
              "      <td>0.003464</td>\n",
              "      <td>1</td>\n",
              "      <td>{'n_neighbors': 1}</td>\n",
              "      <td>0.970370</td>\n",
              "      <td>0.985185</td>\n",
              "      <td>0.988848</td>\n",
              "      <td>0.988848</td>\n",
              "      <td>0.988848</td>\n",
              "      <td>0.984420</td>\n",
              "      <td>0.007166</td>\n",
              "      <td>3</td>\n",
              "    </tr>\n",
              "    <tr>\n",
              "      <th>1</th>\n",
              "      <td>0.001421</td>\n",
              "      <td>0.000045</td>\n",
              "      <td>0.020176</td>\n",
              "      <td>0.000254</td>\n",
              "      <td>2</td>\n",
              "      <td>{'n_neighbors': 2}</td>\n",
              "      <td>0.970370</td>\n",
              "      <td>0.977778</td>\n",
              "      <td>0.985130</td>\n",
              "      <td>0.985130</td>\n",
              "      <td>0.977695</td>\n",
              "      <td>0.979221</td>\n",
              "      <td>0.005524</td>\n",
              "      <td>9</td>\n",
              "    </tr>\n",
              "    <tr>\n",
              "      <th>2</th>\n",
              "      <td>0.001377</td>\n",
              "      <td>0.000073</td>\n",
              "      <td>0.020395</td>\n",
              "      <td>0.002007</td>\n",
              "      <td>3</td>\n",
              "      <td>{'n_neighbors': 3}</td>\n",
              "      <td>0.985185</td>\n",
              "      <td>0.988889</td>\n",
              "      <td>0.985130</td>\n",
              "      <td>0.985130</td>\n",
              "      <td>0.985130</td>\n",
              "      <td>0.985893</td>\n",
              "      <td>0.001498</td>\n",
              "      <td>1</td>\n",
              "    </tr>\n",
              "    <tr>\n",
              "      <th>3</th>\n",
              "      <td>0.001269</td>\n",
              "      <td>0.000065</td>\n",
              "      <td>0.019150</td>\n",
              "      <td>0.000101</td>\n",
              "      <td>4</td>\n",
              "      <td>{'n_neighbors': 4}</td>\n",
              "      <td>0.981481</td>\n",
              "      <td>0.996296</td>\n",
              "      <td>0.977695</td>\n",
              "      <td>0.981413</td>\n",
              "      <td>0.981413</td>\n",
              "      <td>0.983660</td>\n",
              "      <td>0.006482</td>\n",
              "      <td>4</td>\n",
              "    </tr>\n",
              "    <tr>\n",
              "      <th>4</th>\n",
              "      <td>0.001416</td>\n",
              "      <td>0.000273</td>\n",
              "      <td>0.025332</td>\n",
              "      <td>0.007245</td>\n",
              "      <td>5</td>\n",
              "      <td>{'n_neighbors': 5}</td>\n",
              "      <td>0.985185</td>\n",
              "      <td>0.996296</td>\n",
              "      <td>0.973978</td>\n",
              "      <td>0.985130</td>\n",
              "      <td>0.985130</td>\n",
              "      <td>0.985144</td>\n",
              "      <td>0.007058</td>\n",
              "      <td>2</td>\n",
              "    </tr>\n",
              "    <tr>\n",
              "      <th>5</th>\n",
              "      <td>0.001316</td>\n",
              "      <td>0.000050</td>\n",
              "      <td>0.019593</td>\n",
              "      <td>0.000394</td>\n",
              "      <td>6</td>\n",
              "      <td>{'n_neighbors': 6}</td>\n",
              "      <td>0.974074</td>\n",
              "      <td>0.988889</td>\n",
              "      <td>0.973978</td>\n",
              "      <td>0.981413</td>\n",
              "      <td>0.985130</td>\n",
              "      <td>0.980697</td>\n",
              "      <td>0.005938</td>\n",
              "      <td>7</td>\n",
              "    </tr>\n",
              "    <tr>\n",
              "      <th>6</th>\n",
              "      <td>0.001555</td>\n",
              "      <td>0.000492</td>\n",
              "      <td>0.019643</td>\n",
              "      <td>0.000477</td>\n",
              "      <td>7</td>\n",
              "      <td>{'n_neighbors': 7}</td>\n",
              "      <td>0.977778</td>\n",
              "      <td>0.988889</td>\n",
              "      <td>0.973978</td>\n",
              "      <td>0.985130</td>\n",
              "      <td>0.988848</td>\n",
              "      <td>0.982924</td>\n",
              "      <td>0.006034</td>\n",
              "      <td>5</td>\n",
              "    </tr>\n",
              "    <tr>\n",
              "      <th>7</th>\n",
              "      <td>0.001355</td>\n",
              "      <td>0.000061</td>\n",
              "      <td>0.020575</td>\n",
              "      <td>0.001870</td>\n",
              "      <td>8</td>\n",
              "      <td>{'n_neighbors': 8}</td>\n",
              "      <td>0.977778</td>\n",
              "      <td>0.988889</td>\n",
              "      <td>0.973978</td>\n",
              "      <td>0.985130</td>\n",
              "      <td>0.981413</td>\n",
              "      <td>0.981437</td>\n",
              "      <td>0.005257</td>\n",
              "      <td>6</td>\n",
              "    </tr>\n",
              "    <tr>\n",
              "      <th>8</th>\n",
              "      <td>0.001266</td>\n",
              "      <td>0.000027</td>\n",
              "      <td>0.019463</td>\n",
              "      <td>0.000462</td>\n",
              "      <td>9</td>\n",
              "      <td>{'n_neighbors': 9}</td>\n",
              "      <td>0.974074</td>\n",
              "      <td>0.985185</td>\n",
              "      <td>0.973978</td>\n",
              "      <td>0.981413</td>\n",
              "      <td>0.985130</td>\n",
              "      <td>0.979956</td>\n",
              "      <td>0.005031</td>\n",
              "      <td>8</td>\n",
              "    </tr>\n",
              "    <tr>\n",
              "      <th>9</th>\n",
              "      <td>0.003330</td>\n",
              "      <td>0.004104</td>\n",
              "      <td>0.019599</td>\n",
              "      <td>0.000488</td>\n",
              "      <td>10</td>\n",
              "      <td>{'n_neighbors': 10}</td>\n",
              "      <td>0.977778</td>\n",
              "      <td>0.981481</td>\n",
              "      <td>0.973978</td>\n",
              "      <td>0.977695</td>\n",
              "      <td>0.985130</td>\n",
              "      <td>0.979212</td>\n",
              "      <td>0.003793</td>\n",
              "      <td>10</td>\n",
              "    </tr>\n",
              "  </tbody>\n",
              "</table>\n",
              "</div>\n",
              "      <button class=\"colab-df-convert\" onclick=\"convertToInteractive('df-efa49e1c-4395-42b9-b876-5671b0672f98')\"\n",
              "              title=\"Convert this dataframe to an interactive table.\"\n",
              "              style=\"display:none;\">\n",
              "        \n",
              "  <svg xmlns=\"http://www.w3.org/2000/svg\" height=\"24px\"viewBox=\"0 0 24 24\"\n",
              "       width=\"24px\">\n",
              "    <path d=\"M0 0h24v24H0V0z\" fill=\"none\"/>\n",
              "    <path d=\"M18.56 5.44l.94 2.06.94-2.06 2.06-.94-2.06-.94-.94-2.06-.94 2.06-2.06.94zm-11 1L8.5 8.5l.94-2.06 2.06-.94-2.06-.94L8.5 2.5l-.94 2.06-2.06.94zm10 10l.94 2.06.94-2.06 2.06-.94-2.06-.94-.94-2.06-.94 2.06-2.06.94z\"/><path d=\"M17.41 7.96l-1.37-1.37c-.4-.4-.92-.59-1.43-.59-.52 0-1.04.2-1.43.59L10.3 9.45l-7.72 7.72c-.78.78-.78 2.05 0 2.83L4 21.41c.39.39.9.59 1.41.59.51 0 1.02-.2 1.41-.59l7.78-7.78 2.81-2.81c.8-.78.8-2.07 0-2.86zM5.41 20L4 18.59l7.72-7.72 1.47 1.35L5.41 20z\"/>\n",
              "  </svg>\n",
              "      </button>\n",
              "      \n",
              "  <style>\n",
              "    .colab-df-container {\n",
              "      display:flex;\n",
              "      flex-wrap:wrap;\n",
              "      gap: 12px;\n",
              "    }\n",
              "\n",
              "    .colab-df-convert {\n",
              "      background-color: #E8F0FE;\n",
              "      border: none;\n",
              "      border-radius: 50%;\n",
              "      cursor: pointer;\n",
              "      display: none;\n",
              "      fill: #1967D2;\n",
              "      height: 32px;\n",
              "      padding: 0 0 0 0;\n",
              "      width: 32px;\n",
              "    }\n",
              "\n",
              "    .colab-df-convert:hover {\n",
              "      background-color: #E2EBFA;\n",
              "      box-shadow: 0px 1px 2px rgba(60, 64, 67, 0.3), 0px 1px 3px 1px rgba(60, 64, 67, 0.15);\n",
              "      fill: #174EA6;\n",
              "    }\n",
              "\n",
              "    [theme=dark] .colab-df-convert {\n",
              "      background-color: #3B4455;\n",
              "      fill: #D2E3FC;\n",
              "    }\n",
              "\n",
              "    [theme=dark] .colab-df-convert:hover {\n",
              "      background-color: #434B5C;\n",
              "      box-shadow: 0px 1px 3px 1px rgba(0, 0, 0, 0.15);\n",
              "      filter: drop-shadow(0px 1px 2px rgba(0, 0, 0, 0.3));\n",
              "      fill: #FFFFFF;\n",
              "    }\n",
              "  </style>\n",
              "\n",
              "      <script>\n",
              "        const buttonEl =\n",
              "          document.querySelector('#df-efa49e1c-4395-42b9-b876-5671b0672f98 button.colab-df-convert');\n",
              "        buttonEl.style.display =\n",
              "          google.colab.kernel.accessAllowed ? 'block' : 'none';\n",
              "\n",
              "        async function convertToInteractive(key) {\n",
              "          const element = document.querySelector('#df-efa49e1c-4395-42b9-b876-5671b0672f98');\n",
              "          const dataTable =\n",
              "            await google.colab.kernel.invokeFunction('convertToInteractive',\n",
              "                                                     [key], {});\n",
              "          if (!dataTable) return;\n",
              "\n",
              "          const docLinkHtml = 'Like what you see? Visit the ' +\n",
              "            '<a target=\"_blank\" href=https://colab.research.google.com/notebooks/data_table.ipynb>data table notebook</a>'\n",
              "            + ' to learn more about interactive tables.';\n",
              "          element.innerHTML = '';\n",
              "          dataTable['output_type'] = 'display_data';\n",
              "          await google.colab.output.renderOutput(dataTable, element);\n",
              "          const docLink = document.createElement('div');\n",
              "          docLink.innerHTML = docLinkHtml;\n",
              "          element.appendChild(docLink);\n",
              "        }\n",
              "      </script>\n",
              "    </div>\n",
              "  </div>\n",
              "  "
            ]
          },
          "metadata": {}
        },
        {
          "output_type": "stream",
          "name": "stdout",
          "text": [
            "best param: {'n_neighbors': 3}\n",
            "Test acc: 0.9866666666666667\n"
          ]
        }
      ]
    },
    {
      "cell_type": "markdown",
      "source": [
        "## Pipeline + GridSearch\n",
        "* Minmax Scaler"
      ],
      "metadata": {
        "id": "W-gtOS2c8tj9"
      }
    },
    {
      "cell_type": "code",
      "source": [
        "\n",
        "X_train, X_test, y_train, y_test = train_test_split(digits.data, digits.target, random_state=0)\n",
        "mm_scaler = MinMaxScaler()\n",
        "knn = KNeighborsClassifier()\n"
      ],
      "metadata": {
        "colab": {
          "base_uri": "https://localhost:8080/",
          "height": 637
        },
        "id": "XPwjegAQ9PDK",
        "outputId": "ffd92af6-1dd2-46e9-e1ea-211077b769da"
      },
      "execution_count": null,
      "outputs": [
        {
          "output_type": "display_data",
          "data": {
            "text/plain": [
              "   mean_fit_time  std_fit_time  mean_score_time  std_score_time  \\\n",
              "0       0.002483      0.000150         0.018782        0.002528   \n",
              "1       0.002597      0.000029         0.018010        0.001061   \n",
              "2       0.002605      0.000124         0.017709        0.000173   \n",
              "3       0.004751      0.003942         0.023538        0.007062   \n",
              "4       0.002523      0.000071         0.019894        0.000805   \n",
              "5       0.003087      0.001067         0.019599        0.000487   \n",
              "6       0.002660      0.000187         0.020029        0.001156   \n",
              "7       0.002432      0.000050         0.020642        0.002944   \n",
              "8       0.002666      0.000244         0.019528        0.000070   \n",
              "9       0.002720      0.000408         0.019821        0.000661   \n",
              "\n",
              "  param_knn__n_neighbors                    params  split0_test_score  \\\n",
              "0                      1   {'knn__n_neighbors': 1}           0.974074   \n",
              "1                      2   {'knn__n_neighbors': 2}           0.977778   \n",
              "2                      3   {'knn__n_neighbors': 3}           0.985185   \n",
              "3                      4   {'knn__n_neighbors': 4}           0.981481   \n",
              "4                      5   {'knn__n_neighbors': 5}           0.988889   \n",
              "5                      6   {'knn__n_neighbors': 6}           0.977778   \n",
              "6                      7   {'knn__n_neighbors': 7}           0.977778   \n",
              "7                      8   {'knn__n_neighbors': 8}           0.974074   \n",
              "8                      9   {'knn__n_neighbors': 9}           0.974074   \n",
              "9                     10  {'knn__n_neighbors': 10}           0.977778   \n",
              "\n",
              "   split1_test_score  split2_test_score  split3_test_score  split4_test_score  \\\n",
              "0           0.985185           0.988848           0.988848           0.985130   \n",
              "1           0.977778           0.985130           0.985130           0.977695   \n",
              "2           0.988889           0.985130           0.985130           0.981413   \n",
              "3           0.992593           0.977695           0.981413           0.977695   \n",
              "4           0.992593           0.973978           0.985130           0.985130   \n",
              "5           0.985185           0.973978           0.981413           0.981413   \n",
              "6           0.988889           0.973978           0.985130           0.985130   \n",
              "7           0.988889           0.973978           0.985130           0.981413   \n",
              "8           0.988889           0.970260           0.981413           0.985130   \n",
              "9           0.988889           0.973978           0.981413           0.985130   \n",
              "\n",
              "   mean_test_score  std_test_score  rank_test_score  \n",
              "0         0.984417        0.005428                3  \n",
              "1         0.980702        0.003616                7  \n",
              "2         0.985149        0.002364                1  \n",
              "3         0.982175        0.005472                5  \n",
              "4         0.985144        0.006232                2  \n",
              "5         0.979953        0.003797               10  \n",
              "6         0.982181        0.005460                4  \n",
              "7         0.980697        0.005938                8  \n",
              "8         0.979953        0.006889                9  \n",
              "9         0.981437        0.005257                6  "
            ],
            "text/html": [
              "\n",
              "  <div id=\"df-bbd33ea3-14a3-490e-b672-fb12a2edc092\">\n",
              "    <div class=\"colab-df-container\">\n",
              "      <div>\n",
              "<style scoped>\n",
              "    .dataframe tbody tr th:only-of-type {\n",
              "        vertical-align: middle;\n",
              "    }\n",
              "\n",
              "    .dataframe tbody tr th {\n",
              "        vertical-align: top;\n",
              "    }\n",
              "\n",
              "    .dataframe thead th {\n",
              "        text-align: right;\n",
              "    }\n",
              "</style>\n",
              "<table border=\"1\" class=\"dataframe\">\n",
              "  <thead>\n",
              "    <tr style=\"text-align: right;\">\n",
              "      <th></th>\n",
              "      <th>mean_fit_time</th>\n",
              "      <th>std_fit_time</th>\n",
              "      <th>mean_score_time</th>\n",
              "      <th>std_score_time</th>\n",
              "      <th>param_knn__n_neighbors</th>\n",
              "      <th>params</th>\n",
              "      <th>split0_test_score</th>\n",
              "      <th>split1_test_score</th>\n",
              "      <th>split2_test_score</th>\n",
              "      <th>split3_test_score</th>\n",
              "      <th>split4_test_score</th>\n",
              "      <th>mean_test_score</th>\n",
              "      <th>std_test_score</th>\n",
              "      <th>rank_test_score</th>\n",
              "    </tr>\n",
              "  </thead>\n",
              "  <tbody>\n",
              "    <tr>\n",
              "      <th>0</th>\n",
              "      <td>0.002483</td>\n",
              "      <td>0.000150</td>\n",
              "      <td>0.018782</td>\n",
              "      <td>0.002528</td>\n",
              "      <td>1</td>\n",
              "      <td>{'knn__n_neighbors': 1}</td>\n",
              "      <td>0.974074</td>\n",
              "      <td>0.985185</td>\n",
              "      <td>0.988848</td>\n",
              "      <td>0.988848</td>\n",
              "      <td>0.985130</td>\n",
              "      <td>0.984417</td>\n",
              "      <td>0.005428</td>\n",
              "      <td>3</td>\n",
              "    </tr>\n",
              "    <tr>\n",
              "      <th>1</th>\n",
              "      <td>0.002597</td>\n",
              "      <td>0.000029</td>\n",
              "      <td>0.018010</td>\n",
              "      <td>0.001061</td>\n",
              "      <td>2</td>\n",
              "      <td>{'knn__n_neighbors': 2}</td>\n",
              "      <td>0.977778</td>\n",
              "      <td>0.977778</td>\n",
              "      <td>0.985130</td>\n",
              "      <td>0.985130</td>\n",
              "      <td>0.977695</td>\n",
              "      <td>0.980702</td>\n",
              "      <td>0.003616</td>\n",
              "      <td>7</td>\n",
              "    </tr>\n",
              "    <tr>\n",
              "      <th>2</th>\n",
              "      <td>0.002605</td>\n",
              "      <td>0.000124</td>\n",
              "      <td>0.017709</td>\n",
              "      <td>0.000173</td>\n",
              "      <td>3</td>\n",
              "      <td>{'knn__n_neighbors': 3}</td>\n",
              "      <td>0.985185</td>\n",
              "      <td>0.988889</td>\n",
              "      <td>0.985130</td>\n",
              "      <td>0.985130</td>\n",
              "      <td>0.981413</td>\n",
              "      <td>0.985149</td>\n",
              "      <td>0.002364</td>\n",
              "      <td>1</td>\n",
              "    </tr>\n",
              "    <tr>\n",
              "      <th>3</th>\n",
              "      <td>0.004751</td>\n",
              "      <td>0.003942</td>\n",
              "      <td>0.023538</td>\n",
              "      <td>0.007062</td>\n",
              "      <td>4</td>\n",
              "      <td>{'knn__n_neighbors': 4}</td>\n",
              "      <td>0.981481</td>\n",
              "      <td>0.992593</td>\n",
              "      <td>0.977695</td>\n",
              "      <td>0.981413</td>\n",
              "      <td>0.977695</td>\n",
              "      <td>0.982175</td>\n",
              "      <td>0.005472</td>\n",
              "      <td>5</td>\n",
              "    </tr>\n",
              "    <tr>\n",
              "      <th>4</th>\n",
              "      <td>0.002523</td>\n",
              "      <td>0.000071</td>\n",
              "      <td>0.019894</td>\n",
              "      <td>0.000805</td>\n",
              "      <td>5</td>\n",
              "      <td>{'knn__n_neighbors': 5}</td>\n",
              "      <td>0.988889</td>\n",
              "      <td>0.992593</td>\n",
              "      <td>0.973978</td>\n",
              "      <td>0.985130</td>\n",
              "      <td>0.985130</td>\n",
              "      <td>0.985144</td>\n",
              "      <td>0.006232</td>\n",
              "      <td>2</td>\n",
              "    </tr>\n",
              "    <tr>\n",
              "      <th>5</th>\n",
              "      <td>0.003087</td>\n",
              "      <td>0.001067</td>\n",
              "      <td>0.019599</td>\n",
              "      <td>0.000487</td>\n",
              "      <td>6</td>\n",
              "      <td>{'knn__n_neighbors': 6}</td>\n",
              "      <td>0.977778</td>\n",
              "      <td>0.985185</td>\n",
              "      <td>0.973978</td>\n",
              "      <td>0.981413</td>\n",
              "      <td>0.981413</td>\n",
              "      <td>0.979953</td>\n",
              "      <td>0.003797</td>\n",
              "      <td>10</td>\n",
              "    </tr>\n",
              "    <tr>\n",
              "      <th>6</th>\n",
              "      <td>0.002660</td>\n",
              "      <td>0.000187</td>\n",
              "      <td>0.020029</td>\n",
              "      <td>0.001156</td>\n",
              "      <td>7</td>\n",
              "      <td>{'knn__n_neighbors': 7}</td>\n",
              "      <td>0.977778</td>\n",
              "      <td>0.988889</td>\n",
              "      <td>0.973978</td>\n",
              "      <td>0.985130</td>\n",
              "      <td>0.985130</td>\n",
              "      <td>0.982181</td>\n",
              "      <td>0.005460</td>\n",
              "      <td>4</td>\n",
              "    </tr>\n",
              "    <tr>\n",
              "      <th>7</th>\n",
              "      <td>0.002432</td>\n",
              "      <td>0.000050</td>\n",
              "      <td>0.020642</td>\n",
              "      <td>0.002944</td>\n",
              "      <td>8</td>\n",
              "      <td>{'knn__n_neighbors': 8}</td>\n",
              "      <td>0.974074</td>\n",
              "      <td>0.988889</td>\n",
              "      <td>0.973978</td>\n",
              "      <td>0.985130</td>\n",
              "      <td>0.981413</td>\n",
              "      <td>0.980697</td>\n",
              "      <td>0.005938</td>\n",
              "      <td>8</td>\n",
              "    </tr>\n",
              "    <tr>\n",
              "      <th>8</th>\n",
              "      <td>0.002666</td>\n",
              "      <td>0.000244</td>\n",
              "      <td>0.019528</td>\n",
              "      <td>0.000070</td>\n",
              "      <td>9</td>\n",
              "      <td>{'knn__n_neighbors': 9}</td>\n",
              "      <td>0.974074</td>\n",
              "      <td>0.988889</td>\n",
              "      <td>0.970260</td>\n",
              "      <td>0.981413</td>\n",
              "      <td>0.985130</td>\n",
              "      <td>0.979953</td>\n",
              "      <td>0.006889</td>\n",
              "      <td>9</td>\n",
              "    </tr>\n",
              "    <tr>\n",
              "      <th>9</th>\n",
              "      <td>0.002720</td>\n",
              "      <td>0.000408</td>\n",
              "      <td>0.019821</td>\n",
              "      <td>0.000661</td>\n",
              "      <td>10</td>\n",
              "      <td>{'knn__n_neighbors': 10}</td>\n",
              "      <td>0.977778</td>\n",
              "      <td>0.988889</td>\n",
              "      <td>0.973978</td>\n",
              "      <td>0.981413</td>\n",
              "      <td>0.985130</td>\n",
              "      <td>0.981437</td>\n",
              "      <td>0.005257</td>\n",
              "      <td>6</td>\n",
              "    </tr>\n",
              "  </tbody>\n",
              "</table>\n",
              "</div>\n",
              "      <button class=\"colab-df-convert\" onclick=\"convertToInteractive('df-bbd33ea3-14a3-490e-b672-fb12a2edc092')\"\n",
              "              title=\"Convert this dataframe to an interactive table.\"\n",
              "              style=\"display:none;\">\n",
              "        \n",
              "  <svg xmlns=\"http://www.w3.org/2000/svg\" height=\"24px\"viewBox=\"0 0 24 24\"\n",
              "       width=\"24px\">\n",
              "    <path d=\"M0 0h24v24H0V0z\" fill=\"none\"/>\n",
              "    <path d=\"M18.56 5.44l.94 2.06.94-2.06 2.06-.94-2.06-.94-.94-2.06-.94 2.06-2.06.94zm-11 1L8.5 8.5l.94-2.06 2.06-.94-2.06-.94L8.5 2.5l-.94 2.06-2.06.94zm10 10l.94 2.06.94-2.06 2.06-.94-2.06-.94-.94-2.06-.94 2.06-2.06.94z\"/><path d=\"M17.41 7.96l-1.37-1.37c-.4-.4-.92-.59-1.43-.59-.52 0-1.04.2-1.43.59L10.3 9.45l-7.72 7.72c-.78.78-.78 2.05 0 2.83L4 21.41c.39.39.9.59 1.41.59.51 0 1.02-.2 1.41-.59l7.78-7.78 2.81-2.81c.8-.78.8-2.07 0-2.86zM5.41 20L4 18.59l7.72-7.72 1.47 1.35L5.41 20z\"/>\n",
              "  </svg>\n",
              "      </button>\n",
              "      \n",
              "  <style>\n",
              "    .colab-df-container {\n",
              "      display:flex;\n",
              "      flex-wrap:wrap;\n",
              "      gap: 12px;\n",
              "    }\n",
              "\n",
              "    .colab-df-convert {\n",
              "      background-color: #E8F0FE;\n",
              "      border: none;\n",
              "      border-radius: 50%;\n",
              "      cursor: pointer;\n",
              "      display: none;\n",
              "      fill: #1967D2;\n",
              "      height: 32px;\n",
              "      padding: 0 0 0 0;\n",
              "      width: 32px;\n",
              "    }\n",
              "\n",
              "    .colab-df-convert:hover {\n",
              "      background-color: #E2EBFA;\n",
              "      box-shadow: 0px 1px 2px rgba(60, 64, 67, 0.3), 0px 1px 3px 1px rgba(60, 64, 67, 0.15);\n",
              "      fill: #174EA6;\n",
              "    }\n",
              "\n",
              "    [theme=dark] .colab-df-convert {\n",
              "      background-color: #3B4455;\n",
              "      fill: #D2E3FC;\n",
              "    }\n",
              "\n",
              "    [theme=dark] .colab-df-convert:hover {\n",
              "      background-color: #434B5C;\n",
              "      box-shadow: 0px 1px 3px 1px rgba(0, 0, 0, 0.15);\n",
              "      filter: drop-shadow(0px 1px 2px rgba(0, 0, 0, 0.3));\n",
              "      fill: #FFFFFF;\n",
              "    }\n",
              "  </style>\n",
              "\n",
              "      <script>\n",
              "        const buttonEl =\n",
              "          document.querySelector('#df-bbd33ea3-14a3-490e-b672-fb12a2edc092 button.colab-df-convert');\n",
              "        buttonEl.style.display =\n",
              "          google.colab.kernel.accessAllowed ? 'block' : 'none';\n",
              "\n",
              "        async function convertToInteractive(key) {\n",
              "          const element = document.querySelector('#df-bbd33ea3-14a3-490e-b672-fb12a2edc092');\n",
              "          const dataTable =\n",
              "            await google.colab.kernel.invokeFunction('convertToInteractive',\n",
              "                                                     [key], {});\n",
              "          if (!dataTable) return;\n",
              "\n",
              "          const docLinkHtml = 'Like what you see? Visit the ' +\n",
              "            '<a target=\"_blank\" href=https://colab.research.google.com/notebooks/data_table.ipynb>data table notebook</a>'\n",
              "            + ' to learn more about interactive tables.';\n",
              "          element.innerHTML = '';\n",
              "          dataTable['output_type'] = 'display_data';\n",
              "          await google.colab.output.renderOutput(dataTable, element);\n",
              "          const docLink = document.createElement('div');\n",
              "          docLink.innerHTML = docLinkHtml;\n",
              "          element.appendChild(docLink);\n",
              "        }\n",
              "      </script>\n",
              "    </div>\n",
              "  </div>\n",
              "  "
            ]
          },
          "metadata": {}
        },
        {
          "output_type": "stream",
          "name": "stdout",
          "text": [
            "best param: {'knn__n_neighbors': 3}\n",
            "Test acc: 0.9888888888888889\n"
          ]
        }
      ]
    },
    {
      "cell_type": "code",
      "source": [
        "estimator"
      ],
      "metadata": {
        "colab": {
          "base_uri": "https://localhost:8080/"
        },
        "id": "gBOSP0KlISk5",
        "outputId": "110c4f05-8184-4d79-b41e-f66cdbf79d43"
      },
      "execution_count": null,
      "outputs": [
        {
          "output_type": "execute_result",
          "data": {
            "text/plain": [
              "Pipeline(steps=[('mm_scaler', MinMaxScaler()),\n",
              "                ('knn', KNeighborsClassifier(n_neighbors=3))])"
            ]
          },
          "metadata": {},
          "execution_count": 46
        }
      ]
    },
    {
      "cell_type": "markdown",
      "source": [
        "# RandomizeSearchCV"
      ],
      "metadata": {
        "id": "Id0PGyFF6_iN"
      }
    },
    {
      "cell_type": "code",
      "source": [
        "from sklearn.model_selection import RandomizedSearchCV\n",
        "\n",
        "digits = load_digits()\n",
        "knn = KNeighborsClassifier()\n"
      ],
      "metadata": {
        "colab": {
          "base_uri": "https://localhost:8080/",
          "height": 619
        },
        "id": "dyQtBB5V7B7t",
        "outputId": "95825fd5-af62-4813-f119-1658062c36ec"
      },
      "execution_count": null,
      "outputs": [
        {
          "output_type": "display_data",
          "data": {
            "text/plain": [
              "   mean_fit_time  std_fit_time  mean_score_time  std_score_time  \\\n",
              "0       0.001392      0.000119         0.022467        0.000251   \n",
              "1       0.001409      0.000077         0.027482        0.005329   \n",
              "2       0.001418      0.000049         0.025339        0.000076   \n",
              "3       0.001385      0.000047         0.030622        0.003317   \n",
              "4       0.001396      0.000066         0.028873        0.000500   \n",
              "5       0.001613      0.000103         0.033468        0.002052   \n",
              "6       0.001562      0.000049         0.035224        0.003313   \n",
              "7       0.001626      0.000142         0.036256        0.004418   \n",
              "8       0.001496      0.000065         0.033582        0.003619   \n",
              "9       0.001483      0.000048         0.029887        0.001272   \n",
              "\n",
              "  param_n_neighbors               params  split0_test_score  \\\n",
              "0                 1   {'n_neighbors': 1}           0.961111   \n",
              "1                 2   {'n_neighbors': 2}           0.961111   \n",
              "2                 3   {'n_neighbors': 3}           0.955556   \n",
              "3                 4   {'n_neighbors': 4}           0.947222   \n",
              "4                 5   {'n_neighbors': 5}           0.947222   \n",
              "5                 6   {'n_neighbors': 6}           0.944444   \n",
              "6                 7   {'n_neighbors': 7}           0.936111   \n",
              "7                 8   {'n_neighbors': 8}           0.936111   \n",
              "8                 9   {'n_neighbors': 9}           0.930556   \n",
              "9                10  {'n_neighbors': 10}           0.930556   \n",
              "\n",
              "   split1_test_score  split2_test_score  split3_test_score  split4_test_score  \\\n",
              "0           0.952778           0.966574           0.986072           0.955432   \n",
              "1           0.966667           0.969359           0.977716           0.961003   \n",
              "2           0.958333           0.966574           0.986072           0.966574   \n",
              "3           0.958333           0.966574           0.980501           0.966574   \n",
              "4           0.955556           0.966574           0.980501           0.963788   \n",
              "5           0.958333           0.966574           0.974930           0.952646   \n",
              "6           0.961111           0.969359           0.980501           0.952646   \n",
              "7           0.958333           0.969359           0.977716           0.949861   \n",
              "8           0.952778           0.972145           0.977716           0.949861   \n",
              "9           0.947222           0.969359           0.977716           0.949861   \n",
              "\n",
              "   mean_test_score  std_test_score  rank_test_score  \n",
              "0         0.964393        0.011838                3  \n",
              "1         0.967171        0.006181                1  \n",
              "2         0.966622        0.010672                2  \n",
              "3         0.963841        0.010946                4  \n",
              "4         0.962728        0.011169                5  \n",
              "5         0.959386        0.010612                7  \n",
              "6         0.959946        0.015059                6  \n",
              "7         0.958276        0.014580                8  \n",
              "8         0.956611        0.016887                9  \n",
              "9         0.954943        0.016773               10  "
            ],
            "text/html": [
              "\n",
              "  <div id=\"df-f87008a4-5615-4f45-8208-53156bcbd232\">\n",
              "    <div class=\"colab-df-container\">\n",
              "      <div>\n",
              "<style scoped>\n",
              "    .dataframe tbody tr th:only-of-type {\n",
              "        vertical-align: middle;\n",
              "    }\n",
              "\n",
              "    .dataframe tbody tr th {\n",
              "        vertical-align: top;\n",
              "    }\n",
              "\n",
              "    .dataframe thead th {\n",
              "        text-align: right;\n",
              "    }\n",
              "</style>\n",
              "<table border=\"1\" class=\"dataframe\">\n",
              "  <thead>\n",
              "    <tr style=\"text-align: right;\">\n",
              "      <th></th>\n",
              "      <th>mean_fit_time</th>\n",
              "      <th>std_fit_time</th>\n",
              "      <th>mean_score_time</th>\n",
              "      <th>std_score_time</th>\n",
              "      <th>param_n_neighbors</th>\n",
              "      <th>params</th>\n",
              "      <th>split0_test_score</th>\n",
              "      <th>split1_test_score</th>\n",
              "      <th>split2_test_score</th>\n",
              "      <th>split3_test_score</th>\n",
              "      <th>split4_test_score</th>\n",
              "      <th>mean_test_score</th>\n",
              "      <th>std_test_score</th>\n",
              "      <th>rank_test_score</th>\n",
              "    </tr>\n",
              "  </thead>\n",
              "  <tbody>\n",
              "    <tr>\n",
              "      <th>0</th>\n",
              "      <td>0.001392</td>\n",
              "      <td>0.000119</td>\n",
              "      <td>0.022467</td>\n",
              "      <td>0.000251</td>\n",
              "      <td>1</td>\n",
              "      <td>{'n_neighbors': 1}</td>\n",
              "      <td>0.961111</td>\n",
              "      <td>0.952778</td>\n",
              "      <td>0.966574</td>\n",
              "      <td>0.986072</td>\n",
              "      <td>0.955432</td>\n",
              "      <td>0.964393</td>\n",
              "      <td>0.011838</td>\n",
              "      <td>3</td>\n",
              "    </tr>\n",
              "    <tr>\n",
              "      <th>1</th>\n",
              "      <td>0.001409</td>\n",
              "      <td>0.000077</td>\n",
              "      <td>0.027482</td>\n",
              "      <td>0.005329</td>\n",
              "      <td>2</td>\n",
              "      <td>{'n_neighbors': 2}</td>\n",
              "      <td>0.961111</td>\n",
              "      <td>0.966667</td>\n",
              "      <td>0.969359</td>\n",
              "      <td>0.977716</td>\n",
              "      <td>0.961003</td>\n",
              "      <td>0.967171</td>\n",
              "      <td>0.006181</td>\n",
              "      <td>1</td>\n",
              "    </tr>\n",
              "    <tr>\n",
              "      <th>2</th>\n",
              "      <td>0.001418</td>\n",
              "      <td>0.000049</td>\n",
              "      <td>0.025339</td>\n",
              "      <td>0.000076</td>\n",
              "      <td>3</td>\n",
              "      <td>{'n_neighbors': 3}</td>\n",
              "      <td>0.955556</td>\n",
              "      <td>0.958333</td>\n",
              "      <td>0.966574</td>\n",
              "      <td>0.986072</td>\n",
              "      <td>0.966574</td>\n",
              "      <td>0.966622</td>\n",
              "      <td>0.010672</td>\n",
              "      <td>2</td>\n",
              "    </tr>\n",
              "    <tr>\n",
              "      <th>3</th>\n",
              "      <td>0.001385</td>\n",
              "      <td>0.000047</td>\n",
              "      <td>0.030622</td>\n",
              "      <td>0.003317</td>\n",
              "      <td>4</td>\n",
              "      <td>{'n_neighbors': 4}</td>\n",
              "      <td>0.947222</td>\n",
              "      <td>0.958333</td>\n",
              "      <td>0.966574</td>\n",
              "      <td>0.980501</td>\n",
              "      <td>0.966574</td>\n",
              "      <td>0.963841</td>\n",
              "      <td>0.010946</td>\n",
              "      <td>4</td>\n",
              "    </tr>\n",
              "    <tr>\n",
              "      <th>4</th>\n",
              "      <td>0.001396</td>\n",
              "      <td>0.000066</td>\n",
              "      <td>0.028873</td>\n",
              "      <td>0.000500</td>\n",
              "      <td>5</td>\n",
              "      <td>{'n_neighbors': 5}</td>\n",
              "      <td>0.947222</td>\n",
              "      <td>0.955556</td>\n",
              "      <td>0.966574</td>\n",
              "      <td>0.980501</td>\n",
              "      <td>0.963788</td>\n",
              "      <td>0.962728</td>\n",
              "      <td>0.011169</td>\n",
              "      <td>5</td>\n",
              "    </tr>\n",
              "    <tr>\n",
              "      <th>5</th>\n",
              "      <td>0.001613</td>\n",
              "      <td>0.000103</td>\n",
              "      <td>0.033468</td>\n",
              "      <td>0.002052</td>\n",
              "      <td>6</td>\n",
              "      <td>{'n_neighbors': 6}</td>\n",
              "      <td>0.944444</td>\n",
              "      <td>0.958333</td>\n",
              "      <td>0.966574</td>\n",
              "      <td>0.974930</td>\n",
              "      <td>0.952646</td>\n",
              "      <td>0.959386</td>\n",
              "      <td>0.010612</td>\n",
              "      <td>7</td>\n",
              "    </tr>\n",
              "    <tr>\n",
              "      <th>6</th>\n",
              "      <td>0.001562</td>\n",
              "      <td>0.000049</td>\n",
              "      <td>0.035224</td>\n",
              "      <td>0.003313</td>\n",
              "      <td>7</td>\n",
              "      <td>{'n_neighbors': 7}</td>\n",
              "      <td>0.936111</td>\n",
              "      <td>0.961111</td>\n",
              "      <td>0.969359</td>\n",
              "      <td>0.980501</td>\n",
              "      <td>0.952646</td>\n",
              "      <td>0.959946</td>\n",
              "      <td>0.015059</td>\n",
              "      <td>6</td>\n",
              "    </tr>\n",
              "    <tr>\n",
              "      <th>7</th>\n",
              "      <td>0.001626</td>\n",
              "      <td>0.000142</td>\n",
              "      <td>0.036256</td>\n",
              "      <td>0.004418</td>\n",
              "      <td>8</td>\n",
              "      <td>{'n_neighbors': 8}</td>\n",
              "      <td>0.936111</td>\n",
              "      <td>0.958333</td>\n",
              "      <td>0.969359</td>\n",
              "      <td>0.977716</td>\n",
              "      <td>0.949861</td>\n",
              "      <td>0.958276</td>\n",
              "      <td>0.014580</td>\n",
              "      <td>8</td>\n",
              "    </tr>\n",
              "    <tr>\n",
              "      <th>8</th>\n",
              "      <td>0.001496</td>\n",
              "      <td>0.000065</td>\n",
              "      <td>0.033582</td>\n",
              "      <td>0.003619</td>\n",
              "      <td>9</td>\n",
              "      <td>{'n_neighbors': 9}</td>\n",
              "      <td>0.930556</td>\n",
              "      <td>0.952778</td>\n",
              "      <td>0.972145</td>\n",
              "      <td>0.977716</td>\n",
              "      <td>0.949861</td>\n",
              "      <td>0.956611</td>\n",
              "      <td>0.016887</td>\n",
              "      <td>9</td>\n",
              "    </tr>\n",
              "    <tr>\n",
              "      <th>9</th>\n",
              "      <td>0.001483</td>\n",
              "      <td>0.000048</td>\n",
              "      <td>0.029887</td>\n",
              "      <td>0.001272</td>\n",
              "      <td>10</td>\n",
              "      <td>{'n_neighbors': 10}</td>\n",
              "      <td>0.930556</td>\n",
              "      <td>0.947222</td>\n",
              "      <td>0.969359</td>\n",
              "      <td>0.977716</td>\n",
              "      <td>0.949861</td>\n",
              "      <td>0.954943</td>\n",
              "      <td>0.016773</td>\n",
              "      <td>10</td>\n",
              "    </tr>\n",
              "  </tbody>\n",
              "</table>\n",
              "</div>\n",
              "      <button class=\"colab-df-convert\" onclick=\"convertToInteractive('df-f87008a4-5615-4f45-8208-53156bcbd232')\"\n",
              "              title=\"Convert this dataframe to an interactive table.\"\n",
              "              style=\"display:none;\">\n",
              "        \n",
              "  <svg xmlns=\"http://www.w3.org/2000/svg\" height=\"24px\"viewBox=\"0 0 24 24\"\n",
              "       width=\"24px\">\n",
              "    <path d=\"M0 0h24v24H0V0z\" fill=\"none\"/>\n",
              "    <path d=\"M18.56 5.44l.94 2.06.94-2.06 2.06-.94-2.06-.94-.94-2.06-.94 2.06-2.06.94zm-11 1L8.5 8.5l.94-2.06 2.06-.94-2.06-.94L8.5 2.5l-.94 2.06-2.06.94zm10 10l.94 2.06.94-2.06 2.06-.94-2.06-.94-.94-2.06-.94 2.06-2.06.94z\"/><path d=\"M17.41 7.96l-1.37-1.37c-.4-.4-.92-.59-1.43-.59-.52 0-1.04.2-1.43.59L10.3 9.45l-7.72 7.72c-.78.78-.78 2.05 0 2.83L4 21.41c.39.39.9.59 1.41.59.51 0 1.02-.2 1.41-.59l7.78-7.78 2.81-2.81c.8-.78.8-2.07 0-2.86zM5.41 20L4 18.59l7.72-7.72 1.47 1.35L5.41 20z\"/>\n",
              "  </svg>\n",
              "      </button>\n",
              "      \n",
              "  <style>\n",
              "    .colab-df-container {\n",
              "      display:flex;\n",
              "      flex-wrap:wrap;\n",
              "      gap: 12px;\n",
              "    }\n",
              "\n",
              "    .colab-df-convert {\n",
              "      background-color: #E8F0FE;\n",
              "      border: none;\n",
              "      border-radius: 50%;\n",
              "      cursor: pointer;\n",
              "      display: none;\n",
              "      fill: #1967D2;\n",
              "      height: 32px;\n",
              "      padding: 0 0 0 0;\n",
              "      width: 32px;\n",
              "    }\n",
              "\n",
              "    .colab-df-convert:hover {\n",
              "      background-color: #E2EBFA;\n",
              "      box-shadow: 0px 1px 2px rgba(60, 64, 67, 0.3), 0px 1px 3px 1px rgba(60, 64, 67, 0.15);\n",
              "      fill: #174EA6;\n",
              "    }\n",
              "\n",
              "    [theme=dark] .colab-df-convert {\n",
              "      background-color: #3B4455;\n",
              "      fill: #D2E3FC;\n",
              "    }\n",
              "\n",
              "    [theme=dark] .colab-df-convert:hover {\n",
              "      background-color: #434B5C;\n",
              "      box-shadow: 0px 1px 3px 1px rgba(0, 0, 0, 0.15);\n",
              "      filter: drop-shadow(0px 1px 2px rgba(0, 0, 0, 0.3));\n",
              "      fill: #FFFFFF;\n",
              "    }\n",
              "  </style>\n",
              "\n",
              "      <script>\n",
              "        const buttonEl =\n",
              "          document.querySelector('#df-f87008a4-5615-4f45-8208-53156bcbd232 button.colab-df-convert');\n",
              "        buttonEl.style.display =\n",
              "          google.colab.kernel.accessAllowed ? 'block' : 'none';\n",
              "\n",
              "        async function convertToInteractive(key) {\n",
              "          const element = document.querySelector('#df-f87008a4-5615-4f45-8208-53156bcbd232');\n",
              "          const dataTable =\n",
              "            await google.colab.kernel.invokeFunction('convertToInteractive',\n",
              "                                                     [key], {});\n",
              "          if (!dataTable) return;\n",
              "\n",
              "          const docLinkHtml = 'Like what you see? Visit the ' +\n",
              "            '<a target=\"_blank\" href=https://colab.research.google.com/notebooks/data_table.ipynb>data table notebook</a>'\n",
              "            + ' to learn more about interactive tables.';\n",
              "          element.innerHTML = '';\n",
              "          dataTable['output_type'] = 'display_data';\n",
              "          await google.colab.output.renderOutput(dataTable, element);\n",
              "          const docLink = document.createElement('div');\n",
              "          docLink.innerHTML = docLinkHtml;\n",
              "          element.appendChild(docLink);\n",
              "        }\n",
              "      </script>\n",
              "    </div>\n",
              "  </div>\n",
              "  "
            ]
          },
          "metadata": {}
        },
        {
          "output_type": "stream",
          "name": "stdout",
          "text": [
            "best param: {'n_neighbors': 2}\n"
          ]
        }
      ]
    },
    {
      "cell_type": "code",
      "source": [
        "\n",
        "X_train, X_test, y_train, y_test = train_test_split(digits.data, digits.target, random_state=0)\n"
      ],
      "metadata": {
        "colab": {
          "base_uri": "https://localhost:8080/",
          "height": 637
        },
        "id": "nqll6DAh7iy_",
        "outputId": "f12f7e3c-4648-49fb-c9e6-40883d8a02a2"
      },
      "execution_count": null,
      "outputs": [
        {
          "output_type": "display_data",
          "data": {
            "text/plain": [
              "   mean_fit_time  std_fit_time  mean_score_time  std_score_time  \\\n",
              "0       0.003295      0.000334         0.021785        0.001627   \n",
              "1       0.003090      0.000069         0.018868        0.000498   \n",
              "2       0.003359      0.000933         0.016116        0.000181   \n",
              "3       0.002866      0.000118         0.020095        0.000260   \n",
              "4       0.003101      0.000474         0.023444        0.005168   \n",
              "5       0.003107      0.000722         0.020672        0.000962   \n",
              "6       0.002794      0.000107         0.020404        0.000261   \n",
              "7       0.003303      0.000728         0.022609        0.003014   \n",
              "8       0.002840      0.000046         0.020891        0.001474   \n",
              "9       0.002891      0.000117         0.020593        0.000882   \n",
              "\n",
              "  param_knn__n_neighbors                    params  split0_test_score  \\\n",
              "0                      5   {'knn__n_neighbors': 5}           0.988889   \n",
              "1                      3   {'knn__n_neighbors': 3}           0.985185   \n",
              "2                      1   {'knn__n_neighbors': 1}           0.974074   \n",
              "3                     10  {'knn__n_neighbors': 10}           0.977778   \n",
              "4                     17  {'knn__n_neighbors': 17}           0.970370   \n",
              "5                     16  {'knn__n_neighbors': 16}           0.970370   \n",
              "6                     12  {'knn__n_neighbors': 12}           0.974074   \n",
              "7                     13  {'knn__n_neighbors': 13}           0.977778   \n",
              "8                     20  {'knn__n_neighbors': 20}           0.959259   \n",
              "9                     18  {'knn__n_neighbors': 18}           0.966667   \n",
              "\n",
              "   split1_test_score  split2_test_score  split3_test_score  split4_test_score  \\\n",
              "0           0.992593           0.973978           0.985130           0.985130   \n",
              "1           0.988889           0.985130           0.985130           0.981413   \n",
              "2           0.985185           0.988848           0.988848           0.985130   \n",
              "3           0.988889           0.973978           0.981413           0.985130   \n",
              "4           0.970370           0.966543           0.962825           0.970260   \n",
              "5           0.970370           0.966543           0.966543           0.977695   \n",
              "6           0.981481           0.973978           0.981413           0.985130   \n",
              "7           0.981481           0.973978           0.977695           0.973978   \n",
              "8           0.970370           0.962825           0.970260           0.973978   \n",
              "9           0.970370           0.962825           0.966543           0.977695   \n",
              "\n",
              "   mean_test_score  std_test_score  rank_test_score  \n",
              "0         0.985144        0.006232                2  \n",
              "1         0.985149        0.002364                1  \n",
              "2         0.984417        0.005428                3  \n",
              "3         0.981437        0.005257                4  \n",
              "4         0.968074        0.003007                9  \n",
              "5         0.970304        0.004073                7  \n",
              "6         0.979215        0.004446                5  \n",
              "7         0.976982        0.002809                6  \n",
              "8         0.967339        0.005430               10  \n",
              "9         0.968820        0.005038                8  "
            ],
            "text/html": [
              "\n",
              "  <div id=\"df-21c5365a-5e58-466f-aa52-97308dddaa84\">\n",
              "    <div class=\"colab-df-container\">\n",
              "      <div>\n",
              "<style scoped>\n",
              "    .dataframe tbody tr th:only-of-type {\n",
              "        vertical-align: middle;\n",
              "    }\n",
              "\n",
              "    .dataframe tbody tr th {\n",
              "        vertical-align: top;\n",
              "    }\n",
              "\n",
              "    .dataframe thead th {\n",
              "        text-align: right;\n",
              "    }\n",
              "</style>\n",
              "<table border=\"1\" class=\"dataframe\">\n",
              "  <thead>\n",
              "    <tr style=\"text-align: right;\">\n",
              "      <th></th>\n",
              "      <th>mean_fit_time</th>\n",
              "      <th>std_fit_time</th>\n",
              "      <th>mean_score_time</th>\n",
              "      <th>std_score_time</th>\n",
              "      <th>param_knn__n_neighbors</th>\n",
              "      <th>params</th>\n",
              "      <th>split0_test_score</th>\n",
              "      <th>split1_test_score</th>\n",
              "      <th>split2_test_score</th>\n",
              "      <th>split3_test_score</th>\n",
              "      <th>split4_test_score</th>\n",
              "      <th>mean_test_score</th>\n",
              "      <th>std_test_score</th>\n",
              "      <th>rank_test_score</th>\n",
              "    </tr>\n",
              "  </thead>\n",
              "  <tbody>\n",
              "    <tr>\n",
              "      <th>0</th>\n",
              "      <td>0.003295</td>\n",
              "      <td>0.000334</td>\n",
              "      <td>0.021785</td>\n",
              "      <td>0.001627</td>\n",
              "      <td>5</td>\n",
              "      <td>{'knn__n_neighbors': 5}</td>\n",
              "      <td>0.988889</td>\n",
              "      <td>0.992593</td>\n",
              "      <td>0.973978</td>\n",
              "      <td>0.985130</td>\n",
              "      <td>0.985130</td>\n",
              "      <td>0.985144</td>\n",
              "      <td>0.006232</td>\n",
              "      <td>2</td>\n",
              "    </tr>\n",
              "    <tr>\n",
              "      <th>1</th>\n",
              "      <td>0.003090</td>\n",
              "      <td>0.000069</td>\n",
              "      <td>0.018868</td>\n",
              "      <td>0.000498</td>\n",
              "      <td>3</td>\n",
              "      <td>{'knn__n_neighbors': 3}</td>\n",
              "      <td>0.985185</td>\n",
              "      <td>0.988889</td>\n",
              "      <td>0.985130</td>\n",
              "      <td>0.985130</td>\n",
              "      <td>0.981413</td>\n",
              "      <td>0.985149</td>\n",
              "      <td>0.002364</td>\n",
              "      <td>1</td>\n",
              "    </tr>\n",
              "    <tr>\n",
              "      <th>2</th>\n",
              "      <td>0.003359</td>\n",
              "      <td>0.000933</td>\n",
              "      <td>0.016116</td>\n",
              "      <td>0.000181</td>\n",
              "      <td>1</td>\n",
              "      <td>{'knn__n_neighbors': 1}</td>\n",
              "      <td>0.974074</td>\n",
              "      <td>0.985185</td>\n",
              "      <td>0.988848</td>\n",
              "      <td>0.988848</td>\n",
              "      <td>0.985130</td>\n",
              "      <td>0.984417</td>\n",
              "      <td>0.005428</td>\n",
              "      <td>3</td>\n",
              "    </tr>\n",
              "    <tr>\n",
              "      <th>3</th>\n",
              "      <td>0.002866</td>\n",
              "      <td>0.000118</td>\n",
              "      <td>0.020095</td>\n",
              "      <td>0.000260</td>\n",
              "      <td>10</td>\n",
              "      <td>{'knn__n_neighbors': 10}</td>\n",
              "      <td>0.977778</td>\n",
              "      <td>0.988889</td>\n",
              "      <td>0.973978</td>\n",
              "      <td>0.981413</td>\n",
              "      <td>0.985130</td>\n",
              "      <td>0.981437</td>\n",
              "      <td>0.005257</td>\n",
              "      <td>4</td>\n",
              "    </tr>\n",
              "    <tr>\n",
              "      <th>4</th>\n",
              "      <td>0.003101</td>\n",
              "      <td>0.000474</td>\n",
              "      <td>0.023444</td>\n",
              "      <td>0.005168</td>\n",
              "      <td>17</td>\n",
              "      <td>{'knn__n_neighbors': 17}</td>\n",
              "      <td>0.970370</td>\n",
              "      <td>0.970370</td>\n",
              "      <td>0.966543</td>\n",
              "      <td>0.962825</td>\n",
              "      <td>0.970260</td>\n",
              "      <td>0.968074</td>\n",
              "      <td>0.003007</td>\n",
              "      <td>9</td>\n",
              "    </tr>\n",
              "    <tr>\n",
              "      <th>5</th>\n",
              "      <td>0.003107</td>\n",
              "      <td>0.000722</td>\n",
              "      <td>0.020672</td>\n",
              "      <td>0.000962</td>\n",
              "      <td>16</td>\n",
              "      <td>{'knn__n_neighbors': 16}</td>\n",
              "      <td>0.970370</td>\n",
              "      <td>0.970370</td>\n",
              "      <td>0.966543</td>\n",
              "      <td>0.966543</td>\n",
              "      <td>0.977695</td>\n",
              "      <td>0.970304</td>\n",
              "      <td>0.004073</td>\n",
              "      <td>7</td>\n",
              "    </tr>\n",
              "    <tr>\n",
              "      <th>6</th>\n",
              "      <td>0.002794</td>\n",
              "      <td>0.000107</td>\n",
              "      <td>0.020404</td>\n",
              "      <td>0.000261</td>\n",
              "      <td>12</td>\n",
              "      <td>{'knn__n_neighbors': 12}</td>\n",
              "      <td>0.974074</td>\n",
              "      <td>0.981481</td>\n",
              "      <td>0.973978</td>\n",
              "      <td>0.981413</td>\n",
              "      <td>0.985130</td>\n",
              "      <td>0.979215</td>\n",
              "      <td>0.004446</td>\n",
              "      <td>5</td>\n",
              "    </tr>\n",
              "    <tr>\n",
              "      <th>7</th>\n",
              "      <td>0.003303</td>\n",
              "      <td>0.000728</td>\n",
              "      <td>0.022609</td>\n",
              "      <td>0.003014</td>\n",
              "      <td>13</td>\n",
              "      <td>{'knn__n_neighbors': 13}</td>\n",
              "      <td>0.977778</td>\n",
              "      <td>0.981481</td>\n",
              "      <td>0.973978</td>\n",
              "      <td>0.977695</td>\n",
              "      <td>0.973978</td>\n",
              "      <td>0.976982</td>\n",
              "      <td>0.002809</td>\n",
              "      <td>6</td>\n",
              "    </tr>\n",
              "    <tr>\n",
              "      <th>8</th>\n",
              "      <td>0.002840</td>\n",
              "      <td>0.000046</td>\n",
              "      <td>0.020891</td>\n",
              "      <td>0.001474</td>\n",
              "      <td>20</td>\n",
              "      <td>{'knn__n_neighbors': 20}</td>\n",
              "      <td>0.959259</td>\n",
              "      <td>0.970370</td>\n",
              "      <td>0.962825</td>\n",
              "      <td>0.970260</td>\n",
              "      <td>0.973978</td>\n",
              "      <td>0.967339</td>\n",
              "      <td>0.005430</td>\n",
              "      <td>10</td>\n",
              "    </tr>\n",
              "    <tr>\n",
              "      <th>9</th>\n",
              "      <td>0.002891</td>\n",
              "      <td>0.000117</td>\n",
              "      <td>0.020593</td>\n",
              "      <td>0.000882</td>\n",
              "      <td>18</td>\n",
              "      <td>{'knn__n_neighbors': 18}</td>\n",
              "      <td>0.966667</td>\n",
              "      <td>0.970370</td>\n",
              "      <td>0.962825</td>\n",
              "      <td>0.966543</td>\n",
              "      <td>0.977695</td>\n",
              "      <td>0.968820</td>\n",
              "      <td>0.005038</td>\n",
              "      <td>8</td>\n",
              "    </tr>\n",
              "  </tbody>\n",
              "</table>\n",
              "</div>\n",
              "      <button class=\"colab-df-convert\" onclick=\"convertToInteractive('df-21c5365a-5e58-466f-aa52-97308dddaa84')\"\n",
              "              title=\"Convert this dataframe to an interactive table.\"\n",
              "              style=\"display:none;\">\n",
              "        \n",
              "  <svg xmlns=\"http://www.w3.org/2000/svg\" height=\"24px\"viewBox=\"0 0 24 24\"\n",
              "       width=\"24px\">\n",
              "    <path d=\"M0 0h24v24H0V0z\" fill=\"none\"/>\n",
              "    <path d=\"M18.56 5.44l.94 2.06.94-2.06 2.06-.94-2.06-.94-.94-2.06-.94 2.06-2.06.94zm-11 1L8.5 8.5l.94-2.06 2.06-.94-2.06-.94L8.5 2.5l-.94 2.06-2.06.94zm10 10l.94 2.06.94-2.06 2.06-.94-2.06-.94-.94-2.06-.94 2.06-2.06.94z\"/><path d=\"M17.41 7.96l-1.37-1.37c-.4-.4-.92-.59-1.43-.59-.52 0-1.04.2-1.43.59L10.3 9.45l-7.72 7.72c-.78.78-.78 2.05 0 2.83L4 21.41c.39.39.9.59 1.41.59.51 0 1.02-.2 1.41-.59l7.78-7.78 2.81-2.81c.8-.78.8-2.07 0-2.86zM5.41 20L4 18.59l7.72-7.72 1.47 1.35L5.41 20z\"/>\n",
              "  </svg>\n",
              "      </button>\n",
              "      \n",
              "  <style>\n",
              "    .colab-df-container {\n",
              "      display:flex;\n",
              "      flex-wrap:wrap;\n",
              "      gap: 12px;\n",
              "    }\n",
              "\n",
              "    .colab-df-convert {\n",
              "      background-color: #E8F0FE;\n",
              "      border: none;\n",
              "      border-radius: 50%;\n",
              "      cursor: pointer;\n",
              "      display: none;\n",
              "      fill: #1967D2;\n",
              "      height: 32px;\n",
              "      padding: 0 0 0 0;\n",
              "      width: 32px;\n",
              "    }\n",
              "\n",
              "    .colab-df-convert:hover {\n",
              "      background-color: #E2EBFA;\n",
              "      box-shadow: 0px 1px 2px rgba(60, 64, 67, 0.3), 0px 1px 3px 1px rgba(60, 64, 67, 0.15);\n",
              "      fill: #174EA6;\n",
              "    }\n",
              "\n",
              "    [theme=dark] .colab-df-convert {\n",
              "      background-color: #3B4455;\n",
              "      fill: #D2E3FC;\n",
              "    }\n",
              "\n",
              "    [theme=dark] .colab-df-convert:hover {\n",
              "      background-color: #434B5C;\n",
              "      box-shadow: 0px 1px 3px 1px rgba(0, 0, 0, 0.15);\n",
              "      filter: drop-shadow(0px 1px 2px rgba(0, 0, 0, 0.3));\n",
              "      fill: #FFFFFF;\n",
              "    }\n",
              "  </style>\n",
              "\n",
              "      <script>\n",
              "        const buttonEl =\n",
              "          document.querySelector('#df-21c5365a-5e58-466f-aa52-97308dddaa84 button.colab-df-convert');\n",
              "        buttonEl.style.display =\n",
              "          google.colab.kernel.accessAllowed ? 'block' : 'none';\n",
              "\n",
              "        async function convertToInteractive(key) {\n",
              "          const element = document.querySelector('#df-21c5365a-5e58-466f-aa52-97308dddaa84');\n",
              "          const dataTable =\n",
              "            await google.colab.kernel.invokeFunction('convertToInteractive',\n",
              "                                                     [key], {});\n",
              "          if (!dataTable) return;\n",
              "\n",
              "          const docLinkHtml = 'Like what you see? Visit the ' +\n",
              "            '<a target=\"_blank\" href=https://colab.research.google.com/notebooks/data_table.ipynb>data table notebook</a>'\n",
              "            + ' to learn more about interactive tables.';\n",
              "          element.innerHTML = '';\n",
              "          dataTable['output_type'] = 'display_data';\n",
              "          await google.colab.output.renderOutput(dataTable, element);\n",
              "          const docLink = document.createElement('div');\n",
              "          docLink.innerHTML = docLinkHtml;\n",
              "          element.appendChild(docLink);\n",
              "        }\n",
              "      </script>\n",
              "    </div>\n",
              "  </div>\n",
              "  "
            ]
          },
          "metadata": {}
        },
        {
          "output_type": "stream",
          "name": "stdout",
          "text": [
            "best param: {'knn__n_neighbors': 3}\n",
            "Test acc: 0.9888888888888889\n"
          ]
        }
      ]
    },
    {
      "cell_type": "code",
      "source": [
        "estimator"
      ],
      "metadata": {
        "colab": {
          "base_uri": "https://localhost:8080/"
        },
        "id": "WfSpzvJ07wnE",
        "outputId": "4d461e21-49e7-46b0-f8e2-3aeb77529845"
      },
      "execution_count": null,
      "outputs": [
        {
          "output_type": "execute_result",
          "data": {
            "text/plain": [
              "Pipeline(steps=[('mm_scaler', MinMaxScaler()),\n",
              "                ('knn', KNeighborsClassifier(n_neighbors=3))])"
            ]
          },
          "metadata": {},
          "execution_count": 49
        }
      ]
    },
    {
      "cell_type": "markdown",
      "metadata": {
        "id": "pGiAtKagyqfC"
      },
      "source": [
        "# 모델 저장 및 복원"
      ]
    },
    {
      "cell_type": "markdown",
      "metadata": {
        "id": "bB0VAX3mdGTJ"
      },
      "source": [
        "* 최적의 모델 저장\n",
        " *  `model.dat`"
      ]
    },
    {
      "cell_type": "code",
      "metadata": {
        "id": "llCtIe4LysbB"
      },
      "source": [
        "import pickle\n",
        "\n",
        "with open('model.dat', 'wb') as f:\n",
        "  pickle.dump(estimator, f)\n"
      ],
      "execution_count": null,
      "outputs": []
    },
    {
      "cell_type": "code",
      "metadata": {
        "colab": {
          "base_uri": "https://localhost:8080/"
        },
        "id": "VarXA9q3y9Oh",
        "outputId": "778778f4-474a-48ad-c023-4998165360d8"
      },
      "source": [
        "with open('model.dat', 'rb') as f:\n",
        "  model = pickle.load(f)\n",
        "\n",
        "model.score(X_test, y_test)"
      ],
      "execution_count": null,
      "outputs": [
        {
          "output_type": "execute_result",
          "data": {
            "text/plain": [
              "0.9888888888888889"
            ]
          },
          "metadata": {},
          "execution_count": 51
        }
      ]
    },
    {
      "cell_type": "markdown",
      "metadata": {
        "id": "zneU-0DcukNn"
      },
      "source": [
        "### 손으로 쓴 숫자 인식하기\n",
        "* 온라인 그림판 : https://sketch.io/sketchpad/\n",
        "* 샘플 숫자 이미지 다운로드 :  0458.png"
      ]
    },
    {
      "cell_type": "code",
      "source": [
        "#강사가 파일을 제공한 경우 실행하지 마세요.\n",
        "import os\n",
        "file_0458 = '0458.png'\n",
        "url_0458 = 'https://www.dropbox.com/s/yvzxeut7um2aeng/0458.png?dl=1'\n",
        "if os.name =='posix':\n",
        "  !wget -O $file_0458 $url_0458\n",
        "else:\n",
        "  !pip install wget\n",
        "  import wget\n",
        "  wget.download(url_0458, out=file_0458)"
      ],
      "metadata": {
        "id": "hi4m-sAl1zIs"
      },
      "execution_count": null,
      "outputs": []
    },
    {
      "cell_type": "markdown",
      "metadata": {
        "id": "FtmEUpoturDf"
      },
      "source": [
        "*  img2data 모듈 download"
      ]
    },
    {
      "cell_type": "code",
      "source": [
        "#강사가 파일을 제공한 경우 실행하지 마세요.\n",
        "import os\n",
        "img2data = 'img2data.py'\n",
        "url_img2data = 'https://www.dropbox.com/s/2b3eamclndq9dkp/img2data.py?dl=1'\n",
        "if os.name =='posix':\n",
        "  !wget -O $img2data $url_img2data\n",
        "else:\n",
        "  !pip install wget\n",
        "  import wget\n",
        "  wget.download(url_img2data, out=img2data)"
      ],
      "metadata": {
        "id": "MJCBaVsY2u6k"
      },
      "execution_count": null,
      "outputs": []
    },
    {
      "cell_type": "markdown",
      "source": [
        "* OpenCV 설치"
      ],
      "metadata": {
        "id": "Dw4hPJrHP67g"
      }
    },
    {
      "cell_type": "code",
      "source": [
        "!pip install opencv-python"
      ],
      "metadata": {
        "colab": {
          "base_uri": "https://localhost:8080/"
        },
        "id": "JuQpaSMRP3-y",
        "outputId": "593d1e5d-c7a1-45f9-b273-437df96744e6"
      },
      "execution_count": null,
      "outputs": [
        {
          "output_type": "stream",
          "name": "stdout",
          "text": [
            "Looking in indexes: https://pypi.org/simple, https://us-python.pkg.dev/colab-wheels/public/simple/\n",
            "Requirement already satisfied: opencv-python in /usr/local/lib/python3.7/dist-packages (4.6.0.66)\n",
            "Requirement already satisfied: numpy>=1.14.5 in /usr/local/lib/python3.7/dist-packages (from opencv-python) (1.21.6)\n"
          ]
        }
      ]
    },
    {
      "cell_type": "code",
      "metadata": {
        "colab": {
          "base_uri": "https://localhost:8080/",
          "height": 287
        },
        "id": "aaAwkHlNusru",
        "outputId": "373e8f4e-6c4a-4750-9d1e-761efdab74f1"
      },
      "source": [
        "import img2data\n",
        "\n",
        "img_path = '0458.png'\n",
        "image = cv2.imread(img_path)\n",
        "plt.imshow(image)\n",
        "plt.show()\n",
        "\n",
        "numbers = img2data.img2digits(image, (8,8), reshape=True)\n",
        "for i, n in enumerate(numbers):\n",
        "    n = n/n.max() * 16 # 0~255 구간을 0~16구간으로 변경\n",
        "    pred = model.predict(n)\n",
        "    plt.subplot(1, len(numbers), i+1)\n",
        "    plt.title(str(pred))\n",
        "    plt.imshow(n.reshape(8,8), cmap=\"gray\")\n",
        "    plt.axis(\"off\")"
      ],
      "execution_count": null,
      "outputs": [
        {
          "output_type": "display_data",
          "data": {
            "text/plain": [
              "<Figure size 432x288 with 1 Axes>"
            ],
            "image/png": "[encoded data removed]"
          },
          "metadata": {
            "needs_background": "light"
          }
        },
        {
          "output_type": "display_data",
          "data": {
            "text/plain": [
              "<Figure size 432x288 with 4 Axes>"
            ],
            "image/png": "[encoded data removed]"
          },
          "metadata": {
            "needs_background": "light"
          }
        }
      ]
    },
    {
      "cell_type": "code",
      "source": [],
      "metadata": {
        "id": "9McB7yvLP9Lg"
      },
      "execution_count": null,
      "outputs": []
    }
  ]
}